{
 "cells": [
  {
   "cell_type": "markdown",
   "metadata": {
    "collapsed": true,
    "pycharm": {
     "name": "#%% md\n"
    }
   },
   "source": [
    "# Evaluating Topic Distances of Authors in Twitter-Conversations\n",
    "\n",
    "From the project plan this adresses the following tasks:\n",
    "\n",
    "4. Map named entities to word vectors using fasttext and store them in db\n",
    "   - [ ] map entities to word vectors and calculate the hit rate (how many are contained in the fasttext list)\n",
    "   - [ ] (optionally) enhance the fasttext list with the missing vocabulary\n",
    "   - [ ] if the hit rate is too low, use transfer learning to train a model that includes 90% the NERs\n",
    "   - [ ] store the NER for the authors in a separate table in the database with foreign key reference to the authors"
   ]
  },
  {
   "cell_type": "code",
   "execution_count": 6,
   "outputs": [
    {
     "data": {
      "text/plain": "   id      conversation_id           created_at  \\\n0   1  1435703745304612870  2021-09-08 20:37:01   \n1   2  1435664738353098756  2021-09-08 18:02:01   \n2   3  1435663883595706370  2021-09-08 17:58:37   \n\n                                                text  author_id  \\\n0  RT @OregonOEM: 🚩🌩🔥 Red Flag and #FireWeather w...   14838508   \n1  It's #NationalPreparednessMonth. Help ensure t...   14838508   \n2  RT @OregonOEM: Oregon is still recovering from...   14838508   \n\n   in_reply_to_user_id  \n0                  NaN  \n1                  NaN  \n2                  NaN  ",
      "text/html": "<div>\n<style scoped>\n    .dataframe tbody tr th:only-of-type {\n        vertical-align: middle;\n    }\n\n    .dataframe tbody tr th {\n        vertical-align: top;\n    }\n\n    .dataframe thead th {\n        text-align: right;\n    }\n</style>\n<table border=\"1\" class=\"dataframe\">\n  <thead>\n    <tr style=\"text-align: right;\">\n      <th></th>\n      <th>id</th>\n      <th>conversation_id</th>\n      <th>created_at</th>\n      <th>text</th>\n      <th>author_id</th>\n      <th>in_reply_to_user_id</th>\n    </tr>\n  </thead>\n  <tbody>\n    <tr>\n      <th>0</th>\n      <td>1</td>\n      <td>1435703745304612870</td>\n      <td>2021-09-08 20:37:01</td>\n      <td>RT @OregonOEM: 🚩🌩🔥 Red Flag and #FireWeather w...</td>\n      <td>14838508</td>\n      <td>NaN</td>\n    </tr>\n    <tr>\n      <th>1</th>\n      <td>2</td>\n      <td>1435664738353098756</td>\n      <td>2021-09-08 18:02:01</td>\n      <td>It's #NationalPreparednessMonth. Help ensure t...</td>\n      <td>14838508</td>\n      <td>NaN</td>\n    </tr>\n    <tr>\n      <th>2</th>\n      <td>3</td>\n      <td>1435663883595706370</td>\n      <td>2021-09-08 17:58:37</td>\n      <td>RT @OregonOEM: Oregon is still recovering from...</td>\n      <td>14838508</td>\n      <td>NaN</td>\n    </tr>\n  </tbody>\n</table>\n</div>"
     },
     "execution_count": 6,
     "metadata": {},
     "output_type": "execute_result"
    }
   ],
   "source": [
    "import sqlite3\n",
    "import pandas as pd\n",
    "\n",
    "# Create your connection.\n",
    "from twitter.nlp_util import process_tweet\n",
    "\n",
    "cnx = sqlite3.connect('db.sqlite3')\n",
    "\n",
    "df = pd.read_sql_query(\n",
    "    \"SELECT id, conversation_id, created_at, text, author_id,in_reply_to_user_id FROM delab_timeline WHERE lang='en'\",\n",
    "    cnx)\n",
    "df.head(3)"
   ],
   "metadata": {
    "collapsed": false,
    "pycharm": {
     "name": "#%%\n"
    }
   }
  },
  {
   "cell_type": "code",
   "execution_count": 7,
   "outputs": [
    {
     "data": {
      "text/plain": "author_id\n16558158               478\n18616003               946\n26998226               469\n382814447              446\n1005470991668084736    445\n1106611172462219265    491\n1162371171805011968    447\n1239172010363826183    427\n1292908140975943681    414\n1402252385427222528    414\n1403930956428460035    441\ndtype: int64"
     },
     "execution_count": 7,
     "metadata": {},
     "output_type": "execute_result"
    }
   ],
   "source": [
    "df_reduced = df[[\"author_id\", \"text\", \"id\"]]\n",
    "#df_reduced = df_reduced.groupby('author_id')\n",
    "# df_reduced.count()\n",
    "\n",
    "df_reshaped = df_reduced.pivot(index=\"id\", columns=\"author_id\", values=\"text\")\n",
    "mask = 400 > df_reshaped.nunique()\n",
    "mask = mask[mask == True]\n",
    "df_reshaped.drop(columns=mask.index, inplace=True)\n",
    "df_reshaped.nunique()  # the number of tweets of the authors that have more then 400 tweets"
   ],
   "metadata": {
    "collapsed": false,
    "pycharm": {
     "name": "#%%\n"
    }
   }
  },
  {
   "cell_type": "markdown",
   "source": [
    "The following takes the pandas dataframe and converts it to a dictionary with the author ids as keys and the twitter\n",
    "corpora as values."
   ],
   "metadata": {
    "collapsed": false
   }
  },
  {
   "cell_type": "code",
   "execution_count": 8,
   "outputs": [
    {
     "data": {
      "text/plain": "id\n8247                                   @ncreen_same ouch!\n8248    That last tweet got some responses from spambo...\n8249    'virtually' virtually means: real\\n\\nSo it sho...\n8250                               Sounds great on paper!\n8251    Any .com.au registrar recommendations? So far ...\n                              ...                        \n8742    RT @paydirtapp: Check out our Free Invoice Cre...\n8743    @taitems @mmilo yeah nice site, suggestion: ht...\n8744    RT @MichaelFHansen: Zendesk eyes Southeast Asi...\n8745    While LinkedIn has been changing drastically o...\n8746    Another LinkedIn email fail… now they want me ...\nName: 16558158, Length: 478, dtype: object"
     },
     "execution_count": 8,
     "metadata": {},
     "output_type": "execute_result"
    }
   ],
   "source": [
    "#df_reshaped.shape\n",
    "author_corpora_cleaned = {}\n",
    "author_corpora = df_reshaped.to_dict(orient=\"series\")\n",
    "for author_id, tweets in author_corpora.items():\n",
    "    author_corpora_cleaned[author_id] = tweets.dropna()\n",
    "\n",
    "example_corpus = author_corpora_cleaned[next(iter(author_corpora))]\n",
    "example_corpus"
   ],
   "metadata": {
    "collapsed": false,
    "pycharm": {
     "name": "#%%\n"
    }
   }
  },
  {
   "cell_type": "markdown",
   "source": [
    "The first step is to evaluate how many out-of-vocabulary words we have in the authors' tweets."
   ],
   "metadata": {
    "collapsed": false,
    "pycharm": {
     "name": "#%% md\n"
    }
   }
  },
  {
   "cell_type": "markdown",
   "source": [
    "```python\n",
    "import fasttext.util\n",
    "# fasttext.load_model('cc.en.300.bin') # comment this in instead of the next line, if you are not Julian\n",
    "ft = fasttext.load_model('/home/julian/nltk_data/fasttext/cc.de.300.bin')\n",
    "\n",
    "author_words_uncleaned = []\n",
    "n_words_in_voc = 0\n",
    "for author, a_tweets in author_corpora_cleaned.items():\n",
    "    for a_tweet in a_tweets:\n",
    "        for word in a_tweet.split(\" \"):\n",
    "            author_words_uncleaned.append(word)\n",
    "\n",
    "for word in author_words_uncleaned:\n",
    "    if word in ft.words:\n",
    "        n_words_in_voc += 1\n",
    "\n",
    "n_words = len(author_words_uncleaned)\n",
    "print(\"{}% of uncleaned words are in the embedding vocabulary\".format((n_words_in_voc/n_words))*100)\n",
    "```\n",
    "\n",
    "Actually, for memory reasons I had to run this outside of Jupyter notebook\n",
    "\n",
    "100%|██████████| 99225/99225 [11:27<00:00, 144.33it/s]\n",
    "The accuracy, that uncleaned words are in the embedding vocabulary is 0.7420710506424792. This allows us\n",
    "to use the tweets as input directly.\n"
   ],
   "metadata": {
    "collapsed": false,
    "pycharm": {
     "name": "#%% md\n",
     "is_executing": true
    }
   }
  }
 ],
 "metadata": {
  "kernelspec": {
   "display_name": "Python 3",
   "language": "python",
   "name": "python3"
  },
  "language_info": {
   "codemirror_mode": {
    "name": "ipython",
    "version": 2
   },
   "file_extension": ".py",
   "mimetype": "text/x-python",
   "name": "python",
   "nbconvert_exporter": "python",
   "pygments_lexer": "ipython2",
   "version": "2.7.6"
  }
 },
 "nbformat": 4,
 "nbformat_minor": 0
}