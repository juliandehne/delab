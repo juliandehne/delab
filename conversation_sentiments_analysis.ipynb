{
 "cells": [
  {
   "cell_type": "markdown",
   "source": [
    "### Evaluate the conversation flows of twitter respond-trees\n",
    "\n",
    "This notebook is a documentation on how particulary damaging tweets might be filtered\n",
    "out by looking at them from a sentiment delta perspective.\n",
    "\n",
    "First we download the data from our database."
   ],
   "metadata": {
    "collapsed": false
   }
  },
  {
   "cell_type": "code",
   "execution_count": 19,
   "metadata": {
    "collapsed": true
   },
   "outputs": [
    {
     "data": {
      "text/plain": "   id      conversation_id sentiment  sentiment_value           created_at  \\\n0   1  1426273610289848324  positive         8.078357  2021-08-13 20:05:02   \n1   2  1426273610289848324  negative        -0.479819  2021-08-16 14:43:39   \n2   3  1426273610289848324  positive         0.496286  2021-08-16 14:37:31   \n\n   tn_level  tn_order  \n0         1         0  \n1         2         1  \n2         2         2  ",
      "text/html": "<div>\n<style scoped>\n    .dataframe tbody tr th:only-of-type {\n        vertical-align: middle;\n    }\n\n    .dataframe tbody tr th {\n        vertical-align: top;\n    }\n\n    .dataframe thead th {\n        text-align: right;\n    }\n</style>\n<table border=\"1\" class=\"dataframe\">\n  <thead>\n    <tr style=\"text-align: right;\">\n      <th></th>\n      <th>id</th>\n      <th>conversation_id</th>\n      <th>sentiment</th>\n      <th>sentiment_value</th>\n      <th>created_at</th>\n      <th>tn_level</th>\n      <th>tn_order</th>\n    </tr>\n  </thead>\n  <tbody>\n    <tr>\n      <th>0</th>\n      <td>1</td>\n      <td>1426273610289848324</td>\n      <td>positive</td>\n      <td>8.078357</td>\n      <td>2021-08-13 20:05:02</td>\n      <td>1</td>\n      <td>0</td>\n    </tr>\n    <tr>\n      <th>1</th>\n      <td>2</td>\n      <td>1426273610289848324</td>\n      <td>negative</td>\n      <td>-0.479819</td>\n      <td>2021-08-16 14:43:39</td>\n      <td>2</td>\n      <td>1</td>\n    </tr>\n    <tr>\n      <th>2</th>\n      <td>3</td>\n      <td>1426273610289848324</td>\n      <td>positive</td>\n      <td>0.496286</td>\n      <td>2021-08-16 14:37:31</td>\n      <td>2</td>\n      <td>2</td>\n    </tr>\n  </tbody>\n</table>\n</div>"
     },
     "execution_count": 19,
     "metadata": {},
     "output_type": "execute_result"
    }
   ],
   "source": [
    "import sqlite3\n",
    "import pandas as pd\n",
    "\n",
    "# Create your connection.\n",
    "cnx = sqlite3.connect('db.sqlite3')\n",
    "\n",
    "df = pd.read_sql_query(\n",
    "    \"SELECT id, conversation_id, sentiment,sentiment_value,created_at, tn_level, tn_order FROM delab_tweet where sentiment = 'positive' or sentiment = 'negative'\", cnx)\n",
    "\n",
    "df.head(3)"
   ]
  },
  {
   "cell_type": "markdown",
   "source": [
    "The conversation_id corresponds to the twitter field with the same name.  The sentiment values\n",
    "are computed using a neural net and trax, using twitter samples as training data.\n",
    "\n",
    "Depending on the state of the database different length of conversations are downloaded present:"
   ],
   "metadata": {
    "collapsed": false,
    "pycharm": {
     "name": "#%% md\n"
    }
   }
  },
  {
   "cell_type": "code",
   "execution_count": 20,
   "outputs": [
    {
     "data": {
      "text/plain": "1427288915241693191    27\n1426985024021278729    25\n1427278723636776961    13\n1427264644813627394    11\n1426273610289848324    10\nName: conversation_id, dtype: int64"
     },
     "execution_count": 20,
     "metadata": {},
     "output_type": "execute_result"
    }
   ],
   "source": [
    "df['conversation_id'].value_counts()\n",
    "\n"
   ],
   "metadata": {
    "collapsed": false,
    "pycharm": {
     "name": "#%%\n"
    }
   }
  },
  {
   "cell_type": "markdown",
   "source": [
    "Next we group the data by the conversation_id.\n",
    "\n"
   ],
   "metadata": {
    "collapsed": false,
    "pycharm": {
     "name": "#%% md\n"
    }
   }
  },
  {
   "cell_type": "code",
   "execution_count": 21,
   "outputs": [
    {
     "data": {
      "text/plain": "   id      conversation_id sentiment  sentiment_value           created_at  \\\n0   1  1426273610289848324  positive         8.078357  2021-08-13 20:05:02   \n1   2  1426273610289848324  negative        -0.479819  2021-08-16 14:43:39   \n2   3  1426273610289848324  positive         0.496286  2021-08-16 14:37:31   \n3   4  1426273610289848324  negative        -1.571838  2021-08-15 07:18:11   \n4   5  1426273610289848324  positive         2.172888  2021-08-15 04:45:31   \n\n   tn_level  tn_order  \n0         1         0  \n1         2         1  \n2         2         2  \n3         2         3  \n4         2         4  ",
      "text/html": "<div>\n<style scoped>\n    .dataframe tbody tr th:only-of-type {\n        vertical-align: middle;\n    }\n\n    .dataframe tbody tr th {\n        vertical-align: top;\n    }\n\n    .dataframe thead th {\n        text-align: right;\n    }\n</style>\n<table border=\"1\" class=\"dataframe\">\n  <thead>\n    <tr style=\"text-align: right;\">\n      <th></th>\n      <th>id</th>\n      <th>conversation_id</th>\n      <th>sentiment</th>\n      <th>sentiment_value</th>\n      <th>created_at</th>\n      <th>tn_level</th>\n      <th>tn_order</th>\n    </tr>\n  </thead>\n  <tbody>\n    <tr>\n      <th>0</th>\n      <td>1</td>\n      <td>1426273610289848324</td>\n      <td>positive</td>\n      <td>8.078357</td>\n      <td>2021-08-13 20:05:02</td>\n      <td>1</td>\n      <td>0</td>\n    </tr>\n    <tr>\n      <th>1</th>\n      <td>2</td>\n      <td>1426273610289848324</td>\n      <td>negative</td>\n      <td>-0.479819</td>\n      <td>2021-08-16 14:43:39</td>\n      <td>2</td>\n      <td>1</td>\n    </tr>\n    <tr>\n      <th>2</th>\n      <td>3</td>\n      <td>1426273610289848324</td>\n      <td>positive</td>\n      <td>0.496286</td>\n      <td>2021-08-16 14:37:31</td>\n      <td>2</td>\n      <td>2</td>\n    </tr>\n    <tr>\n      <th>3</th>\n      <td>4</td>\n      <td>1426273610289848324</td>\n      <td>negative</td>\n      <td>-1.571838</td>\n      <td>2021-08-15 07:18:11</td>\n      <td>2</td>\n      <td>3</td>\n    </tr>\n    <tr>\n      <th>4</th>\n      <td>5</td>\n      <td>1426273610289848324</td>\n      <td>positive</td>\n      <td>2.172888</td>\n      <td>2021-08-15 04:45:31</td>\n      <td>2</td>\n      <td>4</td>\n    </tr>\n  </tbody>\n</table>\n</div>"
     },
     "execution_count": 21,
     "metadata": {},
     "output_type": "execute_result"
    }
   ],
   "source": [
    "example_id = df.at[0, 'conversation_id']  # select the first conversation as an example\n",
    "# df_subset = df[~df.sentiment_value.isnull()]\n",
    "df_subset = df[df.conversation_id == example_id]\n",
    "df_subset.sort_values(by=['created_at'])\n",
    "df_subset.head(5)"
   ],
   "metadata": {
    "collapsed": false,
    "pycharm": {
     "name": "#%%\n"
    }
   }
  },
  {
   "cell_type": "markdown",
   "source": [
    "Now we are using rolling mean to get a better idea of significant changes.\n",
    "The rolling mean looks at a windows n (here 3) tweets and smoothens the curve accordingly:\n",
    "https://en.wikipedia.org/wiki/Moving_average"
   ],
   "metadata": {
    "collapsed": false,
    "pycharm": {
     "name": "#%% md\n"
    }
   }
  },
  {
   "cell_type": "code",
   "execution_count": 22,
   "outputs": [
    {
     "data": {
      "text/plain": "   id      conversation_id sentiment  sentiment_value           created_at  \\\n0   1  1426273610289848324  positive         8.078357  2021-08-13 20:05:02   \n1   2  1426273610289848324  negative        -0.479819  2021-08-16 14:43:39   \n2   3  1426273610289848324  positive         0.496286  2021-08-16 14:37:31   \n3   4  1426273610289848324  negative        -1.571838  2021-08-15 07:18:11   \n4   5  1426273610289848324  positive         2.172888  2021-08-15 04:45:31   \n\n   tn_level  tn_order  rolling_sentiment  \n0         1         0                NaN  \n1         2         1                NaN  \n2         2         2           2.698275  \n3         2         3          -0.518457  \n4         2         4           0.365779  ",
      "text/html": "<div>\n<style scoped>\n    .dataframe tbody tr th:only-of-type {\n        vertical-align: middle;\n    }\n\n    .dataframe tbody tr th {\n        vertical-align: top;\n    }\n\n    .dataframe thead th {\n        text-align: right;\n    }\n</style>\n<table border=\"1\" class=\"dataframe\">\n  <thead>\n    <tr style=\"text-align: right;\">\n      <th></th>\n      <th>id</th>\n      <th>conversation_id</th>\n      <th>sentiment</th>\n      <th>sentiment_value</th>\n      <th>created_at</th>\n      <th>tn_level</th>\n      <th>tn_order</th>\n      <th>rolling_sentiment</th>\n    </tr>\n  </thead>\n  <tbody>\n    <tr>\n      <th>0</th>\n      <td>1</td>\n      <td>1426273610289848324</td>\n      <td>positive</td>\n      <td>8.078357</td>\n      <td>2021-08-13 20:05:02</td>\n      <td>1</td>\n      <td>0</td>\n      <td>NaN</td>\n    </tr>\n    <tr>\n      <th>1</th>\n      <td>2</td>\n      <td>1426273610289848324</td>\n      <td>negative</td>\n      <td>-0.479819</td>\n      <td>2021-08-16 14:43:39</td>\n      <td>2</td>\n      <td>1</td>\n      <td>NaN</td>\n    </tr>\n    <tr>\n      <th>2</th>\n      <td>3</td>\n      <td>1426273610289848324</td>\n      <td>positive</td>\n      <td>0.496286</td>\n      <td>2021-08-16 14:37:31</td>\n      <td>2</td>\n      <td>2</td>\n      <td>2.698275</td>\n    </tr>\n    <tr>\n      <th>3</th>\n      <td>4</td>\n      <td>1426273610289848324</td>\n      <td>negative</td>\n      <td>-1.571838</td>\n      <td>2021-08-15 07:18:11</td>\n      <td>2</td>\n      <td>3</td>\n      <td>-0.518457</td>\n    </tr>\n    <tr>\n      <th>4</th>\n      <td>5</td>\n      <td>1426273610289848324</td>\n      <td>positive</td>\n      <td>2.172888</td>\n      <td>2021-08-15 04:45:31</td>\n      <td>2</td>\n      <td>4</td>\n      <td>0.365779</td>\n    </tr>\n  </tbody>\n</table>\n</div>"
     },
     "execution_count": 22,
     "metadata": {},
     "output_type": "execute_result"
    }
   ],
   "source": [
    "rolling_column = df_subset['sentiment_value'].rolling(3).mean()\n",
    "df_subset = df_subset.assign(rolling_sentiment=rolling_column)\n",
    "df_subset.head(5)"
   ],
   "metadata": {
    "collapsed": false,
    "pycharm": {
     "name": "#%%\n"
    }
   }
  },
  {
   "cell_type": "markdown",
   "source": [
    "### Plotting the rolling average to highlight extreme posts\n",
    "\n",
    "We use the index as x_axis and the rolling average of the sentiment value as y.\n",
    "This is the graph that is displayed in the proof-of-concept website."
   ],
   "metadata": {
    "collapsed": false,
    "pycharm": {
     "name": "#%% md\n"
    }
   }
  },
  {
   "cell_type": "code",
   "execution_count": 23,
   "outputs": [
    {
     "data": {
      "text/plain": "<AxesSubplot:>"
     },
     "execution_count": 23,
     "metadata": {},
     "output_type": "execute_result"
    },
    {
     "data": {
      "text/plain": "<Figure size 432x288 with 1 Axes>",
      "image/png": "[encoded data removed]"
     },
     "metadata": {
      "needs_background": "light"
     },
     "output_type": "display_data"
    }
   ],
   "source": [
    "df_subset.plot(y=['rolling_sentiment', 'sentiment_value'], use_index=True)"
   ],
   "metadata": {
    "collapsed": false,
    "pycharm": {
     "name": "#%%\n"
    }
   }
  },
  {
   "cell_type": "markdown",
   "source": [
    "In order to find out candidates with the highest impact we can look at the differentials.\n",
    "\n",
    "$$ candidate_{conv} = \\arg\\max_{x\\in n}(x_{n+1}-x_n) \\land |conv| = n  $$\n",
    "\n",
    "We can already see the issue that very early tweets or the last ones are not defined by this."
   ],
   "metadata": {
    "collapsed": false,
    "pycharm": {
     "name": "#%% md\n"
    }
   }
  },
  {
   "cell_type": "code",
   "execution_count": 24,
   "outputs": [
    {
     "data": {
      "text/plain": "   id      conversation_id sentiment  sentiment_value           created_at  \\\n0   1  1426273610289848324  positive         8.078357  2021-08-13 20:05:02   \n1   2  1426273610289848324  negative        -0.479819  2021-08-16 14:43:39   \n2   3  1426273610289848324  positive         0.496286  2021-08-16 14:37:31   \n3   4  1426273610289848324  negative        -1.571838  2021-08-15 07:18:11   \n4   5  1426273610289848324  positive         2.172888  2021-08-15 04:45:31   \n5   6  1426273610289848324  negative        -2.882568  2021-08-14 00:30:18   \n6   7  1426273610289848324  positive         7.635874  2021-08-13 21:04:45   \n7   8  1426273610289848324  positive         3.084620  2021-08-14 05:56:13   \n8   9  1426273610289848324  positive         7.135094  2021-08-13 21:11:12   \n9  11  1426273610289848324  negative        -7.684655  2021-08-13 20:12:48   \n\n   tn_level  tn_order  rolling_sentiment  rolling_deltas  \n0         1         0                NaN             NaN  \n1         2         1                NaN             NaN  \n2         2         2           2.698275             NaN  \n3         2         3          -0.518457        3.216731  \n4         2         4           0.365779        0.884236  \n5         2         5          -0.760506        1.126285  \n6         2         6           2.308731        3.069237  \n7         3         7           2.612642        0.303911  \n8         3         8           5.951863        3.339221  \n9         2        10           0.845020        5.106843  ",
      "text/html": "<div>\n<style scoped>\n    .dataframe tbody tr th:only-of-type {\n        vertical-align: middle;\n    }\n\n    .dataframe tbody tr th {\n        vertical-align: top;\n    }\n\n    .dataframe thead th {\n        text-align: right;\n    }\n</style>\n<table border=\"1\" class=\"dataframe\">\n  <thead>\n    <tr style=\"text-align: right;\">\n      <th></th>\n      <th>id</th>\n      <th>conversation_id</th>\n      <th>sentiment</th>\n      <th>sentiment_value</th>\n      <th>created_at</th>\n      <th>tn_level</th>\n      <th>tn_order</th>\n      <th>rolling_sentiment</th>\n      <th>rolling_deltas</th>\n    </tr>\n  </thead>\n  <tbody>\n    <tr>\n      <th>0</th>\n      <td>1</td>\n      <td>1426273610289848324</td>\n      <td>positive</td>\n      <td>8.078357</td>\n      <td>2021-08-13 20:05:02</td>\n      <td>1</td>\n      <td>0</td>\n      <td>NaN</td>\n      <td>NaN</td>\n    </tr>\n    <tr>\n      <th>1</th>\n      <td>2</td>\n      <td>1426273610289848324</td>\n      <td>negative</td>\n      <td>-0.479819</td>\n      <td>2021-08-16 14:43:39</td>\n      <td>2</td>\n      <td>1</td>\n      <td>NaN</td>\n      <td>NaN</td>\n    </tr>\n    <tr>\n      <th>2</th>\n      <td>3</td>\n      <td>1426273610289848324</td>\n      <td>positive</td>\n      <td>0.496286</td>\n      <td>2021-08-16 14:37:31</td>\n      <td>2</td>\n      <td>2</td>\n      <td>2.698275</td>\n      <td>NaN</td>\n    </tr>\n    <tr>\n      <th>3</th>\n      <td>4</td>\n      <td>1426273610289848324</td>\n      <td>negative</td>\n      <td>-1.571838</td>\n      <td>2021-08-15 07:18:11</td>\n      <td>2</td>\n      <td>3</td>\n      <td>-0.518457</td>\n      <td>3.216731</td>\n    </tr>\n    <tr>\n      <th>4</th>\n      <td>5</td>\n      <td>1426273610289848324</td>\n      <td>positive</td>\n      <td>2.172888</td>\n      <td>2021-08-15 04:45:31</td>\n      <td>2</td>\n      <td>4</td>\n      <td>0.365779</td>\n      <td>0.884236</td>\n    </tr>\n    <tr>\n      <th>5</th>\n      <td>6</td>\n      <td>1426273610289848324</td>\n      <td>negative</td>\n      <td>-2.882568</td>\n      <td>2021-08-14 00:30:18</td>\n      <td>2</td>\n      <td>5</td>\n      <td>-0.760506</td>\n      <td>1.126285</td>\n    </tr>\n    <tr>\n      <th>6</th>\n      <td>7</td>\n      <td>1426273610289848324</td>\n      <td>positive</td>\n      <td>7.635874</td>\n      <td>2021-08-13 21:04:45</td>\n      <td>2</td>\n      <td>6</td>\n      <td>2.308731</td>\n      <td>3.069237</td>\n    </tr>\n    <tr>\n      <th>7</th>\n      <td>8</td>\n      <td>1426273610289848324</td>\n      <td>positive</td>\n      <td>3.084620</td>\n      <td>2021-08-14 05:56:13</td>\n      <td>3</td>\n      <td>7</td>\n      <td>2.612642</td>\n      <td>0.303911</td>\n    </tr>\n    <tr>\n      <th>8</th>\n      <td>9</td>\n      <td>1426273610289848324</td>\n      <td>positive</td>\n      <td>7.135094</td>\n      <td>2021-08-13 21:11:12</td>\n      <td>3</td>\n      <td>8</td>\n      <td>5.951863</td>\n      <td>3.339221</td>\n    </tr>\n    <tr>\n      <th>9</th>\n      <td>11</td>\n      <td>1426273610289848324</td>\n      <td>negative</td>\n      <td>-7.684655</td>\n      <td>2021-08-13 20:12:48</td>\n      <td>2</td>\n      <td>10</td>\n      <td>0.845020</td>\n      <td>5.106843</td>\n    </tr>\n  </tbody>\n</table>\n</div>"
     },
     "execution_count": 24,
     "metadata": {},
     "output_type": "execute_result"
    }
   ],
   "source": [
    "diffs = df_subset.rolling_sentiment.diff().abs()\n",
    "#df_subset[\"diffs\"]=diffs\n",
    "df_subset = df_subset.assign(rolling_deltas=diffs)\n",
    "df_subset.head(10)"
   ],
   "metadata": {
    "collapsed": false,
    "pycharm": {
     "name": "#%%\n"
    }
   }
  },
  {
   "cell_type": "markdown",
   "source": [
    "### Questions that arise from the data:\n",
    "- Does the tree level (is a tweet answer of an answer of an answer lvl3 ...) matter?\n",
    "- The rolling average leaves NaN for the first n tweets, is that a problem?\n",
    "- How long does the conversation have to be in order for the delta to be significant?\n",
    "- Is the underlying sentiment analysis predictive enough (and accurate enough)?\n",
    "\n",
    "Next we are printing the candidate tweet that changed the dicussion the most based on the sentiment predictions:"
   ],
   "metadata": {
    "collapsed": false,
    "pycharm": {
     "name": "#%% md\n"
    }
   }
  },
  {
   "cell_type": "code",
   "execution_count": 33,
   "outputs": [
    {
     "data": {
      "text/plain": "   id  \\\n0   9   \n\n                                                                                                                                                                                                                             text  \\\n0  @banon_enrique @RedCrossCasc @OregonGovBrown Hi! Places established as cooling centers are following statewide guidance around COVID-19 protocols. You can call 211 for more information about either of these topics. Thanks!   \n\n   sentiment_delta  \n0         5.106843  ",
      "text/html": "<div>\n<style scoped>\n    .dataframe tbody tr th:only-of-type {\n        vertical-align: middle;\n    }\n\n    .dataframe tbody tr th {\n        vertical-align: top;\n    }\n\n    .dataframe thead th {\n        text-align: right;\n    }\n</style>\n<table border=\"1\" class=\"dataframe\">\n  <thead>\n    <tr style=\"text-align: right;\">\n      <th></th>\n      <th>id</th>\n      <th>text</th>\n      <th>sentiment_delta</th>\n    </tr>\n  </thead>\n  <tbody>\n    <tr>\n      <th>0</th>\n      <td>9</td>\n      <td>@banon_enrique @RedCrossCasc @OregonGovBrown Hi! Places established as cooling centers are following statewide guidance around COVID-19 protocols. You can call 211 for more information about either of these topics. Thanks!</td>\n      <td>5.106843</td>\n    </tr>\n  </tbody>\n</table>\n</div>"
     },
     "execution_count": 33,
     "metadata": {},
     "output_type": "execute_result"
    }
   ],
   "source": [
    "pd.options.display.max_colwidth=500 # so we can see the full tweet\n",
    "ix_of_candidate = df_subset.rolling_deltas.argmax()-1\n",
    "id_of_candidate = df_subset.loc[ix_of_candidate,\"id\"]\n",
    "\n",
    "df_candidate = pd.read_sql_query(\n",
    "    \"SELECT id, text FROM delab_tweet where id='{}'\".format(id_of_candidate), cnx)\n",
    "\n",
    "df_candidate = df_candidate.assign(sentiment_delta=df_subset.iloc[ix_of_candidate+1].rolling_deltas)\n",
    "#print(df_candidate.text)\n",
    "df_candidate.head()"
   ],
   "metadata": {
    "collapsed": false,
    "pycharm": {
     "name": "#%%\n"
    }
   }
  }
 ],
 "metadata": {
  "kernelspec": {
   "display_name": "Python 3",
   "language": "python",
   "name": "python3"
  },
  "language_info": {
   "codemirror_mode": {
    "name": "ipython",
    "version": 2
   },
   "file_extension": ".py",
   "mimetype": "text/x-python",
   "name": "python",
   "nbconvert_exporter": "python",
   "pygments_lexer": "ipython2",
   "version": "2.7.6"
  }
 },
 "nbformat": 4,
 "nbformat_minor": 0
}