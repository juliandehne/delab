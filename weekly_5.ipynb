{
 "cells": [
  {
   "cell_type": "markdown",
   "metadata": {
    "pycharm": {
     "name": "#%% md\n"
    }
   },
   "source": [
    "# Comparing Twitter and Reddit candidates\n"
   ]
  },
  {
   "cell_type": "code",
   "execution_count": 2,
   "metadata": {
    "collapsed": true
   },
   "outputs": [
    {
     "name": "stdout",
     "output_type": "stream",
     "text": [
      "using postgres\n"
     ]
    },
    {
     "data": {
      "text/html": [
       "<div>\n",
       "<style scoped>\n",
       "    .dataframe tbody tr th:only-of-type {\n",
       "        vertical-align: middle;\n",
       "    }\n",
       "\n",
       "    .dataframe tbody tr th {\n",
       "        vertical-align: top;\n",
       "    }\n",
       "\n",
       "    .dataframe thead th {\n",
       "        text-align: right;\n",
       "    }\n",
       "</style>\n",
       "<table border=\"1\" class=\"dataframe\">\n",
       "  <thead>\n",
       "    <tr style=\"text-align: right;\">\n",
       "      <th></th>\n",
       "      <th>id</th>\n",
       "      <th>exp_id</th>\n",
       "      <th>moderator_index</th>\n",
       "      <th>coder_id</th>\n",
       "      <th>tweet_id</th>\n",
       "      <th>c_author_number_changed_norm</th>\n",
       "      <th>c_author_topic_variance_norm</th>\n",
       "      <th>c_sentiment_value_norm</th>\n",
       "      <th>coded_by_id</th>\n",
       "      <th>sentiment_value_norm</th>\n",
       "      <th>u_author_topic_variance_rating</th>\n",
       "      <th>u_moderator_rating</th>\n",
       "      <th>u_sentiment_rating</th>\n",
       "      <th>platform</th>\n",
       "      <th>text</th>\n",
       "    </tr>\n",
       "  </thead>\n",
       "  <tbody>\n",
       "    <tr>\n",
       "      <th>0</th>\n",
       "      <td>59</td>\n",
       "      <td>v0.0.1</td>\n",
       "      <td>0.579463</td>\n",
       "      <td>None</td>\n",
       "      <td>10891</td>\n",
       "      <td>0</td>\n",
       "      <td>-0.041580</td>\n",
       "      <td>0.692141</td>\n",
       "      <td>None</td>\n",
       "      <td>0.594907</td>\n",
       "      <td>None</td>\n",
       "      <td>None</td>\n",
       "      <td>None</td>\n",
       "      <td>twitter</td>\n",
       "      <td>@PathwaysNetZero You've invested in climate denial, you've funded and bought politicians and governments to delay or prevent action, including the Ontario government (https://t.co/QDhVrnc3Yu). This is nothing but greenwash. Leave the oil in the ground.</td>\n",
       "    </tr>\n",
       "    <tr>\n",
       "      <th>1</th>\n",
       "      <td>60</td>\n",
       "      <td>v0.0.1</td>\n",
       "      <td>0.831346</td>\n",
       "      <td>None</td>\n",
       "      <td>10890</td>\n",
       "      <td>0</td>\n",
       "      <td>0.158304</td>\n",
       "      <td>0.726075</td>\n",
       "      <td>None</td>\n",
       "      <td>0.576843</td>\n",
       "      <td>None</td>\n",
       "      <td>None</td>\n",
       "      <td>None</td>\n",
       "      <td>twitter</td>\n",
       "      <td>@PathwaysNetZero So you've finally accepted the evidence and you're shutting down. Can't wait to see what @Canada will be able to do with the tax dollars we've been subsidizing you with....</td>\n",
       "    </tr>\n",
       "  </tbody>\n",
       "</table>\n",
       "</div>"
      ],
      "text/plain": [
       "   id  exp_id  moderator_index coder_id  tweet_id  \\\n",
       "0  59  v0.0.1         0.579463     None     10891   \n",
       "1  60  v0.0.1         0.831346     None     10890   \n",
       "\n",
       "   c_author_number_changed_norm  c_author_topic_variance_norm  \\\n",
       "0                             0                     -0.041580   \n",
       "1                             0                      0.158304   \n",
       "\n",
       "   c_sentiment_value_norm coded_by_id  sentiment_value_norm  \\\n",
       "0                0.692141        None              0.594907   \n",
       "1                0.726075        None              0.576843   \n",
       "\n",
       "  u_author_topic_variance_rating u_moderator_rating u_sentiment_rating  \\\n",
       "0                           None               None               None   \n",
       "1                           None               None               None   \n",
       "\n",
       "  platform  \\\n",
       "0  twitter   \n",
       "1  twitter   \n",
       "\n",
       "                                                                                                                                                                                                                                                           text  \n",
       "0  @PathwaysNetZero You've invested in climate denial, you've funded and bought politicians and governments to delay or prevent action, including the Ontario government (https://t.co/QDhVrnc3Yu). This is nothing but greenwash. Leave the oil in the ground.  \n",
       "1                                                                 @PathwaysNetZero So you've finally accepted the evidence and you're shutting down. Can't wait to see what @Canada will be able to do with the tax dollars we've been subsidizing you with....  "
      ]
     },
     "execution_count": 2,
     "metadata": {},
     "output_type": "execute_result"
    }
   ],
   "source": [
    "from util.sql_switch import get_query_native#\n",
    "# from delab.models import PLATFORM\n",
    "\n",
    "# and bertopic_id >= 0\"\n",
    "df = get_query_native(\"SELECT candidate.*,tweet.text from delab_twcandidate candidate join delab_tweet tweet on candidate.tweet_id = tweet.id where exp_id = 'v0.0.1'\")\n",
    "df.head(2)"
   ]
  },
  {
   "cell_type": "code",
   "execution_count": 11,
   "metadata": {
    "pycharm": {
     "name": "#%%\n"
    }
   },
   "outputs": [
    {
     "name": "stdout",
     "output_type": "stream",
     "text": [
      "29\n",
      "473\n",
      "Sentiment Averages\n",
      "0.27033740804566814\n",
      "0.575083670094827\n",
      "Moderator Averages\n",
      "0.6841285947252836\n",
      "0.5298716559591076\n",
      "Author Numbers Averages\n",
      "0.034482758620689655\n",
      "0.0\n",
      "c_author_topic_variance_norm Averages\n",
      "-0.00032749344032409765\n",
      "-0.007191883953152118\n",
      "c_sentiment_value_norm Averages\n",
      "0.44329924333771276\n",
      "0.6348493141045396\n"
     ]
    }
   ],
   "source": [
    "df_reddit = df[df[\"platform\"] == \"reddit\"]\n",
    "df_twitter = df[df[\"platform\"] == \"twitter\"]\n",
    "\n",
    "print(len(df_reddit.index))\n",
    "print(len(df_twitter.index))\n",
    "\n",
    "print(\"Sentiment Averages\")\n",
    "print(df_reddit.sentiment_value_norm.mean())\n",
    "print(df_twitter.sentiment_value_norm.mean())\n",
    "\n",
    "\n",
    "print(\"Moderator Averages\")\n",
    "print(df_reddit.moderator_index.mean())\n",
    "print(df_twitter.moderator_index.mean())\n",
    "\n",
    "\n",
    "print(\"Author Numbers Averages\")\n",
    "print(df_reddit.c_author_number_changed_norm.mean())\n",
    "print(df_twitter.c_author_number_changed_norm.mean())\n",
    "\n",
    "\n",
    "print(\"c_author_topic_variance_norm Averages\")\n",
    "print(df_reddit.c_author_topic_variance_norm.mean())\n",
    "print(df_twitter.c_author_topic_variance_norm.mean())\n",
    "\n",
    "print(\"c_sentiment_value_norm Averages\")\n",
    "print(df_reddit.c_sentiment_value_norm.mean())\n",
    "print(df_twitter.c_sentiment_value_norm.mean())"
   ]
  }
 ],
 "metadata": {
  "kernelspec": {
   "display_name": "Python 3 (ipykernel)",
   "language": "python",
   "name": "python3"
  },
  "language_info": {
   "codemirror_mode": {
    "name": "ipython",
    "version": 3
   },
   "file_extension": ".py",
   "mimetype": "text/x-python",
   "name": "python",
   "nbconvert_exporter": "python",
   "pygments_lexer": "ipython3",
   "version": "3.8.10"
  }
 },
 "nbformat": 4,
 "nbformat_minor": 1
}