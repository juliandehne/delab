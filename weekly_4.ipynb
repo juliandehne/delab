{
 "cells": [
  {
   "cell_type": "markdown",
   "metadata": {
    "collapsed": true,
    "pycharm": {
     "name": "#%% md\n"
    }
   },
   "source": [
    "# Moderator Mining\n",
    "\n",
    "We are creating our home brew index for moderating statements.\n",
    "- [ ] compute the variance of author timelines for a set of tweets (topic_var)\n",
    "- [ ] compute the sentiment delta function for each tweet\n",
    "- [ ] compute the topic delta function  for each tweet\n",
    "- [ ] compute unweighted moderator index\n",
    "- [ ] display the tweets with the highest m_index rating\n"
   ]
  }
 ],
 "metadata": {
  "kernelspec": {
   "display_name": "Python 3",
   "language": "python",
   "name": "python3"
  },
  "language_info": {
   "codemirror_mode": {
    "name": "ipython",
    "version": 2
   },
   "file_extension": ".py",
   "mimetype": "text/x-python",
   "name": "python",
   "nbconvert_exporter": "python",
   "pygments_lexer": "ipython2",
   "version": "2.7.6"
  }
 },
 "nbformat": 4,
 "nbformat_minor": 0
}