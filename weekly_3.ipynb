{
 "cells": [
  {
   "cell_type": "markdown",
   "metadata": {
    "collapsed": true,
    "pycharm": {
     "name": "#%% md\n"
    }
   },
   "source": [
    "# Restructuring and Filtering for Coding\n",
    "\n",
    "In order to start the coding we need to improve the conversation filtering, so that\n",
    "only conversations of a kind of interest to us remain (Ethos attacks, Conflict, Scripts, Interventions).\n",
    "\n",
    "## Cropping the Conversation Tree\n",
    "\n",
    "tree structure should be reduced:\n",
    "\n",
    "- Merge sequential nodes of same author into one node\n",
    "- min-depth: 4\n",
    "- max-branching: 4 and indicate how many more siblings are on a level\n",
    "- (optional) min length of words and variance of number of words should prevent conversations, that only have short responses.\n",
    "\n",
    "\n"
   ]
  }
 ],
 "metadata": {
  "kernelspec": {
   "display_name": "Python 3",
   "language": "python",
   "name": "python3"
  },
  "language_info": {
   "codemirror_mode": {
    "name": "ipython",
    "version": 2
   },
   "file_extension": ".py",
   "mimetype": "text/x-python",
   "name": "python",
   "nbconvert_exporter": "python",
   "pygments_lexer": "ipython2",
   "version": "2.7.6"
  }
 },
 "nbformat": 4,
 "nbformat_minor": 0
}