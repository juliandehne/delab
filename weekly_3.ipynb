{
 "cells": [
  {
   "cell_type": "markdown",
   "metadata": {
    "collapsed": true,
    "pycharm": {
     "name": "#%% md\n"
    }
   },
   "source": [
    "# Restructuring and Filtering for Coding\n",
    "\n",
    "In order to start the coding we need to improve the conversation filtering, so that\n",
    "only conversations of a kind of interest to us remain (Ethos attacks, Conflict, Scripts, Interventions).\n",
    "\n",
    "## Cropping the Conversation Tree\n",
    "\n",
    "tree structure should be reduced:\n",
    "\n",
    "- Merge sequential nodes of same author into one node (if posted on same day)\n",
    "- min-depth: 4\n",
    "- max-branching: 4 and indicate how many more siblings are on a level\n",
    "- (optional) min length of words and variance of number of words should prevent conversations, that only have short responses."
   ]
  },
  {
   "cell_type": "code",
   "execution_count": 6,
   "outputs": [
    {
     "name": "stdout",
     "output_type": "stream",
     "text": [
      "before merging there are 9319 tweets\n"
     ]
    },
    {
     "data": {
      "text/plain": "    id      conversation_id           author_id           created_at  \\\n0  134  1422780001183834117            44196397  2021-08-04 04:42:40   \n1  140  1422780001183834117           354265431  2021-08-22 21:46:21   \n2  141  1422780001183834117  828880051949166592  2021-08-22 20:48:40   \n3  154  1422780001183834117  892416621406547969  2021-08-21 11:15:49   \n4  138  1422780001183834117  957329002708029440  2021-08-23 00:43:19   \n\n   in_reply_to_user_id  \\\n0                  NaN   \n1           44196397.0   \n2           44196397.0   \n3           44196397.0   \n4           44196397.0   \n\n                                                                                                text  \n0                            All 6 engines mounted to first orbital Starship https://t.co/l5QnQRSg3D  \n1  @elonmusk https://t.co/1mEPBQPUPT #Bitcoin  #investment  #cryptotrading #cryptocurrency #Coinbase  \n2                                                                                      @elonmusk Xvg  \n3                 @elonmusk @SpaceX I should this produces as much emissions as the whole of the UK.  \n4                                                                  @elonmusk https://t.co/Dc7QENaC4g  ",
      "text/html": "<div>\n<style scoped>\n    .dataframe tbody tr th:only-of-type {\n        vertical-align: middle;\n    }\n\n    .dataframe tbody tr th {\n        vertical-align: top;\n    }\n\n    .dataframe thead th {\n        text-align: right;\n    }\n</style>\n<table border=\"1\" class=\"dataframe\">\n  <thead>\n    <tr style=\"text-align: right;\">\n      <th></th>\n      <th>id</th>\n      <th>conversation_id</th>\n      <th>author_id</th>\n      <th>created_at</th>\n      <th>in_reply_to_user_id</th>\n      <th>text</th>\n    </tr>\n  </thead>\n  <tbody>\n    <tr>\n      <th>0</th>\n      <td>134</td>\n      <td>1422780001183834117</td>\n      <td>44196397</td>\n      <td>2021-08-04 04:42:40</td>\n      <td>NaN</td>\n      <td>All 6 engines mounted to first orbital Starship https://t.co/l5QnQRSg3D</td>\n    </tr>\n    <tr>\n      <th>1</th>\n      <td>140</td>\n      <td>1422780001183834117</td>\n      <td>354265431</td>\n      <td>2021-08-22 21:46:21</td>\n      <td>44196397.0</td>\n      <td>@elonmusk https://t.co/1mEPBQPUPT #Bitcoin  #investment  #cryptotrading #cryptocurrency #Coinbase</td>\n    </tr>\n    <tr>\n      <th>2</th>\n      <td>141</td>\n      <td>1422780001183834117</td>\n      <td>828880051949166592</td>\n      <td>2021-08-22 20:48:40</td>\n      <td>44196397.0</td>\n      <td>@elonmusk Xvg</td>\n    </tr>\n    <tr>\n      <th>3</th>\n      <td>154</td>\n      <td>1422780001183834117</td>\n      <td>892416621406547969</td>\n      <td>2021-08-21 11:15:49</td>\n      <td>44196397.0</td>\n      <td>@elonmusk @SpaceX I should this produces as much emissions as the whole of the UK.</td>\n    </tr>\n    <tr>\n      <th>4</th>\n      <td>138</td>\n      <td>1422780001183834117</td>\n      <td>957329002708029440</td>\n      <td>2021-08-23 00:43:19</td>\n      <td>44196397.0</td>\n      <td>@elonmusk https://t.co/Dc7QENaC4g</td>\n    </tr>\n  </tbody>\n</table>\n</div>"
     },
     "execution_count": 6,
     "metadata": {},
     "output_type": "execute_result"
    }
   ],
   "source": [
    "# pre_sorting the dataframe\n",
    "import pandas as pd\n",
    "import sqlite3\n",
    "from numpy_ext import rolling_apply\n",
    "from util.sql_switch import query_sql\n",
    "\n",
    "# reducing the size of the df for debugging\n",
    "# df = df.loc[df[\"conversation_id\"] == 1426273610289848324]\n",
    "fieldnames = [\"id\", \"conversation_id\", \"author_id\", \"created_at\", \"in_reply_to_user_id\", \"text\"]\n",
    "df = query_sql(fieldnames=fieldnames)  # a utility so I don't have to rewrite the get twitter data for both django and jupyter context\n",
    "\n",
    "df.sort_values(by=['conversation_id', 'author_id', \"created_at\"], inplace=True)\n",
    "df.reset_index(drop=True, inplace=True)\n",
    "#pd.set_option('display.max_rows', 1000)\n",
    "#df.loc[[2,1,3]]\n",
    "data_list = df.to_dict('records')\n",
    "print(\"before merging there are {} tweets\".format(len(data_list)))\n",
    "\n",
    "df.head(5)"
   ],
   "metadata": {
    "collapsed": false,
    "pycharm": {
     "name": "#%%\n"
    }
   }
  },
  {
   "cell_type": "markdown",
   "source": [
    "## Merge subsequent nodes\n",
    "\n",
    "- pandas rolling does not work on dataframes too good\n",
    "- using basic python (assuming list will store the order achieved previously)"
   ],
   "metadata": {
    "collapsed": false,
    "pycharm": {
     "name": "#%% md\n"
    }
   }
  },
  {
   "cell_type": "code",
   "execution_count": 7,
   "outputs": [
    {
     "ename": "IndentationError",
     "evalue": "unexpected indent (2143549268.py, line 7)",
     "output_type": "error",
     "traceback": [
      "\u001B[0;36m  File \u001B[0;32m\"/tmp/ipykernel_9535/2143549268.py\"\u001B[0;36m, line \u001B[0;32m7\u001B[0m\n\u001B[0;31m    + next_one[\"in_reply_to_user_id\"] + \">\"\u001B[0m\n\u001B[0m    ^\u001B[0m\n\u001B[0;31mIndentationError\u001B[0m\u001B[0;31m:\u001B[0m unexpected indent\n"
     ]
    }
   ],
   "source": [
    "result = []\n",
    "duplicates_ids = []\n",
    "for current, next_one in zip(data_list, data_list[1:]):\n",
    "    if current[\"id\"] not in duplicates_ids:\n",
    "        if current[\"author_id\"] == next_one[\"author_id\"] and current[\"conversation_id\"] == next_one[\"conversation_id\"]:\n",
    "            current[\"text\"] = current[\"text\"] + \"<new_tweet><replyto:\" \\\n",
    "                              + next_one[\"in_reply_to_user_id\"] + \">\" \\\n",
    "                              + next_one[\"text\"]\n",
    "            duplicates_ids.append(next_one[\"id\"])\n",
    "        result.append(current)\n",
    "\n",
    "print(\"result contains {} tweets\".format(len(result)))\n",
    "print(\"duplicates contains {} tweets\".format(len(duplicates_ids)))"
   ],
   "metadata": {
    "collapsed": false,
    "pycharm": {
     "name": "#%%\n"
    }
   }
  },
  {
   "cell_type": "markdown",
   "source": [
    "## Crop the branches of the conversations\n",
    "- we want deeper conversations\n",
    "- we don't like trees with many branches"
   ],
   "metadata": {
    "collapsed": false,
    "pycharm": {
     "name": "#%% md\n"
    }
   }
  },
  {
   "cell_type": "code",
   "execution_count": null,
   "outputs": [],
   "source": [
    "from twitter import TwConversationTree\n",
    "\n",
    "pd.DataFrame.from_dict(result, orient='index', columns=fieldnames)\n",
    "pd.head(3)\n"
   ],
   "metadata": {
    "collapsed": false,
    "pycharm": {
     "name": "#%%\n"
    }
   }
  }
 ],
 "metadata": {
  "kernelspec": {
   "display_name": "Python 3",
   "language": "python",
   "name": "python3"
  },
  "language_info": {
   "codemirror_mode": {
    "name": "ipython",
    "version": 2
   },
   "file_extension": ".py",
   "mimetype": "text/x-python",
   "name": "python",
   "nbconvert_exporter": "python",
   "pygments_lexer": "ipython2",
   "version": "2.7.6"
  }
 },
 "nbformat": 4,
 "nbformat_minor": 0
}