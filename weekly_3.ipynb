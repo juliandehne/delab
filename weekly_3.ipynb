{
 "cells": [
  {
   "cell_type": "markdown",
   "metadata": {
    "collapsed": true,
    "pycharm": {
     "name": "#%% md\n"
    }
   },
   "source": [
    "# Restructuring and Filtering for Coding\n",
    "\n",
    "In order to start the coding we need to improve the conversation filtering, so that\n",
    "only conversations of a kind of interest to us remain (Ethos attacks, Conflict, Scripts, Interventions).\n",
    "\n",
    "## Cropping the Conversation Tree\n",
    "\n",
    "tree structure should be reduced:\n",
    "\n",
    "- Merge sequential nodes of same author into one node (if posted on same day)\n",
    "- min-depth: 4\n",
    "- max-branching: 4 and indicate how many more siblings are on a level\n",
    "- (optional) min length of words and variance of number of words should prevent conversations, that only have short responses."
   ]
  },
  {
   "cell_type": "code",
   "execution_count": 13,
   "metadata": {
    "pycharm": {
     "name": "#%%\n"
    }
   },
   "outputs": [
    {
     "name": "stdout",
     "output_type": "stream",
     "text": [
      "before merging there are 9319 tweets\n"
     ]
    },
    {
     "data": {
      "text/html": [
       "<div>\n",
       "<style scoped>\n",
       "    .dataframe tbody tr th:only-of-type {\n",
       "        vertical-align: middle;\n",
       "    }\n",
       "\n",
       "    .dataframe tbody tr th {\n",
       "        vertical-align: top;\n",
       "    }\n",
       "\n",
       "    .dataframe thead th {\n",
       "        text-align: right;\n",
       "    }\n",
       "</style>\n",
       "<table border=\"1\" class=\"dataframe\">\n",
       "  <thead>\n",
       "    <tr style=\"text-align: right;\">\n",
       "      <th></th>\n",
       "      <th>id</th>\n",
       "      <th>conversation_id</th>\n",
       "      <th>author_id</th>\n",
       "      <th>created_at</th>\n",
       "      <th>in_reply_to_user_id</th>\n",
       "      <th>text</th>\n",
       "    </tr>\n",
       "  </thead>\n",
       "  <tbody>\n",
       "    <tr>\n",
       "      <th>0</th>\n",
       "      <td>134</td>\n",
       "      <td>1422780001183834117</td>\n",
       "      <td>44196397</td>\n",
       "      <td>2021-08-04 04:42:40</td>\n",
       "      <td>NaN</td>\n",
       "      <td>All 6 engines mounted to first orbital Starship https://t.co/l5QnQRSg3D</td>\n",
       "    </tr>\n",
       "    <tr>\n",
       "      <th>1</th>\n",
       "      <td>140</td>\n",
       "      <td>1422780001183834117</td>\n",
       "      <td>354265431</td>\n",
       "      <td>2021-08-22 21:46:21</td>\n",
       "      <td>44196397.0</td>\n",
       "      <td>@elonmusk https://t.co/1mEPBQPUPT #Bitcoin  #investment  #cryptotrading #cryptocurrency #Coinbase</td>\n",
       "    </tr>\n",
       "    <tr>\n",
       "      <th>2</th>\n",
       "      <td>141</td>\n",
       "      <td>1422780001183834117</td>\n",
       "      <td>828880051949166592</td>\n",
       "      <td>2021-08-22 20:48:40</td>\n",
       "      <td>44196397.0</td>\n",
       "      <td>@elonmusk Xvg</td>\n",
       "    </tr>\n",
       "    <tr>\n",
       "      <th>3</th>\n",
       "      <td>154</td>\n",
       "      <td>1422780001183834117</td>\n",
       "      <td>892416621406547969</td>\n",
       "      <td>2021-08-21 11:15:49</td>\n",
       "      <td>44196397.0</td>\n",
       "      <td>@elonmusk @SpaceX I should this produces as much emissions as the whole of the UK.</td>\n",
       "    </tr>\n",
       "    <tr>\n",
       "      <th>4</th>\n",
       "      <td>138</td>\n",
       "      <td>1422780001183834117</td>\n",
       "      <td>957329002708029440</td>\n",
       "      <td>2021-08-23 00:43:19</td>\n",
       "      <td>44196397.0</td>\n",
       "      <td>@elonmusk https://t.co/Dc7QENaC4g</td>\n",
       "    </tr>\n",
       "  </tbody>\n",
       "</table>\n",
       "</div>"
      ],
      "text/plain": [
       "    id      conversation_id           author_id           created_at  \\\n",
       "0  134  1422780001183834117            44196397  2021-08-04 04:42:40   \n",
       "1  140  1422780001183834117           354265431  2021-08-22 21:46:21   \n",
       "2  141  1422780001183834117  828880051949166592  2021-08-22 20:48:40   \n",
       "3  154  1422780001183834117  892416621406547969  2021-08-21 11:15:49   \n",
       "4  138  1422780001183834117  957329002708029440  2021-08-23 00:43:19   \n",
       "\n",
       "   in_reply_to_user_id  \\\n",
       "0                  NaN   \n",
       "1           44196397.0   \n",
       "2           44196397.0   \n",
       "3           44196397.0   \n",
       "4           44196397.0   \n",
       "\n",
       "                                                                                                text  \n",
       "0                            All 6 engines mounted to first orbital Starship https://t.co/l5QnQRSg3D  \n",
       "1  @elonmusk https://t.co/1mEPBQPUPT #Bitcoin  #investment  #cryptotrading #cryptocurrency #Coinbase  \n",
       "2                                                                                      @elonmusk Xvg  \n",
       "3                 @elonmusk @SpaceX I should this produces as much emissions as the whole of the UK.  \n",
       "4                                                                  @elonmusk https://t.co/Dc7QENaC4g  "
      ]
     },
     "execution_count": 13,
     "metadata": {},
     "output_type": "execute_result"
    }
   ],
   "source": [
    "# pre_sorting the dataframe\n",
    "import pandas as pd\n",
    "import sqlite3\n",
    "from numpy_ext import rolling_apply\n",
    "from util.sql_switch import query_sql\n",
    "\n",
    "# reducing the size of the df for debugging\n",
    "# df = df.loc[df[\"conversation_id\"] == 1426273610289848324]\n",
    "fieldnames = [\"id\", \"conversation_id\", \"author_id\", \"created_at\", \"in_reply_to_user_id\", \"text\"]\n",
    "df = query_sql(\n",
    "    fieldnames=fieldnames)  # a utility so I don't have to rewrite the get twitter data for both django and jupyter context\n",
    "\n",
    "df.sort_values(by=['conversation_id', 'author_id', \"created_at\"], inplace=True)\n",
    "df.reset_index(drop=True, inplace=True)\n",
    "#pd.set_option('display.max_rows', 1000)\n",
    "#df.loc[[2,1,3]]\n",
    "data_list = df.to_dict('records')\n",
    "print(\"before merging there are {} tweets\".format(len(data_list)))\n",
    "\n",
    "df.head(5)"
   ]
  },
  {
   "cell_type": "markdown",
   "metadata": {
    "pycharm": {
     "name": "#%% md\n"
    }
   },
   "source": [
    "## Merge subsequent nodes\n",
    "\n",
    "- pandas rolling does not work on dataframes too good\n",
    "- using basic python (assuming list will store the order achieved previously)"
   ]
  },
  {
   "cell_type": "code",
   "execution_count": 14,
   "metadata": {
    "pycharm": {
     "name": "#%%\n"
    }
   },
   "outputs": [
    {
     "name": "stdout",
     "output_type": "stream",
     "text": [
      "result contains 9318 tweets\n",
      "duplicates contains 2999 tweets\n"
     ]
    }
   ],
   "source": [
    "result = []\n",
    "duplicates_ids = []\n",
    "for current, next_one in zip(data_list, data_list[1:]):\n",
    "    if current[\"id\"] not in duplicates_ids:\n",
    "        if current[\"author_id\"] == next_one[\"author_id\"] and current[\"conversation_id\"] == next_one[\"conversation_id\"]:\n",
    "            current[\"text\"] = current[\"text\"] + \"<new_tweet><replyto:\"\n",
    "            current[\"text\"] = current[\"text\"] + str(next_one[\"in_reply_to_user_id\"]) + \">\" + next_one[\"text\"]\n",
    "            duplicates_ids.append(next_one[\"id\"])\n",
    "    result.append(current)\n",
    "\n",
    "print(\"result contains {} tweets\".format(len(result)))\n",
    "print(\"duplicates contains {} tweets\".format(len(duplicates_ids)))"
   ]
  },
  {
   "cell_type": "markdown",
   "metadata": {
    "pycharm": {
     "name": "#%% md\n"
    }
   },
   "source": [
    "## Crop the branches of the conversations\n",
    "- we want deeper conversations\n",
    "- we don't like trees with many branches\n",
    "\n",
    "We start with reconstructing the trees:"
   ]
  },
  {
   "cell_type": "code",
   "execution_count": 15,
   "metadata": {
    "pycharm": {
     "name": "#%%\n"
    }
   },
   "outputs": [
    {
     "name": "stdout",
     "output_type": "stream",
     "text": [
      "(9246, 6)\n"
     ]
    },
    {
     "data": {
      "text/plain": [
       "(72, 6)"
      ]
     },
     "execution_count": 15,
     "metadata": {},
     "output_type": "execute_result"
    }
   ],
   "source": [
    "from twitter import TwConversationTree\n",
    "\n",
    "df_merged = pd.DataFrame(result, columns=fieldnames)\n",
    "df_merged.shape\n",
    "\n",
    "roots = df_merged[df_merged[\"in_reply_to_user_id\"].isnull()]\n",
    "not_roots = df_merged[df_merged[\"in_reply_to_user_id\"].notnull()]\n",
    "print(not_roots.shape)\n",
    "roots.shape"
   ]
  },
  {
   "cell_type": "code",
   "execution_count": 16,
   "metadata": {
    "pycharm": {
     "name": "#%%\n"
    }
   },
   "outputs": [],
   "source": [
    "from twitter.TwConversationTree import TreeNode\n",
    "\n",
    "roots_as_rec = roots.to_dict('records')\n",
    "not_roots_as_rec = not_roots.to_dict('records')\n",
    "#roots_as_rec[0:5]\n",
    "\n",
    "trees_roots = {}\n",
    "for root_data in roots_as_rec:\n",
    "    root_data[\"in_reply_to_user_id\"] = root_data[\"author_id\"]\n",
    "    trees_roots[root_data[\"conversation_id\"]] = TreeNode(root_data)  # root is defined as answering to him/herself\n",
    "\n",
    "for not_root in not_roots_as_rec:\n",
    "    if not_root[\"conversation_id\"] in trees_roots:\n",
    "        trees_roots.get(not_root[\"conversation_id\"]).find_parent_of(TreeNode(not_root))\n",
    "\n",
    "example_trees = list(trees_roots.values())[0:1]\n",
    "for example_tree in example_trees:\n",
    "    pass\n",
    "    # print(example_tree.data) We are ommitting this for the pdf it shows a rather flat tree set\n",
    "    # example_tree.print_tree(0)"
   ]
  },
  {
   "cell_type": "code",
   "execution_count": 17,
   "metadata": {
    "pycharm": {
     "name": "#%%\n"
    }
   },
   "outputs": [
    {
     "name": "stdout",
     "output_type": "stream",
     "text": [
      "we found 5 useful trees\n",
      "we found 852 useful tweets\n"
     ]
    }
   ],
   "source": [
    "# filtering out the trees that are too short\n",
    "useful_trees = []\n",
    "trees = list(trees_roots.values())\n",
    "for tree in trees:\n",
    "    if tree.get_max_path_length() > 3:\n",
    "        #  print(tree.get_max_path_length())\n",
    "        useful_trees.append(tree)\n",
    "\n",
    "print(\"we found {} useful trees\".format(len(useful_trees)))\n",
    "\n",
    "useful_number_of_tweets = 0\n",
    "for useful_tree in useful_trees:\n",
    "    useful_number_of_tweets += useful_tree.flat_size()\n",
    "    # useful_tree.print_tree(0)\n",
    "\n",
    "print(\"we found {} useful tweets\".format(useful_number_of_tweets))"
   ]
  },
  {
   "cell_type": "markdown",
   "metadata": {
    "pycharm": {
     "name": "#%% md\n"
    }
   },
   "source": [
    "Cropping the children that are branching too much"
   ]
  },
  {
   "cell_type": "code",
   "execution_count": 18,
   "metadata": {
    "pycharm": {
     "name": "#%%\n"
    }
   },
   "outputs": [
    {
     "name": "stdout",
     "output_type": "stream",
     "text": [
      "we found 45 useful tweets\n"
     ]
    }
   ],
   "source": [
    "useful_number_of_tweets = 0\n",
    "for useful_tree in useful_trees:\n",
    "    useful_tree.crop_orphans()\n",
    "    useful_number_of_tweets += useful_tree.flat_size()\n",
    "    # useful_tree.print_tree(0)\n",
    "\n",
    "print(\"we found {} useful tweets\".format(useful_number_of_tweets))"
   ]
  },
  {
   "cell_type": "markdown",
   "metadata": {
    "pycharm": {
     "name": "#%% md\n"
    }
   },
   "source": [
    "After cleaning the conversations to have more of a classical discussion we arrive at 45 / 9319 tweets, that are kept.\n",
    "This begs the question if Twitter is the optimal case for discussion analytics."
   ]
  }
 ],
 "metadata": {
  "kernelspec": {
   "display_name": "Python 3 (ipykernel)",
   "language": "python",
   "name": "python3"
  },
  "language_info": {
   "codemirror_mode": {
    "name": "ipython",
    "version": 3
   },
   "file_extension": ".py",
   "mimetype": "text/x-python",
   "name": "python",
   "nbconvert_exporter": "python",
   "pygments_lexer": "ipython3",
   "version": "3.8.10"
  }
 },
 "nbformat": 4,
 "nbformat_minor": 1
}