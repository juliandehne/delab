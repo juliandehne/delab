{
 "cells": [
  {
   "cell_type": "markdown",
   "metadata": {
    "collapsed": true,
    "pycharm": {
     "name": "#%% md\n"
    }
   },
   "source": [
    "# Restructuring and Filtering for Coding\n",
    "\n",
    "In order to start the coding we need to improve the conversation filtering, so that\n",
    "only conversations of a kind of interest to us remain (Ethos attacks, Conflict, Scripts, Interventions).\n",
    "\n",
    "## Cropping the Conversation Tree\n",
    "\n",
    "tree structure should be reduced:\n",
    "\n",
    "- Merge sequential nodes of same author into one node (if posted on same day)\n",
    "- min-depth: 4\n",
    "- max-branching: 4 and indicate how many more siblings are on a level\n",
    "- (optional) min length of words and variance of number of words should prevent conversations, that only have short responses."
   ]
  },
  {
   "cell_type": "code",
   "execution_count": 1,
   "metadata": {
    "pycharm": {
     "name": "#%%\n"
    }
   },
   "outputs": [
    {
     "ename": "ImproperlyConfigured",
     "evalue": "Requested setting INSTALLED_APPS, but settings are not configured. You must either define the environment variable DJANGO_SETTINGS_MODULE or call settings.configure() before accessing settings.",
     "output_type": "error",
     "traceback": [
      "\u001B[0;31m---------------------------------------------------------------------------\u001B[0m",
      "\u001B[0;31mImproperlyConfigured\u001B[0m                      Traceback (most recent call last)",
      "\u001B[0;32m/tmp/ipykernel_38143/3709458045.py\u001B[0m in \u001B[0;36m<module>\u001B[0;34m\u001B[0m\n\u001B[1;32m      3\u001B[0m \u001B[0;32mimport\u001B[0m \u001B[0msqlite3\u001B[0m\u001B[0;34m\u001B[0m\u001B[0;34m\u001B[0m\u001B[0m\n\u001B[1;32m      4\u001B[0m \u001B[0;32mfrom\u001B[0m \u001B[0mnumpy_ext\u001B[0m \u001B[0;32mimport\u001B[0m \u001B[0mrolling_apply\u001B[0m\u001B[0;34m\u001B[0m\u001B[0;34m\u001B[0m\u001B[0m\n\u001B[0;32m----> 5\u001B[0;31m \u001B[0;32mfrom\u001B[0m \u001B[0mutil\u001B[0m\u001B[0;34m.\u001B[0m\u001B[0msql_switch\u001B[0m \u001B[0;32mimport\u001B[0m \u001B[0mquery_sql\u001B[0m\u001B[0;34m\u001B[0m\u001B[0;34m\u001B[0m\u001B[0m\n\u001B[0m\u001B[1;32m      6\u001B[0m \u001B[0;34m\u001B[0m\u001B[0m\n\u001B[1;32m      7\u001B[0m \u001B[0;31m# reducing the size of the df for debugging\u001B[0m\u001B[0;34m\u001B[0m\u001B[0;34m\u001B[0m\u001B[0;34m\u001B[0m\u001B[0m\n",
      "\u001B[0;32m~/PycharmProjects/whowhatwhy/util/sql_switch.py\u001B[0m in \u001B[0;36m<module>\u001B[0;34m\u001B[0m\n\u001B[1;32m     12\u001B[0m \u001B[0;32mfrom\u001B[0m \u001B[0mdjango_pandas\u001B[0m\u001B[0;34m.\u001B[0m\u001B[0mio\u001B[0m \u001B[0;32mimport\u001B[0m \u001B[0mread_frame\u001B[0m\u001B[0;34m\u001B[0m\u001B[0;34m\u001B[0m\u001B[0m\n\u001B[1;32m     13\u001B[0m \u001B[0;34m\u001B[0m\u001B[0m\n\u001B[0;32m---> 14\u001B[0;31m \u001B[0;32mfrom\u001B[0m \u001B[0mdelab\u001B[0m\u001B[0;34m.\u001B[0m\u001B[0mmodels\u001B[0m \u001B[0;32mimport\u001B[0m \u001B[0mTweet\u001B[0m\u001B[0;34m\u001B[0m\u001B[0;34m\u001B[0m\u001B[0m\n\u001B[0m\u001B[1;32m     15\u001B[0m \u001B[0;32mimport\u001B[0m \u001B[0mpsycopg2\u001B[0m \u001B[0;32mas\u001B[0m \u001B[0mpg\u001B[0m\u001B[0;34m\u001B[0m\u001B[0;34m\u001B[0m\u001B[0m\n\u001B[1;32m     16\u001B[0m \u001B[0;34m\u001B[0m\u001B[0m\n",
      "\u001B[0;32m~/PycharmProjects/whowhatwhy/delab/models.py\u001B[0m in \u001B[0;36m<module>\u001B[0;34m\u001B[0m\n\u001B[1;32m      7\u001B[0m \u001B[0;32mfrom\u001B[0m \u001B[0mdjango\u001B[0m\u001B[0;34m.\u001B[0m\u001B[0murls\u001B[0m \u001B[0;32mimport\u001B[0m \u001B[0mreverse\u001B[0m\u001B[0;34m\u001B[0m\u001B[0;34m\u001B[0m\u001B[0m\n\u001B[1;32m      8\u001B[0m \u001B[0;32mfrom\u001B[0m \u001B[0mdjango_pandas\u001B[0m\u001B[0;34m.\u001B[0m\u001B[0mmanagers\u001B[0m \u001B[0;32mimport\u001B[0m \u001B[0mDataFrameManager\u001B[0m\u001B[0;34m\u001B[0m\u001B[0;34m\u001B[0m\u001B[0m\n\u001B[0;32m----> 9\u001B[0;31m \u001B[0;32mfrom\u001B[0m \u001B[0mtreenode\u001B[0m\u001B[0;34m.\u001B[0m\u001B[0mmodels\u001B[0m \u001B[0;32mimport\u001B[0m \u001B[0mTreeNodeModel\u001B[0m\u001B[0;34m\u001B[0m\u001B[0;34m\u001B[0m\u001B[0m\n\u001B[0m\u001B[1;32m     10\u001B[0m \u001B[0;34m\u001B[0m\u001B[0m\n\u001B[1;32m     11\u001B[0m \u001B[0;34m\u001B[0m\u001B[0m\n",
      "\u001B[0;32m~/.local/lib/python3.8/site-packages/treenode/models.py\u001B[0m in \u001B[0;36m<module>\u001B[0;34m\u001B[0m\n\u001B[1;32m     21\u001B[0m \u001B[0;34m\u001B[0m\u001B[0m\n\u001B[1;32m     22\u001B[0m \u001B[0;34m@\u001B[0m\u001B[0mpython_2_unicode_compatible\u001B[0m\u001B[0;34m\u001B[0m\u001B[0;34m\u001B[0m\u001B[0m\n\u001B[0;32m---> 23\u001B[0;31m \u001B[0;32mclass\u001B[0m \u001B[0mTreeNodeModel\u001B[0m\u001B[0;34m(\u001B[0m\u001B[0mmodels\u001B[0m\u001B[0;34m.\u001B[0m\u001B[0mModel\u001B[0m\u001B[0;34m)\u001B[0m\u001B[0;34m:\u001B[0m\u001B[0;34m\u001B[0m\u001B[0;34m\u001B[0m\u001B[0m\n\u001B[0m\u001B[1;32m     24\u001B[0m     \"\"\"\n\u001B[1;32m     25\u001B[0m     \u001B[0mUsage\u001B[0m\u001B[0;34m:\u001B[0m\u001B[0;34m\u001B[0m\u001B[0;34m\u001B[0m\u001B[0m\n",
      "\u001B[0;32m~/.local/lib/python3.8/site-packages/django/db/models/base.py\u001B[0m in \u001B[0;36m__new__\u001B[0;34m(cls, name, bases, attrs, **kwargs)\u001B[0m\n\u001B[1;32m    106\u001B[0m \u001B[0;34m\u001B[0m\u001B[0m\n\u001B[1;32m    107\u001B[0m         \u001B[0;31m# Look for an application configuration to attach the model to.\u001B[0m\u001B[0;34m\u001B[0m\u001B[0;34m\u001B[0m\u001B[0;34m\u001B[0m\u001B[0m\n\u001B[0;32m--> 108\u001B[0;31m         \u001B[0mapp_config\u001B[0m \u001B[0;34m=\u001B[0m \u001B[0mapps\u001B[0m\u001B[0;34m.\u001B[0m\u001B[0mget_containing_app_config\u001B[0m\u001B[0;34m(\u001B[0m\u001B[0mmodule\u001B[0m\u001B[0;34m)\u001B[0m\u001B[0;34m\u001B[0m\u001B[0;34m\u001B[0m\u001B[0m\n\u001B[0m\u001B[1;32m    109\u001B[0m \u001B[0;34m\u001B[0m\u001B[0m\n\u001B[1;32m    110\u001B[0m         \u001B[0;32mif\u001B[0m \u001B[0mgetattr\u001B[0m\u001B[0;34m(\u001B[0m\u001B[0mmeta\u001B[0m\u001B[0;34m,\u001B[0m \u001B[0;34m'app_label'\u001B[0m\u001B[0;34m,\u001B[0m \u001B[0;32mNone\u001B[0m\u001B[0;34m)\u001B[0m \u001B[0;32mis\u001B[0m \u001B[0;32mNone\u001B[0m\u001B[0;34m:\u001B[0m\u001B[0;34m\u001B[0m\u001B[0;34m\u001B[0m\u001B[0m\n",
      "\u001B[0;32m~/.local/lib/python3.8/site-packages/django/apps/registry.py\u001B[0m in \u001B[0;36mget_containing_app_config\u001B[0;34m(self, object_name)\u001B[0m\n\u001B[1;32m    251\u001B[0m         \u001B[0mReturn\u001B[0m \u001B[0;32mNone\u001B[0m \u001B[0;32mif\u001B[0m \u001B[0mthe\u001B[0m \u001B[0mobject\u001B[0m \u001B[0misn\u001B[0m\u001B[0;31m'\u001B[0m\u001B[0mt\u001B[0m \u001B[0;32min\u001B[0m \u001B[0many\u001B[0m \u001B[0mregistered\u001B[0m \u001B[0mapp\u001B[0m \u001B[0mconfig\u001B[0m\u001B[0;34m.\u001B[0m\u001B[0;34m\u001B[0m\u001B[0;34m\u001B[0m\u001B[0m\n\u001B[1;32m    252\u001B[0m         \"\"\"\n\u001B[0;32m--> 253\u001B[0;31m         \u001B[0mself\u001B[0m\u001B[0;34m.\u001B[0m\u001B[0mcheck_apps_ready\u001B[0m\u001B[0;34m(\u001B[0m\u001B[0;34m)\u001B[0m\u001B[0;34m\u001B[0m\u001B[0;34m\u001B[0m\u001B[0m\n\u001B[0m\u001B[1;32m    254\u001B[0m         \u001B[0mcandidates\u001B[0m \u001B[0;34m=\u001B[0m \u001B[0;34m[\u001B[0m\u001B[0;34m]\u001B[0m\u001B[0;34m\u001B[0m\u001B[0;34m\u001B[0m\u001B[0m\n\u001B[1;32m    255\u001B[0m         \u001B[0;32mfor\u001B[0m \u001B[0mapp_config\u001B[0m \u001B[0;32min\u001B[0m \u001B[0mself\u001B[0m\u001B[0;34m.\u001B[0m\u001B[0mapp_configs\u001B[0m\u001B[0;34m.\u001B[0m\u001B[0mvalues\u001B[0m\u001B[0;34m(\u001B[0m\u001B[0;34m)\u001B[0m\u001B[0;34m:\u001B[0m\u001B[0;34m\u001B[0m\u001B[0;34m\u001B[0m\u001B[0m\n",
      "\u001B[0;32m~/.local/lib/python3.8/site-packages/django/apps/registry.py\u001B[0m in \u001B[0;36mcheck_apps_ready\u001B[0;34m(self)\u001B[0m\n\u001B[1;32m    133\u001B[0m             \u001B[0;31m# INSTALLED_APPS raises a more helpful ImproperlyConfigured\u001B[0m\u001B[0;34m\u001B[0m\u001B[0;34m\u001B[0m\u001B[0;34m\u001B[0m\u001B[0m\n\u001B[1;32m    134\u001B[0m             \u001B[0;31m# exception.\u001B[0m\u001B[0;34m\u001B[0m\u001B[0;34m\u001B[0m\u001B[0;34m\u001B[0m\u001B[0m\n\u001B[0;32m--> 135\u001B[0;31m             \u001B[0msettings\u001B[0m\u001B[0;34m.\u001B[0m\u001B[0mINSTALLED_APPS\u001B[0m\u001B[0;34m\u001B[0m\u001B[0;34m\u001B[0m\u001B[0m\n\u001B[0m\u001B[1;32m    136\u001B[0m             \u001B[0;32mraise\u001B[0m \u001B[0mAppRegistryNotReady\u001B[0m\u001B[0;34m(\u001B[0m\u001B[0;34m\"Apps aren't loaded yet.\"\u001B[0m\u001B[0;34m)\u001B[0m\u001B[0;34m\u001B[0m\u001B[0;34m\u001B[0m\u001B[0m\n\u001B[1;32m    137\u001B[0m \u001B[0;34m\u001B[0m\u001B[0m\n",
      "\u001B[0;32m~/.local/lib/python3.8/site-packages/django/conf/__init__.py\u001B[0m in \u001B[0;36m__getattr__\u001B[0;34m(self, name)\u001B[0m\n\u001B[1;32m     80\u001B[0m         \u001B[0;34m\"\"\"Return the value of a setting and cache it in self.__dict__.\"\"\"\u001B[0m\u001B[0;34m\u001B[0m\u001B[0;34m\u001B[0m\u001B[0m\n\u001B[1;32m     81\u001B[0m         \u001B[0;32mif\u001B[0m \u001B[0mself\u001B[0m\u001B[0;34m.\u001B[0m\u001B[0m_wrapped\u001B[0m \u001B[0;32mis\u001B[0m \u001B[0mempty\u001B[0m\u001B[0;34m:\u001B[0m\u001B[0;34m\u001B[0m\u001B[0;34m\u001B[0m\u001B[0m\n\u001B[0;32m---> 82\u001B[0;31m             \u001B[0mself\u001B[0m\u001B[0;34m.\u001B[0m\u001B[0m_setup\u001B[0m\u001B[0;34m(\u001B[0m\u001B[0mname\u001B[0m\u001B[0;34m)\u001B[0m\u001B[0;34m\u001B[0m\u001B[0;34m\u001B[0m\u001B[0m\n\u001B[0m\u001B[1;32m     83\u001B[0m         \u001B[0mval\u001B[0m \u001B[0;34m=\u001B[0m \u001B[0mgetattr\u001B[0m\u001B[0;34m(\u001B[0m\u001B[0mself\u001B[0m\u001B[0;34m.\u001B[0m\u001B[0m_wrapped\u001B[0m\u001B[0;34m,\u001B[0m \u001B[0mname\u001B[0m\u001B[0;34m)\u001B[0m\u001B[0;34m\u001B[0m\u001B[0;34m\u001B[0m\u001B[0m\n\u001B[1;32m     84\u001B[0m         \u001B[0mself\u001B[0m\u001B[0;34m.\u001B[0m\u001B[0m__dict__\u001B[0m\u001B[0;34m[\u001B[0m\u001B[0mname\u001B[0m\u001B[0;34m]\u001B[0m \u001B[0;34m=\u001B[0m \u001B[0mval\u001B[0m\u001B[0;34m\u001B[0m\u001B[0;34m\u001B[0m\u001B[0m\n",
      "\u001B[0;32m~/.local/lib/python3.8/site-packages/django/conf/__init__.py\u001B[0m in \u001B[0;36m_setup\u001B[0;34m(self, name)\u001B[0m\n\u001B[1;32m     61\u001B[0m         \u001B[0;32mif\u001B[0m \u001B[0;32mnot\u001B[0m \u001B[0msettings_module\u001B[0m\u001B[0;34m:\u001B[0m\u001B[0;34m\u001B[0m\u001B[0;34m\u001B[0m\u001B[0m\n\u001B[1;32m     62\u001B[0m             \u001B[0mdesc\u001B[0m \u001B[0;34m=\u001B[0m \u001B[0;34m(\u001B[0m\u001B[0;34m\"setting %s\"\u001B[0m \u001B[0;34m%\u001B[0m \u001B[0mname\u001B[0m\u001B[0;34m)\u001B[0m \u001B[0;32mif\u001B[0m \u001B[0mname\u001B[0m \u001B[0;32melse\u001B[0m \u001B[0;34m\"settings\"\u001B[0m\u001B[0;34m\u001B[0m\u001B[0;34m\u001B[0m\u001B[0m\n\u001B[0;32m---> 63\u001B[0;31m             raise ImproperlyConfigured(\n\u001B[0m\u001B[1;32m     64\u001B[0m                 \u001B[0;34m\"Requested %s, but settings are not configured. \"\u001B[0m\u001B[0;34m\u001B[0m\u001B[0;34m\u001B[0m\u001B[0m\n\u001B[1;32m     65\u001B[0m                 \u001B[0;34m\"You must either define the environment variable %s \"\u001B[0m\u001B[0;34m\u001B[0m\u001B[0;34m\u001B[0m\u001B[0m\n",
      "\u001B[0;31mImproperlyConfigured\u001B[0m: Requested setting INSTALLED_APPS, but settings are not configured. You must either define the environment variable DJANGO_SETTINGS_MODULE or call settings.configure() before accessing settings."
     ]
    }
   ],
   "source": [
    "\n",
    "# pre_sorting the dataframe\n",
    "import pandas as pd\n",
    "import sqlite3\n",
    "from numpy_ext import rolling_apply\n",
    "from util.sql_switch import query_sql\n",
    "\n",
    "# reducing the size of the df for debugging\n",
    "# df = df.loc[df[\"conversation_id\"] == 1426273610289848324]\n",
    "fieldnames = [\"id\", \"conversation_id\", \"author_id\", \"created_at\", \"in_reply_to_user_id\", \"text\"]\n",
    "df = query_sql(\n",
    "    fieldnames=fieldnames)  # a utility so I don't have to rewrite the get twitter data for both django and jupyter context\n",
    "\n",
    "df.sort_values(by=['conversation_id', 'author_id', \"created_at\"], inplace=True)\n",
    "df.reset_index(drop=True, inplace=True)\n",
    "#pd.set_option('display.max_rows', 1000)\n",
    "#df.loc[[2,1,3]]\n",
    "data_list = df.to_dict('records')\n",
    "print(\"before merging there are {} tweets\".format(len(data_list)))\n",
    "\n",
    "df.head(5)"
   ]
  },
  {
   "cell_type": "markdown",
   "metadata": {
    "pycharm": {
     "name": "#%% md\n"
    }
   },
   "source": [
    "## Merge subsequent nodes\n",
    "\n",
    "- pandas rolling does not work on dataframes too good\n",
    "- using basic python (assuming list will store the order achieved previously)"
   ]
  },
  {
   "cell_type": "code",
   "execution_count": null,
   "metadata": {
    "pycharm": {
     "name": "#%%\n"
    }
   },
   "outputs": [],
   "source": [
    "result = []\n",
    "duplicates_ids = []\n",
    "for current, next_one in zip(data_list, data_list[1:]):\n",
    "    if current[\"id\"] not in duplicates_ids:\n",
    "        if current[\"author_id\"] == next_one[\"author_id\"] and current[\"conversation_id\"] == next_one[\"conversation_id\"]:\n",
    "            current[\"text\"] = current[\"text\"] + \"<new_tweet><replyto:\"\n",
    "            current[\"text\"] = current[\"text\"] + str(next_one[\"in_reply_to_user_id\"]) + \">\" + next_one[\"text\"]\n",
    "            duplicates_ids.append(next_one[\"id\"])\n",
    "    result.append(current)\n",
    "\n",
    "print(\"result contains {} tweets\".format(len(result)))\n",
    "print(\"duplicates contains {} tweets\".format(len(duplicates_ids)))"
   ]
  },
  {
   "cell_type": "markdown",
   "metadata": {
    "pycharm": {
     "name": "#%% md\n"
    }
   },
   "source": [
    "## Crop the branches of the conversations\n",
    "- we want deeper conversations\n",
    "- we don't like trees with many branches\n",
    "\n",
    "We start with reconstructing the trees:"
   ]
  },
  {
   "cell_type": "code",
   "execution_count": null,
   "metadata": {
    "pycharm": {
     "name": "#%%\n"
    }
   },
   "outputs": [],
   "source": [
    "df_merged = pd.DataFrame(result, columns=fieldnames)\n",
    "df_merged.shape\n",
    "\n",
    "roots = df_merged[df_merged[\"in_reply_to_user_id\"].isnull()]\n",
    "not_roots = df_merged[df_merged[\"in_reply_to_user_id\"].notnull()]\n",
    "print(not_roots.shape)\n",
    "roots.shape"
   ]
  },
  {
   "cell_type": "code",
   "execution_count": null,
   "metadata": {
    "pycharm": {
     "name": "#%%\n"
    }
   },
   "outputs": [],
   "source": [
    "from delab.TwConversationTree import TreeNode\n",
    "\n",
    "roots_as_rec = roots.to_dict('records')\n",
    "not_roots_as_rec = not_roots.to_dict('records')\n",
    "#roots_as_rec[0:5]\n",
    "\n",
    "trees_roots = {}\n",
    "for root_data in roots_as_rec:\n",
    "    root_data[\"in_reply_to_user_id\"] = root_data[\"author_id\"]\n",
    "    trees_roots[root_data[\"conversation_id\"]] = TreeNode(root_data)  # root is defined as answering to him/herself\n",
    "\n",
    "for not_root in not_roots_as_rec:\n",
    "    if not_root[\"conversation_id\"] in trees_roots:\n",
    "        trees_roots.get(not_root[\"conversation_id\"]).find_parent_of(TreeNode(not_root))\n",
    "\n",
    "example_trees = list(trees_roots.values())[0:1]\n",
    "for example_tree in example_trees:\n",
    "    pass\n",
    "    # print(example_tree.data) We are ommitting this for the pdf it shows a rather flat tree set\n",
    "    # example_tree.print_tree(0)"
   ]
  },
  {
   "cell_type": "code",
   "execution_count": null,
   "metadata": {
    "pycharm": {
     "name": "#%%\n"
    }
   },
   "outputs": [],
   "source": [
    "# filtering out the trees that are too short\n",
    "useful_trees = []\n",
    "trees = list(trees_roots.values())\n",
    "for tree in trees:\n",
    "    if tree.get_max_path_length() > 3:\n",
    "        #  print(tree.get_max_path_length())\n",
    "        useful_trees.append(tree)\n",
    "\n",
    "print(\"we found {} useful trees\".format(len(useful_trees)))\n",
    "\n",
    "useful_number_of_tweets = 0\n",
    "for useful_tree in useful_trees:\n",
    "    useful_number_of_tweets += useful_tree.flat_size()\n",
    "    # useful_tree.print_tree(0)\n",
    "\n",
    "print(\"we found {} useful tweets\".format(useful_number_of_tweets))"
   ]
  },
  {
   "cell_type": "markdown",
   "metadata": {
    "pycharm": {
     "name": "#%% md\n"
    }
   },
   "source": [
    "Cropping the children that are branching too much"
   ]
  },
  {
   "cell_type": "code",
   "execution_count": null,
   "metadata": {
    "pycharm": {
     "name": "#%%\n"
    }
   },
   "outputs": [],
   "source": [
    "useful_number_of_tweets = 0\n",
    "for useful_tree in useful_trees:\n",
    "    useful_tree.crop_orphans()\n",
    "    useful_number_of_tweets += useful_tree.flat_size()\n",
    "    # useful_tree.print_tree(0)\n",
    "\n",
    "print(\"we found {} useful tweets\".format(useful_number_of_tweets))"
   ]
  },
  {
   "cell_type": "markdown",
   "metadata": {
    "pycharm": {
     "name": "#%% md\n"
    }
   },
   "source": [
    "After cleaning the conversations to have more of a classical discussion we arrive at about 1% tweets, that are kept.\n",
    "This begs the question if Twitter is the optimal case for discussion analytics."
   ]
  }
 ],
 "metadata": {
  "kernelspec": {
   "display_name": "Python 3 (ipykernel)",
   "language": "python",
   "name": "python3"
  },
  "language_info": {
   "codemirror_mode": {
    "name": "ipython",
    "version": 3
   },
   "file_extension": ".py",
   "mimetype": "text/x-python",
   "name": "python",
   "nbconvert_exporter": "python",
   "pygments_lexer": "ipython3",
   "version": "3.8.10"
  }
 },
 "nbformat": 4,
 "nbformat_minor": 1
}