{
 "cells": [
  {
   "cell_type": "code",
   "execution_count": 11,
   "metadata": {
    "collapsed": true
   },
   "outputs": [
    {
     "name": "stdout",
     "output_type": "stream",
     "text": [
      "using postgres\n"
     ]
    },
    {
     "name": "stderr",
     "output_type": "stream",
     "text": [
      "/home/dehne/PycharmProjects/delab/venv/lib/python3.10/site-packages/pandas/io/sql.py:761: UserWarning: pandas only support SQLAlchemy connectable(engine/connection) ordatabase string URI or sqlite3 DBAPI2 connectionother DBAPI2 objects are not tested, please consider using SQLAlchemy\n",
      "  warnings.warn(\n"
     ]
    },
    {
     "data": {
      "text/html": [
       "<div>\n",
       "<style scoped>\n",
       "    .dataframe tbody tr th:only-of-type {\n",
       "        vertical-align: middle;\n",
       "    }\n",
       "\n",
       "    .dataframe tbody tr th {\n",
       "        vertical-align: top;\n",
       "    }\n",
       "\n",
       "    .dataframe thead th {\n",
       "        text-align: right;\n",
       "    }\n",
       "</style>\n",
       "<table border=\"1\" class=\"dataframe\">\n",
       "  <thead>\n",
       "    <tr style=\"text-align: right;\">\n",
       "      <th></th>\n",
       "      <th>tweet_id</th>\n",
       "      <th>text</th>\n",
       "      <th>conversation_id</th>\n",
       "      <th>author_id</th>\n",
       "      <th>twitter_id</th>\n",
       "      <th>tn_parent_id</th>\n",
       "      <th>sentiment</th>\n",
       "      <th>sentiment_value</th>\n",
       "      <th>created_at</th>\n",
       "      <th>is_toxic</th>\n",
       "      <th>toxic_value</th>\n",
       "      <th>centrality</th>\n",
       "      <th>baseline_vision</th>\n",
       "      <th>n_posts</th>\n",
       "      <th>is_root_author</th>\n",
       "    </tr>\n",
       "  </thead>\n",
       "  <tbody>\n",
       "    <tr>\n",
       "      <th>0</th>\n",
       "      <td>33646</td>\n",
       "      <td>@SabinaMietzer Oder weil man befürchtet Ziel von cancel culture zu werden, weil man dem aktuellen Mainstream entgegensteht.\\n\\nEs gibt viele Gründe anonym bleiben zu wollen. Wichtig ist, diese Freiheit haben zu dürfen.</td>\n",
       "      <td>1518867661509300225</td>\n",
       "      <td>234847109</td>\n",
       "      <td>1518959424500645888</td>\n",
       "      <td>1.518868e+18</td>\n",
       "      <td>negative</td>\n",
       "      <td>-0.2500</td>\n",
       "      <td>2022-04-26 14:25:22+00:00</td>\n",
       "      <td>False</td>\n",
       "      <td>0.000000</td>\n",
       "      <td>0.0</td>\n",
       "      <td>0.09375</td>\n",
       "      <td>1</td>\n",
       "      <td>False</td>\n",
       "    </tr>\n",
       "    <tr>\n",
       "      <th>1</th>\n",
       "      <td>44325</td>\n",
       "      <td>@tomdabassman @Minnimina #DasIstNichtMeinKrieg</td>\n",
       "      <td>1523205712632975360</td>\n",
       "      <td>1506535819238166534</td>\n",
       "      <td>1523210102819414018</td>\n",
       "      <td>1.523206e+18</td>\n",
       "      <td>None</td>\n",
       "      <td>NaN</td>\n",
       "      <td>2022-05-08 07:56:03+00:00</td>\n",
       "      <td>False</td>\n",
       "      <td>0.000000</td>\n",
       "      <td>0.0</td>\n",
       "      <td>0.09375</td>\n",
       "      <td>1</td>\n",
       "      <td>False</td>\n",
       "    </tr>\n",
       "    <tr>\n",
       "      <th>2</th>\n",
       "      <td>28879</td>\n",
       "      <td>@ManuelaSchwesig @AnkeRehlinger 4 starke kompetente attraktive SPD-Frauen an der Spitze ihrer Länder quer durch die Bundesrepublik! Bin großer Fan!!!Toll 😍😍😍😍</td>\n",
       "      <td>1518647025839001601</td>\n",
       "      <td>1443494838616403972</td>\n",
       "      <td>1518650024443453441</td>\n",
       "      <td>1.518647e+18</td>\n",
       "      <td>negative</td>\n",
       "      <td>-0.7243</td>\n",
       "      <td>2022-04-25 17:55:55+00:00</td>\n",
       "      <td>False</td>\n",
       "      <td>0.090135</td>\n",
       "      <td>0.0</td>\n",
       "      <td>0.09375</td>\n",
       "      <td>1</td>\n",
       "      <td>False</td>\n",
       "    </tr>\n",
       "  </tbody>\n",
       "</table>\n",
       "</div>"
      ],
      "text/plain": [
       "   tweet_id  \\\n",
       "0     33646   \n",
       "1     44325   \n",
       "2     28879   \n",
       "\n",
       "                                                                                                                                                                                                                         text  \\\n",
       "0  @SabinaMietzer Oder weil man befürchtet Ziel von cancel culture zu werden, weil man dem aktuellen Mainstream entgegensteht.\\n\\nEs gibt viele Gründe anonym bleiben zu wollen. Wichtig ist, diese Freiheit haben zu dürfen.   \n",
       "1                                                                                                                                                                              @tomdabassman @Minnimina #DasIstNichtMeinKrieg   \n",
       "2                                                              @ManuelaSchwesig @AnkeRehlinger 4 starke kompetente attraktive SPD-Frauen an der Spitze ihrer Länder quer durch die Bundesrepublik! Bin großer Fan!!!Toll 😍😍😍😍   \n",
       "\n",
       "       conversation_id            author_id           twitter_id  \\\n",
       "0  1518867661509300225            234847109  1518959424500645888   \n",
       "1  1523205712632975360  1506535819238166534  1523210102819414018   \n",
       "2  1518647025839001601  1443494838616403972  1518650024443453441   \n",
       "\n",
       "   tn_parent_id sentiment  sentiment_value                created_at  \\\n",
       "0  1.518868e+18  negative          -0.2500 2022-04-26 14:25:22+00:00   \n",
       "1  1.523206e+18      None              NaN 2022-05-08 07:56:03+00:00   \n",
       "2  1.518647e+18  negative          -0.7243 2022-04-25 17:55:55+00:00   \n",
       "\n",
       "   is_toxic  toxic_value  centrality  baseline_vision  n_posts  is_root_author  \n",
       "0     False     0.000000         0.0          0.09375        1           False  \n",
       "1     False     0.000000         0.0          0.09375        1           False  \n",
       "2     False     0.090135         0.0          0.09375        1           False  "
      ]
     },
     "execution_count": 11,
     "metadata": {},
     "output_type": "execute_result"
    }
   ],
   "source": [
    "from util.sql_switch import get_query_native\n",
    "\n",
    "df = get_query_native(\n",
    "    \"SELECT dt.id as tweet_id, text, dt.conversation_id, dt.author_id, dt.twitter_id, dt.tn_parent_id, sentiment,sentiment_value,created_at, is_toxic, toxic_value, centrality, baseline_vision, n_posts, is_root_author FROM delab_tweet dt join delab_conversationauthormetrics cam on dt.conversation_id = cam.conversation_id and dt.tw_author_id = cam.author_id\")\n",
    "\n",
    "df.head(3)\n",
    "# df.describe()"
   ]
  },
  {
   "cell_type": "markdown",
   "metadata": {
    "pycharm": {
     "name": "#%% md\n"
    }
   },
   "source": [
    "1. Isolate authors that have a high centrality or baseline vision\n",
    "2. Compare the selection\n",
    "3. Compute longest flows per conversation (in the creation script)\n",
    "4. Filter longest flows whether central authors are present (in the creation script)\n",
    "5. Return the longest flows (in the creation script)"
   ]
  },
  {
   "cell_type": "code",
   "execution_count": 12,
   "metadata": {
    "pycharm": {
     "name": "#%%\n"
    }
   },
   "outputs": [
    {
     "data": {
      "text/html": [
       "<div>\n",
       "<style scoped>\n",
       "    .dataframe tbody tr th:only-of-type {\n",
       "        vertical-align: middle;\n",
       "    }\n",
       "\n",
       "    .dataframe tbody tr th {\n",
       "        vertical-align: top;\n",
       "    }\n",
       "\n",
       "    .dataframe thead th {\n",
       "        text-align: right;\n",
       "    }\n",
       "</style>\n",
       "<table border=\"1\" class=\"dataframe\">\n",
       "  <thead>\n",
       "    <tr style=\"text-align: right;\">\n",
       "      <th></th>\n",
       "      <th>tweet_id</th>\n",
       "      <th>conversation_id</th>\n",
       "    </tr>\n",
       "  </thead>\n",
       "  <tbody>\n",
       "    <tr>\n",
       "      <th>0</th>\n",
       "      <td>33646</td>\n",
       "      <td>1518867661509300225</td>\n",
       "    </tr>\n",
       "    <tr>\n",
       "      <th>1</th>\n",
       "      <td>44325</td>\n",
       "      <td>1523205712632975360</td>\n",
       "    </tr>\n",
       "    <tr>\n",
       "      <th>2</th>\n",
       "      <td>28879</td>\n",
       "      <td>1518647025839001601</td>\n",
       "    </tr>\n",
       "    <tr>\n",
       "      <th>3</th>\n",
       "      <td>33729</td>\n",
       "      <td>1518867661509300225</td>\n",
       "    </tr>\n",
       "    <tr>\n",
       "      <th>4</th>\n",
       "      <td>44426</td>\n",
       "      <td>1522899712055074816</td>\n",
       "    </tr>\n",
       "    <tr>\n",
       "      <th>...</th>\n",
       "      <td>...</td>\n",
       "      <td>...</td>\n",
       "    </tr>\n",
       "    <tr>\n",
       "      <th>80450</th>\n",
       "      <td>1359</td>\n",
       "      <td>1504619833773772805</td>\n",
       "    </tr>\n",
       "    <tr>\n",
       "      <th>80451</th>\n",
       "      <td>1342</td>\n",
       "      <td>1504619833773772805</td>\n",
       "    </tr>\n",
       "    <tr>\n",
       "      <th>80452</th>\n",
       "      <td>1337</td>\n",
       "      <td>1504619833773772805</td>\n",
       "    </tr>\n",
       "    <tr>\n",
       "      <th>80453</th>\n",
       "      <td>1349</td>\n",
       "      <td>1504619833773772805</td>\n",
       "    </tr>\n",
       "    <tr>\n",
       "      <th>80454</th>\n",
       "      <td>1351</td>\n",
       "      <td>1504619833773772805</td>\n",
       "    </tr>\n",
       "  </tbody>\n",
       "</table>\n",
       "<p>80455 rows × 2 columns</p>\n",
       "</div>"
      ],
      "text/plain": [
       "       tweet_id      conversation_id\n",
       "0         33646  1518867661509300225\n",
       "1         44325  1523205712632975360\n",
       "2         28879  1518647025839001601\n",
       "3         33729  1518867661509300225\n",
       "4         44426  1522899712055074816\n",
       "...         ...                  ...\n",
       "80450      1359  1504619833773772805\n",
       "80451      1342  1504619833773772805\n",
       "80452      1337  1504619833773772805\n",
       "80453      1349  1504619833773772805\n",
       "80454      1351  1504619833773772805\n",
       "\n",
       "[80455 rows x 2 columns]"
      ]
     },
     "execution_count": 12,
     "metadata": {},
     "output_type": "execute_result"
    }
   ],
   "source": [
    "import pandas as pd\n",
    "# 1. Isolate authors that have a really high centrality / baseline vision\n",
    "\n",
    "import pandas as pd\n",
    "from sklearn import preprocessing\n",
    "\n",
    "df_central_authors = df.drop(\n",
    "    [\"sentiment_value\", \"toxic_value\", \"sentiment\", \"is_root_author\", \"is_toxic\", \"text\", \"created_at\", \"twitter_id\", \"tn_parent_id\"], axis=1)\n",
    "df_repetition_probs = df.drop(\n",
    "    [\"sentiment_value\", \"toxic_value\", \"sentiment\", \"is_root_author\", \"is_toxic\", \"text\", \"created_at\", \"centrality\",\n",
    "     \"baseline_vision\", \"n_posts\", \"author_id\", \"twitter_id\", \"tn_parent_id\"], axis=1)\n",
    "df_repetition_probs\n"
   ]
  },
  {
   "cell_type": "code",
   "execution_count": 12,
   "metadata": {
    "pycharm": {
     "name": "#%%\n"
    }
   },
   "outputs": [],
   "source": [
    "\n"
   ]
  },
  {
   "cell_type": "code",
   "execution_count": 13,
   "metadata": {
    "pycharm": {
     "name": "#%%\n"
    }
   },
   "outputs": [
    {
     "data": {
      "text/plain": [
       "[(1508899545060720644, 9204502),\n",
       " (1512323466652958723, 322675289),\n",
       " (1509478496208306178, 18047862),\n",
       " (1520667401095888901, 359982860),\n",
       " (1511987996135940097, 481428317),\n",
       " (1518625103679995905, 208555813),\n",
       " (1518662374877655040, 1331650559518990336),\n",
       " (1511895403620450306, 342863309),\n",
       " (1525010538983464961, 1298381117519589377),\n",
       " (1509496191515611136, 1163922594569101315),\n",
       " (1512326919009673220, 1314975287294083073),\n",
       " (1512187211395047428, 30354991),\n",
       " (1542127567297290245, 588686739),\n",
       " (1543200394477805568, 126585908),\n",
       " (1508884357242621953, 2522911828),\n",
       " (1509412070940368900, 1168167671151628290),\n",
       " (1510890678435336193, 280681667),\n",
       " (1512054183721058322, 1432335316795465728),\n",
       " (1519496208288403456, 42558679),\n",
       " (1521571487785881601, 1114675538)]"
      ]
     },
     "execution_count": 13,
     "metadata": {},
     "output_type": "execute_result"
    }
   ],
   "source": [
    "df_repetition_probs = df_repetition_probs.groupby([\"conversation_id\"]).count()\n",
    "grouped_ca = df_central_authors.groupby([\"conversation_id\", \"author_id\"]).mean()\n",
    "grouped_ca = grouped_ca.drop(\"tweet_id\", axis=1)\n",
    "grouped_ca = grouped_ca.join(df_repetition_probs)\n",
    "grouped_ca = grouped_ca.assign(repetition_prob=grouped_ca.n_posts / grouped_ca.tweet_id)\n",
    "grouped_ca = grouped_ca.drop(\"tweet_id\", axis=1)\n",
    "grouped_ca = grouped_ca.apply(lambda x: x / x.max())\n",
    "grouped_ca['mean'] = grouped_ca.mean(axis=1)\n",
    "mean_largest = grouped_ca.nlargest(20, \"mean\")\n",
    "# this is the result list, first element of tuple is conversation, second the author\n",
    "mean_largest.index.tolist()\n"
   ]
  },
  {
   "cell_type": "code",
   "execution_count": 15,
   "metadata": {
    "pycharm": {
     "name": "#%%\n"
    }
   },
   "outputs": [
    {
     "name": "stdout",
     "output_type": "stream",
     "text": [
      "1508899545060720644\n"
     ]
    },
    {
     "data": {
      "text/plain": [
       "101      1357678561281404930\n",
       "182      1450353392501628930\n",
       "295      1453927879201460237\n",
       "332      1420802389666304011\n",
       "576      1241651473315958784\n",
       "                ...         \n",
       "80042              124169534\n",
       "80094    1268526247157600259\n",
       "80095    1490386676920852484\n",
       "80098    1493533218892652545\n",
       "80099             2472048869\n",
       "Name: author_id, Length: 766, dtype: int64"
      ]
     },
     "execution_count": 15,
     "metadata": {},
     "output_type": "execute_result"
    }
   ],
   "source": [
    "df.style.set_properties(**{'text-align': 'left'})\n",
    "\n",
    "example_conversation_id = mean_largest.index.tolist()[0][0]\n",
    "print(example_conversation_id)\n",
    "example = df[df[\"conversation_id\"] == example_conversation_id]\n",
    "example.author_id\n",
    "\n"
   ]
  }
 ],
 "metadata": {
  "kernelspec": {
   "display_name": "Python 3 (ipykernel)",
   "language": "python",
   "name": "python3"
  },
  "language_info": {
   "codemirror_mode": {
    "name": "ipython",
    "version": 3
   },
   "file_extension": ".py",
   "mimetype": "text/x-python",
   "name": "python",
   "nbconvert_exporter": "python",
   "pygments_lexer": "ipython3",
   "version": "3.10.6"
  }
 },
 "nbformat": 4,
 "nbformat_minor": 1
}
