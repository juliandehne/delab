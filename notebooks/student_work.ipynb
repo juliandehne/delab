{
 "cells": [
  {
   "cell_type": "code",
   "execution_count": 10,
   "metadata": {
    "collapsed": true
   },
   "outputs": [],
   "source": [
    "\n",
    "import pandas as pd\n",
    "import json\n",
    "\n",
    "# Opening JSON file\n",
    "filename = 'gendern_tweets'\n",
    "\n",
    "df = pd.read_json('data/' + filename + '.jsonl', lines=True, typ='series')\n",
    "# df.head()\n",
    "\n",
    "df = pd.json_normalize(df, 'data', errors='ignore')\n",
    "df.to_csv(filename + '.csv')"
   ]
  }
 ],
 "metadata": {
  "kernelspec": {
   "display_name": "Python 3",
   "language": "python",
   "name": "python3"
  },
  "language_info": {
   "codemirror_mode": {
    "name": "ipython",
    "version": 2
   },
   "file_extension": ".py",
   "mimetype": "text/x-python",
   "name": "python",
   "nbconvert_exporter": "python",
   "pygments_lexer": "ipython2",
   "version": "2.7.6"
  }
 },
 "nbformat": 4,
 "nbformat_minor": 0
}