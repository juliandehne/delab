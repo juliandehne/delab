{
 "cells": [
  {
   "cell_type": "code",
   "execution_count": 63,
   "outputs": [
    {
     "name": "stdout",
     "output_type": "stream",
     "text": [
      "Total memory: 4104323072\n",
      "Free memory: 876019712\n",
      "Used memory: 3228303360\n"
     ]
    }
   ],
   "source": [
    "import nvidia_smi\n",
    "\n",
    "nvidia_smi.nvmlInit()\n",
    "\n",
    "handle = nvidia_smi.nvmlDeviceGetHandleByIndex(0)\n",
    "# card id 0 hardcoded here, there is also a call to get all available card ids, so we could iterate\n",
    "\n",
    "info = nvidia_smi.nvmlDeviceGetMemoryInfo(handle)\n",
    "\n",
    "print(\"Total memory:\", info.total)\n",
    "print(\"Free memory:\", info.free)\n",
    "print(\"Used memory:\", info.used)\n",
    "\n",
    "nvidia_smi.nvmlShutdown()"
   ],
   "metadata": {
    "collapsed": false,
    "pycharm": {
     "name": "#%%\n"
    }
   }
  },
  {
   "cell_type": "code",
   "execution_count": 64,
   "outputs": [
    {
     "name": "stdout",
     "output_type": "stream",
     "text": [
      "1 Physical GPUs, 1 Logical GPUs\n",
      "cuda gpu is available: True\n"
     ]
    },
    {
     "name": "stderr",
     "output_type": "stream",
     "text": [
      "2022-08-08 09:44:41.020125: I tensorflow/stream_executor/cuda/cuda_gpu_executor.cc:937] successful NUMA node read from SysFS had negative value (-1), but there must be at least one NUMA node, so returning NUMA node zero\n",
      "2022-08-08 09:44:41.020451: I tensorflow/stream_executor/cuda/cuda_gpu_executor.cc:937] successful NUMA node read from SysFS had negative value (-1), but there must be at least one NUMA node, so returning NUMA node zero\n",
      "2022-08-08 09:44:41.020723: I tensorflow/stream_executor/cuda/cuda_gpu_executor.cc:937] successful NUMA node read from SysFS had negative value (-1), but there must be at least one NUMA node, so returning NUMA node zero\n",
      "2022-08-08 09:44:41.020994: I tensorflow/stream_executor/cuda/cuda_gpu_executor.cc:937] successful NUMA node read from SysFS had negative value (-1), but there must be at least one NUMA node, so returning NUMA node zero\n",
      "2022-08-08 09:44:41.021218: I tensorflow/stream_executor/cuda/cuda_gpu_executor.cc:937] successful NUMA node read from SysFS had negative value (-1), but there must be at least one NUMA node, so returning NUMA node zero\n",
      "2022-08-08 09:44:41.021410: I tensorflow/core/common_runtime/gpu/gpu_device.cc:1510] Created device /device:GPU:0 with 2651 MB memory:  -> device: 0, name: NVIDIA GeForce GTX 1650 Ti, pci bus id: 0000:01:00.0, compute capability: 7.5\n"
     ]
    },
    {
     "data": {
      "text/plain": "          timedelta  root_distance_0       current     beam_node  \\\ncount  8.098230e+05    809823.000000  8.098230e+05  8.098230e+05   \nmean   5.369646e+04         0.038011  1.481440e+18  1.481198e+18   \nstd    8.978862e+05         0.191222  2.648856e+17  2.641527e+17   \nmin    1.000000e-06         0.000000  2.151180e+05  2.151180e+05   \n25%    2.053000e+03         0.000000  1.511883e+18  1.511768e+18   \n50%    8.869000e+03         0.000000  1.524812e+18  1.524722e+18   \n75%    3.365750e+04         0.000000  1.543267e+18  1.543217e+18   \nmax    1.103033e+08         1.000000  7.694580e+18  7.694580e+18   \n\n       has_followed_path  has_follow_path  beam_node_author  conversation_id  \\\ncount           809823.0         809823.0      8.098230e+05     8.098230e+05   \nmean                 0.0              0.0      8.727570e+17     1.480454e+18   \nstd                  0.0              0.0      6.262707e+17     2.624457e+17   \nmin                  0.0              0.0      4.200000e+01     1.000000e+00   \n25%                  0.0              0.0      2.409071e+09     1.511628e+18   \n50%                  0.0              0.0      1.181668e+18     1.524646e+18   \n75%                  0.0              0.0      1.422915e+18     1.542981e+18   \nmax                  0.0              0.0      1.544089e+18     1.544234e+18   \n\n             author  same_author_path_1  ...  same_author_path_15  \\\ncount  8.098230e+05       809823.000000  ...        809823.000000   \nmean   8.815487e+17            0.001287  ...             0.000022   \nstd    6.254187e+17            0.035848  ...             0.004715   \nmin    4.200000e+01            0.000000  ...             0.000000   \n25%    2.515953e+09            0.000000  ...             0.000000   \n50%    1.189280e+18            0.000000  ...             0.000000   \n75%    1.427657e+18            0.000000  ...             0.000000   \nmax    1.544089e+18            1.000000  ...             1.000000   \n\n       same_author_path_16  same_author_path_18  same_author_path_20  \\\ncount        809823.000000        809823.000000        809823.000000   \nmean              0.000009             0.000005             0.000004   \nstd               0.002940             0.002222             0.001925   \nmin               0.000000             0.000000             0.000000   \n25%               0.000000             0.000000             0.000000   \n50%               0.000000             0.000000             0.000000   \n75%               0.000000             0.000000             0.000000   \nmax               1.000000             1.000000             1.000000   \n\n       same_author_path_17  same_author_path_19  same_author_path_21  \\\ncount        809823.000000        809823.000000        809823.000000   \nmean              0.000016             0.000010             0.000004   \nstd               0.004007             0.003143             0.001925   \nmin               0.000000             0.000000             0.000000   \n25%               0.000000             0.000000             0.000000   \n50%               0.000000             0.000000             0.000000   \n75%               0.000000             0.000000             0.000000   \nmax               1.000000             1.000000             1.000000   \n\n       same_author_path_23  same_author_path_25  same_author_path_22  \ncount        809823.000000        809823.000000        809823.000000  \nmean              0.000004             0.000001             0.000001  \nstd               0.001925             0.001111             0.001111  \nmin               0.000000             0.000000             0.000000  \n25%               0.000000             0.000000             0.000000  \n50%               0.000000             0.000000             0.000000  \n75%               0.000000             0.000000             0.000000  \nmax               1.000000             1.000000             1.000000  \n\n[8 rows x 78 columns]",
      "text/html": "<div>\n<style scoped>\n    .dataframe tbody tr th:only-of-type {\n        vertical-align: middle;\n    }\n\n    .dataframe tbody tr th {\n        vertical-align: top;\n    }\n\n    .dataframe thead th {\n        text-align: right;\n    }\n</style>\n<table border=\"1\" class=\"dataframe\">\n  <thead>\n    <tr style=\"text-align: right;\">\n      <th></th>\n      <th>timedelta</th>\n      <th>root_distance_0</th>\n      <th>current</th>\n      <th>beam_node</th>\n      <th>has_followed_path</th>\n      <th>has_follow_path</th>\n      <th>beam_node_author</th>\n      <th>conversation_id</th>\n      <th>author</th>\n      <th>same_author_path_1</th>\n      <th>...</th>\n      <th>same_author_path_15</th>\n      <th>same_author_path_16</th>\n      <th>same_author_path_18</th>\n      <th>same_author_path_20</th>\n      <th>same_author_path_17</th>\n      <th>same_author_path_19</th>\n      <th>same_author_path_21</th>\n      <th>same_author_path_23</th>\n      <th>same_author_path_25</th>\n      <th>same_author_path_22</th>\n    </tr>\n  </thead>\n  <tbody>\n    <tr>\n      <th>count</th>\n      <td>8.098230e+05</td>\n      <td>809823.000000</td>\n      <td>8.098230e+05</td>\n      <td>8.098230e+05</td>\n      <td>809823.0</td>\n      <td>809823.0</td>\n      <td>8.098230e+05</td>\n      <td>8.098230e+05</td>\n      <td>8.098230e+05</td>\n      <td>809823.000000</td>\n      <td>...</td>\n      <td>809823.000000</td>\n      <td>809823.000000</td>\n      <td>809823.000000</td>\n      <td>809823.000000</td>\n      <td>809823.000000</td>\n      <td>809823.000000</td>\n      <td>809823.000000</td>\n      <td>809823.000000</td>\n      <td>809823.000000</td>\n      <td>809823.000000</td>\n    </tr>\n    <tr>\n      <th>mean</th>\n      <td>5.369646e+04</td>\n      <td>0.038011</td>\n      <td>1.481440e+18</td>\n      <td>1.481198e+18</td>\n      <td>0.0</td>\n      <td>0.0</td>\n      <td>8.727570e+17</td>\n      <td>1.480454e+18</td>\n      <td>8.815487e+17</td>\n      <td>0.001287</td>\n      <td>...</td>\n      <td>0.000022</td>\n      <td>0.000009</td>\n      <td>0.000005</td>\n      <td>0.000004</td>\n      <td>0.000016</td>\n      <td>0.000010</td>\n      <td>0.000004</td>\n      <td>0.000004</td>\n      <td>0.000001</td>\n      <td>0.000001</td>\n    </tr>\n    <tr>\n      <th>std</th>\n      <td>8.978862e+05</td>\n      <td>0.191222</td>\n      <td>2.648856e+17</td>\n      <td>2.641527e+17</td>\n      <td>0.0</td>\n      <td>0.0</td>\n      <td>6.262707e+17</td>\n      <td>2.624457e+17</td>\n      <td>6.254187e+17</td>\n      <td>0.035848</td>\n      <td>...</td>\n      <td>0.004715</td>\n      <td>0.002940</td>\n      <td>0.002222</td>\n      <td>0.001925</td>\n      <td>0.004007</td>\n      <td>0.003143</td>\n      <td>0.001925</td>\n      <td>0.001925</td>\n      <td>0.001111</td>\n      <td>0.001111</td>\n    </tr>\n    <tr>\n      <th>min</th>\n      <td>1.000000e-06</td>\n      <td>0.000000</td>\n      <td>2.151180e+05</td>\n      <td>2.151180e+05</td>\n      <td>0.0</td>\n      <td>0.0</td>\n      <td>4.200000e+01</td>\n      <td>1.000000e+00</td>\n      <td>4.200000e+01</td>\n      <td>0.000000</td>\n      <td>...</td>\n      <td>0.000000</td>\n      <td>0.000000</td>\n      <td>0.000000</td>\n      <td>0.000000</td>\n      <td>0.000000</td>\n      <td>0.000000</td>\n      <td>0.000000</td>\n      <td>0.000000</td>\n      <td>0.000000</td>\n      <td>0.000000</td>\n    </tr>\n    <tr>\n      <th>25%</th>\n      <td>2.053000e+03</td>\n      <td>0.000000</td>\n      <td>1.511883e+18</td>\n      <td>1.511768e+18</td>\n      <td>0.0</td>\n      <td>0.0</td>\n      <td>2.409071e+09</td>\n      <td>1.511628e+18</td>\n      <td>2.515953e+09</td>\n      <td>0.000000</td>\n      <td>...</td>\n      <td>0.000000</td>\n      <td>0.000000</td>\n      <td>0.000000</td>\n      <td>0.000000</td>\n      <td>0.000000</td>\n      <td>0.000000</td>\n      <td>0.000000</td>\n      <td>0.000000</td>\n      <td>0.000000</td>\n      <td>0.000000</td>\n    </tr>\n    <tr>\n      <th>50%</th>\n      <td>8.869000e+03</td>\n      <td>0.000000</td>\n      <td>1.524812e+18</td>\n      <td>1.524722e+18</td>\n      <td>0.0</td>\n      <td>0.0</td>\n      <td>1.181668e+18</td>\n      <td>1.524646e+18</td>\n      <td>1.189280e+18</td>\n      <td>0.000000</td>\n      <td>...</td>\n      <td>0.000000</td>\n      <td>0.000000</td>\n      <td>0.000000</td>\n      <td>0.000000</td>\n      <td>0.000000</td>\n      <td>0.000000</td>\n      <td>0.000000</td>\n      <td>0.000000</td>\n      <td>0.000000</td>\n      <td>0.000000</td>\n    </tr>\n    <tr>\n      <th>75%</th>\n      <td>3.365750e+04</td>\n      <td>0.000000</td>\n      <td>1.543267e+18</td>\n      <td>1.543217e+18</td>\n      <td>0.0</td>\n      <td>0.0</td>\n      <td>1.422915e+18</td>\n      <td>1.542981e+18</td>\n      <td>1.427657e+18</td>\n      <td>0.000000</td>\n      <td>...</td>\n      <td>0.000000</td>\n      <td>0.000000</td>\n      <td>0.000000</td>\n      <td>0.000000</td>\n      <td>0.000000</td>\n      <td>0.000000</td>\n      <td>0.000000</td>\n      <td>0.000000</td>\n      <td>0.000000</td>\n      <td>0.000000</td>\n    </tr>\n    <tr>\n      <th>max</th>\n      <td>1.103033e+08</td>\n      <td>1.000000</td>\n      <td>7.694580e+18</td>\n      <td>7.694580e+18</td>\n      <td>0.0</td>\n      <td>0.0</td>\n      <td>1.544089e+18</td>\n      <td>1.544234e+18</td>\n      <td>1.544089e+18</td>\n      <td>1.000000</td>\n      <td>...</td>\n      <td>1.000000</td>\n      <td>1.000000</td>\n      <td>1.000000</td>\n      <td>1.000000</td>\n      <td>1.000000</td>\n      <td>1.000000</td>\n      <td>1.000000</td>\n      <td>1.000000</td>\n      <td>1.000000</td>\n      <td>1.000000</td>\n    </tr>\n  </tbody>\n</table>\n<p>8 rows × 78 columns</p>\n</div>"
     },
     "execution_count": 64,
     "metadata": {},
     "output_type": "execute_result"
    }
   ],
   "source": [
    "import pandas as pd\n",
    "from sklearn.model_selection import train_test_split\n",
    "import tensorflow as tf\n",
    "from tensorflow.keras.models import Sequential\n",
    "from tensorflow.keras.layers import Dense\n",
    "\n",
    "from keras import backend as K\n",
    "import pickle5 as pickle\n",
    "\n",
    "is_cuda_gpu_available = tf.test.is_gpu_available(cuda_only=True)\n",
    "gpus = tf.config.list_physical_devices('GPU')\n",
    "if gpus:\n",
    "    # Restrict TensorFlow to only allocate 1GB of memory on the first GPU\n",
    "    try:\n",
    "        tf.config.set_logical_device_configuration(\n",
    "            gpus[0],\n",
    "            [tf.config.LogicalDeviceConfiguration(memory_limit=2024)])\n",
    "        logical_gpus = tf.config.list_logical_devices('GPU')\n",
    "        print(len(gpus), \"Physical GPUs,\", len(logical_gpus), \"Logical GPUs\")\n",
    "    except RuntimeError as e:\n",
    "        # Virtual devices must be set before GPUs have been initialized\n",
    "        print(e)\n",
    "print(\"cuda gpu is available: {}\".format(is_cuda_gpu_available))\n",
    "with open(\"data/vision_forward_graph_data_local_05_08_22.pkl\", 'rb') as f:\n",
    "    df = pickle.load(f)\n",
    "\n",
    "df.describe()"
   ],
   "metadata": {
    "collapsed": false,
    "pycharm": {
     "name": "#%%\n"
    }
   }
  },
  {
   "cell_type": "code",
   "execution_count": 65,
   "outputs": [],
   "source": [
    "# importing utility functions\n",
    "%run author_vision_util.ipynb"
   ],
   "metadata": {
    "collapsed": false,
    "pycharm": {
     "name": "#%%\n"
    }
   }
  },
  {
   "cell_type": "code",
   "execution_count": 66,
   "outputs": [
    {
     "name": "stdout",
     "output_type": "stream",
     "text": [
      "chosen 20 conversations and gotten 25474 from twitter compared to 24497 from reddit\n"
     ]
    },
    {
     "data": {
      "text/plain": "(25474, 81)"
     },
     "execution_count": 66,
     "metadata": {},
     "output_type": "execute_result"
    }
   ],
   "source": [
    "df = equalize_samples(df)\n",
    "df = df[df[\"platform\"] == \"twitter\"]\n",
    "df.shape"
   ],
   "metadata": {
    "collapsed": false,
    "pycharm": {
     "name": "#%%\n"
    }
   }
  },
  {
   "cell_type": "markdown",
   "source": [
    "#### Create a one hot vector representation of the possible authors\n",
    "- create an artificial user that represents a new user in a conversation up to that point\n",
    "- get a matrix with the authors as columns and a 1 if the author wrote the post\n",
    "- join it with the feature matrix\n",
    "- drop the author column\n"
   ],
   "metadata": {
    "collapsed": false,
    "pycharm": {
     "name": "#%% md\n"
    }
   }
  },
  {
   "cell_type": "code",
   "execution_count": 67,
   "outputs": [
    {
     "data": {
      "text/plain": "       is_new_author\n63334           True\n63335           True",
      "text/html": "<div>\n<style scoped>\n    .dataframe tbody tr th:only-of-type {\n        vertical-align: middle;\n    }\n\n    .dataframe tbody tr th {\n        vertical-align: top;\n    }\n\n    .dataframe thead th {\n        text-align: right;\n    }\n</style>\n<table border=\"1\" class=\"dataframe\">\n  <thead>\n    <tr style=\"text-align: right;\">\n      <th></th>\n      <th>is_new_author</th>\n    </tr>\n  </thead>\n  <tbody>\n    <tr>\n      <th>63334</th>\n      <td>True</td>\n    </tr>\n    <tr>\n      <th>63335</th>\n      <td>True</td>\n    </tr>\n  </tbody>\n</table>\n</div>"
     },
     "execution_count": 67,
     "metadata": {},
     "output_type": "execute_result"
    }
   ],
   "source": [
    "# compute a fake user that symbolizes that the given user has not been seen at a given stage in the conversation\n",
    "df_conversation_authors = df[[\"conversation_id\", \"author\", \"current_time\"]]\n",
    "first_times = df_conversation_authors.groupby([\"conversation_id\", \"author\"]).min()\n",
    "\n",
    "def is_new_author(row):\n",
    "    earliest_author_post = first_times.loc[row[\"conversation_id\"],row[\"author\"]]\n",
    "    current_post_time = row[\"current_time\"]\n",
    "    return  earliest_author_post >= current_post_time\n",
    "\n",
    "new_author_column = df[[\"conversation_id\", \"author\", \"current_time\"]].apply(is_new_author, axis=1)\n",
    "new_author_column= new_author_column.rename(columns={'current_time':\"is_new_author\"})\n",
    "#new_author_column.describe()\n",
    "# current author has not been the beam_node\n",
    "new_author_column.head(2)"
   ],
   "metadata": {
    "collapsed": false,
    "pycharm": {
     "name": "#%%\n"
    }
   }
  },
  {
   "cell_type": "code",
   "execution_count": 68,
   "outputs": [
    {
     "data": {
      "text/plain": "       timedelta  root_distance_0  same_author_path_1  root_distance_1  \\\n63334     1325.0                1                 0.0              0.0   \n63335       95.0                0                 0.0              0.0   \n63336      260.0                0                 0.0              0.0   \n63337      129.0                0                 0.0              0.0   \n63338      690.0                0                 0.0              0.0   \n\n       same_author_path_2  reply_distance_2  reply_distance_3  \\\n63334                 0.0               0.0               0.0   \n63335                 0.0               0.0               0.0   \n63336                 0.0               0.0               0.0   \n63337                 0.0               0.0               0.0   \n63338                 0.0               0.0               0.0   \n\n       reply_distance_4  reply_distance_5  reply_distance_6  ...  \\\n63334               0.0               0.0               0.0  ...   \n63335               0.0               0.0               0.0  ...   \n63336               0.0               0.0               0.0  ...   \n63337               0.0               0.0               0.0  ...   \n63338               0.0               0.0               0.0  ...   \n\n       Author_1536124171972972545  Author_1537528480451076096  \\\n63334                           0                           0   \n63335                           0                           0   \n63336                           0                           0   \n63337                           0                           0   \n63338                           0                           0   \n\n       Author_1538177053274644482  Author_1539516006460444672  \\\n63334                           0                           0   \n63335                           0                           0   \n63336                           0                           0   \n63337                           0                           0   \n63338                           0                           0   \n\n       Author_1539612047951794176  Author_1540316586115887104  \\\n63334                           0                           0   \n63335                           0                           0   \n63336                           0                           0   \n63337                           0                           0   \n63338                           0                           0   \n\n       Author_1542056501942124544  Author_1542705767463149568  \\\n63334                           0                           0   \n63335                           0                           0   \n63336                           0                           0   \n63337                           0                           0   \n63338                           0                           0   \n\n       Author_1543619376213024769  is_new_author  \n63334                           0              1  \n63335                           0              1  \n63336                           0              1  \n63337                           0              1  \n63338                           0              1  \n\n[5 rows x 705 columns]",
      "text/html": "<div>\n<style scoped>\n    .dataframe tbody tr th:only-of-type {\n        vertical-align: middle;\n    }\n\n    .dataframe tbody tr th {\n        vertical-align: top;\n    }\n\n    .dataframe thead th {\n        text-align: right;\n    }\n</style>\n<table border=\"1\" class=\"dataframe\">\n  <thead>\n    <tr style=\"text-align: right;\">\n      <th></th>\n      <th>timedelta</th>\n      <th>root_distance_0</th>\n      <th>same_author_path_1</th>\n      <th>root_distance_1</th>\n      <th>same_author_path_2</th>\n      <th>reply_distance_2</th>\n      <th>reply_distance_3</th>\n      <th>reply_distance_4</th>\n      <th>reply_distance_5</th>\n      <th>reply_distance_6</th>\n      <th>...</th>\n      <th>Author_1536124171972972545</th>\n      <th>Author_1537528480451076096</th>\n      <th>Author_1538177053274644482</th>\n      <th>Author_1539516006460444672</th>\n      <th>Author_1539612047951794176</th>\n      <th>Author_1540316586115887104</th>\n      <th>Author_1542056501942124544</th>\n      <th>Author_1542705767463149568</th>\n      <th>Author_1543619376213024769</th>\n      <th>is_new_author</th>\n    </tr>\n  </thead>\n  <tbody>\n    <tr>\n      <th>63334</th>\n      <td>1325.0</td>\n      <td>1</td>\n      <td>0.0</td>\n      <td>0.0</td>\n      <td>0.0</td>\n      <td>0.0</td>\n      <td>0.0</td>\n      <td>0.0</td>\n      <td>0.0</td>\n      <td>0.0</td>\n      <td>...</td>\n      <td>0</td>\n      <td>0</td>\n      <td>0</td>\n      <td>0</td>\n      <td>0</td>\n      <td>0</td>\n      <td>0</td>\n      <td>0</td>\n      <td>0</td>\n      <td>1</td>\n    </tr>\n    <tr>\n      <th>63335</th>\n      <td>95.0</td>\n      <td>0</td>\n      <td>0.0</td>\n      <td>0.0</td>\n      <td>0.0</td>\n      <td>0.0</td>\n      <td>0.0</td>\n      <td>0.0</td>\n      <td>0.0</td>\n      <td>0.0</td>\n      <td>...</td>\n      <td>0</td>\n      <td>0</td>\n      <td>0</td>\n      <td>0</td>\n      <td>0</td>\n      <td>0</td>\n      <td>0</td>\n      <td>0</td>\n      <td>0</td>\n      <td>1</td>\n    </tr>\n    <tr>\n      <th>63336</th>\n      <td>260.0</td>\n      <td>0</td>\n      <td>0.0</td>\n      <td>0.0</td>\n      <td>0.0</td>\n      <td>0.0</td>\n      <td>0.0</td>\n      <td>0.0</td>\n      <td>0.0</td>\n      <td>0.0</td>\n      <td>...</td>\n      <td>0</td>\n      <td>0</td>\n      <td>0</td>\n      <td>0</td>\n      <td>0</td>\n      <td>0</td>\n      <td>0</td>\n      <td>0</td>\n      <td>0</td>\n      <td>1</td>\n    </tr>\n    <tr>\n      <th>63337</th>\n      <td>129.0</td>\n      <td>0</td>\n      <td>0.0</td>\n      <td>0.0</td>\n      <td>0.0</td>\n      <td>0.0</td>\n      <td>0.0</td>\n      <td>0.0</td>\n      <td>0.0</td>\n      <td>0.0</td>\n      <td>...</td>\n      <td>0</td>\n      <td>0</td>\n      <td>0</td>\n      <td>0</td>\n      <td>0</td>\n      <td>0</td>\n      <td>0</td>\n      <td>0</td>\n      <td>0</td>\n      <td>1</td>\n    </tr>\n    <tr>\n      <th>63338</th>\n      <td>690.0</td>\n      <td>0</td>\n      <td>0.0</td>\n      <td>0.0</td>\n      <td>0.0</td>\n      <td>0.0</td>\n      <td>0.0</td>\n      <td>0.0</td>\n      <td>0.0</td>\n      <td>0.0</td>\n      <td>...</td>\n      <td>0</td>\n      <td>0</td>\n      <td>0</td>\n      <td>0</td>\n      <td>0</td>\n      <td>0</td>\n      <td>0</td>\n      <td>0</td>\n      <td>0</td>\n      <td>1</td>\n    </tr>\n  </tbody>\n</table>\n<p>5 rows × 705 columns</p>\n</div>"
     },
     "execution_count": 68,
     "metadata": {},
     "output_type": "execute_result"
    }
   ],
   "source": [
    "def compute_new_author_column(df):\n",
    "    author_one_hot = pd.get_dummies(df.author, prefix=\"Author\", sparse=True)\n",
    "    author_one_hot = author_one_hot.astype(bool).apply(lambda x: x & ~new_author_column.is_new_author).astype(int)\n",
    "    labels = author_one_hot.join(new_author_column.astype(int))\n",
    "    features = take_features(df, [\"author\", \"current_time\", \"beam_node_time\"])\n",
    "    combined_set = features.join(labels)\n",
    "    return combined_set, features, labels\n",
    "\n",
    "combined_set, features, labels = compute_new_author_column(df)\n",
    "combined_set.head()"
   ],
   "metadata": {
    "collapsed": false,
    "pycharm": {
     "name": "#%%\n"
    }
   }
  },
  {
   "cell_type": "markdown",
   "source": [
    "#### Training NN to predict the author that would write next\n",
    "- included a \"new author\" category to capture predicting unknown authors\n",
    "- using multi-class classification (instead of multi-label)\n",
    "- relu/sigmoid activation functions have same effect\n",
    "- precision grew significantly when adding more than 3-5 layers"
   ],
   "metadata": {
    "collapsed": false,
    "pycharm": {
     "name": "#%% md\n"
    }
   }
  },
  {
   "cell_type": "code",
   "execution_count": 70,
   "outputs": [
    {
     "name": "stdout",
     "output_type": "stream",
     "text": [
      "split training and test set\n",
      "seperated features and y with shapes:\n",
      "(20379, 71)\n",
      "(20379, 634)\n",
      "inputshape is (71,)\n",
      "defined model as [<keras.layers.core.Dense object at 0x7fec58245370>, <keras.layers.core.Dense object at 0x7fecf027f0a0>, <keras.layers.core.Dense object at 0x7fed3c1865b0>, <keras.layers.core.Dense object at 0x7fec580eb970>, <keras.layers.core.Dense object at 0x7fec5826a310>, <keras.layers.core.Dense object at 0x7fec5826a340>, <keras.layers.core.Dropout object at 0x7fec5826aeb0>, <keras.layers.core.Dense object at 0x7fec5826a7c0>, <keras.layers.core.Dense object at 0x7fec5826a2b0>, <keras.layers.core.Dense object at 0x7fec5283b4c0>, <keras.layers.core.Dense object at 0x7fec582668b0>, <keras.layers.core.Dense object at 0x7fec58266ac0>, <keras.layers.core.Dense object at 0x7fec58245400>, <keras.layers.core.Dense object at 0x7fec58266e80>]\n",
      "compiled model\n",
      "Epoch 1/10\n",
      "637/637 [==============================] - 4s 5ms/step - loss: 1.3808 - categorical_accuracy: 0.7451 - accuracy: 0.7451 - mae: 0.0014\n",
      "Epoch 2/10\n",
      "637/637 [==============================] - 3s 5ms/step - loss: 1.3378 - categorical_accuracy: 0.7465 - accuracy: 0.7465 - mae: 0.0014\n",
      "Epoch 3/10\n",
      "637/637 [==============================] - 3s 5ms/step - loss: 1.3334 - categorical_accuracy: 0.7465 - accuracy: 0.7465 - mae: 0.0014\n",
      "Epoch 4/10\n",
      "637/637 [==============================] - 3s 5ms/step - loss: 1.3311 - categorical_accuracy: 0.7465 - accuracy: 0.7465 - mae: 0.0014\n",
      "Epoch 5/10\n",
      "637/637 [==============================] - 3s 5ms/step - loss: 1.3308 - categorical_accuracy: 0.7465 - accuracy: 0.7465 - mae: 0.0014\n",
      "Epoch 6/10\n",
      "637/637 [==============================] - 3s 5ms/step - loss: 1.3293 - categorical_accuracy: 0.7465 - accuracy: 0.7465 - mae: 0.0014\n",
      "Epoch 7/10\n",
      "637/637 [==============================] - 4s 6ms/step - loss: 1.3283 - categorical_accuracy: 0.7465 - accuracy: 0.7465 - mae: 0.0014\n",
      "Epoch 8/10\n",
      "637/637 [==============================] - 4s 6ms/step - loss: 1.3290 - categorical_accuracy: 0.7465 - accuracy: 0.7465 - mae: 0.0014\n",
      "Epoch 9/10\n",
      "637/637 [==============================] - 4s 6ms/step - loss: 1.3279 - categorical_accuracy: 0.7465 - accuracy: 0.7465 - mae: 0.0014\n",
      "Epoch 10/10\n",
      "637/637 [==============================] - 4s 6ms/step - loss: 1.3281 - categorical_accuracy: 0.7465 - accuracy: 0.7465 - mae: 0.0014\n",
      "160/160 [==============================] - 1s 2ms/step - loss: 1.3532 - categorical_accuracy: 0.7433 - accuracy: 0.7433 - mae: 0.0014\n",
      "the accuracy on the training set is cat acc 0.7432777285575867, reg acc 0.7432777285575867 and the mae is 0.0014173584058880806\n"
     ]
    }
   ],
   "source": [
    "from keras.layers import Dropout\n",
    "from keras.optimizer_v2.rmsprop import RMSprop  # selecting train and test datasets\n",
    "train, test = train_test_split(combined_set, test_size=0.2, shuffle=True)\n",
    "print(\"split training and test set\")\n",
    "\n",
    "# train the model\n",
    "y = train.drop(features.columns, axis=1)\n",
    "x = train.drop(labels.columns, axis=1)\n",
    "print(\"seperated features and y with shapes:\")\n",
    "print(x.shape)\n",
    "print(y.shape)\n",
    "\n",
    "# import tensorflow and train the model\n",
    "# print(tf.__version__)\n",
    "input_shape = (x.shape[1],)\n",
    "output_shape = y.shape[1]\n",
    "print(\"inputshape is {}\".format(input_shape))\n",
    "model = Sequential([\n",
    "    Dense(output_shape, activation='sigmoid', input_shape=input_shape),\n",
    "    Dense(output_shape, activation='sigmoid', input_shape=input_shape),\n",
    "    Dense(output_shape, activation='sigmoid', input_shape=input_shape),\n",
    "    Dense(output_shape, activation='sigmoid', input_shape=input_shape),\n",
    "    Dense(output_shape, activation='sigmoid', input_shape=input_shape),\n",
    "    Dense(output_shape, activation='sigmoid', input_shape=input_shape),\n",
    "    Dropout(0.2),\n",
    "    Dense(output_shape, activation='sigmoid', input_shape=input_shape),\n",
    "    Dense(output_shape, activation='sigmoid', input_shape=input_shape),\n",
    "    Dense(output_shape, activation='sigmoid', input_shape=input_shape),\n",
    "    Dense(output_shape, activation='sigmoid', input_shape=input_shape),\n",
    "    Dense(output_shape, activation='sigmoid', input_shape=input_shape),\n",
    "    Dense(output_shape, activation='sigmoid', input_shape=input_shape),\n",
    "    Dense(output_shape, activation='softmax', input_shape=input_shape)\n",
    "])\n",
    "print(\"defined model as {}\".format(model.layers))\n",
    "# stochastic gradient descend as a classifier seem appropriate\n",
    "model.compile(\n",
    "    optimizer=RMSprop(),\n",
    "    loss='categorical_crossentropy',\n",
    "    metrics=['categorical_accuracy', 'accuracy' ,'mae']\n",
    ")\n",
    "print(\"compiled model\")\n",
    "model.fit(x, y, epochs=3)\n",
    "#model.fit(x, y, epochs=10, shuffle=True)\n",
    "# evaluate the model on the test set\n",
    "test_y = test.drop(features.columns, axis=1)\n",
    "test_x = test.drop(labels.columns, axis=1)\n",
    "\n",
    "loss, cat_accuracy, accuracy, mae = model.evaluate(test_x, test_y)\n",
    "print(\"the accuracy on the training set is cat acc {}, reg acc {} and the mae is {}\".format(cat_accuracy, accuracy, mae))"
   ],
   "metadata": {
    "collapsed": false,
    "pycharm": {
     "name": "#%%\n"
    }
   }
  },
  {
   "cell_type": "code",
   "execution_count": 74,
   "outputs": [
    {
     "data": {
      "text/plain": "   timedelta  root_distance_0              current            beam_node  \\\n0     1016.0                0  1504746858278756354  1504742597352476685   \n1    45233.0                0  1508008254919651330  1507818534801395716   \n2     7483.0                0  1509137119863783427  1509105733568192512   \n3     3404.0                0  1510917718358306817  1510903441958318085   \n4     1992.0                0  1511062080551587849  1511053725523230724   \n\n   has_followed_path  has_follow_path     beam_node_author platform  \\\n0                  0                0           2295967047  twitter   \n1                  0                0  1303796126978629632  twitter   \n2                  0                0   712320925455273984  twitter   \n3                  0                0             84103119  twitter   \n4                  0                0  1487561226230059019  twitter   \n\n       conversation_id               author  ... same_author_path_15  \\\n0  1504739306635735104  1024744255124893697  ...                 0.0   \n1  1507807320172023808  1483440154077450246  ...                 0.0   \n2  1509105293396951046  1482682530453143558  ...                 0.0   \n3  1510856247893008389  1439073103439704066  ...                 0.0   \n4  1511051267694542858  1087438728702898177  ...                 0.0   \n\n  same_author_path_16  same_author_path_18  same_author_path_20  \\\n0                 0.0                  0.0                  0.0   \n1                 0.0                  0.0                  0.0   \n2                 0.0                  0.0                  0.0   \n3                 0.0                  0.0                  0.0   \n4                 0.0                  0.0                  0.0   \n\n   same_author_path_17  same_author_path_19  same_author_path_21  \\\n0                  0.0                  0.0                  0.0   \n1                  0.0                  0.0                  0.0   \n2                  0.0                  0.0                  0.0   \n3                  0.0                  0.0                  0.0   \n4                  0.0                  0.0                  0.0   \n\n   same_author_path_23  same_author_path_25  same_author_path_22  \n0                  0.0                  0.0                  0.0  \n1                  0.0                  0.0                  0.0  \n2                  0.0                  0.0                  0.0  \n3                  0.0                  0.0                  0.0  \n4                  0.0                  0.0                  0.0  \n\n[5 rows x 81 columns]",
      "text/html": "<div>\n<style scoped>\n    .dataframe tbody tr th:only-of-type {\n        vertical-align: middle;\n    }\n\n    .dataframe tbody tr th {\n        vertical-align: top;\n    }\n\n    .dataframe thead th {\n        text-align: right;\n    }\n</style>\n<table border=\"1\" class=\"dataframe\">\n  <thead>\n    <tr style=\"text-align: right;\">\n      <th></th>\n      <th>timedelta</th>\n      <th>root_distance_0</th>\n      <th>current</th>\n      <th>beam_node</th>\n      <th>has_followed_path</th>\n      <th>has_follow_path</th>\n      <th>beam_node_author</th>\n      <th>platform</th>\n      <th>conversation_id</th>\n      <th>author</th>\n      <th>...</th>\n      <th>same_author_path_15</th>\n      <th>same_author_path_16</th>\n      <th>same_author_path_18</th>\n      <th>same_author_path_20</th>\n      <th>same_author_path_17</th>\n      <th>same_author_path_19</th>\n      <th>same_author_path_21</th>\n      <th>same_author_path_23</th>\n      <th>same_author_path_25</th>\n      <th>same_author_path_22</th>\n    </tr>\n  </thead>\n  <tbody>\n    <tr>\n      <th>0</th>\n      <td>1016.0</td>\n      <td>0</td>\n      <td>1504746858278756354</td>\n      <td>1504742597352476685</td>\n      <td>0</td>\n      <td>0</td>\n      <td>2295967047</td>\n      <td>twitter</td>\n      <td>1504739306635735104</td>\n      <td>1024744255124893697</td>\n      <td>...</td>\n      <td>0.0</td>\n      <td>0.0</td>\n      <td>0.0</td>\n      <td>0.0</td>\n      <td>0.0</td>\n      <td>0.0</td>\n      <td>0.0</td>\n      <td>0.0</td>\n      <td>0.0</td>\n      <td>0.0</td>\n    </tr>\n    <tr>\n      <th>1</th>\n      <td>45233.0</td>\n      <td>0</td>\n      <td>1508008254919651330</td>\n      <td>1507818534801395716</td>\n      <td>0</td>\n      <td>0</td>\n      <td>1303796126978629632</td>\n      <td>twitter</td>\n      <td>1507807320172023808</td>\n      <td>1483440154077450246</td>\n      <td>...</td>\n      <td>0.0</td>\n      <td>0.0</td>\n      <td>0.0</td>\n      <td>0.0</td>\n      <td>0.0</td>\n      <td>0.0</td>\n      <td>0.0</td>\n      <td>0.0</td>\n      <td>0.0</td>\n      <td>0.0</td>\n    </tr>\n    <tr>\n      <th>2</th>\n      <td>7483.0</td>\n      <td>0</td>\n      <td>1509137119863783427</td>\n      <td>1509105733568192512</td>\n      <td>0</td>\n      <td>0</td>\n      <td>712320925455273984</td>\n      <td>twitter</td>\n      <td>1509105293396951046</td>\n      <td>1482682530453143558</td>\n      <td>...</td>\n      <td>0.0</td>\n      <td>0.0</td>\n      <td>0.0</td>\n      <td>0.0</td>\n      <td>0.0</td>\n      <td>0.0</td>\n      <td>0.0</td>\n      <td>0.0</td>\n      <td>0.0</td>\n      <td>0.0</td>\n    </tr>\n    <tr>\n      <th>3</th>\n      <td>3404.0</td>\n      <td>0</td>\n      <td>1510917718358306817</td>\n      <td>1510903441958318085</td>\n      <td>0</td>\n      <td>0</td>\n      <td>84103119</td>\n      <td>twitter</td>\n      <td>1510856247893008389</td>\n      <td>1439073103439704066</td>\n      <td>...</td>\n      <td>0.0</td>\n      <td>0.0</td>\n      <td>0.0</td>\n      <td>0.0</td>\n      <td>0.0</td>\n      <td>0.0</td>\n      <td>0.0</td>\n      <td>0.0</td>\n      <td>0.0</td>\n      <td>0.0</td>\n    </tr>\n    <tr>\n      <th>4</th>\n      <td>1992.0</td>\n      <td>0</td>\n      <td>1511062080551587849</td>\n      <td>1511053725523230724</td>\n      <td>0</td>\n      <td>0</td>\n      <td>1487561226230059019</td>\n      <td>twitter</td>\n      <td>1511051267694542858</td>\n      <td>1087438728702898177</td>\n      <td>...</td>\n      <td>0.0</td>\n      <td>0.0</td>\n      <td>0.0</td>\n      <td>0.0</td>\n      <td>0.0</td>\n      <td>0.0</td>\n      <td>0.0</td>\n      <td>0.0</td>\n      <td>0.0</td>\n      <td>0.0</td>\n    </tr>\n  </tbody>\n</table>\n<p>5 rows × 81 columns</p>\n</div>"
     },
     "execution_count": 74,
     "metadata": {},
     "output_type": "execute_result"
    }
   ],
   "source": [
    "#print(labels.columns)\n",
    "# some pandas alchemy to sample  2 rows of each conversation\n",
    "sample_df = df.sample(frac=1).reset_index(drop=True).groupby('conversation_id').apply(lambda x: x.sample(n=1)).reset_index(drop = True)\n",
    "sample_df.head()"
   ],
   "metadata": {
    "collapsed": false,
    "pycharm": {
     "name": "#%%\n"
    }
   }
  },
  {
   "cell_type": "code",
   "execution_count": 80,
   "outputs": [
    {
     "data": {
      "text/plain": "    timedelta  root_distance_0  same_author_path_1  root_distance_1  \\\n0      1016.0                0                 0.0              0.0   \n1     45233.0                0                 0.0              0.0   \n2      7483.0                0                 0.0              0.0   \n3      3404.0                0                 0.0              0.0   \n4      1992.0                0                 0.0              0.0   \n5      5199.0                0                 0.0              0.0   \n6      6556.0                0                 0.0              0.0   \n7      5732.0                0                 0.0              0.0   \n8        38.0                0                 0.0              0.0   \n9       996.0                0                 0.0              0.0   \n10      618.0                0                 0.0              0.0   \n11    75280.0                0                 0.0              0.0   \n12      321.0                0                 0.0              0.0   \n13     1356.0                0                 0.0              0.0   \n14     5661.0                0                 0.0              1.0   \n15    86123.0                0                 0.0              1.0   \n16     7846.0                0                 0.0              1.0   \n17    27358.0                0                 0.0              1.0   \n18    19590.0                0                 0.0              1.0   \n\n    same_author_path_2  reply_distance_2  reply_distance_3  reply_distance_4  \\\n0                  0.0               0.0               0.0               0.0   \n1                  0.0               0.0               0.0               0.0   \n2                  0.0               0.0               0.0               0.0   \n3                  0.0               0.0               0.0               0.0   \n4                  0.0               0.0               0.0               0.0   \n5                  0.0               0.0               0.0               0.0   \n6                  0.0               0.0               0.0               0.0   \n7                  0.0               0.0               0.0               0.0   \n8                  0.0               0.0               0.0               0.0   \n9                  0.0               0.0               0.0               0.0   \n10                 0.0               0.0               0.0               0.0   \n11                 0.0               0.0               0.0               0.0   \n12                 0.0               0.0               0.0               0.0   \n13                 0.0               0.0               0.0               0.0   \n14                 0.0               0.0               0.0               0.0   \n15                 0.0               0.0               0.0               0.0   \n16                 0.0               0.0               0.0               0.0   \n17                 0.0               0.0               0.0               0.0   \n18                 0.0               0.0               0.0               0.0   \n\n    reply_distance_5  reply_distance_6  ...  same_author_path_15  \\\n0                0.0               0.0  ...                  0.0   \n1                0.0               0.0  ...                  0.0   \n2                0.0               0.0  ...                  0.0   \n3                0.0               0.0  ...                  0.0   \n4                0.0               0.0  ...                  0.0   \n5                0.0               0.0  ...                  0.0   \n6                0.0               0.0  ...                  0.0   \n7                0.0               0.0  ...                  0.0   \n8                0.0               0.0  ...                  0.0   \n9                0.0               0.0  ...                  0.0   \n10               0.0               0.0  ...                  0.0   \n11               0.0               0.0  ...                  0.0   \n12               0.0               0.0  ...                  0.0   \n13               0.0               0.0  ...                  0.0   \n14               0.0               0.0  ...                  0.0   \n15               0.0               0.0  ...                  0.0   \n16               0.0               0.0  ...                  0.0   \n17               0.0               0.0  ...                  0.0   \n18               0.0               0.0  ...                  0.0   \n\n    same_author_path_16  same_author_path_18  same_author_path_20  \\\n0                   0.0                  0.0                  0.0   \n1                   0.0                  0.0                  0.0   \n2                   0.0                  0.0                  0.0   \n3                   0.0                  0.0                  0.0   \n4                   0.0                  0.0                  0.0   \n5                   0.0                  0.0                  0.0   \n6                   0.0                  0.0                  0.0   \n7                   0.0                  0.0                  0.0   \n8                   0.0                  0.0                  0.0   \n9                   0.0                  0.0                  0.0   \n10                  0.0                  0.0                  0.0   \n11                  0.0                  0.0                  0.0   \n12                  0.0                  0.0                  0.0   \n13                  0.0                  0.0                  0.0   \n14                  0.0                  0.0                  0.0   \n15                  0.0                  0.0                  0.0   \n16                  0.0                  0.0                  0.0   \n17                  0.0                  0.0                  0.0   \n18                  0.0                  0.0                  0.0   \n\n    same_author_path_17  same_author_path_19  same_author_path_21  \\\n0                   0.0                  0.0                  0.0   \n1                   0.0                  0.0                  0.0   \n2                   0.0                  0.0                  0.0   \n3                   0.0                  0.0                  0.0   \n4                   0.0                  0.0                  0.0   \n5                   0.0                  0.0                  0.0   \n6                   0.0                  0.0                  0.0   \n7                   0.0                  0.0                  0.0   \n8                   0.0                  0.0                  0.0   \n9                   0.0                  0.0                  0.0   \n10                  0.0                  0.0                  0.0   \n11                  0.0                  0.0                  0.0   \n12                  0.0                  0.0                  0.0   \n13                  0.0                  0.0                  0.0   \n14                  0.0                  0.0                  0.0   \n15                  0.0                  0.0                  0.0   \n16                  0.0                  0.0                  0.0   \n17                  0.0                  0.0                  0.0   \n18                  0.0                  0.0                  0.0   \n\n    same_author_path_23  same_author_path_25  same_author_path_22  \n0                   0.0                  0.0                  0.0  \n1                   0.0                  0.0                  0.0  \n2                   0.0                  0.0                  0.0  \n3                   0.0                  0.0                  0.0  \n4                   0.0                  0.0                  0.0  \n5                   0.0                  0.0                  0.0  \n6                   0.0                  0.0                  0.0  \n7                   0.0                  0.0                  0.0  \n8                   0.0                  0.0                  0.0  \n9                   0.0                  0.0                  0.0  \n10                  0.0                  0.0                  0.0  \n11                  0.0                  0.0                  0.0  \n12                  0.0                  0.0                  0.0  \n13                  0.0                  0.0                  0.0  \n14                  0.0                  0.0                  0.0  \n15                  0.0                  0.0                  0.0  \n16                  0.0                  0.0                  0.0  \n17                  0.0                  0.0                  0.0  \n18                  0.0                  0.0                  0.0  \n\n[19 rows x 71 columns]",
      "text/html": "<div>\n<style scoped>\n    .dataframe tbody tr th:only-of-type {\n        vertical-align: middle;\n    }\n\n    .dataframe tbody tr th {\n        vertical-align: top;\n    }\n\n    .dataframe thead th {\n        text-align: right;\n    }\n</style>\n<table border=\"1\" class=\"dataframe\">\n  <thead>\n    <tr style=\"text-align: right;\">\n      <th></th>\n      <th>timedelta</th>\n      <th>root_distance_0</th>\n      <th>same_author_path_1</th>\n      <th>root_distance_1</th>\n      <th>same_author_path_2</th>\n      <th>reply_distance_2</th>\n      <th>reply_distance_3</th>\n      <th>reply_distance_4</th>\n      <th>reply_distance_5</th>\n      <th>reply_distance_6</th>\n      <th>...</th>\n      <th>same_author_path_15</th>\n      <th>same_author_path_16</th>\n      <th>same_author_path_18</th>\n      <th>same_author_path_20</th>\n      <th>same_author_path_17</th>\n      <th>same_author_path_19</th>\n      <th>same_author_path_21</th>\n      <th>same_author_path_23</th>\n      <th>same_author_path_25</th>\n      <th>same_author_path_22</th>\n    </tr>\n  </thead>\n  <tbody>\n    <tr>\n      <th>0</th>\n      <td>1016.0</td>\n      <td>0</td>\n      <td>0.0</td>\n      <td>0.0</td>\n      <td>0.0</td>\n      <td>0.0</td>\n      <td>0.0</td>\n      <td>0.0</td>\n      <td>0.0</td>\n      <td>0.0</td>\n      <td>...</td>\n      <td>0.0</td>\n      <td>0.0</td>\n      <td>0.0</td>\n      <td>0.0</td>\n      <td>0.0</td>\n      <td>0.0</td>\n      <td>0.0</td>\n      <td>0.0</td>\n      <td>0.0</td>\n      <td>0.0</td>\n    </tr>\n    <tr>\n      <th>1</th>\n      <td>45233.0</td>\n      <td>0</td>\n      <td>0.0</td>\n      <td>0.0</td>\n      <td>0.0</td>\n      <td>0.0</td>\n      <td>0.0</td>\n      <td>0.0</td>\n      <td>0.0</td>\n      <td>0.0</td>\n      <td>...</td>\n      <td>0.0</td>\n      <td>0.0</td>\n      <td>0.0</td>\n      <td>0.0</td>\n      <td>0.0</td>\n      <td>0.0</td>\n      <td>0.0</td>\n      <td>0.0</td>\n      <td>0.0</td>\n      <td>0.0</td>\n    </tr>\n    <tr>\n      <th>2</th>\n      <td>7483.0</td>\n      <td>0</td>\n      <td>0.0</td>\n      <td>0.0</td>\n      <td>0.0</td>\n      <td>0.0</td>\n      <td>0.0</td>\n      <td>0.0</td>\n      <td>0.0</td>\n      <td>0.0</td>\n      <td>...</td>\n      <td>0.0</td>\n      <td>0.0</td>\n      <td>0.0</td>\n      <td>0.0</td>\n      <td>0.0</td>\n      <td>0.0</td>\n      <td>0.0</td>\n      <td>0.0</td>\n      <td>0.0</td>\n      <td>0.0</td>\n    </tr>\n    <tr>\n      <th>3</th>\n      <td>3404.0</td>\n      <td>0</td>\n      <td>0.0</td>\n      <td>0.0</td>\n      <td>0.0</td>\n      <td>0.0</td>\n      <td>0.0</td>\n      <td>0.0</td>\n      <td>0.0</td>\n      <td>0.0</td>\n      <td>...</td>\n      <td>0.0</td>\n      <td>0.0</td>\n      <td>0.0</td>\n      <td>0.0</td>\n      <td>0.0</td>\n      <td>0.0</td>\n      <td>0.0</td>\n      <td>0.0</td>\n      <td>0.0</td>\n      <td>0.0</td>\n    </tr>\n    <tr>\n      <th>4</th>\n      <td>1992.0</td>\n      <td>0</td>\n      <td>0.0</td>\n      <td>0.0</td>\n      <td>0.0</td>\n      <td>0.0</td>\n      <td>0.0</td>\n      <td>0.0</td>\n      <td>0.0</td>\n      <td>0.0</td>\n      <td>...</td>\n      <td>0.0</td>\n      <td>0.0</td>\n      <td>0.0</td>\n      <td>0.0</td>\n      <td>0.0</td>\n      <td>0.0</td>\n      <td>0.0</td>\n      <td>0.0</td>\n      <td>0.0</td>\n      <td>0.0</td>\n    </tr>\n    <tr>\n      <th>5</th>\n      <td>5199.0</td>\n      <td>0</td>\n      <td>0.0</td>\n      <td>0.0</td>\n      <td>0.0</td>\n      <td>0.0</td>\n      <td>0.0</td>\n      <td>0.0</td>\n      <td>0.0</td>\n      <td>0.0</td>\n      <td>...</td>\n      <td>0.0</td>\n      <td>0.0</td>\n      <td>0.0</td>\n      <td>0.0</td>\n      <td>0.0</td>\n      <td>0.0</td>\n      <td>0.0</td>\n      <td>0.0</td>\n      <td>0.0</td>\n      <td>0.0</td>\n    </tr>\n    <tr>\n      <th>6</th>\n      <td>6556.0</td>\n      <td>0</td>\n      <td>0.0</td>\n      <td>0.0</td>\n      <td>0.0</td>\n      <td>0.0</td>\n      <td>0.0</td>\n      <td>0.0</td>\n      <td>0.0</td>\n      <td>0.0</td>\n      <td>...</td>\n      <td>0.0</td>\n      <td>0.0</td>\n      <td>0.0</td>\n      <td>0.0</td>\n      <td>0.0</td>\n      <td>0.0</td>\n      <td>0.0</td>\n      <td>0.0</td>\n      <td>0.0</td>\n      <td>0.0</td>\n    </tr>\n    <tr>\n      <th>7</th>\n      <td>5732.0</td>\n      <td>0</td>\n      <td>0.0</td>\n      <td>0.0</td>\n      <td>0.0</td>\n      <td>0.0</td>\n      <td>0.0</td>\n      <td>0.0</td>\n      <td>0.0</td>\n      <td>0.0</td>\n      <td>...</td>\n      <td>0.0</td>\n      <td>0.0</td>\n      <td>0.0</td>\n      <td>0.0</td>\n      <td>0.0</td>\n      <td>0.0</td>\n      <td>0.0</td>\n      <td>0.0</td>\n      <td>0.0</td>\n      <td>0.0</td>\n    </tr>\n    <tr>\n      <th>8</th>\n      <td>38.0</td>\n      <td>0</td>\n      <td>0.0</td>\n      <td>0.0</td>\n      <td>0.0</td>\n      <td>0.0</td>\n      <td>0.0</td>\n      <td>0.0</td>\n      <td>0.0</td>\n      <td>0.0</td>\n      <td>...</td>\n      <td>0.0</td>\n      <td>0.0</td>\n      <td>0.0</td>\n      <td>0.0</td>\n      <td>0.0</td>\n      <td>0.0</td>\n      <td>0.0</td>\n      <td>0.0</td>\n      <td>0.0</td>\n      <td>0.0</td>\n    </tr>\n    <tr>\n      <th>9</th>\n      <td>996.0</td>\n      <td>0</td>\n      <td>0.0</td>\n      <td>0.0</td>\n      <td>0.0</td>\n      <td>0.0</td>\n      <td>0.0</td>\n      <td>0.0</td>\n      <td>0.0</td>\n      <td>0.0</td>\n      <td>...</td>\n      <td>0.0</td>\n      <td>0.0</td>\n      <td>0.0</td>\n      <td>0.0</td>\n      <td>0.0</td>\n      <td>0.0</td>\n      <td>0.0</td>\n      <td>0.0</td>\n      <td>0.0</td>\n      <td>0.0</td>\n    </tr>\n    <tr>\n      <th>10</th>\n      <td>618.0</td>\n      <td>0</td>\n      <td>0.0</td>\n      <td>0.0</td>\n      <td>0.0</td>\n      <td>0.0</td>\n      <td>0.0</td>\n      <td>0.0</td>\n      <td>0.0</td>\n      <td>0.0</td>\n      <td>...</td>\n      <td>0.0</td>\n      <td>0.0</td>\n      <td>0.0</td>\n      <td>0.0</td>\n      <td>0.0</td>\n      <td>0.0</td>\n      <td>0.0</td>\n      <td>0.0</td>\n      <td>0.0</td>\n      <td>0.0</td>\n    </tr>\n    <tr>\n      <th>11</th>\n      <td>75280.0</td>\n      <td>0</td>\n      <td>0.0</td>\n      <td>0.0</td>\n      <td>0.0</td>\n      <td>0.0</td>\n      <td>0.0</td>\n      <td>0.0</td>\n      <td>0.0</td>\n      <td>0.0</td>\n      <td>...</td>\n      <td>0.0</td>\n      <td>0.0</td>\n      <td>0.0</td>\n      <td>0.0</td>\n      <td>0.0</td>\n      <td>0.0</td>\n      <td>0.0</td>\n      <td>0.0</td>\n      <td>0.0</td>\n      <td>0.0</td>\n    </tr>\n    <tr>\n      <th>12</th>\n      <td>321.0</td>\n      <td>0</td>\n      <td>0.0</td>\n      <td>0.0</td>\n      <td>0.0</td>\n      <td>0.0</td>\n      <td>0.0</td>\n      <td>0.0</td>\n      <td>0.0</td>\n      <td>0.0</td>\n      <td>...</td>\n      <td>0.0</td>\n      <td>0.0</td>\n      <td>0.0</td>\n      <td>0.0</td>\n      <td>0.0</td>\n      <td>0.0</td>\n      <td>0.0</td>\n      <td>0.0</td>\n      <td>0.0</td>\n      <td>0.0</td>\n    </tr>\n    <tr>\n      <th>13</th>\n      <td>1356.0</td>\n      <td>0</td>\n      <td>0.0</td>\n      <td>0.0</td>\n      <td>0.0</td>\n      <td>0.0</td>\n      <td>0.0</td>\n      <td>0.0</td>\n      <td>0.0</td>\n      <td>0.0</td>\n      <td>...</td>\n      <td>0.0</td>\n      <td>0.0</td>\n      <td>0.0</td>\n      <td>0.0</td>\n      <td>0.0</td>\n      <td>0.0</td>\n      <td>0.0</td>\n      <td>0.0</td>\n      <td>0.0</td>\n      <td>0.0</td>\n    </tr>\n    <tr>\n      <th>14</th>\n      <td>5661.0</td>\n      <td>0</td>\n      <td>0.0</td>\n      <td>1.0</td>\n      <td>0.0</td>\n      <td>0.0</td>\n      <td>0.0</td>\n      <td>0.0</td>\n      <td>0.0</td>\n      <td>0.0</td>\n      <td>...</td>\n      <td>0.0</td>\n      <td>0.0</td>\n      <td>0.0</td>\n      <td>0.0</td>\n      <td>0.0</td>\n      <td>0.0</td>\n      <td>0.0</td>\n      <td>0.0</td>\n      <td>0.0</td>\n      <td>0.0</td>\n    </tr>\n    <tr>\n      <th>15</th>\n      <td>86123.0</td>\n      <td>0</td>\n      <td>0.0</td>\n      <td>1.0</td>\n      <td>0.0</td>\n      <td>0.0</td>\n      <td>0.0</td>\n      <td>0.0</td>\n      <td>0.0</td>\n      <td>0.0</td>\n      <td>...</td>\n      <td>0.0</td>\n      <td>0.0</td>\n      <td>0.0</td>\n      <td>0.0</td>\n      <td>0.0</td>\n      <td>0.0</td>\n      <td>0.0</td>\n      <td>0.0</td>\n      <td>0.0</td>\n      <td>0.0</td>\n    </tr>\n    <tr>\n      <th>16</th>\n      <td>7846.0</td>\n      <td>0</td>\n      <td>0.0</td>\n      <td>1.0</td>\n      <td>0.0</td>\n      <td>0.0</td>\n      <td>0.0</td>\n      <td>0.0</td>\n      <td>0.0</td>\n      <td>0.0</td>\n      <td>...</td>\n      <td>0.0</td>\n      <td>0.0</td>\n      <td>0.0</td>\n      <td>0.0</td>\n      <td>0.0</td>\n      <td>0.0</td>\n      <td>0.0</td>\n      <td>0.0</td>\n      <td>0.0</td>\n      <td>0.0</td>\n    </tr>\n    <tr>\n      <th>17</th>\n      <td>27358.0</td>\n      <td>0</td>\n      <td>0.0</td>\n      <td>1.0</td>\n      <td>0.0</td>\n      <td>0.0</td>\n      <td>0.0</td>\n      <td>0.0</td>\n      <td>0.0</td>\n      <td>0.0</td>\n      <td>...</td>\n      <td>0.0</td>\n      <td>0.0</td>\n      <td>0.0</td>\n      <td>0.0</td>\n      <td>0.0</td>\n      <td>0.0</td>\n      <td>0.0</td>\n      <td>0.0</td>\n      <td>0.0</td>\n      <td>0.0</td>\n    </tr>\n    <tr>\n      <th>18</th>\n      <td>19590.0</td>\n      <td>0</td>\n      <td>0.0</td>\n      <td>1.0</td>\n      <td>0.0</td>\n      <td>0.0</td>\n      <td>0.0</td>\n      <td>0.0</td>\n      <td>0.0</td>\n      <td>0.0</td>\n      <td>...</td>\n      <td>0.0</td>\n      <td>0.0</td>\n      <td>0.0</td>\n      <td>0.0</td>\n      <td>0.0</td>\n      <td>0.0</td>\n      <td>0.0</td>\n      <td>0.0</td>\n      <td>0.0</td>\n      <td>0.0</td>\n    </tr>\n  </tbody>\n</table>\n<p>19 rows × 71 columns</p>\n</div>"
     },
     "execution_count": 80,
     "metadata": {},
     "output_type": "execute_result"
    }
   ],
   "source": [
    "\n",
    "sample_features = take_features(sample_df, [\"author\", \"current_time\", \"beam_node_time\"])\n",
    "sample_features # looks like a casual sample only reveals that it is likely to get a new author close to the root"
   ],
   "metadata": {
    "collapsed": false,
    "pycharm": {
     "name": "#%%\n"
    }
   }
  },
  {
   "cell_type": "code",
   "execution_count": null,
   "outputs": [],
   "source": [
    "\n",
    "# sample_combined_set, sample_features, sample_author_one_hot = compute_new_author_column(sample_df)\n",
    "\n",
    "# sample_features\n",
    "model.predict(sample_features) # the last category has a stable 75 % probability (??)"
   ],
   "metadata": {
    "collapsed": false,
    "pycharm": {
     "name": "#%%\n"
    }
   }
  },
  {
   "cell_type": "code",
   "execution_count": 79,
   "outputs": [
    {
     "data": {
      "text/plain": "array([[1.19090117e-07, 1.22090185e-07, 1.18401026e-07, ...,\n        1.20692292e-07, 1.21316262e-07, 7.25752413e-01],\n       [1.19090117e-07, 1.22090185e-07, 1.18401026e-07, ...,\n        1.20692292e-07, 1.21316262e-07, 7.25752413e-01],\n       [1.19090117e-07, 1.22090185e-07, 1.18401026e-07, ...,\n        1.20692292e-07, 1.21316262e-07, 7.25752413e-01],\n       ...,\n       [1.19090117e-07, 1.22090185e-07, 1.18401026e-07, ...,\n        1.20692292e-07, 1.21316262e-07, 7.25752413e-01],\n       [1.19090117e-07, 1.22090185e-07, 1.18401026e-07, ...,\n        1.20692292e-07, 1.21316262e-07, 7.25752413e-01],\n       [1.19090117e-07, 1.22090185e-07, 1.18401026e-07, ...,\n        1.20692292e-07, 1.21316262e-07, 7.25752413e-01]], dtype=float32)"
     },
     "execution_count": 79,
     "metadata": {},
     "output_type": "execute_result"
    }
   ],
   "source": [],
   "metadata": {
    "collapsed": false,
    "pycharm": {
     "name": "#%%\n"
    }
   }
  },
  {
   "cell_type": "markdown",
   "source": [
    "#### Notes\n",
    "- inserting the new author column increased precision times 10\n",
    "- categorical accuracy and regular accuracy match (which is weird)"
   ],
   "metadata": {
    "collapsed": false,
    "pycharm": {
     "name": "#%% md\n"
    }
   }
  }
 ],
 "metadata": {
  "kernelspec": {
   "display_name": "Python 3",
   "language": "python",
   "name": "python3"
  },
  "language_info": {
   "codemirror_mode": {
    "name": "ipython",
    "version": 2
   },
   "file_extension": ".py",
   "mimetype": "text/x-python",
   "name": "python",
   "nbconvert_exporter": "python",
   "pygments_lexer": "ipython2",
   "version": "2.7.6"
  }
 },
 "nbformat": 4,
 "nbformat_minor": 0
}