{
 "cells": [
  {
   "cell_type": "code",
   "execution_count": 124,
   "outputs": [
    {
     "name": "stdout",
     "output_type": "stream",
     "text": [
      "Total memory: 4104323072\n",
      "Free memory: 876019712\n",
      "Used memory: 3228303360\n"
     ]
    }
   ],
   "source": [
    "import nvidia_smi\n",
    "\n",
    "nvidia_smi.nvmlInit()\n",
    "\n",
    "handle = nvidia_smi.nvmlDeviceGetHandleByIndex(0)\n",
    "# card id 0 hardcoded here, there is also a call to get all available card ids, so we could iterate\n",
    "\n",
    "info = nvidia_smi.nvmlDeviceGetMemoryInfo(handle)\n",
    "\n",
    "print(\"Total memory:\", info.total)\n",
    "print(\"Free memory:\", info.free)\n",
    "print(\"Used memory:\", info.used)\n",
    "\n",
    "nvidia_smi.nvmlShutdown()"
   ],
   "metadata": {
    "collapsed": false,
    "pycharm": {
     "name": "#%%\n"
    }
   }
  },
  {
   "cell_type": "code",
   "execution_count": 125,
   "outputs": [
    {
     "name": "stdout",
     "output_type": "stream",
     "text": [
      "1 Physical GPUs, 1 Logical GPUs\n",
      "cuda gpu is available: True\n"
     ]
    },
    {
     "name": "stderr",
     "output_type": "stream",
     "text": [
      "2022-08-05 16:15:46.661012: I tensorflow/stream_executor/cuda/cuda_gpu_executor.cc:937] successful NUMA node read from SysFS had negative value (-1), but there must be at least one NUMA node, so returning NUMA node zero\n",
      "2022-08-05 16:15:46.661808: I tensorflow/stream_executor/cuda/cuda_gpu_executor.cc:937] successful NUMA node read from SysFS had negative value (-1), but there must be at least one NUMA node, so returning NUMA node zero\n",
      "2022-08-05 16:15:46.662400: I tensorflow/stream_executor/cuda/cuda_gpu_executor.cc:937] successful NUMA node read from SysFS had negative value (-1), but there must be at least one NUMA node, so returning NUMA node zero\n",
      "2022-08-05 16:15:46.662963: I tensorflow/stream_executor/cuda/cuda_gpu_executor.cc:937] successful NUMA node read from SysFS had negative value (-1), but there must be at least one NUMA node, so returning NUMA node zero\n",
      "2022-08-05 16:15:46.663427: I tensorflow/stream_executor/cuda/cuda_gpu_executor.cc:937] successful NUMA node read from SysFS had negative value (-1), but there must be at least one NUMA node, so returning NUMA node zero\n",
      "2022-08-05 16:15:46.663939: I tensorflow/core/common_runtime/gpu/gpu_device.cc:1510] Created device /device:GPU:0 with 2651 MB memory:  -> device: 0, name: NVIDIA GeForce GTX 1650 Ti, pci bus id: 0000:01:00.0, compute capability: 7.5\n"
     ]
    },
    {
     "data": {
      "text/plain": "       reply_distance_2  reply_distance_3     timedelta  root_distance_0  \\\ncount     809823.000000     809823.000000  8.098230e+05    809823.000000   \nmean           0.005518          0.002841  5.369646e+04         0.038011   \nstd            0.074081          0.053229  8.978862e+05         0.191222   \nmin            0.000000          0.000000  1.000000e-06         0.000000   \n25%            0.000000          0.000000  2.053000e+03         0.000000   \n50%            0.000000          0.000000  8.869000e+03         0.000000   \n75%            0.000000          0.000000  3.365750e+04         0.000000   \nmax            1.000000          1.000000  1.103033e+08         1.000000   \n\n       root_distance_1  root_distance_2  root_distance_3       current  \\\ncount    809823.000000    809823.000000    809823.000000  8.098230e+05   \nmean          0.199583         0.064552         0.028038  1.481440e+18   \nstd           0.399687         0.245734         0.165082  2.648856e+17   \nmin           0.000000         0.000000         0.000000  2.151180e+05   \n25%           0.000000         0.000000         0.000000  1.511883e+18   \n50%           0.000000         0.000000         0.000000  1.524812e+18   \n75%           0.000000         0.000000         0.000000  1.543267e+18   \nmax           1.000000         1.000000         1.000000  7.694580e+18   \n\n          beam_node  has_followed_path  ...  root_distance_14  \\\ncount  8.098230e+05           809823.0  ...     809823.000000   \nmean   1.481198e+18                0.0  ...          0.000254   \nstd    2.641527e+17                0.0  ...          0.015947   \nmin    2.151180e+05                0.0  ...          0.000000   \n25%    1.511768e+18                0.0  ...          0.000000   \n50%    1.524722e+18                0.0  ...          0.000000   \n75%    1.543217e+18                0.0  ...          0.000000   \nmax    7.694580e+18                0.0  ...          1.000000   \n\n       root_distance_15  root_distance_16  root_distance_17  root_distance_18  \\\ncount     809823.000000     809823.000000     809823.000000     809823.000000   \nmean           0.000278          0.000184          0.000111          0.000081   \nstd            0.016666          0.013563          0.010541          0.009027   \nmin            0.000000          0.000000          0.000000          0.000000   \n25%            0.000000          0.000000          0.000000          0.000000   \n50%            0.000000          0.000000          0.000000          0.000000   \n75%            0.000000          0.000000          0.000000          0.000000   \nmax            1.000000          1.000000          1.000000          1.000000   \n\n       root_distance_19  root_distance_20  root_distance_21  root_distance_22  \\\ncount     809823.000000     809823.000000     809823.000000     809823.000000   \nmean           0.000073          0.000065          0.000095          0.000081   \nstd            0.008535          0.008090          0.009751          0.009027   \nmin            0.000000          0.000000          0.000000          0.000000   \n25%            0.000000          0.000000          0.000000          0.000000   \n50%            0.000000          0.000000          0.000000          0.000000   \n75%            0.000000          0.000000          0.000000          0.000000   \nmax            1.000000          1.000000          1.000000          1.000000   \n\n       root_distance_23  \ncount     809823.000000  \nmean           0.000073  \nstd            0.008535  \nmin            0.000000  \n25%            0.000000  \n50%            0.000000  \n75%            0.000000  \nmax            1.000000  \n\n[8 rows x 54 columns]",
      "text/html": "<div>\n<style scoped>\n    .dataframe tbody tr th:only-of-type {\n        vertical-align: middle;\n    }\n\n    .dataframe tbody tr th {\n        vertical-align: top;\n    }\n\n    .dataframe thead th {\n        text-align: right;\n    }\n</style>\n<table border=\"1\" class=\"dataframe\">\n  <thead>\n    <tr style=\"text-align: right;\">\n      <th></th>\n      <th>reply_distance_2</th>\n      <th>reply_distance_3</th>\n      <th>timedelta</th>\n      <th>root_distance_0</th>\n      <th>root_distance_1</th>\n      <th>root_distance_2</th>\n      <th>root_distance_3</th>\n      <th>current</th>\n      <th>beam_node</th>\n      <th>has_followed_path</th>\n      <th>...</th>\n      <th>root_distance_14</th>\n      <th>root_distance_15</th>\n      <th>root_distance_16</th>\n      <th>root_distance_17</th>\n      <th>root_distance_18</th>\n      <th>root_distance_19</th>\n      <th>root_distance_20</th>\n      <th>root_distance_21</th>\n      <th>root_distance_22</th>\n      <th>root_distance_23</th>\n    </tr>\n  </thead>\n  <tbody>\n    <tr>\n      <th>count</th>\n      <td>809823.000000</td>\n      <td>809823.000000</td>\n      <td>8.098230e+05</td>\n      <td>809823.000000</td>\n      <td>809823.000000</td>\n      <td>809823.000000</td>\n      <td>809823.000000</td>\n      <td>8.098230e+05</td>\n      <td>8.098230e+05</td>\n      <td>809823.0</td>\n      <td>...</td>\n      <td>809823.000000</td>\n      <td>809823.000000</td>\n      <td>809823.000000</td>\n      <td>809823.000000</td>\n      <td>809823.000000</td>\n      <td>809823.000000</td>\n      <td>809823.000000</td>\n      <td>809823.000000</td>\n      <td>809823.000000</td>\n      <td>809823.000000</td>\n    </tr>\n    <tr>\n      <th>mean</th>\n      <td>0.005518</td>\n      <td>0.002841</td>\n      <td>5.369646e+04</td>\n      <td>0.038011</td>\n      <td>0.199583</td>\n      <td>0.064552</td>\n      <td>0.028038</td>\n      <td>1.481440e+18</td>\n      <td>1.481198e+18</td>\n      <td>0.0</td>\n      <td>...</td>\n      <td>0.000254</td>\n      <td>0.000278</td>\n      <td>0.000184</td>\n      <td>0.000111</td>\n      <td>0.000081</td>\n      <td>0.000073</td>\n      <td>0.000065</td>\n      <td>0.000095</td>\n      <td>0.000081</td>\n      <td>0.000073</td>\n    </tr>\n    <tr>\n      <th>std</th>\n      <td>0.074081</td>\n      <td>0.053229</td>\n      <td>8.978862e+05</td>\n      <td>0.191222</td>\n      <td>0.399687</td>\n      <td>0.245734</td>\n      <td>0.165082</td>\n      <td>2.648856e+17</td>\n      <td>2.641527e+17</td>\n      <td>0.0</td>\n      <td>...</td>\n      <td>0.015947</td>\n      <td>0.016666</td>\n      <td>0.013563</td>\n      <td>0.010541</td>\n      <td>0.009027</td>\n      <td>0.008535</td>\n      <td>0.008090</td>\n      <td>0.009751</td>\n      <td>0.009027</td>\n      <td>0.008535</td>\n    </tr>\n    <tr>\n      <th>min</th>\n      <td>0.000000</td>\n      <td>0.000000</td>\n      <td>1.000000e-06</td>\n      <td>0.000000</td>\n      <td>0.000000</td>\n      <td>0.000000</td>\n      <td>0.000000</td>\n      <td>2.151180e+05</td>\n      <td>2.151180e+05</td>\n      <td>0.0</td>\n      <td>...</td>\n      <td>0.000000</td>\n      <td>0.000000</td>\n      <td>0.000000</td>\n      <td>0.000000</td>\n      <td>0.000000</td>\n      <td>0.000000</td>\n      <td>0.000000</td>\n      <td>0.000000</td>\n      <td>0.000000</td>\n      <td>0.000000</td>\n    </tr>\n    <tr>\n      <th>25%</th>\n      <td>0.000000</td>\n      <td>0.000000</td>\n      <td>2.053000e+03</td>\n      <td>0.000000</td>\n      <td>0.000000</td>\n      <td>0.000000</td>\n      <td>0.000000</td>\n      <td>1.511883e+18</td>\n      <td>1.511768e+18</td>\n      <td>0.0</td>\n      <td>...</td>\n      <td>0.000000</td>\n      <td>0.000000</td>\n      <td>0.000000</td>\n      <td>0.000000</td>\n      <td>0.000000</td>\n      <td>0.000000</td>\n      <td>0.000000</td>\n      <td>0.000000</td>\n      <td>0.000000</td>\n      <td>0.000000</td>\n    </tr>\n    <tr>\n      <th>50%</th>\n      <td>0.000000</td>\n      <td>0.000000</td>\n      <td>8.869000e+03</td>\n      <td>0.000000</td>\n      <td>0.000000</td>\n      <td>0.000000</td>\n      <td>0.000000</td>\n      <td>1.524812e+18</td>\n      <td>1.524722e+18</td>\n      <td>0.0</td>\n      <td>...</td>\n      <td>0.000000</td>\n      <td>0.000000</td>\n      <td>0.000000</td>\n      <td>0.000000</td>\n      <td>0.000000</td>\n      <td>0.000000</td>\n      <td>0.000000</td>\n      <td>0.000000</td>\n      <td>0.000000</td>\n      <td>0.000000</td>\n    </tr>\n    <tr>\n      <th>75%</th>\n      <td>0.000000</td>\n      <td>0.000000</td>\n      <td>3.365750e+04</td>\n      <td>0.000000</td>\n      <td>0.000000</td>\n      <td>0.000000</td>\n      <td>0.000000</td>\n      <td>1.543267e+18</td>\n      <td>1.543217e+18</td>\n      <td>0.0</td>\n      <td>...</td>\n      <td>0.000000</td>\n      <td>0.000000</td>\n      <td>0.000000</td>\n      <td>0.000000</td>\n      <td>0.000000</td>\n      <td>0.000000</td>\n      <td>0.000000</td>\n      <td>0.000000</td>\n      <td>0.000000</td>\n      <td>0.000000</td>\n    </tr>\n    <tr>\n      <th>max</th>\n      <td>1.000000</td>\n      <td>1.000000</td>\n      <td>1.103033e+08</td>\n      <td>1.000000</td>\n      <td>1.000000</td>\n      <td>1.000000</td>\n      <td>1.000000</td>\n      <td>7.694580e+18</td>\n      <td>7.694580e+18</td>\n      <td>0.0</td>\n      <td>...</td>\n      <td>1.000000</td>\n      <td>1.000000</td>\n      <td>1.000000</td>\n      <td>1.000000</td>\n      <td>1.000000</td>\n      <td>1.000000</td>\n      <td>1.000000</td>\n      <td>1.000000</td>\n      <td>1.000000</td>\n      <td>1.000000</td>\n    </tr>\n  </tbody>\n</table>\n<p>8 rows × 54 columns</p>\n</div>"
     },
     "execution_count": 125,
     "metadata": {},
     "output_type": "execute_result"
    }
   ],
   "source": [
    "import pandas as pd\n",
    "from sklearn.model_selection import train_test_split\n",
    "import tensorflow as tf\n",
    "from tensorflow.keras.models import Sequential\n",
    "from tensorflow.keras.layers import Dense\n",
    "\n",
    "from keras import backend as K\n",
    "import pickle5 as pickle\n",
    "\n",
    "is_cuda_gpu_available = tf.test.is_gpu_available(cuda_only=True)\n",
    "gpus = tf.config.list_physical_devices('GPU')\n",
    "if gpus:\n",
    "    # Restrict TensorFlow to only allocate 1GB of memory on the first GPU\n",
    "    try:\n",
    "        tf.config.set_logical_device_configuration(\n",
    "            gpus[0],\n",
    "            [tf.config.LogicalDeviceConfiguration(memory_limit=2024)])\n",
    "        logical_gpus = tf.config.list_logical_devices('GPU')\n",
    "        print(len(gpus), \"Physical GPUs,\", len(logical_gpus), \"Logical GPUs\")\n",
    "    except RuntimeError as e:\n",
    "        # Virtual devices must be set before GPUs have been initialized\n",
    "        print(e)\n",
    "print(\"cuda gpu is available: {}\".format(is_cuda_gpu_available))\n",
    "with open(\"data/vision_forward_graph_data_05_08_22.pkl\", 'rb') as f:\n",
    "    df = pickle.load(f)\n",
    "\n",
    "df.describe()"
   ],
   "metadata": {
    "collapsed": false,
    "pycharm": {
     "name": "#%%\n"
    }
   }
  },
  {
   "cell_type": "code",
   "execution_count": 126,
   "outputs": [],
   "source": [
    "# importing utility functions\n",
    "%run author_vision_util.ipynb"
   ],
   "metadata": {
    "collapsed": false,
    "pycharm": {
     "name": "#%%\n"
    }
   }
  },
  {
   "cell_type": "code",
   "execution_count": 127,
   "outputs": [
    {
     "name": "stdout",
     "output_type": "stream",
     "text": [
      "chosen 21 conversations and gotten 26524 from twitter compared to 24497 from reddit\n"
     ]
    },
    {
     "data": {
      "text/plain": "(24497, 57)"
     },
     "execution_count": 127,
     "metadata": {},
     "output_type": "execute_result"
    }
   ],
   "source": [
    "df = equalize_samples(df)\n",
    "df = df[df[\"platform\"] == \"reddit\"]\n",
    "df.shape"
   ],
   "metadata": {
    "collapsed": false,
    "pycharm": {
     "name": "#%%\n"
    }
   }
  },
  {
   "cell_type": "code",
   "execution_count": 127,
   "outputs": [],
   "source": [],
   "metadata": {
    "collapsed": false,
    "pycharm": {
     "name": "#%%\n"
    }
   }
  },
  {
   "cell_type": "markdown",
   "source": [
    "#### Create a one hot vector representation of the possible authors\n",
    "- create an artificial user that represents a new user in a conversation up to that point\n",
    "- get a matrix with the authors as columns and a 1 if the author wrote the post\n",
    "- join it with the feature matrix\n",
    "- drop the author column\n"
   ],
   "metadata": {
    "collapsed": false,
    "pycharm": {
     "name": "#%% md\n"
    }
   }
  },
  {
   "cell_type": "code",
   "execution_count": 128,
   "outputs": [
    {
     "data": {
      "text/plain": "       is_new_author\n49643           True\n49644           True",
      "text/html": "<div>\n<style scoped>\n    .dataframe tbody tr th:only-of-type {\n        vertical-align: middle;\n    }\n\n    .dataframe tbody tr th {\n        vertical-align: top;\n    }\n\n    .dataframe thead th {\n        text-align: right;\n    }\n</style>\n<table border=\"1\" class=\"dataframe\">\n  <thead>\n    <tr style=\"text-align: right;\">\n      <th></th>\n      <th>is_new_author</th>\n    </tr>\n  </thead>\n  <tbody>\n    <tr>\n      <th>49643</th>\n      <td>True</td>\n    </tr>\n    <tr>\n      <th>49644</th>\n      <td>True</td>\n    </tr>\n  </tbody>\n</table>\n</div>"
     },
     "execution_count": 128,
     "metadata": {},
     "output_type": "execute_result"
    }
   ],
   "source": [
    "# compute a fake user that symbolizes that the given user has not been seen at a given stage in the conversation\n",
    "df_conversation_authors = df[[\"conversation_id\", \"author\", \"current_time\"]]\n",
    "first_times = df_conversation_authors.groupby([\"conversation_id\", \"author\"]).min()\n",
    "\n",
    "def is_new_author(row):\n",
    "    earliest_author_post = first_times.loc[row[\"conversation_id\"],row[\"author\"]]\n",
    "    current_post_time = row[\"current_time\"]\n",
    "    return  earliest_author_post >= current_post_time\n",
    "\n",
    "new_author_column = df[[\"conversation_id\", \"author\", \"current_time\"]].apply(is_new_author, axis=1)\n",
    "new_author_column= new_author_column.rename(columns={'current_time':\"is_new_author\"})\n",
    "#new_author_column.describe()\n",
    "# current author has not been the beam_node\n",
    "new_author_column.head(2)"
   ],
   "metadata": {
    "collapsed": false,
    "pycharm": {
     "name": "#%%\n"
    }
   }
  },
  {
   "cell_type": "code",
   "execution_count": 129,
   "outputs": [],
   "source": [
    "\n",
    "author_one_hot = pd.get_dummies(df.author, prefix=\"Author\", sparse=True)\n",
    "author_one_hot = author_one_hot.astype(bool).apply(lambda x: x & ~new_author_column.is_new_author).astype(int)\n",
    "labels = author_one_hot.join(new_author_column.astype(int))"
   ],
   "metadata": {
    "collapsed": false,
    "pycharm": {
     "name": "#%%\n"
    }
   }
  },
  {
   "cell_type": "code",
   "execution_count": 130,
   "outputs": [
    {
     "data": {
      "text/plain": "       reply_distance_2  reply_distance_3  timedelta  root_distance_0  \\\n49643               0.0               0.0     8417.0                1   \n49644               0.0               0.0    22934.0                1   \n49645               0.0               0.0    14517.0                0   \n49646               0.0               0.0    30452.0                1   \n49647               0.0               0.0    22035.0                0   \n\n       root_distance_1  root_distance_2  root_distance_3  reply_distance_4  \\\n49643              0.0              0.0              0.0               0.0   \n49644              0.0              0.0              0.0               0.0   \n49645              0.0              0.0              0.0               0.0   \n49646              0.0              0.0              0.0               0.0   \n49647              0.0              0.0              0.0               0.0   \n\n       root_distance_4  reply_distance_5  ...  Author_96936451  \\\n49643              0.0               0.0  ...                0   \n49644              0.0               0.0  ...                0   \n49645              0.0               0.0  ...                0   \n49646              0.0               0.0  ...                0   \n49647              0.0               0.0  ...                0   \n\n       Author_97185894  Author_97589063  Author_98630915  Author_98760724  \\\n49643                0                0                0                0   \n49644                0                0                0                0   \n49645                0                0                0                0   \n49646                0                0                0                0   \n49647                0                0                0                0   \n\n       Author_98781300  Author_99195573  Author_99501227  Author_99879210  \\\n49643                0                0                0                0   \n49644                0                0                0                0   \n49645                0                0                0                0   \n49646                0                0                0                0   \n49647                0                0                0                0   \n\n       is_new_author  \n49643              1  \n49644              1  \n49645              1  \n49646              1  \n49647              1  \n\n[5 rows x 454 columns]",
      "text/html": "<div>\n<style scoped>\n    .dataframe tbody tr th:only-of-type {\n        vertical-align: middle;\n    }\n\n    .dataframe tbody tr th {\n        vertical-align: top;\n    }\n\n    .dataframe thead th {\n        text-align: right;\n    }\n</style>\n<table border=\"1\" class=\"dataframe\">\n  <thead>\n    <tr style=\"text-align: right;\">\n      <th></th>\n      <th>reply_distance_2</th>\n      <th>reply_distance_3</th>\n      <th>timedelta</th>\n      <th>root_distance_0</th>\n      <th>root_distance_1</th>\n      <th>root_distance_2</th>\n      <th>root_distance_3</th>\n      <th>reply_distance_4</th>\n      <th>root_distance_4</th>\n      <th>reply_distance_5</th>\n      <th>...</th>\n      <th>Author_96936451</th>\n      <th>Author_97185894</th>\n      <th>Author_97589063</th>\n      <th>Author_98630915</th>\n      <th>Author_98760724</th>\n      <th>Author_98781300</th>\n      <th>Author_99195573</th>\n      <th>Author_99501227</th>\n      <th>Author_99879210</th>\n      <th>is_new_author</th>\n    </tr>\n  </thead>\n  <tbody>\n    <tr>\n      <th>49643</th>\n      <td>0.0</td>\n      <td>0.0</td>\n      <td>8417.0</td>\n      <td>1</td>\n      <td>0.0</td>\n      <td>0.0</td>\n      <td>0.0</td>\n      <td>0.0</td>\n      <td>0.0</td>\n      <td>0.0</td>\n      <td>...</td>\n      <td>0</td>\n      <td>0</td>\n      <td>0</td>\n      <td>0</td>\n      <td>0</td>\n      <td>0</td>\n      <td>0</td>\n      <td>0</td>\n      <td>0</td>\n      <td>1</td>\n    </tr>\n    <tr>\n      <th>49644</th>\n      <td>0.0</td>\n      <td>0.0</td>\n      <td>22934.0</td>\n      <td>1</td>\n      <td>0.0</td>\n      <td>0.0</td>\n      <td>0.0</td>\n      <td>0.0</td>\n      <td>0.0</td>\n      <td>0.0</td>\n      <td>...</td>\n      <td>0</td>\n      <td>0</td>\n      <td>0</td>\n      <td>0</td>\n      <td>0</td>\n      <td>0</td>\n      <td>0</td>\n      <td>0</td>\n      <td>0</td>\n      <td>1</td>\n    </tr>\n    <tr>\n      <th>49645</th>\n      <td>0.0</td>\n      <td>0.0</td>\n      <td>14517.0</td>\n      <td>0</td>\n      <td>0.0</td>\n      <td>0.0</td>\n      <td>0.0</td>\n      <td>0.0</td>\n      <td>0.0</td>\n      <td>0.0</td>\n      <td>...</td>\n      <td>0</td>\n      <td>0</td>\n      <td>0</td>\n      <td>0</td>\n      <td>0</td>\n      <td>0</td>\n      <td>0</td>\n      <td>0</td>\n      <td>0</td>\n      <td>1</td>\n    </tr>\n    <tr>\n      <th>49646</th>\n      <td>0.0</td>\n      <td>0.0</td>\n      <td>30452.0</td>\n      <td>1</td>\n      <td>0.0</td>\n      <td>0.0</td>\n      <td>0.0</td>\n      <td>0.0</td>\n      <td>0.0</td>\n      <td>0.0</td>\n      <td>...</td>\n      <td>0</td>\n      <td>0</td>\n      <td>0</td>\n      <td>0</td>\n      <td>0</td>\n      <td>0</td>\n      <td>0</td>\n      <td>0</td>\n      <td>0</td>\n      <td>1</td>\n    </tr>\n    <tr>\n      <th>49647</th>\n      <td>0.0</td>\n      <td>0.0</td>\n      <td>22035.0</td>\n      <td>0</td>\n      <td>0.0</td>\n      <td>0.0</td>\n      <td>0.0</td>\n      <td>0.0</td>\n      <td>0.0</td>\n      <td>0.0</td>\n      <td>...</td>\n      <td>0</td>\n      <td>0</td>\n      <td>0</td>\n      <td>0</td>\n      <td>0</td>\n      <td>0</td>\n      <td>0</td>\n      <td>0</td>\n      <td>0</td>\n      <td>1</td>\n    </tr>\n  </tbody>\n</table>\n<p>5 rows × 454 columns</p>\n</div>"
     },
     "execution_count": 130,
     "metadata": {},
     "output_type": "execute_result"
    }
   ],
   "source": [
    "\n",
    "# author_one_hot.to_pickle(\"data/forward_authors_encodin.pkl\")\n",
    "features = take_features(df, [\"author\", \"current_time\", \"beam_node_time\"])\n",
    "#features = features.drop(\"author\", axis=1)\n",
    "combined_set = features.join(labels)\n",
    "combined_set.head()"
   ],
   "metadata": {
    "collapsed": false,
    "pycharm": {
     "name": "#%%\n"
    }
   }
  },
  {
   "cell_type": "code",
   "execution_count": 131,
   "outputs": [
    {
     "name": "stdout",
     "output_type": "stream",
     "text": [
      "split training and test set\n",
      "seperated features and y with shapes (x,y)\n",
      "(19597, 48)\n",
      "(19597, 407)\n",
      "inputshape is (48,)\n",
      "defined model as [<keras.layers.core.Dense object at 0x7fe478e6bc70>, <keras.layers.core.Dropout object at 0x7fe5543a9430>, <keras.layers.core.Dense object at 0x7fe5543a9a90>, <keras.layers.core.Dense object at 0x7fe554073460>]\n",
      "compiled model\n",
      "Epoch 1/3\n",
      "613/613 [==============================] - 1s 2ms/step - loss: 1177.1414 - categorical_accuracy: 0.0958 - mae: 0.0045\n",
      "Epoch 2/3\n",
      "613/613 [==============================] - 1s 2ms/step - loss: 5.6163 - categorical_accuracy: 0.3243 - mae: 0.0049\n",
      "Epoch 3/3\n",
      "613/613 [==============================] - 1s 2ms/step - loss: 5.1827 - categorical_accuracy: 0.3876 - mae: 0.0048\n",
      "154/154 [==============================] - 0s 1ms/step - loss: 4.3125 - categorical_accuracy: 0.3841 - mae: 0.0048\n",
      "the accuracy on the training set is 0.38408163189888 and the mae is 0.004828783683478832\n"
     ]
    }
   ],
   "source": [
    "from keras.layers import Dropout\n",
    "from keras.optimizer_v2.rmsprop import RMSprop  # selecting train and test datasets\n",
    "train, test = train_test_split(combined_set, test_size=0.2, shuffle=True)\n",
    "print(\"split training and test set\")\n",
    "\n",
    "# train the model\n",
    "y = train.drop(features.columns, axis=1)\n",
    "x = train.drop(author_one_hot.columns, axis=1)\n",
    "print(\"seperated features and y with shapes (x,y)\")\n",
    "print(x.shape)\n",
    "print(y.shape)\n",
    "\n",
    "# import tensorflow and train the model\n",
    "# print(tf.__version__)\n",
    "input_shape = (x.shape[1],)\n",
    "output_shape = y.shape[1]\n",
    "print(\"inputshape is {}\".format(input_shape))\n",
    "model = Sequential([\n",
    "    Dense(output_shape, activation='relu', input_shape=input_shape),\n",
    "    Dropout(0.2),\n",
    "    Dense(output_shape, activation='relu'),\n",
    "    Dense(output_shape, activation='softmax', input_shape=input_shape)\n",
    "])\n",
    "print(\"defined model as {}\".format(model.layers))\n",
    "# stochastic gradient descend as a classifier seem appropriate\n",
    "model.compile(\n",
    "    optimizer=RMSprop(),\n",
    "    loss='categorical_crossentropy',\n",
    "    metrics=['categorical_accuracy', 'mae']\n",
    ")\n",
    "print(\"compiled model\")\n",
    "model.fit(x, y, epochs=3)\n",
    "#model.fit(x, y, epochs=10, shuffle=True)\n",
    "# evaluate the model on the test set\n",
    "test_y = test.drop(features.columns, axis=1)\n",
    "test_x = test.drop(author_one_hot.columns, axis=1)\n",
    "\n",
    "loss, accuracy, mae = model.evaluate(test_x, test_y)\n",
    "print(\"the accuracy on the training set is {} and the mae is {}\".format(accuracy, mae))\n",
    "\n"
   ],
   "metadata": {
    "collapsed": false,
    "pycharm": {
     "name": "#%%\n"
    }
   }
  }
 ],
 "metadata": {
  "kernelspec": {
   "display_name": "Python 3",
   "language": "python",
   "name": "python3"
  },
  "language_info": {
   "codemirror_mode": {
    "name": "ipython",
    "version": 2
   },
   "file_extension": ".py",
   "mimetype": "text/x-python",
   "name": "python",
   "nbconvert_exporter": "python",
   "pygments_lexer": "ipython2",
   "version": "2.7.6"
  }
 },
 "nbformat": 4,
 "nbformat_minor": 0
}