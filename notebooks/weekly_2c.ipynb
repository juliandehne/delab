{
 "cells": [
  {
   "cell_type": "markdown",
   "metadata": {
    "pycharm": {
     "name": "#%% md\n"
    }
   },
   "source": [
    "# Analyzing the topic changes and their implications\n",
    "\n",
    "First, we load the pretrained topic model and the vectors"
   ]
  },
  {
   "cell_type": "code",
   "execution_count": 2,
   "metadata": {},
   "outputs": [
    {
     "name": "stderr",
     "output_type": "stream",
     "text": [
      "100%|██████████| 23/23 [00:00<00:00, 155094.84it/s]"
     ]
    },
    {
     "name": "stdout",
     "output_type": "stream",
     "text": [
      "['it', 'is', 'are', 'be', 'they', 'people', 'what', 'your', 'have', 'all']\n",
      "['covid', 'vaccine', 'vaccinated', 'pandemic', 'vaccines', 'vaccination', 'health', 'virus', 'mask', 'masks']\n",
      "['uk', 'tory', 'china', 'brexit', 'border', 'eu', 'they', 'mp', 'who', 'politics']\n"
     ]
    },
    {
     "name": "stderr",
     "output_type": "stream",
     "text": [
      "\n"
     ]
    }
   ],
   "source": [
    "import numpy as np\n",
    "from tqdm import tqdm\n",
    "import sqlite3\n",
    "import pandas as pd\n",
    "from collections import defaultdict\n",
    "from bertopic import BERTopic\n",
    "from util.sql_switch import get_query_native\n",
    "\n",
    "#import delab.topic.train_topic_model as tm\n",
    "\n",
    "bertopic_model = BERTopic().load(\"BERTopic_en\", embedding_model=\"sentence-transformers/all-mpnet-base-v2\")\n",
    "topic_info = bertopic_model.get_topic_info()\n",
    "\n",
    "\n",
    "def topic2wordvec(topic_model):\n",
    "    result = []\n",
    "    for t_word in topic_model:\n",
    "        str_w = t_word[0]\n",
    "        result.append(str_w)\n",
    "    return result\n",
    "\n",
    "\n",
    "# create topic-word map\n",
    "topic2word = defaultdict(list)\n",
    "for topic_id in tqdm(topic_info.Topic):\n",
    "    topic_model = bertopic_model.get_topic(topic_id)\n",
    "    words = topic2wordvec(topic_model)\n",
    "    topic2word[topic_id] = topic2word[topic_id] + words\n",
    "t2w_keys = list(topic2word.keys())[0:3]\n",
    "for key in t2w_keys:\n",
    "    print(topic2word[key])"
   ]
  },
  {
   "cell_type": "markdown",
   "metadata": {
    "pycharm": {
     "name": "#%% md\n"
    }
   },
   "source": [
    "Now we are loading the pre_saved ft vectors from the database!\n"
   ]
  },
  {
   "cell_type": "code",
   "execution_count": 3,
   "metadata": {
    "pycharm": {
     "name": "#%%\n"
    }
   },
   "outputs": [
    {
     "name": "stdout",
     "output_type": "stream",
     "text": [
      "using postgres\n"
     ]
    },
    {
     "data": {
      "text/plain": "      id  \\\n0  22884   \n1  21349   \n2  28092   \n\n                                                                                                                                                                                                                                                             text  \\\n0  @PoliticsJOE_UK Yeah, people like these Iraqis that no doubt would’ve got into dinghies had they got the chance, who are now flying back to Iraq from Belarus because they can’t get into Poland. You know genuine refugees like that🙄 https://t.co/hptkU9skCY   \n1                                                                                                                                                                                                                            @BernieSpofforth Welcome to Germany!   \n2                                                                                                                                                                                                                                                   @ulfposh Lost   \n\n            author_id  bertopic_id      conversation_id  sentiment_value  \\\n0          4416209877            4  1464535733058818052           0.5423   \n1          2793773537            2  1464287786077282304           0.5093   \n2  986649947243237376            8  1468163142471536644          -0.3182   \n\n                 created_at  \n0 2021-11-28 10:30:16+00:00  \n1 2021-11-26 18:33:29+00:00  \n2 2021-12-07 10:27:34+00:00  ",
      "text/html": "<div>\n<style scoped>\n    .dataframe tbody tr th:only-of-type {\n        vertical-align: middle;\n    }\n\n    .dataframe tbody tr th {\n        vertical-align: top;\n    }\n\n    .dataframe thead th {\n        text-align: right;\n    }\n</style>\n<table border=\"1\" class=\"dataframe\">\n  <thead>\n    <tr style=\"text-align: right;\">\n      <th></th>\n      <th>id</th>\n      <th>text</th>\n      <th>author_id</th>\n      <th>bertopic_id</th>\n      <th>conversation_id</th>\n      <th>sentiment_value</th>\n      <th>created_at</th>\n    </tr>\n  </thead>\n  <tbody>\n    <tr>\n      <th>0</th>\n      <td>22884</td>\n      <td>@PoliticsJOE_UK Yeah, people like these Iraqis that no doubt would’ve got into dinghies had they got the chance, who are now flying back to Iraq from Belarus because they can’t get into Poland. You know genuine refugees like that🙄 https://t.co/hptkU9skCY</td>\n      <td>4416209877</td>\n      <td>4</td>\n      <td>1464535733058818052</td>\n      <td>0.5423</td>\n      <td>2021-11-28 10:30:16+00:00</td>\n    </tr>\n    <tr>\n      <th>1</th>\n      <td>21349</td>\n      <td>@BernieSpofforth Welcome to Germany!</td>\n      <td>2793773537</td>\n      <td>2</td>\n      <td>1464287786077282304</td>\n      <td>0.5093</td>\n      <td>2021-11-26 18:33:29+00:00</td>\n    </tr>\n    <tr>\n      <th>2</th>\n      <td>28092</td>\n      <td>@ulfposh Lost</td>\n      <td>986649947243237376</td>\n      <td>8</td>\n      <td>1468163142471536644</td>\n      <td>-0.3182</td>\n      <td>2021-12-07 10:27:34+00:00</td>\n    </tr>\n  </tbody>\n</table>\n</div>"
     },
     "execution_count": 3,
     "metadata": {},
     "output_type": "execute_result"
    }
   ],
   "source": [
    "df_conversations = get_query_native(\n",
    "    \"SELECT id, text, author_id, bertopic_id, conversation_id,sentiment_value,created_at FROM delab_tweet tw where language = 'en' and bertopic_id >= 0\")\n",
    "df_conversations.head(3)"
   ]
  },
  {
   "cell_type": "code",
   "execution_count": 4,
   "metadata": {
    "pycharm": {
     "name": "#%%\n"
    }
   },
   "outputs": [
    {
     "name": "stdout",
     "output_type": "stream",
     "text": [
      "0    @PoliticsJOE_UK Yeah, people like these Iraqis that no doubt would’ve got into dinghies had they got the chance, who are now flying back to Iraq from Belarus because they can’t get into Poland. You know genuine refugees like that🙄 https://t.co/hptkU9skCY\n",
      "Name: text, dtype: object\n",
      "[('he', 0.08909152892451723), ('his', 0.04485406191111942), ('him', 0.029644704516226347), ('guy', 0.025147405502206108), ('himself', 0.01571769148472905), ('respect', 0.014493778043512874), ('chappelle', 0.014070704116319869), ('elon', 0.01347302668047822), ('wife', 0.013009432044783878), ('actor', 0.013009432044783878)]\n"
     ]
    }
   ],
   "source": [
    "pd.set_option('display.max_colwidth', None)\n",
    "text = df_conversations.head(1).text\n",
    "print(text)\n",
    "id = df_conversations.head(1).bertopic_id[0]\n",
    "bertopic = bertopic_model.get_topic(id)\n",
    "print(bertopic)"
   ]
  },
  {
   "cell_type": "markdown",
   "metadata": {
    "pycharm": {
     "name": "#%% md\n"
    }
   },
   "source": [
    "It looks like our topic is matching the tweet."
   ]
  },
  {
   "cell_type": "code",
   "execution_count": 5,
   "metadata": {
    "pycharm": {
     "name": "#%%\n"
    }
   },
   "outputs": [
    {
     "name": "stdout",
     "output_type": "stream",
     "text": [
      "using postgres\n",
      "using postgres\n",
      "4158\n",
      "11342\n",
      "15500\n",
      "From 15500 tweets 73.1741935483871 percent could not be topic labeled\n"
     ]
    }
   ],
   "source": [
    "df_conversations_bad_topic = get_query_native(\n",
    "    \"SELECT COUNT(*) as n  FROM delab_tweet tw where language = 'en' and bertopic_id < 0\")\n",
    "\n",
    "df_conversations_total = get_query_native(\n",
    "    \"SELECT COUNT(*) as n  FROM delab_tweet tw where language = 'en' and bertopic_id is not null\")\n",
    "\n",
    "print(df_conversations.id.size)\n",
    "print(df_conversations_bad_topic.n[0])\n",
    "print(df_conversations_total.n[0])\n",
    "\n",
    "print(\"From {} tweets {} percent could not be topic labeled\".format(df_conversations_total.n[0],\n",
    "                                                                    df_conversations_bad_topic.n[0] * 100 /\n",
    "                                                                    df_conversations_total.n[0]))"
   ]
  },
  {
   "cell_type": "markdown",
   "metadata": {
    "pycharm": {
     "name": "#%% md\n"
    }
   },
   "source": [
    "It seems, that our recall is not so great. We favoured the precision over the recall, drastically removing\n",
    "topics that did not include words in the vocabulary. However, the bert models have good results on the oov-words, too.\n",
    "\n",
    "More importantly, the high precision and low recall clashes with low precision and high sensitivity from the sentiment analysis.\n",
    "However, we are continuing for the moment in order to have a look at the results as they stand."
   ]
  },
  {
   "cell_type": "code",
   "execution_count": 6,
   "metadata": {
    "pycharm": {
     "name": "#%%\n"
    }
   },
   "outputs": [
    {
     "data": {
      "text/plain": "conversation_id\n1464127502889074691     10\n1464236651077640197    359\n1464243607313928199     25\n1464243804333121542     48\n1464287786077282304    274\n1464306923013033997     16\n1464364597192892416     11\n1464484307225878538     33\n1464495636628131841     12\n1464535733058818052    151\n1464637398655111177     95\n1464646688426147847    132\n1464685325930872835    124\n1464753338243633159     56\n1464854222436974593     20\n1464861156892459011     21\n1464881189232250888    248\n1466020780190449666     10\n1468120339305672704     20\n1468163142471536644     14\n1468403496781115392     54\n1469430090635169793     13\n1470688041731866626     18\n1471799080422625280    191\n1471881656323739650     14\n1472028221583601666     78\n1472233459108450306    493\n1472249457467142146     10\n1472321735513026562     14\n1472359193294237697    354\n1472395673375055875     50\n1472398877475196934     11\n1472523142908104707     10\n1472580223178846215     11\n1472678431519297539     74\n1472706544017960960     34\n1472730135166128133     23\n1472742716824035331     71\n1472747326691291146     47\n1472771314196705283    178\n1472889271405232128     12\n1472900457844682756     48\n1472950748019318793    401\n1473140446322851848     97\ndtype: int64"
     },
     "execution_count": 6,
     "metadata": {},
     "output_type": "execute_result"
    }
   ],
   "source": [
    "#df_conversations.conversation_id.nunique()\n",
    "df_reshaped = df_conversations.pivot(index=\"id\", columns=\"conversation_id\", values=\"text\")\n",
    "mask = 10 > df_reshaped.nunique()\n",
    "mask = mask[mask == True]\n",
    "df_reshaped.drop(columns=mask.index, inplace=True)\n",
    "df_reshaped.nunique()"
   ]
  },
  {
   "cell_type": "markdown",
   "metadata": {
    "pycharm": {
     "name": "#%% md\n"
    }
   },
   "source": [
    "There are only 4 conversations with 10 or more tweets that have a valid topic classification :-(.\n",
    "\n",
    "Lets' have a look at the relation between sentiment_values and topic_changes!"
   ]
  },
  {
   "cell_type": "code",
   "execution_count": 7,
   "metadata": {
    "pycharm": {
     "name": "#%%\n"
    }
   },
   "outputs": [
    {
     "data": {
      "text/plain": "        id  bertopic_id      conversation_id  sentiment_value  \\\n133  21007           12  1464127502889074691              0.0   \n134  21012           12  1464127502889074691              0.0   \n139  21003           12  1464127502889074691              0.0   \n\n                   created_at  \n133 2021-11-26 16:03:41+00:00  \n134 2021-11-26 11:10:25+00:00  \n139 2021-11-26 21:46:28+00:00  ",
      "text/html": "<div>\n<style scoped>\n    .dataframe tbody tr th:only-of-type {\n        vertical-align: middle;\n    }\n\n    .dataframe tbody tr th {\n        vertical-align: top;\n    }\n\n    .dataframe thead th {\n        text-align: right;\n    }\n</style>\n<table border=\"1\" class=\"dataframe\">\n  <thead>\n    <tr style=\"text-align: right;\">\n      <th></th>\n      <th>id</th>\n      <th>bertopic_id</th>\n      <th>conversation_id</th>\n      <th>sentiment_value</th>\n      <th>created_at</th>\n    </tr>\n  </thead>\n  <tbody>\n    <tr>\n      <th>133</th>\n      <td>21007</td>\n      <td>12</td>\n      <td>1464127502889074691</td>\n      <td>0.0</td>\n      <td>2021-11-26 16:03:41+00:00</td>\n    </tr>\n    <tr>\n      <th>134</th>\n      <td>21012</td>\n      <td>12</td>\n      <td>1464127502889074691</td>\n      <td>0.0</td>\n      <td>2021-11-26 11:10:25+00:00</td>\n    </tr>\n    <tr>\n      <th>139</th>\n      <td>21003</td>\n      <td>12</td>\n      <td>1464127502889074691</td>\n      <td>0.0</td>\n      <td>2021-11-26 21:46:28+00:00</td>\n    </tr>\n  </tbody>\n</table>\n</div>"
     },
     "execution_count": 7,
     "metadata": {},
     "output_type": "execute_result"
    }
   ],
   "source": [
    "conversation_corpora_cleaned = {}\n",
    "conversation_corpora = df_reshaped.to_dict(orient=\"series\")\n",
    "for conversation_id, tweets in conversation_corpora.items():\n",
    "    conversation_corpora_cleaned[conversation_id] = tweets.dropna()\n",
    "\n",
    "useful_conversations_keys = conversation_corpora_cleaned.keys()\n",
    "\n",
    "useful_conversations = df_conversations[df_conversations[\"conversation_id\"].isin(useful_conversations_keys)]\n",
    "useful_conversations = useful_conversations.loc[:,\n",
    "                       [\"id\", \"bertopic_id\", \"conversation_id\", \"sentiment_value\", \"created_at\"]]\n",
    "\n",
    "example_id = df_reshaped.nunique().index[0]\n",
    "exampleconversation = useful_conversations[useful_conversations.conversation_id == example_id]\n",
    "exampleconversation.head(3)"
   ]
  },
  {
   "cell_type": "markdown",
   "metadata": {
    "pycharm": {
     "name": "#%% md\n"
    }
   },
   "source": [
    "This conversation seems a good candidate for inspection as it includes drastic topic and sentiment changes.\n"
   ]
  },
  {
   "cell_type": "code",
   "execution_count": 8,
   "metadata": {
    "pycharm": {
     "name": "#%%\n"
    }
   },
   "outputs": [
    {
     "name": "stdout",
     "output_type": "stream",
     "text": [
      "using postgres\n"
     ]
    },
    {
     "data": {
      "text/plain": "      id  bertopic_id      conversation_id  sentiment_value  \\\n0  21022           12  1464127502889074691           0.0000   \n1  21019           12  1464127502889074691           0.0772   \n2  21016           12  1464127502889074691           0.0000   \n3  21017            3  1464127502889074691           0.0000   \n4  21012           12  1464127502889074691           0.0000   \n\n                 created_at  bertopic_shifted  topic_delta  \n0 2021-11-26 07:15:43+00:00               NaN          NaN  \n1 2021-11-26 08:01:07+00:00              12.0     0.000000  \n2 2021-11-26 08:26:34+00:00              12.0     0.000000  \n3 2021-11-26 08:27:29+00:00              12.0     0.826969  \n4 2021-11-26 11:10:25+00:00               3.0     0.826969  ",
      "text/html": "<div>\n<style scoped>\n    .dataframe tbody tr th:only-of-type {\n        vertical-align: middle;\n    }\n\n    .dataframe tbody tr th {\n        vertical-align: top;\n    }\n\n    .dataframe thead th {\n        text-align: right;\n    }\n</style>\n<table border=\"1\" class=\"dataframe\">\n  <thead>\n    <tr style=\"text-align: right;\">\n      <th></th>\n      <th>id</th>\n      <th>bertopic_id</th>\n      <th>conversation_id</th>\n      <th>sentiment_value</th>\n      <th>created_at</th>\n      <th>bertopic_shifted</th>\n      <th>topic_delta</th>\n    </tr>\n  </thead>\n  <tbody>\n    <tr>\n      <th>0</th>\n      <td>21022</td>\n      <td>12</td>\n      <td>1464127502889074691</td>\n      <td>0.0000</td>\n      <td>2021-11-26 07:15:43+00:00</td>\n      <td>NaN</td>\n      <td>NaN</td>\n    </tr>\n    <tr>\n      <th>1</th>\n      <td>21019</td>\n      <td>12</td>\n      <td>1464127502889074691</td>\n      <td>0.0772</td>\n      <td>2021-11-26 08:01:07+00:00</td>\n      <td>12.0</td>\n      <td>0.000000</td>\n    </tr>\n    <tr>\n      <th>2</th>\n      <td>21016</td>\n      <td>12</td>\n      <td>1464127502889074691</td>\n      <td>0.0000</td>\n      <td>2021-11-26 08:26:34+00:00</td>\n      <td>12.0</td>\n      <td>0.000000</td>\n    </tr>\n    <tr>\n      <th>3</th>\n      <td>21017</td>\n      <td>3</td>\n      <td>1464127502889074691</td>\n      <td>0.0000</td>\n      <td>2021-11-26 08:27:29+00:00</td>\n      <td>12.0</td>\n      <td>0.826969</td>\n    </tr>\n    <tr>\n      <th>4</th>\n      <td>21012</td>\n      <td>12</td>\n      <td>1464127502889074691</td>\n      <td>0.0000</td>\n      <td>2021-11-26 11:10:25+00:00</td>\n      <td>3.0</td>\n      <td>0.826969</td>\n    </tr>\n  </tbody>\n</table>\n</div>"
     },
     "execution_count": 8,
     "metadata": {},
     "output_type": "execute_result"
    }
   ],
   "source": [
    "import json\n",
    "from scipy import spatial\n",
    "import numpy as np\n",
    "\n",
    "\n",
    "# in the productive setting filter this query with \"in words contained in the current conversation topics\"\n",
    "word2vec = get_query_native(\n",
    "    \"SELECT word, ft_vector from delab_topicdictionary\")\n",
    "\n",
    "def get_topic_delta(topic_id_1, topic_id_2):\n",
    "    words1 = topic2word.get(topic_id_1)\n",
    "    words2 = topic2word.get(topic_id_2)\n",
    "    if words1 is not None and words2 is not None:\n",
    "        filtered_w2v1 = word2vec[word2vec[\"word\"].isin(words1)]\n",
    "        filtered_w2v2 = word2vec[word2vec[\"word\"].isin(words2)]\n",
    "        ft_vectors_1 = filtered_w2v1.ft_vector.apply(lambda x: pd.Series(json.loads(x)))\n",
    "        ft_vectors_2 = filtered_w2v2.ft_vector.apply(lambda x: pd.Series(json.loads(x)))\n",
    "        len1 = len(ft_vectors_1)\n",
    "        len2 = len(ft_vectors_2)\n",
    "        sum_v1 = (ft_vectors_1.sum(axis=0) / len1) # we assume the vectors are embedded in a linear space\n",
    "        sum_v2 = (ft_vectors_2.sum(axis=0) / len2)\n",
    "        similarity = spatial.distance.cosine(sum_v1, sum_v2)\n",
    "        return similarity\n",
    "    else:\n",
    "        return np.NaN\n",
    "\n",
    "exampleconversation.sort_values(by=['created_at'], ascending=True, inplace=True)\n",
    "exampleconversation.reset_index(drop=True, inplace=True)\n",
    "exampleconversation[\"bertopic_shifted\"] = exampleconversation.bertopic_id.shift()\n",
    "exampleconversation[\"topic_delta\"] = exampleconversation.apply(\n",
    "    lambda x: get_topic_delta(x.bertopic_id, x.bertopic_shifted), axis=1)\n",
    "\n",
    "exampleconversation.head(5)"
   ]
  },
  {
   "cell_type": "code",
   "execution_count": 9,
   "metadata": {
    "pycharm": {
     "name": "#%%\n"
    }
   },
   "outputs": [
    {
     "data": {
      "text/plain": "<Figure size 432x288 with 1 Axes>",
      "image/png": "[encoded data removed]"
     },
     "metadata": {
      "needs_background": "light"
     },
     "output_type": "display_data"
    }
   ],
   "source": [
    "#from sklearn import preprocessing\n",
    "sv = exampleconversation.sentiment_value\n",
    "exampleconversation[\"sentiment_normalized\"] = ((sv-sv.min())/(sv.max()-sv.min()))\n",
    "\n",
    "exampleconversation[\"sentiment_deltas\"] = exampleconversation[\"sentiment_normalized\"].diff().abs()\n",
    "plot = exampleconversation.plot(y=['topic_delta', \"sentiment_deltas\"], xlabel = \"Natural Order in Conversation\", ylabel=\"Normalized changes\", use_index=True)\n",
    "plot.get_figure().savefig('sentiment_topics.png')"
   ]
  },
  {
   "cell_type": "markdown",
   "metadata": {
    "pycharm": {
     "name": "#%% md\n"
    }
   },
   "source": [
    "After normalizing, it looks like we can compare the two metrics. However, topic continuation should be\n",
    "interpreted differently then a continuous sentiment flow.\n",
    "\n",
    "In order to compute the correlation we need to compute:\n",
    "- a more precise sentiment classification\n",
    "- a wider set of conversations with existing topic classifications\n",
    "- a better metric of the topic flow that takes into account the general frequency of topic  changes and\n",
    "  can thus highlight conversations with high or low topic volatility"
   ]
  }
 ],
 "metadata": {
  "kernelspec": {
   "display_name": "Python 3 (ipykernel)",
   "language": "python",
   "name": "python3"
  },
  "language_info": {
   "codemirror_mode": {
    "name": "ipython",
    "version": 3
   },
   "file_extension": ".py",
   "mimetype": "text/x-python",
   "name": "python",
   "nbconvert_exporter": "python",
   "pygments_lexer": "ipython3",
   "version": "3.8.10"
  }
 },
 "nbformat": 4,
 "nbformat_minor": 1
}