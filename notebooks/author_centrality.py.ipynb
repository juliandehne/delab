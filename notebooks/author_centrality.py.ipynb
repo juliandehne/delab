{
 "cells": [
  {
   "cell_type": "code",
   "execution_count": 34,
   "metadata": {
    "collapsed": true,
    "pycharm": {
     "name": "#%%\n"
    }
   },
   "outputs": [
    {
     "data": {
      "text/plain": "                author  centrality_score      conversation_id platform  \\\n0  1250050483479248896          1.000000  1541980961293979650  twitter   \n1  1250050483479248896          0.500000  1541980961293979650  twitter   \n2           3436575263         10.666667  1541980961293979650  twitter   \n3           3436575263          0.500000  1541980961293979650  twitter   \n4           3436575263          0.500000  1541980961293979650  twitter   \n\n   root_distance_avg  \n0                2.0  \n1                3.0  \n2                1.0  \n3                3.0  \n4                3.0  ",
      "text/html": "<div>\n<style scoped>\n    .dataframe tbody tr th:only-of-type {\n        vertical-align: middle;\n    }\n\n    .dataframe tbody tr th {\n        vertical-align: top;\n    }\n\n    .dataframe thead th {\n        text-align: right;\n    }\n</style>\n<table border=\"1\" class=\"dataframe\">\n  <thead>\n    <tr style=\"text-align: right;\">\n      <th></th>\n      <th>author</th>\n      <th>centrality_score</th>\n      <th>conversation_id</th>\n      <th>platform</th>\n      <th>root_distance_avg</th>\n    </tr>\n  </thead>\n  <tbody>\n    <tr>\n      <th>0</th>\n      <td>1250050483479248896</td>\n      <td>1.000000</td>\n      <td>1541980961293979650</td>\n      <td>twitter</td>\n      <td>2.0</td>\n    </tr>\n    <tr>\n      <th>1</th>\n      <td>1250050483479248896</td>\n      <td>0.500000</td>\n      <td>1541980961293979650</td>\n      <td>twitter</td>\n      <td>3.0</td>\n    </tr>\n    <tr>\n      <th>2</th>\n      <td>3436575263</td>\n      <td>10.666667</td>\n      <td>1541980961293979650</td>\n      <td>twitter</td>\n      <td>1.0</td>\n    </tr>\n    <tr>\n      <th>3</th>\n      <td>3436575263</td>\n      <td>0.500000</td>\n      <td>1541980961293979650</td>\n      <td>twitter</td>\n      <td>3.0</td>\n    </tr>\n    <tr>\n      <th>4</th>\n      <td>3436575263</td>\n      <td>0.500000</td>\n      <td>1541980961293979650</td>\n      <td>twitter</td>\n      <td>3.0</td>\n    </tr>\n  </tbody>\n</table>\n</div>"
     },
     "execution_count": 34,
     "metadata": {},
     "output_type": "execute_result"
    }
   ],
   "source": [
    "import pickle5 as pickle\n",
    "\n",
    "filename = \"data/author_centrality_local.pkl\"\n",
    "# filename = \"data/vision_graph_data.pkl\"\n",
    "with open(filename, 'rb') as f:\n",
    "    df = pickle.load(f)\n",
    "\n",
    "df.head()\n"
   ]
  },
  {
   "cell_type": "code",
   "execution_count": 35,
   "outputs": [
    {
     "data": {
      "text/plain": "          centrality_score  root_distance_avg\nplatform                                     \nreddit            1.393353           3.325660\ntwitter           0.853194           3.211606",
      "text/html": "<div>\n<style scoped>\n    .dataframe tbody tr th:only-of-type {\n        vertical-align: middle;\n    }\n\n    .dataframe tbody tr th {\n        vertical-align: top;\n    }\n\n    .dataframe thead th {\n        text-align: right;\n    }\n</style>\n<table border=\"1\" class=\"dataframe\">\n  <thead>\n    <tr style=\"text-align: right;\">\n      <th></th>\n      <th>centrality_score</th>\n      <th>root_distance_avg</th>\n    </tr>\n    <tr>\n      <th>platform</th>\n      <th></th>\n      <th></th>\n    </tr>\n  </thead>\n  <tbody>\n    <tr>\n      <th>reddit</th>\n      <td>1.393353</td>\n      <td>3.325660</td>\n    </tr>\n    <tr>\n      <th>twitter</th>\n      <td>0.853194</td>\n      <td>3.211606</td>\n    </tr>\n  </tbody>\n</table>\n</div>"
     },
     "execution_count": 35,
     "metadata": {},
     "output_type": "execute_result"
    }
   ],
   "source": [
    "df = df.groupby([\"conversation_id\", \"platform\", \"author\"]).mean()\n",
    "df = df.groupby([\"conversation_id\", \"platform\"]).mean()\n",
    "df = df.groupby([\"platform\"]).mean()\n",
    "df"
   ],
   "metadata": {
    "collapsed": false,
    "pycharm": {
     "name": "#%%\n"
    }
   }
  },
  {
   "cell_type": "code",
   "execution_count": 36,
   "outputs": [
    {
     "data": {
      "text/plain": "          centrality_score  root_distance_avg  normalized_centrality\nplatform                                                            \nreddit            1.393353           3.325660                0.41897\ntwitter           0.853194           3.211606                0.26566",
      "text/html": "<div>\n<style scoped>\n    .dataframe tbody tr th:only-of-type {\n        vertical-align: middle;\n    }\n\n    .dataframe tbody tr th {\n        vertical-align: top;\n    }\n\n    .dataframe thead th {\n        text-align: right;\n    }\n</style>\n<table border=\"1\" class=\"dataframe\">\n  <thead>\n    <tr style=\"text-align: right;\">\n      <th></th>\n      <th>centrality_score</th>\n      <th>root_distance_avg</th>\n      <th>normalized_centrality</th>\n    </tr>\n    <tr>\n      <th>platform</th>\n      <th></th>\n      <th></th>\n      <th></th>\n    </tr>\n  </thead>\n  <tbody>\n    <tr>\n      <th>reddit</th>\n      <td>1.393353</td>\n      <td>3.325660</td>\n      <td>0.41897</td>\n    </tr>\n    <tr>\n      <th>twitter</th>\n      <td>0.853194</td>\n      <td>3.211606</td>\n      <td>0.26566</td>\n    </tr>\n  </tbody>\n</table>\n</div>"
     },
     "execution_count": 36,
     "metadata": {},
     "output_type": "execute_result"
    }
   ],
   "source": [
    "df_grouped = df.assign(normalized_centrality=df.centrality_score / df.root_distance_avg)\n",
    "df_grouped"
   ],
   "metadata": {
    "collapsed": false,
    "pycharm": {
     "name": "#%%\n"
    }
   }
  }
 ],
 "metadata": {
  "kernelspec": {
   "display_name": "Python 3",
   "language": "python",
   "name": "python3"
  },
  "language_info": {
   "codemirror_mode": {
    "name": "ipython",
    "version": 2
   },
   "file_extension": ".py",
   "mimetype": "text/x-python",
   "name": "python",
   "nbconvert_exporter": "python",
   "pygments_lexer": "ipython2",
   "version": "2.7.6"
  }
 },
 "nbformat": 4,
 "nbformat_minor": 0
}