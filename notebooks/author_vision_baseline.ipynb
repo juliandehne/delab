{
 "cells": [
  {
   "cell_type": "code",
   "execution_count": 14,
   "outputs": [
    {
     "name": "stdout",
     "output_type": "stream",
     "text": [
      "cuda gpu is available: True\n"
     ]
    },
    {
     "name": "stderr",
     "output_type": "stream",
     "text": [
      "2022-08-03 14:59:30.596970: I tensorflow/stream_executor/cuda/cuda_gpu_executor.cc:937] successful NUMA node read from SysFS had negative value (-1), but there must be at least one NUMA node, so returning NUMA node zero\n",
      "2022-08-03 14:59:30.597301: I tensorflow/stream_executor/cuda/cuda_gpu_executor.cc:937] successful NUMA node read from SysFS had negative value (-1), but there must be at least one NUMA node, so returning NUMA node zero\n",
      "2022-08-03 14:59:30.597527: I tensorflow/stream_executor/cuda/cuda_gpu_executor.cc:937] successful NUMA node read from SysFS had negative value (-1), but there must be at least one NUMA node, so returning NUMA node zero\n",
      "2022-08-03 14:59:30.597807: I tensorflow/stream_executor/cuda/cuda_gpu_executor.cc:937] successful NUMA node read from SysFS had negative value (-1), but there must be at least one NUMA node, so returning NUMA node zero\n",
      "2022-08-03 14:59:30.598025: I tensorflow/stream_executor/cuda/cuda_gpu_executor.cc:937] successful NUMA node read from SysFS had negative value (-1), but there must be at least one NUMA node, so returning NUMA node zero\n",
      "2022-08-03 14:59:30.598211: I tensorflow/core/common_runtime/gpu/gpu_device.cc:1510] Created device /device:GPU:0 with 2446 MB memory:  -> device: 0, name: NVIDIA GeForce GTX 1650 Ti, pci bus id: 0000:01:00.0, compute capability: 7.5\n"
     ]
    },
    {
     "name": "stdout",
     "output_type": "stream",
     "text": [
      "chosen 546 conversations and gotten 535271 from twitter compared to 514793 from reddit\n",
      "reddit:\n",
      "0    453046\n",
      "1     61747\n",
      "Name: y, dtype: int64\n",
      "twitter:\n",
      "0    510363\n",
      "1     24908\n",
      "Name: y, dtype: int64\n",
      "(428216, 81)\n",
      "(428216,)\n",
      "2.6.0\n",
      "13382/13382 [==============================] - 16s 1ms/step - loss: 0.1508 - accuracy: 0.9533 - mae: 0.0983\n",
      "3346/3346 [==============================] - 3s 884us/step - loss: 0.0983 - accuracy: 0.9531 - mae: 0.0626\n",
      "the accuracy on the training set is 0.9530801773071289 and the mae is 0.06255020946264267\n",
      "(411834, 81)\n",
      "(411834,)\n",
      "2.6.0\n",
      "12870/12870 [==============================] - 15s 1ms/step - loss: 0.3469 - accuracy: 0.8800 - mae: 0.2100\n",
      "3218/3218 [==============================] - 3s 851us/step - loss: 0.3278 - accuracy: 0.8807 - mae: 0.1930\n",
      "the accuracy on the training set is 0.8807486295700073 and the mae is 0.19301630556583405\n",
      "         timedelta  root_distance_0  reply_distance_2  reply_distance_3  \\\n",
      "1805165   0.000020                1               1.0               0.0   \n",
      "2442727   0.000166                0               1.0               0.0   \n",
      "\n",
      "         reply_distance_4  root_distance_1  root_distance_2  root_distance_3  \\\n",
      "1805165               0.0              0.0              0.0              0.0   \n",
      "2442727               0.0              0.0              0.0              0.0   \n",
      "\n",
      "         root_distance_4  reply_distance_5  ...  reply_distance_40  \\\n",
      "1805165              0.0               0.0  ...                0.0   \n",
      "2442727              0.0               0.0  ...                0.0   \n",
      "\n",
      "         root_distance_32  root_distance_33  root_distance_34  \\\n",
      "1805165               0.0               0.0               0.0   \n",
      "2442727               0.0               0.0               0.0   \n",
      "\n",
      "         root_distance_35  root_distance_36  root_distance_37  \\\n",
      "1805165               0.0               0.0               0.0   \n",
      "2442727               0.0               0.0               0.0   \n",
      "\n",
      "         root_distance_38  root_distance_39  root_distance_40  \n",
      "1805165               0.0               0.0               0.0  \n",
      "2442727               0.0               0.0               0.0  \n",
      "\n",
      "[2 rows x 81 columns]\n",
      "feature timedelta has weight [-0.0926769] \n",
      "\n",
      "feature root_distance_0 has weight [3.259742] \n",
      "\n",
      "feature reply_distance_2 has weight [0.28801924] \n",
      "\n",
      "feature reply_distance_3 has weight [0.08145513] \n",
      "\n",
      "feature reply_distance_4 has weight [-0.01982084] \n",
      "\n"
     ]
    },
    {
     "name": "stderr",
     "output_type": "stream",
     "text": [
      "2022-08-03 15:01:11.965255: W tensorflow/core/framework/cpu_allocator_impl.cc:80] Allocation of 333585864 exceeds 10% of free system memory.\n"
     ]
    }
   ],
   "source": [
    "# in order to allow the comparison, the filter from the other notebook needs to run and the predictions, too\n",
    "%run author_vision.ipynb\n",
    "conversation_ids = set(df.conversation_id.tolist())\n",
    "df_baseline = df_baseline[df_baseline[\"conversation_id\"].isin(conversation_ids)]\n"
   ],
   "metadata": {
    "collapsed": false,
    "pycharm": {
     "name": "#%%\n"
    }
   }
  },
  {
   "cell_type": "code",
   "execution_count": 15,
   "outputs": [
    {
     "data": {
      "text/plain": "['reply_distance_1',\n 'reply_distance_2',\n 'reply_distance_3',\n 'reply_distance_4',\n 'reply_distance_5',\n 'reply_distance_6',\n 'reply_distance_7',\n 'reply_distance_8',\n 'reply_distance_9',\n 'reply_distance_10',\n 'reply_distance_11',\n 'reply_distance_12',\n 'reply_distance_13',\n 'reply_distance_14',\n 'reply_distance_15',\n 'reply_distance_16',\n 'reply_distance_17',\n 'reply_distance_18',\n 'reply_distance_19',\n 'reply_distance_20',\n 'reply_distance_21',\n 'reply_distance_22',\n 'reply_distance_23']"
     },
     "execution_count": 15,
     "metadata": {},
     "output_type": "execute_result"
    }
   ],
   "source": [
    "# sum all reply columns\n",
    "\n",
    "reply_filter_col = [col for col in df_baseline if col.startswith('reply')]\n",
    "root_distance_filter_col = [col for col in df_baseline if col.startswith('root')]\n",
    "reply_filter_col"
   ],
   "metadata": {
    "collapsed": false,
    "pycharm": {
     "name": "#%%\n"
    }
   }
  },
  {
   "cell_type": "code",
   "execution_count": 16,
   "outputs": [
    {
     "data": {
      "text/plain": "        reply_distance_1  reply_distance_2  reply_distance_3  \\\n6928                 1.0               0.0               0.0   \n6929                 1.0               0.0               0.0   \n6930                 0.0               0.0               0.0   \n6931                 1.0               0.0               0.0   \n6932                 0.0               0.0               0.0   \n...                  ...               ...               ...   \n809818               0.0               0.0               0.0   \n809819               0.0               0.0               0.0   \n809820               0.0               0.0               0.0   \n809821               0.0               0.0               0.0   \n809822               0.0               0.0               0.0   \n\n        reply_distance_4  reply_distance_5  reply_distance_6  \\\n6928                 0.0               0.0               0.0   \n6929                 0.0               0.0               0.0   \n6930                 0.0               0.0               0.0   \n6931                 0.0               0.0               0.0   \n6932                 0.0               0.0               0.0   \n...                  ...               ...               ...   \n809818               0.0               0.0               0.0   \n809819               0.0               0.0               0.0   \n809820               0.0               0.0               0.0   \n809821               0.0               0.0               0.0   \n809822               0.0               0.0               0.0   \n\n        reply_distance_7  reply_distance_8  reply_distance_9  \\\n6928                 0.0               0.0               0.0   \n6929                 0.0               0.0               0.0   \n6930                 0.0               0.0               0.0   \n6931                 0.0               0.0               0.0   \n6932                 0.0               0.0               0.0   \n...                  ...               ...               ...   \n809818               0.0               0.0               0.0   \n809819               0.0               0.0               0.0   \n809820               0.0               0.0               0.0   \n809821               0.0               0.0               0.0   \n809822               0.0               0.0               0.0   \n\n        reply_distance_10  ...  reply_distance_14  reply_distance_15  \\\n6928                  0.0  ...                0.0                0.0   \n6929                  0.0  ...                0.0                0.0   \n6930                  0.0  ...                0.0                0.0   \n6931                  0.0  ...                0.0                0.0   \n6932                  0.0  ...                0.0                0.0   \n...                   ...  ...                ...                ...   \n809818                0.0  ...                0.0                0.0   \n809819                0.0  ...                0.0                0.0   \n809820                0.0  ...                0.0                0.0   \n809821                0.0  ...                0.0                0.0   \n809822                0.0  ...                0.0                0.0   \n\n        reply_distance_16  reply_distance_17  reply_distance_18  \\\n6928                  0.0                0.0                0.0   \n6929                  0.0                0.0                0.0   \n6930                  0.0                0.0                0.0   \n6931                  0.0                0.0                0.0   \n6932                  0.0                0.0                0.0   \n...                   ...                ...                ...   \n809818                0.0                0.0                0.0   \n809819                0.0                0.0                0.0   \n809820                0.0                0.0                0.0   \n809821                0.0                0.0                0.0   \n809822                0.0                0.0                0.0   \n\n        reply_distance_19  reply_distance_20  reply_distance_21  \\\n6928                  0.0                0.0                0.0   \n6929                  0.0                0.0                0.0   \n6930                  0.0                0.0                0.0   \n6931                  0.0                0.0                0.0   \n6932                  0.0                0.0                0.0   \n...                   ...                ...                ...   \n809818                0.0                0.0                0.0   \n809819                0.0                0.0                0.0   \n809820                0.0                0.0                0.0   \n809821                0.0                0.0                0.0   \n809822                0.0                0.0                0.0   \n\n        reply_distance_22  reply_distance_23  \n6928                  0.0                0.0  \n6929                  0.0                0.0  \n6930                  0.0                0.0  \n6931                  0.0                0.0  \n6932                  0.0                0.0  \n...                   ...                ...  \n809818                0.0                0.0  \n809819                0.0                0.0  \n809820                0.0                0.0  \n809821                0.0                0.0  \n809822                0.0                0.0  \n\n[120179 rows x 23 columns]",
      "text/html": "<div>\n<style scoped>\n    .dataframe tbody tr th:only-of-type {\n        vertical-align: middle;\n    }\n\n    .dataframe tbody tr th {\n        vertical-align: top;\n    }\n\n    .dataframe thead th {\n        text-align: right;\n    }\n</style>\n<table border=\"1\" class=\"dataframe\">\n  <thead>\n    <tr style=\"text-align: right;\">\n      <th></th>\n      <th>reply_distance_1</th>\n      <th>reply_distance_2</th>\n      <th>reply_distance_3</th>\n      <th>reply_distance_4</th>\n      <th>reply_distance_5</th>\n      <th>reply_distance_6</th>\n      <th>reply_distance_7</th>\n      <th>reply_distance_8</th>\n      <th>reply_distance_9</th>\n      <th>reply_distance_10</th>\n      <th>...</th>\n      <th>reply_distance_14</th>\n      <th>reply_distance_15</th>\n      <th>reply_distance_16</th>\n      <th>reply_distance_17</th>\n      <th>reply_distance_18</th>\n      <th>reply_distance_19</th>\n      <th>reply_distance_20</th>\n      <th>reply_distance_21</th>\n      <th>reply_distance_22</th>\n      <th>reply_distance_23</th>\n    </tr>\n  </thead>\n  <tbody>\n    <tr>\n      <th>6928</th>\n      <td>1.0</td>\n      <td>0.0</td>\n      <td>0.0</td>\n      <td>0.0</td>\n      <td>0.0</td>\n      <td>0.0</td>\n      <td>0.0</td>\n      <td>0.0</td>\n      <td>0.0</td>\n      <td>0.0</td>\n      <td>...</td>\n      <td>0.0</td>\n      <td>0.0</td>\n      <td>0.0</td>\n      <td>0.0</td>\n      <td>0.0</td>\n      <td>0.0</td>\n      <td>0.0</td>\n      <td>0.0</td>\n      <td>0.0</td>\n      <td>0.0</td>\n    </tr>\n    <tr>\n      <th>6929</th>\n      <td>1.0</td>\n      <td>0.0</td>\n      <td>0.0</td>\n      <td>0.0</td>\n      <td>0.0</td>\n      <td>0.0</td>\n      <td>0.0</td>\n      <td>0.0</td>\n      <td>0.0</td>\n      <td>0.0</td>\n      <td>...</td>\n      <td>0.0</td>\n      <td>0.0</td>\n      <td>0.0</td>\n      <td>0.0</td>\n      <td>0.0</td>\n      <td>0.0</td>\n      <td>0.0</td>\n      <td>0.0</td>\n      <td>0.0</td>\n      <td>0.0</td>\n    </tr>\n    <tr>\n      <th>6930</th>\n      <td>0.0</td>\n      <td>0.0</td>\n      <td>0.0</td>\n      <td>0.0</td>\n      <td>0.0</td>\n      <td>0.0</td>\n      <td>0.0</td>\n      <td>0.0</td>\n      <td>0.0</td>\n      <td>0.0</td>\n      <td>...</td>\n      <td>0.0</td>\n      <td>0.0</td>\n      <td>0.0</td>\n      <td>0.0</td>\n      <td>0.0</td>\n      <td>0.0</td>\n      <td>0.0</td>\n      <td>0.0</td>\n      <td>0.0</td>\n      <td>0.0</td>\n    </tr>\n    <tr>\n      <th>6931</th>\n      <td>1.0</td>\n      <td>0.0</td>\n      <td>0.0</td>\n      <td>0.0</td>\n      <td>0.0</td>\n      <td>0.0</td>\n      <td>0.0</td>\n      <td>0.0</td>\n      <td>0.0</td>\n      <td>0.0</td>\n      <td>...</td>\n      <td>0.0</td>\n      <td>0.0</td>\n      <td>0.0</td>\n      <td>0.0</td>\n      <td>0.0</td>\n      <td>0.0</td>\n      <td>0.0</td>\n      <td>0.0</td>\n      <td>0.0</td>\n      <td>0.0</td>\n    </tr>\n    <tr>\n      <th>6932</th>\n      <td>0.0</td>\n      <td>0.0</td>\n      <td>0.0</td>\n      <td>0.0</td>\n      <td>0.0</td>\n      <td>0.0</td>\n      <td>0.0</td>\n      <td>0.0</td>\n      <td>0.0</td>\n      <td>0.0</td>\n      <td>...</td>\n      <td>0.0</td>\n      <td>0.0</td>\n      <td>0.0</td>\n      <td>0.0</td>\n      <td>0.0</td>\n      <td>0.0</td>\n      <td>0.0</td>\n      <td>0.0</td>\n      <td>0.0</td>\n      <td>0.0</td>\n    </tr>\n    <tr>\n      <th>...</th>\n      <td>...</td>\n      <td>...</td>\n      <td>...</td>\n      <td>...</td>\n      <td>...</td>\n      <td>...</td>\n      <td>...</td>\n      <td>...</td>\n      <td>...</td>\n      <td>...</td>\n      <td>...</td>\n      <td>...</td>\n      <td>...</td>\n      <td>...</td>\n      <td>...</td>\n      <td>...</td>\n      <td>...</td>\n      <td>...</td>\n      <td>...</td>\n      <td>...</td>\n      <td>...</td>\n    </tr>\n    <tr>\n      <th>809818</th>\n      <td>0.0</td>\n      <td>0.0</td>\n      <td>0.0</td>\n      <td>0.0</td>\n      <td>0.0</td>\n      <td>0.0</td>\n      <td>0.0</td>\n      <td>0.0</td>\n      <td>0.0</td>\n      <td>0.0</td>\n      <td>...</td>\n      <td>0.0</td>\n      <td>0.0</td>\n      <td>0.0</td>\n      <td>0.0</td>\n      <td>0.0</td>\n      <td>0.0</td>\n      <td>0.0</td>\n      <td>0.0</td>\n      <td>0.0</td>\n      <td>0.0</td>\n    </tr>\n    <tr>\n      <th>809819</th>\n      <td>0.0</td>\n      <td>0.0</td>\n      <td>0.0</td>\n      <td>0.0</td>\n      <td>0.0</td>\n      <td>0.0</td>\n      <td>0.0</td>\n      <td>0.0</td>\n      <td>0.0</td>\n      <td>0.0</td>\n      <td>...</td>\n      <td>0.0</td>\n      <td>0.0</td>\n      <td>0.0</td>\n      <td>0.0</td>\n      <td>0.0</td>\n      <td>0.0</td>\n      <td>0.0</td>\n      <td>0.0</td>\n      <td>0.0</td>\n      <td>0.0</td>\n    </tr>\n    <tr>\n      <th>809820</th>\n      <td>0.0</td>\n      <td>0.0</td>\n      <td>0.0</td>\n      <td>0.0</td>\n      <td>0.0</td>\n      <td>0.0</td>\n      <td>0.0</td>\n      <td>0.0</td>\n      <td>0.0</td>\n      <td>0.0</td>\n      <td>...</td>\n      <td>0.0</td>\n      <td>0.0</td>\n      <td>0.0</td>\n      <td>0.0</td>\n      <td>0.0</td>\n      <td>0.0</td>\n      <td>0.0</td>\n      <td>0.0</td>\n      <td>0.0</td>\n      <td>0.0</td>\n    </tr>\n    <tr>\n      <th>809821</th>\n      <td>0.0</td>\n      <td>0.0</td>\n      <td>0.0</td>\n      <td>0.0</td>\n      <td>0.0</td>\n      <td>0.0</td>\n      <td>0.0</td>\n      <td>0.0</td>\n      <td>0.0</td>\n      <td>0.0</td>\n      <td>...</td>\n      <td>0.0</td>\n      <td>0.0</td>\n      <td>0.0</td>\n      <td>0.0</td>\n      <td>0.0</td>\n      <td>0.0</td>\n      <td>0.0</td>\n      <td>0.0</td>\n      <td>0.0</td>\n      <td>0.0</td>\n    </tr>\n    <tr>\n      <th>809822</th>\n      <td>0.0</td>\n      <td>0.0</td>\n      <td>0.0</td>\n      <td>0.0</td>\n      <td>0.0</td>\n      <td>0.0</td>\n      <td>0.0</td>\n      <td>0.0</td>\n      <td>0.0</td>\n      <td>0.0</td>\n      <td>...</td>\n      <td>0.0</td>\n      <td>0.0</td>\n      <td>0.0</td>\n      <td>0.0</td>\n      <td>0.0</td>\n      <td>0.0</td>\n      <td>0.0</td>\n      <td>0.0</td>\n      <td>0.0</td>\n      <td>0.0</td>\n    </tr>\n  </tbody>\n</table>\n<p>120179 rows × 23 columns</p>\n</div>"
     },
     "execution_count": 16,
     "metadata": {},
     "output_type": "execute_result"
    }
   ],
   "source": [
    "reply_columns = df_baseline[reply_filter_col]\n",
    "root_distance_columns= df_baseline[root_distance_filter_col]\n",
    "reply_columns"
   ],
   "metadata": {
    "collapsed": false,
    "pycharm": {
     "name": "#%%\n"
    }
   }
  },
  {
   "cell_type": "code",
   "execution_count": 17,
   "outputs": [],
   "source": [
    "reply_cs = reply_columns.sum(axis=1)\n",
    "root_distance_cs = root_distance_columns.sum(axis=1)\n",
    "\n",
    "rcs_not_null = [i for i in reply_cs.tolist() if i != 0]"
   ],
   "metadata": {
    "collapsed": false,
    "pycharm": {
     "name": "#%%\n"
    }
   }
  },
  {
   "cell_type": "code",
   "execution_count": 18,
   "outputs": [],
   "source": [
    "root_reply_combined = (root_distance_cs + reply_cs)\n",
    "root_reply_combined = (root_reply_combined - root_reply_combined.min()) / (root_reply_combined.max() - root_reply_combined.min())\n",
    "combined = [i for i in root_reply_combined.tolist() if i != 0]"
   ],
   "metadata": {
    "collapsed": false,
    "pycharm": {
     "name": "#%%\n"
    }
   }
  },
  {
   "cell_type": "code",
   "execution_count": 19,
   "outputs": [
    {
     "data": {
      "text/plain": "        timedelta  root_distance_0              current            beam_node  \\\n6928      10640.0                1  1543928098890125314  1543883472695185408   \n6929      10697.0                1  1543928341153071104  1543883472695185408   \n6930         57.0                0  1543928341153071104  1543928098890125314   \n6931      10697.0                1  1543928339173343236  1543883472695185408   \n6932         57.0                0  1543928339173343236  1543928098890125314   \n...           ...              ...                  ...                  ...   \n809818    47015.0                0  1542589964856070144  1542392772342300672   \n809819    39754.0                0  1542589964856070144  1542423225153486851   \n809820    34536.0                0  1542589964856070144  1542445109698039808   \n809821     8943.0                0  1542589964856070144  1542552458227884033   \n809822     2899.0                0  1542589964856070144  1542577805795409923   \n\n        has_followed_path  has_follow_path platform      conversation_id  \\\n6928                    0                0  twitter  1543883472695185408   \n6929                    0                0  twitter  1543883472695185408   \n6930                    0                0  twitter  1543883472695185408   \n6931                    0                0  twitter  1543883472695185408   \n6932                    0                0  twitter  1543883472695185408   \n...                   ...              ...      ...                  ...   \n809818                  0                0  twitter  1542362381661024256   \n809819                  0                0  twitter  1542362381661024256   \n809820                  0                0  twitter  1542362381661024256   \n809821                  0                0  twitter  1542362381661024256   \n809822                  0                0  twitter  1542362381661024256   \n\n        reply_distance_1  reply_distance_2  ...  root_distance_15  \\\n6928                 1.0               0.0  ...               0.0   \n6929                 1.0               0.0  ...               0.0   \n6930                 0.0               0.0  ...               0.0   \n6931                 1.0               0.0  ...               0.0   \n6932                 0.0               0.0  ...               0.0   \n...                  ...               ...  ...               ...   \n809818               0.0               0.0  ...               0.0   \n809819               0.0               0.0  ...               0.0   \n809820               0.0               0.0  ...               0.0   \n809821               0.0               0.0  ...               0.0   \n809822               0.0               0.0  ...               0.0   \n\n        root_distance_16  root_distance_17  root_distance_18  \\\n6928                 0.0               0.0               0.0   \n6929                 0.0               0.0               0.0   \n6930                 0.0               0.0               0.0   \n6931                 0.0               0.0               0.0   \n6932                 0.0               0.0               0.0   \n...                  ...               ...               ...   \n809818               0.0               0.0               0.0   \n809819               0.0               0.0               0.0   \n809820               0.0               0.0               0.0   \n809821               0.0               0.0               0.0   \n809822               0.0               0.0               0.0   \n\n        root_distance_19  root_distance_20  root_distance_21  \\\n6928                 0.0               0.0               0.0   \n6929                 0.0               0.0               0.0   \n6930                 0.0               0.0               0.0   \n6931                 0.0               0.0               0.0   \n6932                 0.0               0.0               0.0   \n...                  ...               ...               ...   \n809818               0.0               0.0               0.0   \n809819               0.0               0.0               0.0   \n809820               0.0               0.0               0.0   \n809821               0.0               0.0               0.0   \n809822               0.0               0.0               0.0   \n\n        root_distance_22  root_distance_23  root_reply_combined  \n6928                 0.0               0.0                  1.0  \n6929                 0.0               0.0                  1.0  \n6930                 0.0               0.0                  0.5  \n6931                 0.0               0.0                  1.0  \n6932                 0.0               0.0                  0.5  \n...                  ...               ...                  ...  \n809818               0.0               0.0                  0.5  \n809819               0.0               0.0                  0.5  \n809820               0.0               0.0                  0.5  \n809821               0.0               0.0                  0.5  \n809822               0.0               0.0                  0.5  \n\n[120179 rows x 55 columns]",
      "text/html": "<div>\n<style scoped>\n    .dataframe tbody tr th:only-of-type {\n        vertical-align: middle;\n    }\n\n    .dataframe tbody tr th {\n        vertical-align: top;\n    }\n\n    .dataframe thead th {\n        text-align: right;\n    }\n</style>\n<table border=\"1\" class=\"dataframe\">\n  <thead>\n    <tr style=\"text-align: right;\">\n      <th></th>\n      <th>timedelta</th>\n      <th>root_distance_0</th>\n      <th>current</th>\n      <th>beam_node</th>\n      <th>has_followed_path</th>\n      <th>has_follow_path</th>\n      <th>platform</th>\n      <th>conversation_id</th>\n      <th>reply_distance_1</th>\n      <th>reply_distance_2</th>\n      <th>...</th>\n      <th>root_distance_15</th>\n      <th>root_distance_16</th>\n      <th>root_distance_17</th>\n      <th>root_distance_18</th>\n      <th>root_distance_19</th>\n      <th>root_distance_20</th>\n      <th>root_distance_21</th>\n      <th>root_distance_22</th>\n      <th>root_distance_23</th>\n      <th>root_reply_combined</th>\n    </tr>\n  </thead>\n  <tbody>\n    <tr>\n      <th>6928</th>\n      <td>10640.0</td>\n      <td>1</td>\n      <td>1543928098890125314</td>\n      <td>1543883472695185408</td>\n      <td>0</td>\n      <td>0</td>\n      <td>twitter</td>\n      <td>1543883472695185408</td>\n      <td>1.0</td>\n      <td>0.0</td>\n      <td>...</td>\n      <td>0.0</td>\n      <td>0.0</td>\n      <td>0.0</td>\n      <td>0.0</td>\n      <td>0.0</td>\n      <td>0.0</td>\n      <td>0.0</td>\n      <td>0.0</td>\n      <td>0.0</td>\n      <td>1.0</td>\n    </tr>\n    <tr>\n      <th>6929</th>\n      <td>10697.0</td>\n      <td>1</td>\n      <td>1543928341153071104</td>\n      <td>1543883472695185408</td>\n      <td>0</td>\n      <td>0</td>\n      <td>twitter</td>\n      <td>1543883472695185408</td>\n      <td>1.0</td>\n      <td>0.0</td>\n      <td>...</td>\n      <td>0.0</td>\n      <td>0.0</td>\n      <td>0.0</td>\n      <td>0.0</td>\n      <td>0.0</td>\n      <td>0.0</td>\n      <td>0.0</td>\n      <td>0.0</td>\n      <td>0.0</td>\n      <td>1.0</td>\n    </tr>\n    <tr>\n      <th>6930</th>\n      <td>57.0</td>\n      <td>0</td>\n      <td>1543928341153071104</td>\n      <td>1543928098890125314</td>\n      <td>0</td>\n      <td>0</td>\n      <td>twitter</td>\n      <td>1543883472695185408</td>\n      <td>0.0</td>\n      <td>0.0</td>\n      <td>...</td>\n      <td>0.0</td>\n      <td>0.0</td>\n      <td>0.0</td>\n      <td>0.0</td>\n      <td>0.0</td>\n      <td>0.0</td>\n      <td>0.0</td>\n      <td>0.0</td>\n      <td>0.0</td>\n      <td>0.5</td>\n    </tr>\n    <tr>\n      <th>6931</th>\n      <td>10697.0</td>\n      <td>1</td>\n      <td>1543928339173343236</td>\n      <td>1543883472695185408</td>\n      <td>0</td>\n      <td>0</td>\n      <td>twitter</td>\n      <td>1543883472695185408</td>\n      <td>1.0</td>\n      <td>0.0</td>\n      <td>...</td>\n      <td>0.0</td>\n      <td>0.0</td>\n      <td>0.0</td>\n      <td>0.0</td>\n      <td>0.0</td>\n      <td>0.0</td>\n      <td>0.0</td>\n      <td>0.0</td>\n      <td>0.0</td>\n      <td>1.0</td>\n    </tr>\n    <tr>\n      <th>6932</th>\n      <td>57.0</td>\n      <td>0</td>\n      <td>1543928339173343236</td>\n      <td>1543928098890125314</td>\n      <td>0</td>\n      <td>0</td>\n      <td>twitter</td>\n      <td>1543883472695185408</td>\n      <td>0.0</td>\n      <td>0.0</td>\n      <td>...</td>\n      <td>0.0</td>\n      <td>0.0</td>\n      <td>0.0</td>\n      <td>0.0</td>\n      <td>0.0</td>\n      <td>0.0</td>\n      <td>0.0</td>\n      <td>0.0</td>\n      <td>0.0</td>\n      <td>0.5</td>\n    </tr>\n    <tr>\n      <th>...</th>\n      <td>...</td>\n      <td>...</td>\n      <td>...</td>\n      <td>...</td>\n      <td>...</td>\n      <td>...</td>\n      <td>...</td>\n      <td>...</td>\n      <td>...</td>\n      <td>...</td>\n      <td>...</td>\n      <td>...</td>\n      <td>...</td>\n      <td>...</td>\n      <td>...</td>\n      <td>...</td>\n      <td>...</td>\n      <td>...</td>\n      <td>...</td>\n      <td>...</td>\n      <td>...</td>\n    </tr>\n    <tr>\n      <th>809818</th>\n      <td>47015.0</td>\n      <td>0</td>\n      <td>1542589964856070144</td>\n      <td>1542392772342300672</td>\n      <td>0</td>\n      <td>0</td>\n      <td>twitter</td>\n      <td>1542362381661024256</td>\n      <td>0.0</td>\n      <td>0.0</td>\n      <td>...</td>\n      <td>0.0</td>\n      <td>0.0</td>\n      <td>0.0</td>\n      <td>0.0</td>\n      <td>0.0</td>\n      <td>0.0</td>\n      <td>0.0</td>\n      <td>0.0</td>\n      <td>0.0</td>\n      <td>0.5</td>\n    </tr>\n    <tr>\n      <th>809819</th>\n      <td>39754.0</td>\n      <td>0</td>\n      <td>1542589964856070144</td>\n      <td>1542423225153486851</td>\n      <td>0</td>\n      <td>0</td>\n      <td>twitter</td>\n      <td>1542362381661024256</td>\n      <td>0.0</td>\n      <td>0.0</td>\n      <td>...</td>\n      <td>0.0</td>\n      <td>0.0</td>\n      <td>0.0</td>\n      <td>0.0</td>\n      <td>0.0</td>\n      <td>0.0</td>\n      <td>0.0</td>\n      <td>0.0</td>\n      <td>0.0</td>\n      <td>0.5</td>\n    </tr>\n    <tr>\n      <th>809820</th>\n      <td>34536.0</td>\n      <td>0</td>\n      <td>1542589964856070144</td>\n      <td>1542445109698039808</td>\n      <td>0</td>\n      <td>0</td>\n      <td>twitter</td>\n      <td>1542362381661024256</td>\n      <td>0.0</td>\n      <td>0.0</td>\n      <td>...</td>\n      <td>0.0</td>\n      <td>0.0</td>\n      <td>0.0</td>\n      <td>0.0</td>\n      <td>0.0</td>\n      <td>0.0</td>\n      <td>0.0</td>\n      <td>0.0</td>\n      <td>0.0</td>\n      <td>0.5</td>\n    </tr>\n    <tr>\n      <th>809821</th>\n      <td>8943.0</td>\n      <td>0</td>\n      <td>1542589964856070144</td>\n      <td>1542552458227884033</td>\n      <td>0</td>\n      <td>0</td>\n      <td>twitter</td>\n      <td>1542362381661024256</td>\n      <td>0.0</td>\n      <td>0.0</td>\n      <td>...</td>\n      <td>0.0</td>\n      <td>0.0</td>\n      <td>0.0</td>\n      <td>0.0</td>\n      <td>0.0</td>\n      <td>0.0</td>\n      <td>0.0</td>\n      <td>0.0</td>\n      <td>0.0</td>\n      <td>0.5</td>\n    </tr>\n    <tr>\n      <th>809822</th>\n      <td>2899.0</td>\n      <td>0</td>\n      <td>1542589964856070144</td>\n      <td>1542577805795409923</td>\n      <td>0</td>\n      <td>0</td>\n      <td>twitter</td>\n      <td>1542362381661024256</td>\n      <td>0.0</td>\n      <td>0.0</td>\n      <td>...</td>\n      <td>0.0</td>\n      <td>0.0</td>\n      <td>0.0</td>\n      <td>0.0</td>\n      <td>0.0</td>\n      <td>0.0</td>\n      <td>0.0</td>\n      <td>0.0</td>\n      <td>0.0</td>\n      <td>0.5</td>\n    </tr>\n  </tbody>\n</table>\n<p>120179 rows × 55 columns</p>\n</div>"
     },
     "execution_count": 19,
     "metadata": {},
     "output_type": "execute_result"
    }
   ],
   "source": [
    "#\n",
    "df_baseline = df_baseline.assign(root_reply_combined=root_reply_combined)\n",
    "df_baseline"
   ],
   "metadata": {
    "collapsed": false,
    "pycharm": {
     "name": "#%%\n"
    }
   }
  },
  {
   "cell_type": "code",
   "execution_count": 30,
   "outputs": [
    {
     "data": {
      "text/plain": "                                                  root_reply_combined\nplatform conversation_id     current                                 \nreddit   661614              26871177                        0.500000\n                             29352234                        0.100000\n                             33390443                        0.083333\n                             36457165                        0.166667\n                             91649333                        0.125000\n...                                                               ...\ntwitter  1544052331481890825 1544069454732046337             0.055556\n                             1544069830692818951             0.050000\n                             1544083902448410627             0.045455\n                             1544084722455805953             0.041667\n                             1544097279497437185             0.038462\n\n[4369 rows x 1 columns]",
      "text/html": "<div>\n<style scoped>\n    .dataframe tbody tr th:only-of-type {\n        vertical-align: middle;\n    }\n\n    .dataframe tbody tr th {\n        vertical-align: top;\n    }\n\n    .dataframe thead th {\n        text-align: right;\n    }\n</style>\n<table border=\"1\" class=\"dataframe\">\n  <thead>\n    <tr style=\"text-align: right;\">\n      <th></th>\n      <th></th>\n      <th></th>\n      <th>root_reply_combined</th>\n    </tr>\n    <tr>\n      <th>platform</th>\n      <th>conversation_id</th>\n      <th>current</th>\n      <th></th>\n    </tr>\n  </thead>\n  <tbody>\n    <tr>\n      <th rowspan=\"5\" valign=\"top\">reddit</th>\n      <th rowspan=\"5\" valign=\"top\">661614</th>\n      <th>26871177</th>\n      <td>0.500000</td>\n    </tr>\n    <tr>\n      <th>29352234</th>\n      <td>0.100000</td>\n    </tr>\n    <tr>\n      <th>33390443</th>\n      <td>0.083333</td>\n    </tr>\n    <tr>\n      <th>36457165</th>\n      <td>0.166667</td>\n    </tr>\n    <tr>\n      <th>91649333</th>\n      <td>0.125000</td>\n    </tr>\n    <tr>\n      <th>...</th>\n      <th>...</th>\n      <th>...</th>\n      <td>...</td>\n    </tr>\n    <tr>\n      <th rowspan=\"5\" valign=\"top\">twitter</th>\n      <th rowspan=\"5\" valign=\"top\">1544052331481890825</th>\n      <th>1544069454732046337</th>\n      <td>0.055556</td>\n    </tr>\n    <tr>\n      <th>1544069830692818951</th>\n      <td>0.050000</td>\n    </tr>\n    <tr>\n      <th>1544083902448410627</th>\n      <td>0.045455</td>\n    </tr>\n    <tr>\n      <th>1544084722455805953</th>\n      <td>0.041667</td>\n    </tr>\n    <tr>\n      <th>1544097279497437185</th>\n      <td>0.038462</td>\n    </tr>\n  </tbody>\n</table>\n<p>4369 rows × 1 columns</p>\n</div>"
     },
     "execution_count": 30,
     "metadata": {},
     "output_type": "execute_result"
    }
   ],
   "source": [
    "import numpy as np\n",
    "\n",
    "df_data = df_baseline[[\"root_reply_combined\", \"conversation_id\", \"current\", \"platform\"]]\n",
    "# df_reshaped = pd.pivot_table(df_data,index=[\"conversation_id\", \"current\"], columns=[\"root_reply_combined\"],aggfunc = np.mean)\n",
    "baseline_gpm = df_data.groupby([\"platform\", \"conversation_id\",  \"current\"]).mean()\n",
    "baseline_gpm"
   ],
   "metadata": {
    "collapsed": false,
    "pycharm": {
     "name": "#%%\n"
    }
   }
  },
  {
   "cell_type": "code",
   "execution_count": 21,
   "outputs": [],
   "source": [
    "# gpm = gpm.drop([\"delab\"])\n",
    "# gpm"
   ],
   "metadata": {
    "collapsed": false,
    "pycharm": {
     "name": "#%%\n"
    }
   }
  },
  {
   "cell_type": "code",
   "execution_count": 31,
   "outputs": [
    {
     "data": {
      "text/plain": "                              root_reply_combined\nplatform conversation_id                         \nreddit   661614                          0.204167\n         10955776                        0.531091\n         15848916                        0.228333\n         17286490                        0.532382\n         19851732                        0.606780\n...                                           ...\ntwitter  1543960369722425345             0.122313\n         1543973588545507329             0.347090\n         1543990285700632578             0.541667\n         1544011512146272257             0.137267\n         1544052331481890825             0.122313\n\n[121 rows x 1 columns]",
      "text/html": "<div>\n<style scoped>\n    .dataframe tbody tr th:only-of-type {\n        vertical-align: middle;\n    }\n\n    .dataframe tbody tr th {\n        vertical-align: top;\n    }\n\n    .dataframe thead th {\n        text-align: right;\n    }\n</style>\n<table border=\"1\" class=\"dataframe\">\n  <thead>\n    <tr style=\"text-align: right;\">\n      <th></th>\n      <th></th>\n      <th>root_reply_combined</th>\n    </tr>\n    <tr>\n      <th>platform</th>\n      <th>conversation_id</th>\n      <th></th>\n    </tr>\n  </thead>\n  <tbody>\n    <tr>\n      <th rowspan=\"5\" valign=\"top\">reddit</th>\n      <th>661614</th>\n      <td>0.204167</td>\n    </tr>\n    <tr>\n      <th>10955776</th>\n      <td>0.531091</td>\n    </tr>\n    <tr>\n      <th>15848916</th>\n      <td>0.228333</td>\n    </tr>\n    <tr>\n      <th>17286490</th>\n      <td>0.532382</td>\n    </tr>\n    <tr>\n      <th>19851732</th>\n      <td>0.606780</td>\n    </tr>\n    <tr>\n      <th>...</th>\n      <th>...</th>\n      <td>...</td>\n    </tr>\n    <tr>\n      <th rowspan=\"5\" valign=\"top\">twitter</th>\n      <th>1543960369722425345</th>\n      <td>0.122313</td>\n    </tr>\n    <tr>\n      <th>1543973588545507329</th>\n      <td>0.347090</td>\n    </tr>\n    <tr>\n      <th>1543990285700632578</th>\n      <td>0.541667</td>\n    </tr>\n    <tr>\n      <th>1544011512146272257</th>\n      <td>0.137267</td>\n    </tr>\n    <tr>\n      <th>1544052331481890825</th>\n      <td>0.122313</td>\n    </tr>\n  </tbody>\n</table>\n<p>121 rows × 1 columns</p>\n</div>"
     },
     "execution_count": 31,
     "metadata": {},
     "output_type": "execute_result"
    }
   ],
   "source": [
    "baseline_gpm_conversation = baseline_gpm.groupby(by=[\"platform\", \"conversation_id\"]).mean()\n",
    "baseline_gpm_conversation"
   ],
   "metadata": {
    "collapsed": false,
    "pycharm": {
     "name": "#%%\n"
    }
   }
  },
  {
   "cell_type": "code",
   "execution_count": 32,
   "outputs": [
    {
     "data": {
      "text/plain": "          root_reply_combined\nplatform                     \nreddit               0.518163\ntwitter              0.466651",
      "text/html": "<div>\n<style scoped>\n    .dataframe tbody tr th:only-of-type {\n        vertical-align: middle;\n    }\n\n    .dataframe tbody tr th {\n        vertical-align: top;\n    }\n\n    .dataframe thead th {\n        text-align: right;\n    }\n</style>\n<table border=\"1\" class=\"dataframe\">\n  <thead>\n    <tr style=\"text-align: right;\">\n      <th></th>\n      <th>root_reply_combined</th>\n    </tr>\n    <tr>\n      <th>platform</th>\n      <th></th>\n    </tr>\n  </thead>\n  <tbody>\n    <tr>\n      <th>reddit</th>\n      <td>0.518163</td>\n    </tr>\n    <tr>\n      <th>twitter</th>\n      <td>0.466651</td>\n    </tr>\n  </tbody>\n</table>\n</div>"
     },
     "execution_count": 32,
     "metadata": {},
     "output_type": "execute_result"
    }
   ],
   "source": [
    "baseline_gpm = baseline_gpm_conversation.groupby(by=[\"platform\"]).mean()\n",
    "baseline_gpm"
   ],
   "metadata": {
    "collapsed": false,
    "pycharm": {
     "name": "#%%\n"
    }
   }
  },
  {
   "cell_type": "code",
   "execution_count": null,
   "outputs": [],
   "source": [],
   "metadata": {
    "collapsed": false,
    "pycharm": {
     "name": "#%%cross_method_gpm = baseline_gpm.join(gpm_per_platformbaseline_gpm.join\n"
    }
   }
  },
  {
   "cell_type": "code",
   "execution_count": 39,
   "outputs": [
    {
     "data": {
      "text/plain": "                     root_reply_combined  predictions\nroot_reply_combined             1.000000     0.074859\npredictions                     0.074859     1.000000",
      "text/html": "<div>\n<style scoped>\n    .dataframe tbody tr th:only-of-type {\n        vertical-align: middle;\n    }\n\n    .dataframe tbody tr th {\n        vertical-align: top;\n    }\n\n    .dataframe thead th {\n        text-align: right;\n    }\n</style>\n<table border=\"1\" class=\"dataframe\">\n  <thead>\n    <tr style=\"text-align: right;\">\n      <th></th>\n      <th>root_reply_combined</th>\n      <th>predictions</th>\n    </tr>\n  </thead>\n  <tbody>\n    <tr>\n      <th>root_reply_combined</th>\n      <td>1.000000</td>\n      <td>0.074859</td>\n    </tr>\n    <tr>\n      <th>predictions</th>\n      <td>0.074859</td>\n      <td>1.000000</td>\n    </tr>\n  </tbody>\n</table>\n</div>"
     },
     "execution_count": 39,
     "metadata": {},
     "output_type": "execute_result"
    }
   ],
   "source": [
    "cross_method_gpm = baseline_gpm_conversation.join(gpm_per_conversation, how='inner')\n",
    "# cross_method_gpm\n",
    "cross_method_gpm.corr()"
   ],
   "metadata": {
    "collapsed": false,
    "pycharm": {
     "name": "#%%\n"
    }
   }
  }
 ],
 "metadata": {
  "kernelspec": {
   "display_name": "Python 3",
   "language": "python",
   "name": "python3"
  },
  "language_info": {
   "codemirror_mode": {
    "name": "ipython",
    "version": 2
   },
   "file_extension": ".py",
   "mimetype": "text/x-python",
   "name": "python",
   "nbconvert_exporter": "python",
   "pygments_lexer": "ipython2",
   "version": "2.7.6"
  }
 },
 "nbformat": 4,
 "nbformat_minor": 0
}