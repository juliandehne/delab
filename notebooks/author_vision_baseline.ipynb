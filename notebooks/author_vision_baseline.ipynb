{
 "cells": [
  {
   "cell_type": "code",
   "execution_count": 77,
   "metadata": {
    "collapsed": true
   },
   "outputs": [],
   "source": []
  },
  {
   "cell_type": "code",
   "execution_count": 78,
   "outputs": [
    {
     "data": {
      "text/plain": "          timedelta  root_distance_0       current     beam_node  \\\ncount  8.098230e+05    809823.000000  8.098230e+05  8.098230e+05   \nmean   5.369646e+04         0.038011  1.481440e+18  1.481198e+18   \nstd    8.978862e+05         0.191222  2.648856e+17  2.641527e+17   \nmin    1.000000e-06         0.000000  2.151180e+05  2.151180e+05   \n25%    2.053000e+03         0.000000  1.511883e+18  1.511768e+18   \n50%    8.869000e+03         0.000000  1.524812e+18  1.524722e+18   \n75%    3.365750e+04         0.000000  1.543267e+18  1.543217e+18   \nmax    1.103033e+08         1.000000  7.694580e+18  7.694580e+18   \n\n       has_followed_path  has_follow_path  conversation_id  reply_distance_1  \\\ncount           809823.0         809823.0     8.098230e+05     809823.000000   \nmean                 0.0              0.0     1.480454e+18          0.012676   \nstd                  0.0              0.0     2.624457e+17          0.111870   \nmin                  0.0              0.0     1.000000e+00          0.000000   \n25%                  0.0              0.0     1.511628e+18          0.000000   \n50%                  0.0              0.0     1.524646e+18          0.000000   \n75%                  0.0              0.0     1.542981e+18          0.000000   \nmax                  0.0              0.0     1.544234e+18          1.000000   \n\n       reply_distance_2  reply_distance_3  ...  root_distance_14  \\\ncount     809823.000000     809823.000000  ...     809823.000000   \nmean           0.002759          0.000710  ...          0.000254   \nstd            0.037041          0.013307  ...          0.015947   \nmin            0.000000          0.000000  ...          0.000000   \n25%            0.000000          0.000000  ...          0.000000   \n50%            0.000000          0.000000  ...          0.000000   \n75%            0.000000          0.000000  ...          0.000000   \nmax            0.500000          0.250000  ...          1.000000   \n\n       root_distance_15  root_distance_16  root_distance_17  root_distance_18  \\\ncount     809823.000000     809823.000000     809823.000000     809823.000000   \nmean           0.000278          0.000184          0.000111          0.000081   \nstd            0.016666          0.013563          0.010541          0.009027   \nmin            0.000000          0.000000          0.000000          0.000000   \n25%            0.000000          0.000000          0.000000          0.000000   \n50%            0.000000          0.000000          0.000000          0.000000   \n75%            0.000000          0.000000          0.000000          0.000000   \nmax            1.000000          1.000000          1.000000          1.000000   \n\n       root_distance_19  root_distance_20  root_distance_21  root_distance_22  \\\ncount     809823.000000     809823.000000     809823.000000     809823.000000   \nmean           0.000073          0.000065          0.000095          0.000081   \nstd            0.008535          0.008090          0.009751          0.009027   \nmin            0.000000          0.000000          0.000000          0.000000   \n25%            0.000000          0.000000          0.000000          0.000000   \n50%            0.000000          0.000000          0.000000          0.000000   \n75%            0.000000          0.000000          0.000000          0.000000   \nmax            1.000000          1.000000          1.000000          1.000000   \n\n       root_distance_23  \ncount     809823.000000  \nmean           0.000073  \nstd            0.008535  \nmin            0.000000  \n25%            0.000000  \n50%            0.000000  \n75%            0.000000  \nmax            1.000000  \n\n[8 rows x 53 columns]",
      "text/html": "<div>\n<style scoped>\n    .dataframe tbody tr th:only-of-type {\n        vertical-align: middle;\n    }\n\n    .dataframe tbody tr th {\n        vertical-align: top;\n    }\n\n    .dataframe thead th {\n        text-align: right;\n    }\n</style>\n<table border=\"1\" class=\"dataframe\">\n  <thead>\n    <tr style=\"text-align: right;\">\n      <th></th>\n      <th>timedelta</th>\n      <th>root_distance_0</th>\n      <th>current</th>\n      <th>beam_node</th>\n      <th>has_followed_path</th>\n      <th>has_follow_path</th>\n      <th>conversation_id</th>\n      <th>reply_distance_1</th>\n      <th>reply_distance_2</th>\n      <th>reply_distance_3</th>\n      <th>...</th>\n      <th>root_distance_14</th>\n      <th>root_distance_15</th>\n      <th>root_distance_16</th>\n      <th>root_distance_17</th>\n      <th>root_distance_18</th>\n      <th>root_distance_19</th>\n      <th>root_distance_20</th>\n      <th>root_distance_21</th>\n      <th>root_distance_22</th>\n      <th>root_distance_23</th>\n    </tr>\n  </thead>\n  <tbody>\n    <tr>\n      <th>count</th>\n      <td>8.098230e+05</td>\n      <td>809823.000000</td>\n      <td>8.098230e+05</td>\n      <td>8.098230e+05</td>\n      <td>809823.0</td>\n      <td>809823.0</td>\n      <td>8.098230e+05</td>\n      <td>809823.000000</td>\n      <td>809823.000000</td>\n      <td>809823.000000</td>\n      <td>...</td>\n      <td>809823.000000</td>\n      <td>809823.000000</td>\n      <td>809823.000000</td>\n      <td>809823.000000</td>\n      <td>809823.000000</td>\n      <td>809823.000000</td>\n      <td>809823.000000</td>\n      <td>809823.000000</td>\n      <td>809823.000000</td>\n      <td>809823.000000</td>\n    </tr>\n    <tr>\n      <th>mean</th>\n      <td>5.369646e+04</td>\n      <td>0.038011</td>\n      <td>1.481440e+18</td>\n      <td>1.481198e+18</td>\n      <td>0.0</td>\n      <td>0.0</td>\n      <td>1.480454e+18</td>\n      <td>0.012676</td>\n      <td>0.002759</td>\n      <td>0.000710</td>\n      <td>...</td>\n      <td>0.000254</td>\n      <td>0.000278</td>\n      <td>0.000184</td>\n      <td>0.000111</td>\n      <td>0.000081</td>\n      <td>0.000073</td>\n      <td>0.000065</td>\n      <td>0.000095</td>\n      <td>0.000081</td>\n      <td>0.000073</td>\n    </tr>\n    <tr>\n      <th>std</th>\n      <td>8.978862e+05</td>\n      <td>0.191222</td>\n      <td>2.648856e+17</td>\n      <td>2.641527e+17</td>\n      <td>0.0</td>\n      <td>0.0</td>\n      <td>2.624457e+17</td>\n      <td>0.111870</td>\n      <td>0.037041</td>\n      <td>0.013307</td>\n      <td>...</td>\n      <td>0.015947</td>\n      <td>0.016666</td>\n      <td>0.013563</td>\n      <td>0.010541</td>\n      <td>0.009027</td>\n      <td>0.008535</td>\n      <td>0.008090</td>\n      <td>0.009751</td>\n      <td>0.009027</td>\n      <td>0.008535</td>\n    </tr>\n    <tr>\n      <th>min</th>\n      <td>1.000000e-06</td>\n      <td>0.000000</td>\n      <td>2.151180e+05</td>\n      <td>2.151180e+05</td>\n      <td>0.0</td>\n      <td>0.0</td>\n      <td>1.000000e+00</td>\n      <td>0.000000</td>\n      <td>0.000000</td>\n      <td>0.000000</td>\n      <td>...</td>\n      <td>0.000000</td>\n      <td>0.000000</td>\n      <td>0.000000</td>\n      <td>0.000000</td>\n      <td>0.000000</td>\n      <td>0.000000</td>\n      <td>0.000000</td>\n      <td>0.000000</td>\n      <td>0.000000</td>\n      <td>0.000000</td>\n    </tr>\n    <tr>\n      <th>25%</th>\n      <td>2.053000e+03</td>\n      <td>0.000000</td>\n      <td>1.511883e+18</td>\n      <td>1.511768e+18</td>\n      <td>0.0</td>\n      <td>0.0</td>\n      <td>1.511628e+18</td>\n      <td>0.000000</td>\n      <td>0.000000</td>\n      <td>0.000000</td>\n      <td>...</td>\n      <td>0.000000</td>\n      <td>0.000000</td>\n      <td>0.000000</td>\n      <td>0.000000</td>\n      <td>0.000000</td>\n      <td>0.000000</td>\n      <td>0.000000</td>\n      <td>0.000000</td>\n      <td>0.000000</td>\n      <td>0.000000</td>\n    </tr>\n    <tr>\n      <th>50%</th>\n      <td>8.869000e+03</td>\n      <td>0.000000</td>\n      <td>1.524812e+18</td>\n      <td>1.524722e+18</td>\n      <td>0.0</td>\n      <td>0.0</td>\n      <td>1.524646e+18</td>\n      <td>0.000000</td>\n      <td>0.000000</td>\n      <td>0.000000</td>\n      <td>...</td>\n      <td>0.000000</td>\n      <td>0.000000</td>\n      <td>0.000000</td>\n      <td>0.000000</td>\n      <td>0.000000</td>\n      <td>0.000000</td>\n      <td>0.000000</td>\n      <td>0.000000</td>\n      <td>0.000000</td>\n      <td>0.000000</td>\n    </tr>\n    <tr>\n      <th>75%</th>\n      <td>3.365750e+04</td>\n      <td>0.000000</td>\n      <td>1.543267e+18</td>\n      <td>1.543217e+18</td>\n      <td>0.0</td>\n      <td>0.0</td>\n      <td>1.542981e+18</td>\n      <td>0.000000</td>\n      <td>0.000000</td>\n      <td>0.000000</td>\n      <td>...</td>\n      <td>0.000000</td>\n      <td>0.000000</td>\n      <td>0.000000</td>\n      <td>0.000000</td>\n      <td>0.000000</td>\n      <td>0.000000</td>\n      <td>0.000000</td>\n      <td>0.000000</td>\n      <td>0.000000</td>\n      <td>0.000000</td>\n    </tr>\n    <tr>\n      <th>max</th>\n      <td>1.103033e+08</td>\n      <td>1.000000</td>\n      <td>7.694580e+18</td>\n      <td>7.694580e+18</td>\n      <td>0.0</td>\n      <td>0.0</td>\n      <td>1.544234e+18</td>\n      <td>1.000000</td>\n      <td>0.500000</td>\n      <td>0.250000</td>\n      <td>...</td>\n      <td>1.000000</td>\n      <td>1.000000</td>\n      <td>1.000000</td>\n      <td>1.000000</td>\n      <td>1.000000</td>\n      <td>1.000000</td>\n      <td>1.000000</td>\n      <td>1.000000</td>\n      <td>1.000000</td>\n      <td>1.000000</td>\n    </tr>\n  </tbody>\n</table>\n<p>8 rows × 53 columns</p>\n</div>"
     },
     "execution_count": 78,
     "metadata": {},
     "output_type": "execute_result"
    }
   ],
   "source": [
    "import pandas as pd\n",
    "\n",
    "\n",
    "# pd.set_option('precision',50)\n",
    "# pd.set_option('chop_threshold', .00000000005)\n",
    "\n",
    "\n",
    "df = pd.read_pickle(\"data/vision_baseline_graph_data.pkl\")\n",
    "\n",
    "df.describe()\n"
   ],
   "metadata": {
    "collapsed": false,
    "pycharm": {
     "name": "#%%\n"
    }
   }
  },
  {
   "cell_type": "code",
   "execution_count": 79,
   "outputs": [
    {
     "data": {
      "text/plain": "['reply_distance_1',\n 'reply_distance_2',\n 'reply_distance_3',\n 'reply_distance_4',\n 'reply_distance_5',\n 'reply_distance_6',\n 'reply_distance_7',\n 'reply_distance_8',\n 'reply_distance_9',\n 'reply_distance_10',\n 'reply_distance_11',\n 'reply_distance_12',\n 'reply_distance_13',\n 'reply_distance_14',\n 'reply_distance_15',\n 'reply_distance_16',\n 'reply_distance_17',\n 'reply_distance_18',\n 'reply_distance_19',\n 'reply_distance_20',\n 'reply_distance_21',\n 'reply_distance_22',\n 'reply_distance_23']"
     },
     "execution_count": 79,
     "metadata": {},
     "output_type": "execute_result"
    }
   ],
   "source": [
    "# sum all reply columns\n",
    "\n",
    "reply_filter_col = [col for col in df if col.startswith('reply')]\n",
    "root_distance_filter_col = [col for col in df if col.startswith('root')]\n",
    "reply_filter_col"
   ],
   "metadata": {
    "collapsed": false,
    "pycharm": {
     "name": "#%%\n"
    }
   }
  },
  {
   "cell_type": "code",
   "execution_count": 80,
   "outputs": [
    {
     "data": {
      "text/plain": "        reply_distance_1  reply_distance_2  reply_distance_3  \\\n0                    0.0               0.0               0.0   \n1                    0.0               0.0               0.0   \n2                    0.0               0.0               0.0   \n3                    0.0               0.0               0.0   \n4                    0.0               0.0               0.0   \n...                  ...               ...               ...   \n809818               0.0               0.0               0.0   \n809819               0.0               0.0               0.0   \n809820               0.0               0.0               0.0   \n809821               0.0               0.0               0.0   \n809822               0.0               0.0               0.0   \n\n        reply_distance_4  reply_distance_5  reply_distance_6  \\\n0                    0.0               0.0               0.0   \n1                    0.0               0.0               0.0   \n2                    0.0               0.0               0.0   \n3                    0.0               0.0               0.0   \n4                    0.0               0.0               0.0   \n...                  ...               ...               ...   \n809818               0.0               0.0               0.0   \n809819               0.0               0.0               0.0   \n809820               0.0               0.0               0.0   \n809821               0.0               0.0               0.0   \n809822               0.0               0.0               0.0   \n\n        reply_distance_7  reply_distance_8  reply_distance_9  \\\n0                    0.0               0.0               0.0   \n1                    0.0               0.0               0.0   \n2                    0.0               0.0               0.0   \n3                    0.0               0.0               0.0   \n4                    0.0               0.0               0.0   \n...                  ...               ...               ...   \n809818               0.0               0.0               0.0   \n809819               0.0               0.0               0.0   \n809820               0.0               0.0               0.0   \n809821               0.0               0.0               0.0   \n809822               0.0               0.0               0.0   \n\n        reply_distance_10  ...  reply_distance_14  reply_distance_15  \\\n0                     0.0  ...                0.0                0.0   \n1                     0.0  ...                0.0                0.0   \n2                     0.0  ...                0.0                0.0   \n3                     0.0  ...                0.0                0.0   \n4                     0.0  ...                0.0                0.0   \n...                   ...  ...                ...                ...   \n809818                0.0  ...                0.0                0.0   \n809819                0.0  ...                0.0                0.0   \n809820                0.0  ...                0.0                0.0   \n809821                0.0  ...                0.0                0.0   \n809822                0.0  ...                0.0                0.0   \n\n        reply_distance_16  reply_distance_17  reply_distance_18  \\\n0                     0.0                0.0                0.0   \n1                     0.0                0.0                0.0   \n2                     0.0                0.0                0.0   \n3                     0.0                0.0                0.0   \n4                     0.0                0.0                0.0   \n...                   ...                ...                ...   \n809818                0.0                0.0                0.0   \n809819                0.0                0.0                0.0   \n809820                0.0                0.0                0.0   \n809821                0.0                0.0                0.0   \n809822                0.0                0.0                0.0   \n\n        reply_distance_19  reply_distance_20  reply_distance_21  \\\n0                     0.0                0.0                0.0   \n1                     0.0                0.0                0.0   \n2                     0.0                0.0                0.0   \n3                     0.0                0.0                0.0   \n4                     0.0                0.0                0.0   \n...                   ...                ...                ...   \n809818                0.0                0.0                0.0   \n809819                0.0                0.0                0.0   \n809820                0.0                0.0                0.0   \n809821                0.0                0.0                0.0   \n809822                0.0                0.0                0.0   \n\n        reply_distance_22  reply_distance_23  \n0                     0.0                0.0  \n1                     0.0                0.0  \n2                     0.0                0.0  \n3                     0.0                0.0  \n4                     0.0                0.0  \n...                   ...                ...  \n809818                0.0                0.0  \n809819                0.0                0.0  \n809820                0.0                0.0  \n809821                0.0                0.0  \n809822                0.0                0.0  \n\n[809823 rows x 23 columns]",
      "text/html": "<div>\n<style scoped>\n    .dataframe tbody tr th:only-of-type {\n        vertical-align: middle;\n    }\n\n    .dataframe tbody tr th {\n        vertical-align: top;\n    }\n\n    .dataframe thead th {\n        text-align: right;\n    }\n</style>\n<table border=\"1\" class=\"dataframe\">\n  <thead>\n    <tr style=\"text-align: right;\">\n      <th></th>\n      <th>reply_distance_1</th>\n      <th>reply_distance_2</th>\n      <th>reply_distance_3</th>\n      <th>reply_distance_4</th>\n      <th>reply_distance_5</th>\n      <th>reply_distance_6</th>\n      <th>reply_distance_7</th>\n      <th>reply_distance_8</th>\n      <th>reply_distance_9</th>\n      <th>reply_distance_10</th>\n      <th>...</th>\n      <th>reply_distance_14</th>\n      <th>reply_distance_15</th>\n      <th>reply_distance_16</th>\n      <th>reply_distance_17</th>\n      <th>reply_distance_18</th>\n      <th>reply_distance_19</th>\n      <th>reply_distance_20</th>\n      <th>reply_distance_21</th>\n      <th>reply_distance_22</th>\n      <th>reply_distance_23</th>\n    </tr>\n  </thead>\n  <tbody>\n    <tr>\n      <th>0</th>\n      <td>0.0</td>\n      <td>0.0</td>\n      <td>0.0</td>\n      <td>0.0</td>\n      <td>0.0</td>\n      <td>0.0</td>\n      <td>0.0</td>\n      <td>0.0</td>\n      <td>0.0</td>\n      <td>0.0</td>\n      <td>...</td>\n      <td>0.0</td>\n      <td>0.0</td>\n      <td>0.0</td>\n      <td>0.0</td>\n      <td>0.0</td>\n      <td>0.0</td>\n      <td>0.0</td>\n      <td>0.0</td>\n      <td>0.0</td>\n      <td>0.0</td>\n    </tr>\n    <tr>\n      <th>1</th>\n      <td>0.0</td>\n      <td>0.0</td>\n      <td>0.0</td>\n      <td>0.0</td>\n      <td>0.0</td>\n      <td>0.0</td>\n      <td>0.0</td>\n      <td>0.0</td>\n      <td>0.0</td>\n      <td>0.0</td>\n      <td>...</td>\n      <td>0.0</td>\n      <td>0.0</td>\n      <td>0.0</td>\n      <td>0.0</td>\n      <td>0.0</td>\n      <td>0.0</td>\n      <td>0.0</td>\n      <td>0.0</td>\n      <td>0.0</td>\n      <td>0.0</td>\n    </tr>\n    <tr>\n      <th>2</th>\n      <td>0.0</td>\n      <td>0.0</td>\n      <td>0.0</td>\n      <td>0.0</td>\n      <td>0.0</td>\n      <td>0.0</td>\n      <td>0.0</td>\n      <td>0.0</td>\n      <td>0.0</td>\n      <td>0.0</td>\n      <td>...</td>\n      <td>0.0</td>\n      <td>0.0</td>\n      <td>0.0</td>\n      <td>0.0</td>\n      <td>0.0</td>\n      <td>0.0</td>\n      <td>0.0</td>\n      <td>0.0</td>\n      <td>0.0</td>\n      <td>0.0</td>\n    </tr>\n    <tr>\n      <th>3</th>\n      <td>0.0</td>\n      <td>0.0</td>\n      <td>0.0</td>\n      <td>0.0</td>\n      <td>0.0</td>\n      <td>0.0</td>\n      <td>0.0</td>\n      <td>0.0</td>\n      <td>0.0</td>\n      <td>0.0</td>\n      <td>...</td>\n      <td>0.0</td>\n      <td>0.0</td>\n      <td>0.0</td>\n      <td>0.0</td>\n      <td>0.0</td>\n      <td>0.0</td>\n      <td>0.0</td>\n      <td>0.0</td>\n      <td>0.0</td>\n      <td>0.0</td>\n    </tr>\n    <tr>\n      <th>4</th>\n      <td>0.0</td>\n      <td>0.0</td>\n      <td>0.0</td>\n      <td>0.0</td>\n      <td>0.0</td>\n      <td>0.0</td>\n      <td>0.0</td>\n      <td>0.0</td>\n      <td>0.0</td>\n      <td>0.0</td>\n      <td>...</td>\n      <td>0.0</td>\n      <td>0.0</td>\n      <td>0.0</td>\n      <td>0.0</td>\n      <td>0.0</td>\n      <td>0.0</td>\n      <td>0.0</td>\n      <td>0.0</td>\n      <td>0.0</td>\n      <td>0.0</td>\n    </tr>\n    <tr>\n      <th>...</th>\n      <td>...</td>\n      <td>...</td>\n      <td>...</td>\n      <td>...</td>\n      <td>...</td>\n      <td>...</td>\n      <td>...</td>\n      <td>...</td>\n      <td>...</td>\n      <td>...</td>\n      <td>...</td>\n      <td>...</td>\n      <td>...</td>\n      <td>...</td>\n      <td>...</td>\n      <td>...</td>\n      <td>...</td>\n      <td>...</td>\n      <td>...</td>\n      <td>...</td>\n      <td>...</td>\n    </tr>\n    <tr>\n      <th>809818</th>\n      <td>0.0</td>\n      <td>0.0</td>\n      <td>0.0</td>\n      <td>0.0</td>\n      <td>0.0</td>\n      <td>0.0</td>\n      <td>0.0</td>\n      <td>0.0</td>\n      <td>0.0</td>\n      <td>0.0</td>\n      <td>...</td>\n      <td>0.0</td>\n      <td>0.0</td>\n      <td>0.0</td>\n      <td>0.0</td>\n      <td>0.0</td>\n      <td>0.0</td>\n      <td>0.0</td>\n      <td>0.0</td>\n      <td>0.0</td>\n      <td>0.0</td>\n    </tr>\n    <tr>\n      <th>809819</th>\n      <td>0.0</td>\n      <td>0.0</td>\n      <td>0.0</td>\n      <td>0.0</td>\n      <td>0.0</td>\n      <td>0.0</td>\n      <td>0.0</td>\n      <td>0.0</td>\n      <td>0.0</td>\n      <td>0.0</td>\n      <td>...</td>\n      <td>0.0</td>\n      <td>0.0</td>\n      <td>0.0</td>\n      <td>0.0</td>\n      <td>0.0</td>\n      <td>0.0</td>\n      <td>0.0</td>\n      <td>0.0</td>\n      <td>0.0</td>\n      <td>0.0</td>\n    </tr>\n    <tr>\n      <th>809820</th>\n      <td>0.0</td>\n      <td>0.0</td>\n      <td>0.0</td>\n      <td>0.0</td>\n      <td>0.0</td>\n      <td>0.0</td>\n      <td>0.0</td>\n      <td>0.0</td>\n      <td>0.0</td>\n      <td>0.0</td>\n      <td>...</td>\n      <td>0.0</td>\n      <td>0.0</td>\n      <td>0.0</td>\n      <td>0.0</td>\n      <td>0.0</td>\n      <td>0.0</td>\n      <td>0.0</td>\n      <td>0.0</td>\n      <td>0.0</td>\n      <td>0.0</td>\n    </tr>\n    <tr>\n      <th>809821</th>\n      <td>0.0</td>\n      <td>0.0</td>\n      <td>0.0</td>\n      <td>0.0</td>\n      <td>0.0</td>\n      <td>0.0</td>\n      <td>0.0</td>\n      <td>0.0</td>\n      <td>0.0</td>\n      <td>0.0</td>\n      <td>...</td>\n      <td>0.0</td>\n      <td>0.0</td>\n      <td>0.0</td>\n      <td>0.0</td>\n      <td>0.0</td>\n      <td>0.0</td>\n      <td>0.0</td>\n      <td>0.0</td>\n      <td>0.0</td>\n      <td>0.0</td>\n    </tr>\n    <tr>\n      <th>809822</th>\n      <td>0.0</td>\n      <td>0.0</td>\n      <td>0.0</td>\n      <td>0.0</td>\n      <td>0.0</td>\n      <td>0.0</td>\n      <td>0.0</td>\n      <td>0.0</td>\n      <td>0.0</td>\n      <td>0.0</td>\n      <td>...</td>\n      <td>0.0</td>\n      <td>0.0</td>\n      <td>0.0</td>\n      <td>0.0</td>\n      <td>0.0</td>\n      <td>0.0</td>\n      <td>0.0</td>\n      <td>0.0</td>\n      <td>0.0</td>\n      <td>0.0</td>\n    </tr>\n  </tbody>\n</table>\n<p>809823 rows × 23 columns</p>\n</div>"
     },
     "execution_count": 80,
     "metadata": {},
     "output_type": "execute_result"
    }
   ],
   "source": [
    "reply_columns = df[reply_filter_col]\n",
    "root_distance_columns= df[root_distance_filter_col]\n",
    "reply_columns"
   ],
   "metadata": {
    "collapsed": false,
    "pycharm": {
     "name": "#%%\n"
    }
   }
  },
  {
   "cell_type": "code",
   "execution_count": 81,
   "outputs": [],
   "source": [
    "reply_cs = reply_columns.sum(axis=1)\n",
    "root_distance_cs = root_distance_columns.sum(axis=1)\n",
    "\n",
    "rcs_not_null = [i for i in reply_cs.tolist() if i != 0]\n",
    "#rcs_not_null"
   ],
   "metadata": {
    "collapsed": false,
    "pycharm": {
     "name": "#%%\n"
    }
   }
  },
  {
   "cell_type": "code",
   "execution_count": 82,
   "outputs": [],
   "source": [
    "root_reply_combined = (root_distance_cs + reply_cs)\n",
    "root_reply_combined = (root_reply_combined - root_reply_combined.min()) / (root_reply_combined.max() - root_reply_combined.min())\n",
    "combined = [i for i in root_reply_combined.tolist() if i != 0]"
   ],
   "metadata": {
    "collapsed": false,
    "pycharm": {
     "name": "#%%\n"
    }
   }
  },
  {
   "cell_type": "code",
   "execution_count": 83,
   "outputs": [
    {
     "data": {
      "text/plain": "        timedelta  root_distance_0              current            beam_node  \\\n0          2189.0                0  1511697071241416709  1511687891377868800   \n1          2689.0                0  1511697071241416709  1511685795056340994   \n2           776.0                0  1511697071241416709  1511693816465612806   \n3          6559.0                0  1511697071241416709  1511669562487541764   \n4          6671.0                0  1511697071241416709  1511669091966275584   \n...           ...              ...                  ...                  ...   \n809818    47015.0                0  1542589964856070144  1542392772342300672   \n809819    39754.0                0  1542589964856070144  1542423225153486851   \n809820    34536.0                0  1542589964856070144  1542445109698039808   \n809821     8943.0                0  1542589964856070144  1542552458227884033   \n809822     2899.0                0  1542589964856070144  1542577805795409923   \n\n        has_followed_path  has_follow_path platform      conversation_id  \\\n0                       0                0  twitter  1511667824032428039   \n1                       0                0  twitter  1511667824032428039   \n2                       0                0  twitter  1511667824032428039   \n3                       0                0  twitter  1511667824032428039   \n4                       0                0  twitter  1511667824032428039   \n...                   ...              ...      ...                  ...   \n809818                  0                0  twitter  1542362381661024256   \n809819                  0                0  twitter  1542362381661024256   \n809820                  0                0  twitter  1542362381661024256   \n809821                  0                0  twitter  1542362381661024256   \n809822                  0                0  twitter  1542362381661024256   \n\n        reply_distance_1  reply_distance_2  ...  root_distance_15  \\\n0                    0.0               0.0  ...               0.0   \n1                    0.0               0.0  ...               0.0   \n2                    0.0               0.0  ...               0.0   \n3                    0.0               0.0  ...               0.0   \n4                    0.0               0.0  ...               0.0   \n...                  ...               ...  ...               ...   \n809818               0.0               0.0  ...               0.0   \n809819               0.0               0.0  ...               0.0   \n809820               0.0               0.0  ...               0.0   \n809821               0.0               0.0  ...               0.0   \n809822               0.0               0.0  ...               0.0   \n\n        root_distance_16  root_distance_17  root_distance_18  \\\n0                    0.0               0.0               0.0   \n1                    0.0               0.0               0.0   \n2                    0.0               0.0               0.0   \n3                    0.0               0.0               0.0   \n4                    0.0               0.0               0.0   \n...                  ...               ...               ...   \n809818               0.0               0.0               0.0   \n809819               0.0               0.0               0.0   \n809820               0.0               0.0               0.0   \n809821               0.0               0.0               0.0   \n809822               0.0               0.0               0.0   \n\n        root_distance_19  root_distance_20  root_distance_21  \\\n0                    0.0               0.0               0.0   \n1                    0.0               0.0               0.0   \n2                    0.0               0.0               0.0   \n3                    0.0               0.0               0.0   \n4                    0.0               0.0               0.0   \n...                  ...               ...               ...   \n809818               0.0               0.0               0.0   \n809819               0.0               0.0               0.0   \n809820               0.0               0.0               0.0   \n809821               0.0               0.0               0.0   \n809822               0.0               0.0               0.0   \n\n        root_distance_22  root_distance_23  root_reply_combined  \n0                    0.0               0.0                  0.0  \n1                    0.0               0.0                  0.0  \n2                    0.0               0.0                  0.0  \n3                    0.0               0.0                  0.0  \n4                    0.0               0.0                  0.0  \n...                  ...               ...                  ...  \n809818               0.0               0.0                  0.5  \n809819               0.0               0.0                  0.5  \n809820               0.0               0.0                  0.5  \n809821               0.0               0.0                  0.5  \n809822               0.0               0.0                  0.5  \n\n[809823 rows x 55 columns]",
      "text/html": "<div>\n<style scoped>\n    .dataframe tbody tr th:only-of-type {\n        vertical-align: middle;\n    }\n\n    .dataframe tbody tr th {\n        vertical-align: top;\n    }\n\n    .dataframe thead th {\n        text-align: right;\n    }\n</style>\n<table border=\"1\" class=\"dataframe\">\n  <thead>\n    <tr style=\"text-align: right;\">\n      <th></th>\n      <th>timedelta</th>\n      <th>root_distance_0</th>\n      <th>current</th>\n      <th>beam_node</th>\n      <th>has_followed_path</th>\n      <th>has_follow_path</th>\n      <th>platform</th>\n      <th>conversation_id</th>\n      <th>reply_distance_1</th>\n      <th>reply_distance_2</th>\n      <th>...</th>\n      <th>root_distance_15</th>\n      <th>root_distance_16</th>\n      <th>root_distance_17</th>\n      <th>root_distance_18</th>\n      <th>root_distance_19</th>\n      <th>root_distance_20</th>\n      <th>root_distance_21</th>\n      <th>root_distance_22</th>\n      <th>root_distance_23</th>\n      <th>root_reply_combined</th>\n    </tr>\n  </thead>\n  <tbody>\n    <tr>\n      <th>0</th>\n      <td>2189.0</td>\n      <td>0</td>\n      <td>1511697071241416709</td>\n      <td>1511687891377868800</td>\n      <td>0</td>\n      <td>0</td>\n      <td>twitter</td>\n      <td>1511667824032428039</td>\n      <td>0.0</td>\n      <td>0.0</td>\n      <td>...</td>\n      <td>0.0</td>\n      <td>0.0</td>\n      <td>0.0</td>\n      <td>0.0</td>\n      <td>0.0</td>\n      <td>0.0</td>\n      <td>0.0</td>\n      <td>0.0</td>\n      <td>0.0</td>\n      <td>0.0</td>\n    </tr>\n    <tr>\n      <th>1</th>\n      <td>2689.0</td>\n      <td>0</td>\n      <td>1511697071241416709</td>\n      <td>1511685795056340994</td>\n      <td>0</td>\n      <td>0</td>\n      <td>twitter</td>\n      <td>1511667824032428039</td>\n      <td>0.0</td>\n      <td>0.0</td>\n      <td>...</td>\n      <td>0.0</td>\n      <td>0.0</td>\n      <td>0.0</td>\n      <td>0.0</td>\n      <td>0.0</td>\n      <td>0.0</td>\n      <td>0.0</td>\n      <td>0.0</td>\n      <td>0.0</td>\n      <td>0.0</td>\n    </tr>\n    <tr>\n      <th>2</th>\n      <td>776.0</td>\n      <td>0</td>\n      <td>1511697071241416709</td>\n      <td>1511693816465612806</td>\n      <td>0</td>\n      <td>0</td>\n      <td>twitter</td>\n      <td>1511667824032428039</td>\n      <td>0.0</td>\n      <td>0.0</td>\n      <td>...</td>\n      <td>0.0</td>\n      <td>0.0</td>\n      <td>0.0</td>\n      <td>0.0</td>\n      <td>0.0</td>\n      <td>0.0</td>\n      <td>0.0</td>\n      <td>0.0</td>\n      <td>0.0</td>\n      <td>0.0</td>\n    </tr>\n    <tr>\n      <th>3</th>\n      <td>6559.0</td>\n      <td>0</td>\n      <td>1511697071241416709</td>\n      <td>1511669562487541764</td>\n      <td>0</td>\n      <td>0</td>\n      <td>twitter</td>\n      <td>1511667824032428039</td>\n      <td>0.0</td>\n      <td>0.0</td>\n      <td>...</td>\n      <td>0.0</td>\n      <td>0.0</td>\n      <td>0.0</td>\n      <td>0.0</td>\n      <td>0.0</td>\n      <td>0.0</td>\n      <td>0.0</td>\n      <td>0.0</td>\n      <td>0.0</td>\n      <td>0.0</td>\n    </tr>\n    <tr>\n      <th>4</th>\n      <td>6671.0</td>\n      <td>0</td>\n      <td>1511697071241416709</td>\n      <td>1511669091966275584</td>\n      <td>0</td>\n      <td>0</td>\n      <td>twitter</td>\n      <td>1511667824032428039</td>\n      <td>0.0</td>\n      <td>0.0</td>\n      <td>...</td>\n      <td>0.0</td>\n      <td>0.0</td>\n      <td>0.0</td>\n      <td>0.0</td>\n      <td>0.0</td>\n      <td>0.0</td>\n      <td>0.0</td>\n      <td>0.0</td>\n      <td>0.0</td>\n      <td>0.0</td>\n    </tr>\n    <tr>\n      <th>...</th>\n      <td>...</td>\n      <td>...</td>\n      <td>...</td>\n      <td>...</td>\n      <td>...</td>\n      <td>...</td>\n      <td>...</td>\n      <td>...</td>\n      <td>...</td>\n      <td>...</td>\n      <td>...</td>\n      <td>...</td>\n      <td>...</td>\n      <td>...</td>\n      <td>...</td>\n      <td>...</td>\n      <td>...</td>\n      <td>...</td>\n      <td>...</td>\n      <td>...</td>\n      <td>...</td>\n    </tr>\n    <tr>\n      <th>809818</th>\n      <td>47015.0</td>\n      <td>0</td>\n      <td>1542589964856070144</td>\n      <td>1542392772342300672</td>\n      <td>0</td>\n      <td>0</td>\n      <td>twitter</td>\n      <td>1542362381661024256</td>\n      <td>0.0</td>\n      <td>0.0</td>\n      <td>...</td>\n      <td>0.0</td>\n      <td>0.0</td>\n      <td>0.0</td>\n      <td>0.0</td>\n      <td>0.0</td>\n      <td>0.0</td>\n      <td>0.0</td>\n      <td>0.0</td>\n      <td>0.0</td>\n      <td>0.5</td>\n    </tr>\n    <tr>\n      <th>809819</th>\n      <td>39754.0</td>\n      <td>0</td>\n      <td>1542589964856070144</td>\n      <td>1542423225153486851</td>\n      <td>0</td>\n      <td>0</td>\n      <td>twitter</td>\n      <td>1542362381661024256</td>\n      <td>0.0</td>\n      <td>0.0</td>\n      <td>...</td>\n      <td>0.0</td>\n      <td>0.0</td>\n      <td>0.0</td>\n      <td>0.0</td>\n      <td>0.0</td>\n      <td>0.0</td>\n      <td>0.0</td>\n      <td>0.0</td>\n      <td>0.0</td>\n      <td>0.5</td>\n    </tr>\n    <tr>\n      <th>809820</th>\n      <td>34536.0</td>\n      <td>0</td>\n      <td>1542589964856070144</td>\n      <td>1542445109698039808</td>\n      <td>0</td>\n      <td>0</td>\n      <td>twitter</td>\n      <td>1542362381661024256</td>\n      <td>0.0</td>\n      <td>0.0</td>\n      <td>...</td>\n      <td>0.0</td>\n      <td>0.0</td>\n      <td>0.0</td>\n      <td>0.0</td>\n      <td>0.0</td>\n      <td>0.0</td>\n      <td>0.0</td>\n      <td>0.0</td>\n      <td>0.0</td>\n      <td>0.5</td>\n    </tr>\n    <tr>\n      <th>809821</th>\n      <td>8943.0</td>\n      <td>0</td>\n      <td>1542589964856070144</td>\n      <td>1542552458227884033</td>\n      <td>0</td>\n      <td>0</td>\n      <td>twitter</td>\n      <td>1542362381661024256</td>\n      <td>0.0</td>\n      <td>0.0</td>\n      <td>...</td>\n      <td>0.0</td>\n      <td>0.0</td>\n      <td>0.0</td>\n      <td>0.0</td>\n      <td>0.0</td>\n      <td>0.0</td>\n      <td>0.0</td>\n      <td>0.0</td>\n      <td>0.0</td>\n      <td>0.5</td>\n    </tr>\n    <tr>\n      <th>809822</th>\n      <td>2899.0</td>\n      <td>0</td>\n      <td>1542589964856070144</td>\n      <td>1542577805795409923</td>\n      <td>0</td>\n      <td>0</td>\n      <td>twitter</td>\n      <td>1542362381661024256</td>\n      <td>0.0</td>\n      <td>0.0</td>\n      <td>...</td>\n      <td>0.0</td>\n      <td>0.0</td>\n      <td>0.0</td>\n      <td>0.0</td>\n      <td>0.0</td>\n      <td>0.0</td>\n      <td>0.0</td>\n      <td>0.0</td>\n      <td>0.0</td>\n      <td>0.5</td>\n    </tr>\n  </tbody>\n</table>\n<p>809823 rows × 55 columns</p>\n</div>"
     },
     "execution_count": 83,
     "metadata": {},
     "output_type": "execute_result"
    }
   ],
   "source": [
    "#\n",
    "df = df.assign(root_reply_combined=root_reply_combined)\n",
    "df"
   ],
   "metadata": {
    "collapsed": false,
    "pycharm": {
     "name": "#%%\n"
    }
   }
  },
  {
   "cell_type": "code",
   "execution_count": 84,
   "outputs": [
    {
     "data": {
      "text/plain": "                                                  root_reply_combined\nplatform conversation_id     current                                 \ndelab    1                   427842656615034887              0.062500\n                             458379675751036897              0.250000\n                             2766909043494096247             0.083333\n                             3337652794504999242             0.500000\n                             3417356977311132658             0.071429\n...                                                               ...\ntwitter  1544233528019550208 1544235150040780800             0.062500\n                             1544235293896613895             0.055556\n                             1544236342376247296             0.050000\n                             1544237119673344000             0.045455\n                             1544238839069573120             0.041667\n\n[30782 rows x 1 columns]",
      "text/html": "<div>\n<style scoped>\n    .dataframe tbody tr th:only-of-type {\n        vertical-align: middle;\n    }\n\n    .dataframe tbody tr th {\n        vertical-align: top;\n    }\n\n    .dataframe thead th {\n        text-align: right;\n    }\n</style>\n<table border=\"1\" class=\"dataframe\">\n  <thead>\n    <tr style=\"text-align: right;\">\n      <th></th>\n      <th></th>\n      <th></th>\n      <th>root_reply_combined</th>\n    </tr>\n    <tr>\n      <th>platform</th>\n      <th>conversation_id</th>\n      <th>current</th>\n      <th></th>\n    </tr>\n  </thead>\n  <tbody>\n    <tr>\n      <th rowspan=\"5\" valign=\"top\">delab</th>\n      <th rowspan=\"5\" valign=\"top\">1</th>\n      <th>427842656615034887</th>\n      <td>0.062500</td>\n    </tr>\n    <tr>\n      <th>458379675751036897</th>\n      <td>0.250000</td>\n    </tr>\n    <tr>\n      <th>2766909043494096247</th>\n      <td>0.083333</td>\n    </tr>\n    <tr>\n      <th>3337652794504999242</th>\n      <td>0.500000</td>\n    </tr>\n    <tr>\n      <th>3417356977311132658</th>\n      <td>0.071429</td>\n    </tr>\n    <tr>\n      <th>...</th>\n      <th>...</th>\n      <th>...</th>\n      <td>...</td>\n    </tr>\n    <tr>\n      <th rowspan=\"5\" valign=\"top\">twitter</th>\n      <th rowspan=\"5\" valign=\"top\">1544233528019550208</th>\n      <th>1544235150040780800</th>\n      <td>0.062500</td>\n    </tr>\n    <tr>\n      <th>1544235293896613895</th>\n      <td>0.055556</td>\n    </tr>\n    <tr>\n      <th>1544236342376247296</th>\n      <td>0.050000</td>\n    </tr>\n    <tr>\n      <th>1544237119673344000</th>\n      <td>0.045455</td>\n    </tr>\n    <tr>\n      <th>1544238839069573120</th>\n      <td>0.041667</td>\n    </tr>\n  </tbody>\n</table>\n<p>30782 rows × 1 columns</p>\n</div>"
     },
     "execution_count": 84,
     "metadata": {},
     "output_type": "execute_result"
    }
   ],
   "source": [
    "import numpy as np\n",
    "\n",
    "df_data = df[[\"root_reply_combined\", \"conversation_id\", \"current\", \"platform\"]]\n",
    "# df_reshaped = pd.pivot_table(df_data,index=[\"conversation_id\", \"current\"], columns=[\"root_reply_combined\"],aggfunc = np.mean)\n",
    "gpm = df_data.groupby([\"platform\", \"conversation_id\",  \"current\"]).mean()\n",
    "gpm"
   ],
   "metadata": {
    "collapsed": false,
    "pycharm": {
     "name": "#%%\n"
    }
   }
  },
  {
   "cell_type": "code",
   "execution_count": 85,
   "outputs": [
    {
     "data": {
      "text/plain": "                                                  root_reply_combined\nplatform conversation_id     current                                 \nreddit   661614              26871177                        0.500000\n                             29352234                        0.100000\n                             33390443                        0.083333\n                             36457165                        0.166667\n                             91649333                        0.125000\n...                                                               ...\ntwitter  1544233528019550208 1544235150040780800             0.062500\n                             1544235293896613895             0.055556\n                             1544236342376247296             0.050000\n                             1544237119673344000             0.045455\n                             1544238839069573120             0.041667\n\n[30765 rows x 1 columns]",
      "text/html": "<div>\n<style scoped>\n    .dataframe tbody tr th:only-of-type {\n        vertical-align: middle;\n    }\n\n    .dataframe tbody tr th {\n        vertical-align: top;\n    }\n\n    .dataframe thead th {\n        text-align: right;\n    }\n</style>\n<table border=\"1\" class=\"dataframe\">\n  <thead>\n    <tr style=\"text-align: right;\">\n      <th></th>\n      <th></th>\n      <th></th>\n      <th>root_reply_combined</th>\n    </tr>\n    <tr>\n      <th>platform</th>\n      <th>conversation_id</th>\n      <th>current</th>\n      <th></th>\n    </tr>\n  </thead>\n  <tbody>\n    <tr>\n      <th rowspan=\"5\" valign=\"top\">reddit</th>\n      <th rowspan=\"5\" valign=\"top\">661614</th>\n      <th>26871177</th>\n      <td>0.500000</td>\n    </tr>\n    <tr>\n      <th>29352234</th>\n      <td>0.100000</td>\n    </tr>\n    <tr>\n      <th>33390443</th>\n      <td>0.083333</td>\n    </tr>\n    <tr>\n      <th>36457165</th>\n      <td>0.166667</td>\n    </tr>\n    <tr>\n      <th>91649333</th>\n      <td>0.125000</td>\n    </tr>\n    <tr>\n      <th>...</th>\n      <th>...</th>\n      <th>...</th>\n      <td>...</td>\n    </tr>\n    <tr>\n      <th rowspan=\"5\" valign=\"top\">twitter</th>\n      <th rowspan=\"5\" valign=\"top\">1544233528019550208</th>\n      <th>1544235150040780800</th>\n      <td>0.062500</td>\n    </tr>\n    <tr>\n      <th>1544235293896613895</th>\n      <td>0.055556</td>\n    </tr>\n    <tr>\n      <th>1544236342376247296</th>\n      <td>0.050000</td>\n    </tr>\n    <tr>\n      <th>1544237119673344000</th>\n      <td>0.045455</td>\n    </tr>\n    <tr>\n      <th>1544238839069573120</th>\n      <td>0.041667</td>\n    </tr>\n  </tbody>\n</table>\n<p>30765 rows × 1 columns</p>\n</div>"
     },
     "execution_count": 85,
     "metadata": {},
     "output_type": "execute_result"
    }
   ],
   "source": [
    "gpm = gpm.drop([\"delab\"])\n",
    "gpm"
   ],
   "metadata": {
    "collapsed": false,
    "pycharm": {
     "name": "#%%\n"
    }
   }
  },
  {
   "cell_type": "code",
   "execution_count": 86,
   "outputs": [
    {
     "data": {
      "text/plain": "                              root_reply_combined\nplatform conversation_id                         \nreddit   661614                          0.204167\n         10955776                        0.531091\n         15848916                        0.228333\n         17286490                        0.532382\n         19851732                        0.606780\n...                                           ...\ntwitter  1544197157187633152             0.451967\n         1544203910549733376             0.137267\n         1544204096625905664             0.101163\n         1544224982275956736             0.037112\n         1544233528019550208             0.129300\n\n[890 rows x 1 columns]",
      "text/html": "<div>\n<style scoped>\n    .dataframe tbody tr th:only-of-type {\n        vertical-align: middle;\n    }\n\n    .dataframe tbody tr th {\n        vertical-align: top;\n    }\n\n    .dataframe thead th {\n        text-align: right;\n    }\n</style>\n<table border=\"1\" class=\"dataframe\">\n  <thead>\n    <tr style=\"text-align: right;\">\n      <th></th>\n      <th></th>\n      <th>root_reply_combined</th>\n    </tr>\n    <tr>\n      <th>platform</th>\n      <th>conversation_id</th>\n      <th></th>\n    </tr>\n  </thead>\n  <tbody>\n    <tr>\n      <th rowspan=\"5\" valign=\"top\">reddit</th>\n      <th>661614</th>\n      <td>0.204167</td>\n    </tr>\n    <tr>\n      <th>10955776</th>\n      <td>0.531091</td>\n    </tr>\n    <tr>\n      <th>15848916</th>\n      <td>0.228333</td>\n    </tr>\n    <tr>\n      <th>17286490</th>\n      <td>0.532382</td>\n    </tr>\n    <tr>\n      <th>19851732</th>\n      <td>0.606780</td>\n    </tr>\n    <tr>\n      <th>...</th>\n      <th>...</th>\n      <td>...</td>\n    </tr>\n    <tr>\n      <th rowspan=\"5\" valign=\"top\">twitter</th>\n      <th>1544197157187633152</th>\n      <td>0.451967</td>\n    </tr>\n    <tr>\n      <th>1544203910549733376</th>\n      <td>0.137267</td>\n    </tr>\n    <tr>\n      <th>1544204096625905664</th>\n      <td>0.101163</td>\n    </tr>\n    <tr>\n      <th>1544224982275956736</th>\n      <td>0.037112</td>\n    </tr>\n    <tr>\n      <th>1544233528019550208</th>\n      <td>0.129300</td>\n    </tr>\n  </tbody>\n</table>\n<p>890 rows × 1 columns</p>\n</div>"
     },
     "execution_count": 86,
     "metadata": {},
     "output_type": "execute_result"
    }
   ],
   "source": [
    "# twitter_presences = gpm.loc[[\"twitter\"]]\n",
    "#reset_index(level=[\"platform\"])\n",
    "gpm_per_conversation = gpm.groupby(by=[\"platform\", \"conversation_id\"]).mean()\n",
    "gpm_per_conversation"
   ],
   "metadata": {
    "collapsed": false,
    "pycharm": {
     "name": "#%%\n"
    }
   }
  },
  {
   "cell_type": "code",
   "execution_count": 87,
   "outputs": [
    {
     "data": {
      "text/plain": "          root_reply_combined\nplatform                     \nreddit               0.525873\ntwitter              0.206580",
      "text/html": "<div>\n<style scoped>\n    .dataframe tbody tr th:only-of-type {\n        vertical-align: middle;\n    }\n\n    .dataframe tbody tr th {\n        vertical-align: top;\n    }\n\n    .dataframe thead th {\n        text-align: right;\n    }\n</style>\n<table border=\"1\" class=\"dataframe\">\n  <thead>\n    <tr style=\"text-align: right;\">\n      <th></th>\n      <th>root_reply_combined</th>\n    </tr>\n    <tr>\n      <th>platform</th>\n      <th></th>\n    </tr>\n  </thead>\n  <tbody>\n    <tr>\n      <th>reddit</th>\n      <td>0.525873</td>\n    </tr>\n    <tr>\n      <th>twitter</th>\n      <td>0.206580</td>\n    </tr>\n  </tbody>\n</table>\n</div>"
     },
     "execution_count": 87,
     "metadata": {},
     "output_type": "execute_result"
    }
   ],
   "source": [
    "gpm_per_platform = gpm.groupby(by=[\"platform\"]).mean()\n",
    "gpm_per_platform\n"
   ],
   "metadata": {
    "collapsed": false,
    "pycharm": {
     "name": "#%%\n"
    }
   }
  }
 ],
 "metadata": {
  "kernelspec": {
   "display_name": "Python 3",
   "language": "python",
   "name": "python3"
  },
  "language_info": {
   "codemirror_mode": {
    "name": "ipython",
    "version": 2
   },
   "file_extension": ".py",
   "mimetype": "text/x-python",
   "name": "python",
   "nbconvert_exporter": "python",
   "pygments_lexer": "ipython2",
   "version": "2.7.6"
  }
 },
 "nbformat": 4,
 "nbformat_minor": 0
}