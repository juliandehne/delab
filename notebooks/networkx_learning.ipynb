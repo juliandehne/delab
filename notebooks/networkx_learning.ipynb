{
 "cells": [
  {
   "cell_type": "code",
   "execution_count": 5,
   "metadata": {
    "collapsed": true
   },
   "outputs": [
    {
     "ename": "AttributeError",
     "evalue": "module 'scipy.sparse' has no attribute 'coo_array'",
     "output_type": "error",
     "traceback": [
      "\u001B[0;31m---------------------------------------------------------------------------\u001B[0m",
      "\u001B[0;31mAttributeError\u001B[0m                            Traceback (most recent call last)",
      "\u001B[0;32m/tmp/ipykernel_192717/912839938.py\u001B[0m in \u001B[0;36m<module>\u001B[0;34m\u001B[0m\n\u001B[1;32m     27\u001B[0m \u001B[0mG2\u001B[0m\u001B[0;34m.\u001B[0m\u001B[0madd_edge\u001B[0m\u001B[0;34m(\u001B[0m\u001B[0ma\u001B[0m\u001B[0;34m,\u001B[0m\u001B[0mb\u001B[0m\u001B[0;34m)\u001B[0m\u001B[0;34m\u001B[0m\u001B[0;34m\u001B[0m\u001B[0m\n\u001B[1;32m     28\u001B[0m \u001B[0mG2\u001B[0m\u001B[0;34m.\u001B[0m\u001B[0madd_edge\u001B[0m\u001B[0;34m(\u001B[0m\u001B[0mb\u001B[0m\u001B[0;34m,\u001B[0m\u001B[0mc\u001B[0m\u001B[0;34m)\u001B[0m\u001B[0;34m\u001B[0m\u001B[0;34m\u001B[0m\u001B[0m\n\u001B[0;32m---> 29\u001B[0;31m \u001B[0mnx\u001B[0m\u001B[0;34m.\u001B[0m\u001B[0mhits\u001B[0m\u001B[0;34m(\u001B[0m\u001B[0mG2\u001B[0m\u001B[0;34m)\u001B[0m\u001B[0;34m\u001B[0m\u001B[0;34m\u001B[0m\u001B[0m\n\u001B[0m",
      "\u001B[0;32m~/.local/lib/python3.8/site-packages/networkx/algorithms/link_analysis/hits_alg.py\u001B[0m in \u001B[0;36mhits\u001B[0;34m(G, max_iter, tol, nstart, normalized)\u001B[0m\n\u001B[1;32m     76\u001B[0m     \u001B[0;32mif\u001B[0m \u001B[0mlen\u001B[0m\u001B[0;34m(\u001B[0m\u001B[0mG\u001B[0m\u001B[0;34m)\u001B[0m \u001B[0;34m==\u001B[0m \u001B[0;36m0\u001B[0m\u001B[0;34m:\u001B[0m\u001B[0;34m\u001B[0m\u001B[0;34m\u001B[0m\u001B[0m\n\u001B[1;32m     77\u001B[0m         \u001B[0;32mreturn\u001B[0m \u001B[0;34m{\u001B[0m\u001B[0;34m}\u001B[0m\u001B[0;34m,\u001B[0m \u001B[0;34m{\u001B[0m\u001B[0;34m}\u001B[0m\u001B[0;34m\u001B[0m\u001B[0;34m\u001B[0m\u001B[0m\n\u001B[0;32m---> 78\u001B[0;31m     \u001B[0mA\u001B[0m \u001B[0;34m=\u001B[0m \u001B[0mnx\u001B[0m\u001B[0;34m.\u001B[0m\u001B[0madjacency_matrix\u001B[0m\u001B[0;34m(\u001B[0m\u001B[0mG\u001B[0m\u001B[0;34m,\u001B[0m \u001B[0mnodelist\u001B[0m\u001B[0;34m=\u001B[0m\u001B[0mlist\u001B[0m\u001B[0;34m(\u001B[0m\u001B[0mG\u001B[0m\u001B[0;34m)\u001B[0m\u001B[0;34m,\u001B[0m \u001B[0mdtype\u001B[0m\u001B[0;34m=\u001B[0m\u001B[0mfloat\u001B[0m\u001B[0;34m)\u001B[0m\u001B[0;34m\u001B[0m\u001B[0;34m\u001B[0m\u001B[0m\n\u001B[0m\u001B[1;32m     79\u001B[0m \u001B[0;34m\u001B[0m\u001B[0m\n\u001B[1;32m     80\u001B[0m     \u001B[0;32mif\u001B[0m \u001B[0mnstart\u001B[0m \u001B[0;32mis\u001B[0m \u001B[0;32mNone\u001B[0m\u001B[0;34m:\u001B[0m\u001B[0;34m\u001B[0m\u001B[0;34m\u001B[0m\u001B[0m\n",
      "\u001B[0;32m~/.local/lib/python3.8/site-packages/networkx/linalg/graphmatrix.py\u001B[0m in \u001B[0;36madjacency_matrix\u001B[0;34m(G, nodelist, dtype, weight)\u001B[0m\n\u001B[1;32m    171\u001B[0m     )\n\u001B[1;32m    172\u001B[0m     \u001B[0;31m# TODO: Change to `to_scipy_sparse_array` for networkx 3.0\u001B[0m\u001B[0;34m\u001B[0m\u001B[0;34m\u001B[0m\u001B[0;34m\u001B[0m\u001B[0m\n\u001B[0;32m--> 173\u001B[0;31m     \u001B[0;32mreturn\u001B[0m \u001B[0mnx\u001B[0m\u001B[0;34m.\u001B[0m\u001B[0mto_scipy_sparse_matrix\u001B[0m\u001B[0;34m(\u001B[0m\u001B[0mG\u001B[0m\u001B[0;34m,\u001B[0m \u001B[0mnodelist\u001B[0m\u001B[0;34m=\u001B[0m\u001B[0mnodelist\u001B[0m\u001B[0;34m,\u001B[0m \u001B[0mdtype\u001B[0m\u001B[0;34m=\u001B[0m\u001B[0mdtype\u001B[0m\u001B[0;34m,\u001B[0m \u001B[0mweight\u001B[0m\u001B[0;34m=\u001B[0m\u001B[0mweight\u001B[0m\u001B[0;34m)\u001B[0m\u001B[0;34m\u001B[0m\u001B[0;34m\u001B[0m\u001B[0m\n\u001B[0m\u001B[1;32m    174\u001B[0m \u001B[0;34m\u001B[0m\u001B[0m\n\u001B[1;32m    175\u001B[0m \u001B[0;34m\u001B[0m\u001B[0m\n",
      "\u001B[0;32m~/.local/lib/python3.8/site-packages/networkx/convert_matrix.py\u001B[0m in \u001B[0;36mto_scipy_sparse_matrix\u001B[0;34m(G, nodelist, dtype, weight, format)\u001B[0m\n\u001B[1;32m   1017\u001B[0m         \u001B[0mstacklevel\u001B[0m\u001B[0;34m=\u001B[0m\u001B[0;36m2\u001B[0m\u001B[0;34m,\u001B[0m\u001B[0;34m\u001B[0m\u001B[0;34m\u001B[0m\u001B[0m\n\u001B[1;32m   1018\u001B[0m     )\n\u001B[0;32m-> 1019\u001B[0;31m     A = to_scipy_sparse_array(\n\u001B[0m\u001B[1;32m   1020\u001B[0m         \u001B[0mG\u001B[0m\u001B[0;34m,\u001B[0m \u001B[0mnodelist\u001B[0m\u001B[0;34m=\u001B[0m\u001B[0mnodelist\u001B[0m\u001B[0;34m,\u001B[0m \u001B[0mdtype\u001B[0m\u001B[0;34m=\u001B[0m\u001B[0mdtype\u001B[0m\u001B[0;34m,\u001B[0m \u001B[0mweight\u001B[0m\u001B[0;34m=\u001B[0m\u001B[0mweight\u001B[0m\u001B[0;34m,\u001B[0m \u001B[0mformat\u001B[0m\u001B[0;34m=\u001B[0m\u001B[0mformat\u001B[0m\u001B[0;34m\u001B[0m\u001B[0;34m\u001B[0m\u001B[0m\n\u001B[1;32m   1021\u001B[0m     )\n",
      "\u001B[0;32m~/.local/lib/python3.8/site-packages/networkx/convert_matrix.py\u001B[0m in \u001B[0;36mto_scipy_sparse_array\u001B[0;34m(G, nodelist, dtype, weight, format)\u001B[0m\n\u001B[1;32m    905\u001B[0m \u001B[0;34m\u001B[0m\u001B[0m\n\u001B[1;32m    906\u001B[0m     \u001B[0;32mif\u001B[0m \u001B[0mG\u001B[0m\u001B[0;34m.\u001B[0m\u001B[0mis_directed\u001B[0m\u001B[0;34m(\u001B[0m\u001B[0;34m)\u001B[0m\u001B[0;34m:\u001B[0m\u001B[0;34m\u001B[0m\u001B[0;34m\u001B[0m\u001B[0m\n\u001B[0;32m--> 907\u001B[0;31m         \u001B[0mA\u001B[0m \u001B[0;34m=\u001B[0m \u001B[0msp\u001B[0m\u001B[0;34m.\u001B[0m\u001B[0msparse\u001B[0m\u001B[0;34m.\u001B[0m\u001B[0mcoo_array\u001B[0m\u001B[0;34m(\u001B[0m\u001B[0;34m(\u001B[0m\u001B[0mdata\u001B[0m\u001B[0;34m,\u001B[0m \u001B[0;34m(\u001B[0m\u001B[0mrow\u001B[0m\u001B[0;34m,\u001B[0m \u001B[0mcol\u001B[0m\u001B[0;34m)\u001B[0m\u001B[0;34m)\u001B[0m\u001B[0;34m,\u001B[0m \u001B[0mshape\u001B[0m\u001B[0;34m=\u001B[0m\u001B[0;34m(\u001B[0m\u001B[0mnlen\u001B[0m\u001B[0;34m,\u001B[0m \u001B[0mnlen\u001B[0m\u001B[0;34m)\u001B[0m\u001B[0;34m,\u001B[0m \u001B[0mdtype\u001B[0m\u001B[0;34m=\u001B[0m\u001B[0mdtype\u001B[0m\u001B[0;34m)\u001B[0m\u001B[0;34m\u001B[0m\u001B[0;34m\u001B[0m\u001B[0m\n\u001B[0m\u001B[1;32m    908\u001B[0m     \u001B[0;32melse\u001B[0m\u001B[0;34m:\u001B[0m\u001B[0;34m\u001B[0m\u001B[0;34m\u001B[0m\u001B[0m\n\u001B[1;32m    909\u001B[0m         \u001B[0;31m# symmetrize matrix\u001B[0m\u001B[0;34m\u001B[0m\u001B[0;34m\u001B[0m\u001B[0;34m\u001B[0m\u001B[0m\n",
      "\u001B[0;31mAttributeError\u001B[0m: module 'scipy.sparse' has no attribute 'coo_array'"
     ]
    }
   ],
   "source": [
    "import networkx as nx\n",
    "\n",
    "a = \"a\"\n",
    "b = \"b\"\n",
    "c = \"c\"\n",
    "d = \"d\"\n",
    "e = \"e\"\n",
    "f = \"f\"\n",
    "g = \"g\"\n",
    "G = nx.Graph()\n",
    "G.add_edge(a,b)\n",
    "G.add_edge(a,c)\n",
    "G.add_edge(b,d)\n",
    "G.add_edge(c, d)\n",
    "G.add_edge(c,e)\n",
    "G.add_edge(d, e)\n",
    "G.add_edge(d, g)\n",
    "G.add_edge(e, g)\n",
    "G.add_edge(g, f)\n",
    "# nx.betweenness_centrality(G, normalized=True, endpoints=False)\n",
    "\n",
    "import networkx as nx\n",
    "a = \"a\"\n",
    "b = \"b\"\n",
    "c = \"c\"\n",
    "d = \"d\"\n",
    "e = \"e\"\n",
    "f = \"f\"\n",
    "g = \"g\"\n",
    "G2 = nx.DiGraph()\n",
    "G2.add_edge(d,c)\n",
    "G2.add_edge(b,c)\n",
    "G2.add_edge(a,c)\n",
    "G2.add_edge(c,a)\n",
    "G2.add_edge(a,b)\n",
    "G2.add_edge(b,c)\n",
    "nx.hits(G2, 2)"
   ]
  }
 ],
 "metadata": {
  "kernelspec": {
   "display_name": "Python 3",
   "language": "python",
   "name": "python3"
  },
  "language_info": {
   "codemirror_mode": {
    "name": "ipython",
    "version": 2
   },
   "file_extension": ".py",
   "mimetype": "text/x-python",
   "name": "python",
   "nbconvert_exporter": "python",
   "pygments_lexer": "ipython2",
   "version": "2.7.6"
  }
 },
 "nbformat": 4,
 "nbformat_minor": 0
}