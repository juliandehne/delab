{
 "cells": [
  {
   "cell_type": "markdown",
   "metadata": {
    "pycharm": {
     "name": "#%% md\n"
    }
   },
   "source": [
    "# Comparing Automatic Measures and User Labels for Moderation Tweets\n"
   ]
  },
  {
   "cell_type": "code",
   "execution_count": 110,
   "metadata": {
    "collapsed": true
   },
   "outputs": [
    {
     "name": "stdout",
     "output_type": "stream",
     "text": [
      "using postgres\n"
     ]
    },
    {
     "data": {
      "text/plain": "     id  exp_id  moderator_index  coder_id  tweet_id  \\\n0  2373  v0.0.2         1.174476       7.0     21062   \n1  2316  v0.0.2         1.336722       2.0     21146   \n\n   c_author_number_changed_norm  c_author_topic_variance_norm  \\\n0                      0.742857                           0.0   \n1                      0.714286                           0.0   \n\n   c_sentiment_value_norm coded_by_id  sentiment_value_norm  \\\n0                0.540233        None              0.108615   \n1                0.734881        None              0.112444   \n\n   u_author_topic_variance_rating  u_moderator_rating  u_sentiment_rating  \\\n0                             0.0                -1.0                 0.0   \n1                            -2.0                -2.0                -2.0   \n\n  platform  \\\n0  twitter   \n1  twitter   \n\n                                                                                                                                                                                                                                                                                         text  \n0                                                                                                                                                                          @StephenPunwasi Remember when Trump was racist for wanting to restrict flights from China. https://t.co/rSKZG6qq32  \n1  @BernieSpofforth According to Berlin media there were tracking down criminal clans of drug dealers. It had nothing to do with Corona. \\nI am somewhat dismayed how plump Twitter propaganda works, as the background of theses videos isn't really hard to investigate. Who makes this up?  ",
      "text/html": "<div>\n<style scoped>\n    .dataframe tbody tr th:only-of-type {\n        vertical-align: middle;\n    }\n\n    .dataframe tbody tr th {\n        vertical-align: top;\n    }\n\n    .dataframe thead th {\n        text-align: right;\n    }\n</style>\n<table border=\"1\" class=\"dataframe\">\n  <thead>\n    <tr style=\"text-align: right;\">\n      <th></th>\n      <th>id</th>\n      <th>exp_id</th>\n      <th>moderator_index</th>\n      <th>coder_id</th>\n      <th>tweet_id</th>\n      <th>c_author_number_changed_norm</th>\n      <th>c_author_topic_variance_norm</th>\n      <th>c_sentiment_value_norm</th>\n      <th>coded_by_id</th>\n      <th>sentiment_value_norm</th>\n      <th>u_author_topic_variance_rating</th>\n      <th>u_moderator_rating</th>\n      <th>u_sentiment_rating</th>\n      <th>platform</th>\n      <th>text</th>\n    </tr>\n  </thead>\n  <tbody>\n    <tr>\n      <th>0</th>\n      <td>2373</td>\n      <td>v0.0.2</td>\n      <td>1.174476</td>\n      <td>7.0</td>\n      <td>21062</td>\n      <td>0.742857</td>\n      <td>0.0</td>\n      <td>0.540233</td>\n      <td>None</td>\n      <td>0.108615</td>\n      <td>0.0</td>\n      <td>-1.0</td>\n      <td>0.0</td>\n      <td>twitter</td>\n      <td>@StephenPunwasi Remember when Trump was racist for wanting to restrict flights from China. https://t.co/rSKZG6qq32</td>\n    </tr>\n    <tr>\n      <th>1</th>\n      <td>2316</td>\n      <td>v0.0.2</td>\n      <td>1.336722</td>\n      <td>2.0</td>\n      <td>21146</td>\n      <td>0.714286</td>\n      <td>0.0</td>\n      <td>0.734881</td>\n      <td>None</td>\n      <td>0.112444</td>\n      <td>-2.0</td>\n      <td>-2.0</td>\n      <td>-2.0</td>\n      <td>twitter</td>\n      <td>@BernieSpofforth According to Berlin media there were tracking down criminal clans of drug dealers. It had nothing to do with Corona. \\nI am somewhat dismayed how plump Twitter propaganda works, as the background of theses videos isn't really hard to investigate. Who makes this up?</td>\n    </tr>\n  </tbody>\n</table>\n</div>"
     },
     "execution_count": 110,
     "metadata": {},
     "output_type": "execute_result"
    }
   ],
   "source": [
    "from util.sql_switch import get_query_native#\n",
    "# from delab.models import PLATFORM\n",
    "\n",
    "# and bertopic_id >= 0\"\n",
    "df = get_query_native(\"SELECT candidate.*,tweet.text from delab_twcandidate candidate join delab_tweet tweet on candidate.tweet_id = tweet.id\")\n",
    "df.head(2)"
   ]
  },
  {
   "cell_type": "code",
   "execution_count": 111,
   "metadata": {
    "pycharm": {
     "name": "#%%\n"
    }
   },
   "outputs": [
    {
     "data": {
      "text/plain": "<pandas.io.formats.style.Styler at 0x7ff472969d60>",
      "text/html": "<style type=\"text/css\">\n#T_9db56_row0_col0, #T_9db56_row1_col1, #T_9db56_row2_col2, #T_9db56_row3_col3, #T_9db56_row4_col4, #T_9db56_row5_col5, #T_9db56_row6_col6, #T_9db56_row7_col7 {\n  background-color: #b40426;\n  color: #f1f1f1;\n}\n#T_9db56_row0_col1 {\n  background-color: #c1d4f4;\n  color: #000000;\n}\n#T_9db56_row0_col2 {\n  background-color: #afcafc;\n  color: #000000;\n}\n#T_9db56_row0_col3 {\n  background-color: #f7b599;\n  color: #000000;\n}\n#T_9db56_row0_col4, #T_9db56_row0_col7, #T_9db56_row1_col3, #T_9db56_row2_col6, #T_9db56_row3_col1, #T_9db56_row3_col2, #T_9db56_row4_col0, #T_9db56_row4_col5 {\n  background-color: #3b4cc0;\n  color: #f1f1f1;\n}\n#T_9db56_row0_col5 {\n  background-color: #516ddb;\n  color: #f1f1f1;\n}\n#T_9db56_row0_col6 {\n  background-color: #4c66d6;\n  color: #f1f1f1;\n}\n#T_9db56_row1_col0 {\n  background-color: #ead4c8;\n  color: #000000;\n}\n#T_9db56_row1_col2 {\n  background-color: #6c8ff1;\n  color: #f1f1f1;\n}\n#T_9db56_row1_col4 {\n  background-color: #e3d9d3;\n  color: #000000;\n}\n#T_9db56_row1_col5, #T_9db56_row2_col3 {\n  background-color: #4a63d3;\n  color: #f1f1f1;\n}\n#T_9db56_row1_col6, #T_9db56_row7_col2 {\n  background-color: #6b8df0;\n  color: #f1f1f1;\n}\n#T_9db56_row1_col7 {\n  background-color: #7699f6;\n  color: #f1f1f1;\n}\n#T_9db56_row2_col0 {\n  background-color: #e7d7ce;\n  color: #000000;\n}\n#T_9db56_row2_col1, #T_9db56_row7_col3 {\n  background-color: #7b9ff9;\n  color: #f1f1f1;\n}\n#T_9db56_row2_col4, #T_9db56_row5_col7, #T_9db56_row7_col0 {\n  background-color: #aec9fc;\n  color: #000000;\n}\n#T_9db56_row2_col5 {\n  background-color: #4055c8;\n  color: #f1f1f1;\n}\n#T_9db56_row2_col7, #T_9db56_row3_col7 {\n  background-color: #5572df;\n  color: #f1f1f1;\n}\n#T_9db56_row3_col0 {\n  background-color: #f39778;\n  color: #000000;\n}\n#T_9db56_row3_col4 {\n  background-color: #93b5fe;\n  color: #000000;\n}\n#T_9db56_row3_col5 {\n  background-color: #4f69d9;\n  color: #f1f1f1;\n}\n#T_9db56_row3_col6 {\n  background-color: #536edd;\n  color: #f1f1f1;\n}\n#T_9db56_row4_col1 {\n  background-color: #b3cdfb;\n  color: #000000;\n}\n#T_9db56_row4_col2 {\n  background-color: #506bda;\n  color: #f1f1f1;\n}\n#T_9db56_row4_col3 {\n  background-color: #3f53c6;\n  color: #f1f1f1;\n}\n#T_9db56_row4_col6 {\n  background-color: #5d7ce6;\n  color: #f1f1f1;\n}\n#T_9db56_row4_col7 {\n  background-color: #aac7fd;\n  color: #000000;\n}\n#T_9db56_row5_col0 {\n  background-color: #cdd9ec;\n  color: #000000;\n}\n#T_9db56_row5_col1 {\n  background-color: #86a9fc;\n  color: #f1f1f1;\n}\n#T_9db56_row5_col2 {\n  background-color: #6f92f3;\n  color: #f1f1f1;\n}\n#T_9db56_row5_col3, #T_9db56_row6_col3 {\n  background-color: #8caffe;\n  color: #000000;\n}\n#T_9db56_row5_col4 {\n  background-color: #c0d4f5;\n  color: #000000;\n}\n#T_9db56_row5_col6 {\n  background-color: #c7d7f0;\n  color: #000000;\n}\n#T_9db56_row6_col0 {\n  background-color: #c9d7f0;\n  color: #000000;\n}\n#T_9db56_row6_col1 {\n  background-color: #a2c1ff;\n  color: #000000;\n}\n#T_9db56_row6_col2 {\n  background-color: #6687ed;\n  color: #f1f1f1;\n}\n#T_9db56_row6_col4 {\n  background-color: #d2dbe8;\n  color: #000000;\n}\n#T_9db56_row6_col5 {\n  background-color: #c5d6f2;\n  color: #000000;\n}\n#T_9db56_row6_col7 {\n  background-color: #f5c0a7;\n  color: #000000;\n}\n#T_9db56_row7_col1, #T_9db56_row7_col5 {\n  background-color: #9abbff;\n  color: #000000;\n}\n#T_9db56_row7_col4 {\n  background-color: #ecd3c5;\n  color: #000000;\n}\n#T_9db56_row7_col6 {\n  background-color: #f3c8b2;\n  color: #000000;\n}\n</style>\n<table id=\"T_9db56_\">\n  <thead>\n    <tr>\n      <th class=\"blank level0\" >&nbsp;</th>\n      <th class=\"col_heading level0 col0\" >moderator_index</th>\n      <th class=\"col_heading level0 col1\" >c_author_number_changed_norm</th>\n      <th class=\"col_heading level0 col2\" >c_author_topic_variance_norm</th>\n      <th class=\"col_heading level0 col3\" >c_sentiment_value_norm</th>\n      <th class=\"col_heading level0 col4\" >sentiment_value_norm</th>\n      <th class=\"col_heading level0 col5\" >u_author_topic_variance_rating</th>\n      <th class=\"col_heading level0 col6\" >u_moderator_rating</th>\n      <th class=\"col_heading level0 col7\" >u_sentiment_rating</th>\n    </tr>\n  </thead>\n  <tbody>\n    <tr>\n      <th id=\"T_9db56_level0_row0\" class=\"row_heading level0 row0\" >moderator_index</th>\n      <td id=\"T_9db56_row0_col0\" class=\"data row0 col0\" >1.000000</td>\n      <td id=\"T_9db56_row0_col1\" class=\"data row0 col1\" >0.234026</td>\n      <td id=\"T_9db56_row0_col2\" class=\"data row0 col2\" >0.211829</td>\n      <td id=\"T_9db56_row0_col3\" class=\"data row0 col3\" >0.582233</td>\n      <td id=\"T_9db56_row0_col4\" class=\"data row0 col4\" >-0.724089</td>\n      <td id=\"T_9db56_row0_col5\" class=\"data row0 col5\" >0.043014</td>\n      <td id=\"T_9db56_row0_col6\" class=\"data row0 col6\" >0.016601</td>\n      <td id=\"T_9db56_row0_col7\" class=\"data row0 col7\" >-0.127326</td>\n    </tr>\n    <tr>\n      <th id=\"T_9db56_level0_row1\" class=\"row_heading level0 row1\" >c_author_number_changed_norm</th>\n      <td id=\"T_9db56_row1_col0\" class=\"data row1 col0\" >0.234026</td>\n      <td id=\"T_9db56_row1_col1\" class=\"data row1 col1\" >1.000000</td>\n      <td id=\"T_9db56_row1_col2\" class=\"data row1 col2\" >-0.023059</td>\n      <td id=\"T_9db56_row1_col3\" class=\"data row1 col3\" >-0.283043</td>\n      <td id=\"T_9db56_row1_col4\" class=\"data row1 col4\" >0.180119</td>\n      <td id=\"T_9db56_row1_col5\" class=\"data row1 col5\" >0.016645</td>\n      <td id=\"T_9db56_row1_col6\" class=\"data row1 col6\" >0.114376</td>\n      <td id=\"T_9db56_row1_col7\" class=\"data row1 col7\" >0.083485</td>\n    </tr>\n    <tr>\n      <th id=\"T_9db56_level0_row2\" class=\"row_heading level0 row2\" >c_author_topic_variance_norm</th>\n      <td id=\"T_9db56_row2_col0\" class=\"data row2 col0\" >0.211829</td>\n      <td id=\"T_9db56_row2_col1\" class=\"data row2 col1\" >-0.023059</td>\n      <td id=\"T_9db56_row2_col2\" class=\"data row2 col2\" >1.000000</td>\n      <td id=\"T_9db56_row2_col3\" class=\"data row2 col3\" >-0.214611</td>\n      <td id=\"T_9db56_row2_col4\" class=\"data row2 col4\" >-0.127677</td>\n      <td id=\"T_9db56_row2_col5\" class=\"data row2 col5\" >-0.014008</td>\n      <td id=\"T_9db56_row2_col6\" class=\"data row2 col6\" >-0.046636</td>\n      <td id=\"T_9db56_row2_col7\" class=\"data row2 col7\" >-0.026384</td>\n    </tr>\n    <tr>\n      <th id=\"T_9db56_level0_row3\" class=\"row_heading level0 row3\" >c_sentiment_value_norm</th>\n      <td id=\"T_9db56_row3_col0\" class=\"data row3 col0\" >0.582233</td>\n      <td id=\"T_9db56_row3_col1\" class=\"data row3 col1\" >-0.283043</td>\n      <td id=\"T_9db56_row3_col2\" class=\"data row3 col2\" >-0.214611</td>\n      <td id=\"T_9db56_row3_col3\" class=\"data row3 col3\" >1.000000</td>\n      <td id=\"T_9db56_row3_col4\" class=\"data row3 col4\" >-0.260111</td>\n      <td id=\"T_9db56_row3_col5\" class=\"data row3 col5\" >0.033807</td>\n      <td id=\"T_9db56_row3_col6\" class=\"data row3 col6\" >0.035704</td>\n      <td id=\"T_9db56_row3_col7\" class=\"data row3 col7\" >-0.026171</td>\n    </tr>\n    <tr>\n      <th id=\"T_9db56_level0_row4\" class=\"row_heading level0 row4\" >sentiment_value_norm</th>\n      <td id=\"T_9db56_row4_col0\" class=\"data row4 col0\" >-0.724089</td>\n      <td id=\"T_9db56_row4_col1\" class=\"data row4 col1\" >0.180119</td>\n      <td id=\"T_9db56_row4_col2\" class=\"data row4 col2\" >-0.127677</td>\n      <td id=\"T_9db56_row4_col3\" class=\"data row4 col3\" >-0.260111</td>\n      <td id=\"T_9db56_row4_col4\" class=\"data row4 col4\" >1.000000</td>\n      <td id=\"T_9db56_row4_col5\" class=\"data row4 col5\" >-0.037040</td>\n      <td id=\"T_9db56_row4_col6\" class=\"data row4 col6\" >0.069886</td>\n      <td id=\"T_9db56_row4_col7\" class=\"data row4 col7\" >0.247495</td>\n    </tr>\n    <tr>\n      <th id=\"T_9db56_level0_row5\" class=\"row_heading level0 row5\" >u_author_topic_variance_rating</th>\n      <td id=\"T_9db56_row5_col0\" class=\"data row5 col0\" >0.043014</td>\n      <td id=\"T_9db56_row5_col1\" class=\"data row5 col1\" >0.016645</td>\n      <td id=\"T_9db56_row5_col2\" class=\"data row5 col2\" >-0.014008</td>\n      <td id=\"T_9db56_row5_col3\" class=\"data row5 col3\" >0.033807</td>\n      <td id=\"T_9db56_row5_col4\" class=\"data row5 col4\" >-0.037040</td>\n      <td id=\"T_9db56_row5_col5\" class=\"data row5 col5\" >1.000000</td>\n      <td id=\"T_9db56_row5_col6\" class=\"data row5 col6\" >0.395891</td>\n      <td id=\"T_9db56_row5_col7\" class=\"data row5 col7\" >0.261945</td>\n    </tr>\n    <tr>\n      <th id=\"T_9db56_level0_row6\" class=\"row_heading level0 row6\" >u_moderator_rating</th>\n      <td id=\"T_9db56_row6_col0\" class=\"data row6 col0\" >0.016601</td>\n      <td id=\"T_9db56_row6_col1\" class=\"data row6 col1\" >0.114376</td>\n      <td id=\"T_9db56_row6_col2\" class=\"data row6 col2\" >-0.046636</td>\n      <td id=\"T_9db56_row6_col3\" class=\"data row6 col3\" >0.035704</td>\n      <td id=\"T_9db56_row6_col4\" class=\"data row6 col4\" >0.069886</td>\n      <td id=\"T_9db56_row6_col5\" class=\"data row6 col5\" >0.395891</td>\n      <td id=\"T_9db56_row6_col6\" class=\"data row6 col6\" >1.000000</td>\n      <td id=\"T_9db56_row6_col7\" class=\"data row6 col7\" >0.594093</td>\n    </tr>\n    <tr>\n      <th id=\"T_9db56_level0_row7\" class=\"row_heading level0 row7\" >u_sentiment_rating</th>\n      <td id=\"T_9db56_row7_col0\" class=\"data row7 col0\" >-0.127326</td>\n      <td id=\"T_9db56_row7_col1\" class=\"data row7 col1\" >0.083485</td>\n      <td id=\"T_9db56_row7_col2\" class=\"data row7 col2\" >-0.026384</td>\n      <td id=\"T_9db56_row7_col3\" class=\"data row7 col3\" >-0.026171</td>\n      <td id=\"T_9db56_row7_col4\" class=\"data row7 col4\" >0.247495</td>\n      <td id=\"T_9db56_row7_col5\" class=\"data row7 col5\" >0.261945</td>\n      <td id=\"T_9db56_row7_col6\" class=\"data row7 col6\" >0.594093</td>\n      <td id=\"T_9db56_row7_col7\" class=\"data row7 col7\" >1.000000</td>\n    </tr>\n  </tbody>\n</table>\n"
     },
     "execution_count": 111,
     "metadata": {},
     "output_type": "execute_result"
    }
   ],
   "source": [
    "import matplotlib.pyplot as plt\n",
    "\n",
    "\n",
    "df_rel = df[['moderator_index','c_author_number_changed_norm','c_author_topic_variance_norm', 'c_sentiment_value_norm', 'sentiment_value_norm', 'u_author_topic_variance_rating', 'u_moderator_rating', 'u_sentiment_rating']]\n",
    "\n",
    "#plt.matshow()\n",
    "#plt.show()\n",
    "corr = df_rel.corr()\n",
    "corr.style.background_gradient(cmap='coolwarm')"
   ]
  },
  {
   "cell_type": "code",
   "execution_count": 112,
   "outputs": [
    {
     "name": "stdout",
     "output_type": "stream",
     "text": [
      "using postgres\n"
     ]
    },
    {
     "data": {
      "text/plain": "<pandas.io.formats.style.Styler at 0x7ff46614e0a0>",
      "text/html": "<style type=\"text/css\">\n#T_1045b_row0_col0, #T_1045b_row1_col1, #T_1045b_row2_col2, #T_1045b_row3_col3, #T_1045b_row4_col4, #T_1045b_row5_col5, #T_1045b_row6_col6, #T_1045b_row7_col7 {\n  background-color: #b40426;\n  color: #f1f1f1;\n}\n#T_1045b_row0_col1 {\n  background-color: #b1cbfc;\n  color: #000000;\n}\n#T_1045b_row0_col2, #T_1045b_row3_col2 {\n  background-color: #6a8bef;\n  color: #f1f1f1;\n}\n#T_1045b_row0_col3 {\n  background-color: #f08b6e;\n  color: #f1f1f1;\n}\n#T_1045b_row0_col4, #T_1045b_row0_col6, #T_1045b_row0_col7, #T_1045b_row1_col3, #T_1045b_row1_col5, #T_1045b_row3_col1, #T_1045b_row4_col0, #T_1045b_row7_col2 {\n  background-color: #3b4cc0;\n  color: #f1f1f1;\n}\n#T_1045b_row0_col5 {\n  background-color: #465ecf;\n  color: #f1f1f1;\n}\n#T_1045b_row1_col0 {\n  background-color: #d1dae9;\n  color: #000000;\n}\n#T_1045b_row1_col2 {\n  background-color: #3f53c6;\n  color: #f1f1f1;\n}\n#T_1045b_row1_col4 {\n  background-color: #edd1c2;\n  color: #000000;\n}\n#T_1045b_row1_col6, #T_1045b_row6_col0 {\n  background-color: #8caffe;\n  color: #000000;\n}\n#T_1045b_row1_col7 {\n  background-color: #aac7fd;\n  color: #000000;\n}\n#T_1045b_row2_col0, #T_1045b_row5_col4 {\n  background-color: #d7dce3;\n  color: #000000;\n}\n#T_1045b_row2_col1 {\n  background-color: #97b8ff;\n  color: #000000;\n}\n#T_1045b_row2_col3 {\n  background-color: #b9d0f9;\n  color: #000000;\n}\n#T_1045b_row2_col4, #T_1045b_row6_col5 {\n  background-color: #c6d6f1;\n  color: #000000;\n}\n#T_1045b_row2_col5, #T_1045b_row2_col6 {\n  background-color: #7ea1fa;\n  color: #f1f1f1;\n}\n#T_1045b_row2_col7, #T_1045b_row6_col3 {\n  background-color: #80a3fa;\n  color: #f1f1f1;\n}\n#T_1045b_row3_col0 {\n  background-color: #ea7b60;\n  color: #f1f1f1;\n}\n#T_1045b_row3_col4 {\n  background-color: #85a8fc;\n  color: #f1f1f1;\n}\n#T_1045b_row3_col5 {\n  background-color: #5b7ae5;\n  color: #f1f1f1;\n}\n#T_1045b_row3_col6 {\n  background-color: #5f7fe8;\n  color: #f1f1f1;\n}\n#T_1045b_row3_col7, #T_1045b_row4_col5 {\n  background-color: #6384eb;\n  color: #f1f1f1;\n}\n#T_1045b_row4_col1 {\n  background-color: #dadce0;\n  color: #000000;\n}\n#T_1045b_row4_col2 {\n  background-color: #4b64d5;\n  color: #f1f1f1;\n}\n#T_1045b_row4_col3 {\n  background-color: #536edd;\n  color: #f1f1f1;\n}\n#T_1045b_row4_col6 {\n  background-color: #e7d7ce;\n  color: #000000;\n}\n#T_1045b_row4_col7 {\n  background-color: #f5c1a9;\n  color: #000000;\n}\n#T_1045b_row5_col0 {\n  background-color: #c9d7f0;\n  color: #000000;\n}\n#T_1045b_row5_col1 {\n  background-color: #9abbff;\n  color: #000000;\n}\n#T_1045b_row5_col2 {\n  background-color: #86a9fc;\n  color: #f1f1f1;\n}\n#T_1045b_row5_col3 {\n  background-color: #b5cdfa;\n  color: #000000;\n}\n#T_1045b_row5_col6 {\n  background-color: #e6d7cf;\n  color: #000000;\n}\n#T_1045b_row5_col7 {\n  background-color: #ccd9ed;\n  color: #000000;\n}\n#T_1045b_row6_col1 {\n  background-color: #a9c6fd;\n  color: #000000;\n}\n#T_1045b_row6_col2 {\n  background-color: #445acc;\n  color: #f1f1f1;\n}\n#T_1045b_row6_col4 {\n  background-color: #f7bca1;\n  color: #000000;\n}\n#T_1045b_row6_col7 {\n  background-color: #e8765c;\n  color: #f1f1f1;\n}\n#T_1045b_row7_col0 {\n  background-color: #82a6fb;\n  color: #f1f1f1;\n}\n#T_1045b_row7_col1 {\n  background-color: #bad0f8;\n  color: #000000;\n}\n#T_1045b_row7_col3 {\n  background-color: #799cf8;\n  color: #f1f1f1;\n}\n#T_1045b_row7_col4 {\n  background-color: #f7a889;\n  color: #000000;\n}\n#T_1045b_row7_col5 {\n  background-color: #93b5fe;\n  color: #000000;\n}\n#T_1045b_row7_col6 {\n  background-color: #e97a5f;\n  color: #f1f1f1;\n}\n</style>\n<table id=\"T_1045b_\">\n  <thead>\n    <tr>\n      <th class=\"blank level0\" >&nbsp;</th>\n      <th class=\"col_heading level0 col0\" >moderator_index</th>\n      <th class=\"col_heading level0 col1\" >c_author_number_changed_norm</th>\n      <th class=\"col_heading level0 col2\" >c_author_topic_variance_norm</th>\n      <th class=\"col_heading level0 col3\" >c_sentiment_value_norm</th>\n      <th class=\"col_heading level0 col4\" >sentiment_value_norm</th>\n      <th class=\"col_heading level0 col5\" >u_author_topic_variance_rating</th>\n      <th class=\"col_heading level0 col6\" >u_moderator_rating</th>\n      <th class=\"col_heading level0 col7\" >u_sentiment_rating</th>\n    </tr>\n  </thead>\n  <tbody>\n    <tr>\n      <th id=\"T_1045b_level0_row0\" class=\"row_heading level0 row0\" >moderator_index</th>\n      <td id=\"T_1045b_row0_col0\" class=\"data row0 col0\" >1.000000</td>\n      <td id=\"T_1045b_row0_col1\" class=\"data row0 col1\" >-0.000966</td>\n      <td id=\"T_1045b_row0_col2\" class=\"data row0 col2\" >0.038058</td>\n      <td id=\"T_1045b_row0_col3\" class=\"data row0 col3\" >0.661670</td>\n      <td id=\"T_1045b_row0_col4\" class=\"data row0 col4\" >-0.842826</td>\n      <td id=\"T_1045b_row0_col5\" class=\"data row0 col5\" >-0.057451</td>\n      <td id=\"T_1045b_row0_col6\" class=\"data row0 col6\" >-0.382842</td>\n      <td id=\"T_1045b_row0_col7\" class=\"data row0 col7\" >-0.438651</td>\n    </tr>\n    <tr>\n      <th id=\"T_1045b_level0_row1\" class=\"row_heading level0 row1\" >c_author_number_changed_norm</th>\n      <td id=\"T_1045b_row1_col0\" class=\"data row1 col0\" >-0.000966</td>\n      <td id=\"T_1045b_row1_col1\" class=\"data row1 col1\" >1.000000</td>\n      <td id=\"T_1045b_row1_col2\" class=\"data row1 col2\" >-0.116355</td>\n      <td id=\"T_1045b_row1_col3\" class=\"data row1 col3\" >-0.547136</td>\n      <td id=\"T_1045b_row1_col4\" class=\"data row1 col4\" >0.213420</td>\n      <td id=\"T_1045b_row1_col5\" class=\"data row1 col5\" >-0.100591</td>\n      <td id=\"T_1045b_row1_col6\" class=\"data row1 col6\" >-0.037229</td>\n      <td id=\"T_1045b_row1_col7\" class=\"data row1 col7\" >0.040946</td>\n    </tr>\n    <tr>\n      <th id=\"T_1045b_level0_row2\" class=\"row_heading level0 row2\" >c_author_topic_variance_norm</th>\n      <td id=\"T_1045b_row2_col0\" class=\"data row2 col0\" >0.038058</td>\n      <td id=\"T_1045b_row2_col1\" class=\"data row2 col1\" >-0.116355</td>\n      <td id=\"T_1045b_row2_col2\" class=\"data row2 col2\" >1.000000</td>\n      <td id=\"T_1045b_row2_col3\" class=\"data row2 col3\" >0.037325</td>\n      <td id=\"T_1045b_row2_col4\" class=\"data row2 col4\" >-0.070426</td>\n      <td id=\"T_1045b_row2_col5\" class=\"data row2 col5\" >0.130753</td>\n      <td id=\"T_1045b_row2_col6\" class=\"data row2 col6\" >-0.096106</td>\n      <td id=\"T_1045b_row2_col7\" class=\"data row2 col7\" >-0.134570</td>\n    </tr>\n    <tr>\n      <th id=\"T_1045b_level0_row3\" class=\"row_heading level0 row3\" >c_sentiment_value_norm</th>\n      <td id=\"T_1045b_row3_col0\" class=\"data row3 col0\" >0.661670</td>\n      <td id=\"T_1045b_row3_col1\" class=\"data row3 col1\" >-0.547136</td>\n      <td id=\"T_1045b_row3_col2\" class=\"data row3 col2\" >0.037325</td>\n      <td id=\"T_1045b_row3_col3\" class=\"data row3 col3\" >1.000000</td>\n      <td id=\"T_1045b_row3_col4\" class=\"data row3 col4\" >-0.420734</td>\n      <td id=\"T_1045b_row3_col5\" class=\"data row3 col5\" >0.017041</td>\n      <td id=\"T_1045b_row3_col6\" class=\"data row3 col6\" >-0.220157</td>\n      <td id=\"T_1045b_row3_col7\" class=\"data row3 col7\" >-0.249587</td>\n    </tr>\n    <tr>\n      <th id=\"T_1045b_level0_row4\" class=\"row_heading level0 row4\" >sentiment_value_norm</th>\n      <td id=\"T_1045b_row4_col0\" class=\"data row4 col0\" >-0.842826</td>\n      <td id=\"T_1045b_row4_col1\" class=\"data row4 col1\" >0.213420</td>\n      <td id=\"T_1045b_row4_col2\" class=\"data row4 col2\" >-0.070426</td>\n      <td id=\"T_1045b_row4_col3\" class=\"data row4 col3\" >-0.420734</td>\n      <td id=\"T_1045b_row4_col4\" class=\"data row4 col4\" >1.000000</td>\n      <td id=\"T_1045b_row4_col5\" class=\"data row4 col5\" >0.041402</td>\n      <td id=\"T_1045b_row4_col6\" class=\"data row4 col6\" >0.365381</td>\n      <td id=\"T_1045b_row4_col7\" class=\"data row4 col7\" >0.472866</td>\n    </tr>\n    <tr>\n      <th id=\"T_1045b_level0_row5\" class=\"row_heading level0 row5\" >u_author_topic_variance_rating</th>\n      <td id=\"T_1045b_row5_col0\" class=\"data row5 col0\" >-0.057451</td>\n      <td id=\"T_1045b_row5_col1\" class=\"data row5 col1\" >-0.100591</td>\n      <td id=\"T_1045b_row5_col2\" class=\"data row5 col2\" >0.130753</td>\n      <td id=\"T_1045b_row5_col3\" class=\"data row5 col3\" >0.017041</td>\n      <td id=\"T_1045b_row5_col4\" class=\"data row5 col4\" >0.041402</td>\n      <td id=\"T_1045b_row5_col5\" class=\"data row5 col5\" >1.000000</td>\n      <td id=\"T_1045b_row5_col6\" class=\"data row5 col6\" >0.359563</td>\n      <td id=\"T_1045b_row5_col7\" class=\"data row5 col7\" >0.192947</td>\n    </tr>\n    <tr>\n      <th id=\"T_1045b_level0_row6\" class=\"row_heading level0 row6\" >u_moderator_rating</th>\n      <td id=\"T_1045b_row6_col0\" class=\"data row6 col0\" >-0.382842</td>\n      <td id=\"T_1045b_row6_col1\" class=\"data row6 col1\" >-0.037229</td>\n      <td id=\"T_1045b_row6_col2\" class=\"data row6 col2\" >-0.096106</td>\n      <td id=\"T_1045b_row6_col3\" class=\"data row6 col3\" >-0.220157</td>\n      <td id=\"T_1045b_row6_col4\" class=\"data row6 col4\" >0.365381</td>\n      <td id=\"T_1045b_row6_col5\" class=\"data row6 col5\" >0.359563</td>\n      <td id=\"T_1045b_row6_col6\" class=\"data row6 col6\" >1.000000</td>\n      <td id=\"T_1045b_row6_col7\" class=\"data row6 col7\" >0.754438</td>\n    </tr>\n    <tr>\n      <th id=\"T_1045b_level0_row7\" class=\"row_heading level0 row7\" >u_sentiment_rating</th>\n      <td id=\"T_1045b_row7_col0\" class=\"data row7 col0\" >-0.438651</td>\n      <td id=\"T_1045b_row7_col1\" class=\"data row7 col1\" >0.040946</td>\n      <td id=\"T_1045b_row7_col2\" class=\"data row7 col2\" >-0.134570</td>\n      <td id=\"T_1045b_row7_col3\" class=\"data row7 col3\" >-0.249587</td>\n      <td id=\"T_1045b_row7_col4\" class=\"data row7 col4\" >0.472866</td>\n      <td id=\"T_1045b_row7_col5\" class=\"data row7 col5\" >0.192947</td>\n      <td id=\"T_1045b_row7_col6\" class=\"data row7 col6\" >0.754438</td>\n      <td id=\"T_1045b_row7_col7\" class=\"data row7 col7\" >1.000000</td>\n    </tr>\n  </tbody>\n</table>\n"
     },
     "execution_count": 112,
     "metadata": {},
     "output_type": "execute_result"
    }
   ],
   "source": [
    "df = get_query_native(\"SELECT candidate.*,tweet.text from delab_twcandidate candidate join delab_tweet tweet on candidate.tweet_id = tweet.id where tweet.language = 'en'\")\n",
    "df.head(2)\n",
    "\n",
    "df_rel = df[['moderator_index','c_author_number_changed_norm','c_author_topic_variance_norm', 'c_sentiment_value_norm', 'sentiment_value_norm', 'u_author_topic_variance_rating', 'u_moderator_rating', 'u_sentiment_rating']]\n",
    "\n",
    "#plt.matshow()\n",
    "#plt.show()\n",
    "corr2 = df_rel.corr()\n",
    "corr2.style.background_gradient(cmap='coolwarm')"
   ],
   "metadata": {
    "collapsed": false,
    "pycharm": {
     "name": "#%%\n"
    }
   }
  },
  {
   "cell_type": "code",
   "execution_count": 113,
   "outputs": [
    {
     "name": "stdout",
     "output_type": "stream",
     "text": [
      "using postgres\n"
     ]
    },
    {
     "data": {
      "text/plain": "id                                6\nexp_id                            6\nmoderator_index                   6\ncoder_id                          6\ntweet_id                          6\nc_author_number_changed_norm      6\nc_author_topic_variance_norm      6\nc_sentiment_value_norm            6\ncoded_by_id                       0\nsentiment_value_norm              6\nu_author_topic_variance_rating    6\nu_moderator_rating                6\nu_sentiment_rating                6\nplatform                          6\ntext                              6\ndtype: int64"
     },
     "execution_count": 113,
     "metadata": {},
     "output_type": "execute_result"
    }
   ],
   "source": [
    "df = get_query_native(\"SELECT candidate.*,tweet.text from delab_twcandidate candidate join delab_tweet tweet on candidate.tweet_id = tweet.id where tweet.language = 'de'\")\n",
    "df[df[\"u_moderator_rating\"]==1].count()"
   ],
   "metadata": {
    "collapsed": false,
    "pycharm": {
     "name": "#%%\n"
    }
   }
  },
  {
   "cell_type": "code",
   "execution_count": 114,
   "outputs": [
    {
     "data": {
      "text/plain": "id                                0\nexp_id                            0\nmoderator_index                   0\ncoder_id                          0\ntweet_id                          0\nc_author_number_changed_norm      0\nc_author_topic_variance_norm      0\nc_sentiment_value_norm            0\ncoded_by_id                       0\nsentiment_value_norm              0\nu_author_topic_variance_rating    0\nu_moderator_rating                0\nu_sentiment_rating                0\nplatform                          0\ntext                              0\ndtype: int64"
     },
     "execution_count": 114,
     "metadata": {},
     "output_type": "execute_result"
    }
   ],
   "source": [
    "df[df[\"u_moderator_rating\"]==2].count()"
   ],
   "metadata": {
    "collapsed": false,
    "pycharm": {
     "name": "#%%\n"
    }
   }
  },
  {
   "cell_type": "code",
   "execution_count": 115,
   "outputs": [
    {
     "data": {
      "text/plain": "300"
     },
     "execution_count": 115,
     "metadata": {},
     "output_type": "execute_result"
    }
   ],
   "source": [
    "df.shape[0]"
   ],
   "metadata": {
    "collapsed": false,
    "pycharm": {
     "name": "#%%\n"
    }
   }
  },
  {
   "cell_type": "code",
   "execution_count": 116,
   "outputs": [
    {
     "data": {
      "text/plain": "9                                                                                                                                                                                                                    @ulfposh Wo genau war die sachliche Auseinandersetzung? Was habe ich überlesen? Wo sind die Gegenargumente?\n22                                 @ulfposh Also, Ulf, wenn Du die Entscheidung des BVerfG anzweifeln, willst, such Dir sachliche Gründe und vor allem Gesetzestexte, die Deine Kritik untermauern. Die Idee, das BVerfG wär parteiisch, nur weil man zufälligerweise die Gesetze richtig gelesen hat, ist schon weit hergeholt.\n180      @Monika6812 @drizzle_d17 @MarcoHamGer @RZitelmann Sollte man unberechtigte Intoleranz nicht stets abbauen?\\nAh und das ist super, hier mal eine zu treffen, bei der es unwahrscheinlich ist, dass sie etwas nicht versteht. Ich habe u.a. die Riemannsche Hypothese nicht verstanden. Könntest Du mir die mal erklären?\n192    @ryhminsimon @cjwerleman @genislam1 Er recherchiert, bleibt sachlich, arbeitet, so wie ichs verstanden habe für die NY Times und gilt als seriöse Quelle... Jetzt bring bitte du deine Gegenargumente, warum man abwarten sollte.. In der AS, SZ, Tagesschau oder in Israel Post kannst du auf die Nachricht lange warten\n193                     @KaratasEsad @cjwerleman @genislam1 Weil wir bisher ein Video haben...\\nWas ist der Situation vorangegangen?\\nWer war genau beteiligt? Usw.\\nWie gesagt, ich bilde mir bei so einem komplizierten Thema keine Meinung durch ein Video.\\nDu tust es, weil es deinen bias bestätigt. Ich habe hier keinen.\n197                                                                                   @ryhminsimon @EggMarkus @cjwerleman @genislam1 Wie wäre es mal, euren Lügenstempel woanders aufzusetzen als bei Andersdenkenden, wie zB bei Baerbock vllt?... Und selbst wenn, seit ihr die Letzten, die jemanden dafür verurteilen dürfen\nName: text, dtype: object"
     },
     "execution_count": 116,
     "metadata": {},
     "output_type": "execute_result"
    }
   ],
   "source": [
    "df[df[\"u_moderator_rating\"]==1].text"
   ],
   "metadata": {
    "collapsed": false,
    "pycharm": {
     "name": "#%%\n"
    }
   }
  },
  {
   "cell_type": "code",
   "execution_count": 117,
   "outputs": [
    {
     "name": "stdout",
     "output_type": "stream",
     "text": [
      "using postgres\n"
     ]
    },
    {
     "data": {
      "text/plain": "id                                0\nexp_id                            0\nmoderator_index                   0\ncoder_id                          0\ntweet_id                          0\nc_author_number_changed_norm      0\nc_author_topic_variance_norm      0\nc_sentiment_value_norm            0\ncoded_by_id                       0\nsentiment_value_norm              0\nu_author_topic_variance_rating    0\nu_moderator_rating                0\nu_sentiment_rating                0\nplatform                          0\ntext                              0\ndtype: int64"
     },
     "execution_count": 117,
     "metadata": {},
     "output_type": "execute_result"
    }
   ],
   "source": [
    "df = get_query_native(\"SELECT candidate.*,tweet.text from delab_twcandidate candidate join delab_tweet tweet on candidate.tweet_id = tweet.id where tweet.language = 'en'\")\n",
    "df[df[\"u_moderator_rating\"]==1].count()\n"
   ],
   "metadata": {
    "collapsed": false,
    "pycharm": {
     "name": "#%%\n"
    }
   }
  },
  {
   "cell_type": "code",
   "execution_count": 118,
   "outputs": [
    {
     "data": {
      "text/plain": "id                                0\nexp_id                            0\nmoderator_index                   0\ncoder_id                          0\ntweet_id                          0\nc_author_number_changed_norm      0\nc_author_topic_variance_norm      0\nc_sentiment_value_norm            0\ncoded_by_id                       0\nsentiment_value_norm              0\nu_author_topic_variance_rating    0\nu_moderator_rating                0\nu_sentiment_rating                0\nplatform                          0\ntext                              0\ndtype: int64"
     },
     "execution_count": 118,
     "metadata": {},
     "output_type": "execute_result"
    }
   ],
   "source": [
    "df[df[\"u_moderator_rating\"]==2].count()"
   ],
   "metadata": {
    "collapsed": false,
    "pycharm": {
     "name": "#%%\n"
    }
   }
  },
  {
   "cell_type": "code",
   "execution_count": 119,
   "outputs": [
    {
     "data": {
      "text/plain": "252"
     },
     "execution_count": 119,
     "metadata": {},
     "output_type": "execute_result"
    }
   ],
   "source": [
    "df.shape[0]\n"
   ],
   "metadata": {
    "collapsed": false,
    "pycharm": {
     "name": "#%%\n"
    }
   }
  },
  {
   "cell_type": "code",
   "execution_count": 120,
   "outputs": [
    {
     "name": "stdout",
     "output_type": "stream",
     "text": [
      "using postgres\n"
     ]
    },
    {
     "data": {
      "text/plain": "198347"
     },
     "execution_count": 120,
     "metadata": {},
     "output_type": "execute_result"
    }
   ],
   "source": [
    "df = get_query_native(\"SELECT text from delab_tweet\")\n",
    "df.shape[0]"
   ],
   "metadata": {
    "collapsed": false,
    "pycharm": {
     "name": "#%%\n"
    }
   }
  }
 ],
 "metadata": {
  "kernelspec": {
   "display_name": "Python 3 (ipykernel)",
   "language": "python",
   "name": "python3"
  },
  "language_info": {
   "codemirror_mode": {
    "name": "ipython",
    "version": 3
   },
   "file_extension": ".py",
   "mimetype": "text/x-python",
   "name": "python",
   "nbconvert_exporter": "python",
   "pygments_lexer": "ipython3",
   "version": "3.8.10"
  }
 },
 "nbformat": 4,
 "nbformat_minor": 1
}