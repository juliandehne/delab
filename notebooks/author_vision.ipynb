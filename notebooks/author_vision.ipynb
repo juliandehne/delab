{
 "cells": [
  {
   "cell_type": "markdown",
   "metadata": {
    "pycharm": {
     "name": "#%% md\n"
    }
   },
   "source": [
    "# Training a classifier for weights of author vision components\n",
    "\n",
    "The features are the distance of the author to any tweet in the conversation\n",
    "indicated by the following structures:\n",
    "- subtree to viewed tweet from a tweet the author wrote\n",
    "- root closeness of viewed tweet\n",
    "- time delta to viewed tweet from tweets the author wrote"
   ]
  },
  {
   "cell_type": "markdown",
   "metadata": {
    "pycharm": {
     "name": "#%% md\n"
    }
   },
   "source": [
    "#### Loading the data from the pickled version\n",
    "1. importing libraries\n",
    "2. checking gpu support\n"
   ]
  },
  {
   "cell_type": "code",
   "execution_count": 1,
   "metadata": {
    "pycharm": {
     "name": "#%%\n"
    }
   },
   "outputs": [
    {
     "name": "stdout",
     "output_type": "stream",
     "text": [
      "WARNING:tensorflow:From /tmp/ipykernel_211078/4154427840.py:10: is_gpu_available (from tensorflow.python.framework.test_util) is deprecated and will be removed in a future version.\n",
      "Instructions for updating:\n",
      "Use `tf.config.list_physical_devices('GPU')` instead.\n",
      "cuda gpu is available: True\n"
     ]
    },
    {
     "name": "stderr",
     "output_type": "stream",
     "text": [
      "2022-08-16 15:36:28.470498: I tensorflow/core/platform/cpu_feature_guard.cc:142] This TensorFlow binary is optimized with oneAPI Deep Neural Network Library (oneDNN) to use the following CPU instructions in performance-critical operations:  AVX2 FMA\n",
      "To enable them in other operations, rebuild TensorFlow with the appropriate compiler flags.\n",
      "2022-08-16 15:36:28.518277: I tensorflow/stream_executor/cuda/cuda_gpu_executor.cc:937] successful NUMA node read from SysFS had negative value (-1), but there must be at least one NUMA node, so returning NUMA node zero\n",
      "2022-08-16 15:36:28.565084: I tensorflow/stream_executor/cuda/cuda_gpu_executor.cc:937] successful NUMA node read from SysFS had negative value (-1), but there must be at least one NUMA node, so returning NUMA node zero\n",
      "2022-08-16 15:36:28.565355: I tensorflow/stream_executor/cuda/cuda_gpu_executor.cc:937] successful NUMA node read from SysFS had negative value (-1), but there must be at least one NUMA node, so returning NUMA node zero\n",
      "2022-08-16 15:36:29.488912: I tensorflow/stream_executor/cuda/cuda_gpu_executor.cc:937] successful NUMA node read from SysFS had negative value (-1), but there must be at least one NUMA node, so returning NUMA node zero\n",
      "2022-08-16 15:36:29.489163: I tensorflow/stream_executor/cuda/cuda_gpu_executor.cc:937] successful NUMA node read from SysFS had negative value (-1), but there must be at least one NUMA node, so returning NUMA node zero\n",
      "2022-08-16 15:36:29.489366: I tensorflow/stream_executor/cuda/cuda_gpu_executor.cc:937] successful NUMA node read from SysFS had negative value (-1), but there must be at least one NUMA node, so returning NUMA node zero\n",
      "2022-08-16 15:36:29.489550: I tensorflow/core/common_runtime/gpu/gpu_device.cc:1510] Created device /device:GPU:0 with 199 MB memory:  -> device: 0, name: NVIDIA GeForce GTX 1650 Ti, pci bus id: 0000:01:00.0, compute capability: 7.5\n"
     ]
    }
   ],
   "source": [
    "import pandas as pd\n",
    "from sklearn.model_selection import train_test_split\n",
    "import tensorflow as tf\n",
    "from tensorflow.keras.models import Sequential\n",
    "from tensorflow.keras.layers import Dense\n",
    "\n",
    "from keras import backend as K\n",
    "import pickle5 as pickle\n",
    "\n",
    "is_cuda_gpu_available = tf.test.is_gpu_available(cuda_only=True)\n",
    "print(\"cuda gpu is available: {}\".format(is_cuda_gpu_available))\n",
    "filename = \"data/vision_graph_data_local_16_09_22.pkl\"\n",
    "# filename = \"data/vision_graph_data.pkl\"\n",
    "with open(filename, 'rb') as f:\n",
    "    df = pickle.load(f)"
   ]
  },
  {
   "cell_type": "code",
   "execution_count": 2,
   "metadata": {
    "pycharm": {
     "name": "#%%\n"
    }
   },
   "outputs": [
    {
     "data": {
      "text/html": [
       "<div>\n",
       "<style scoped>\n",
       "    .dataframe tbody tr th:only-of-type {\n",
       "        vertical-align: middle;\n",
       "    }\n",
       "\n",
       "    .dataframe tbody tr th {\n",
       "        vertical-align: top;\n",
       "    }\n",
       "\n",
       "    .dataframe thead th {\n",
       "        text-align: right;\n",
       "    }\n",
       "</style>\n",
       "<table border=\"1\" class=\"dataframe\">\n",
       "  <thead>\n",
       "    <tr style=\"text-align: right;\">\n",
       "      <th></th>\n",
       "      <th>timedelta</th>\n",
       "      <th>root_distance_0</th>\n",
       "      <th>y</th>\n",
       "      <th>current</th>\n",
       "      <th>beam_node</th>\n",
       "      <th>has_followed_path</th>\n",
       "      <th>has_follow_path</th>\n",
       "      <th>beam_node_author</th>\n",
       "      <th>platform</th>\n",
       "      <th>conversation_id</th>\n",
       "      <th>...</th>\n",
       "      <th>root_distance_14</th>\n",
       "      <th>root_distance_15</th>\n",
       "      <th>root_distance_16</th>\n",
       "      <th>root_distance_17</th>\n",
       "      <th>root_distance_18</th>\n",
       "      <th>root_distance_19</th>\n",
       "      <th>root_distance_20</th>\n",
       "      <th>root_distance_21</th>\n",
       "      <th>root_distance_22</th>\n",
       "      <th>root_distance_23</th>\n",
       "    </tr>\n",
       "  </thead>\n",
       "  <tbody>\n",
       "    <tr>\n",
       "      <th>0</th>\n",
       "      <td>0.000027</td>\n",
       "      <td>0</td>\n",
       "      <td>0</td>\n",
       "      <td>1524481865415110657</td>\n",
       "      <td>1524461544284712960</td>\n",
       "      <td>0</td>\n",
       "      <td>0</td>\n",
       "      <td>1496816657750179843</td>\n",
       "      <td>twitter</td>\n",
       "      <td>1524450079444279297</td>\n",
       "      <td>...</td>\n",
       "      <td>0.0</td>\n",
       "      <td>0.0</td>\n",
       "      <td>0.0</td>\n",
       "      <td>0.0</td>\n",
       "      <td>0.0</td>\n",
       "      <td>0.0</td>\n",
       "      <td>0.0</td>\n",
       "      <td>0.0</td>\n",
       "      <td>0.0</td>\n",
       "      <td>0.0</td>\n",
       "    </tr>\n",
       "    <tr>\n",
       "      <th>1</th>\n",
       "      <td>0.000020</td>\n",
       "      <td>0</td>\n",
       "      <td>0</td>\n",
       "      <td>1524481865415110657</td>\n",
       "      <td>1524466876037935106</td>\n",
       "      <td>0</td>\n",
       "      <td>0</td>\n",
       "      <td>1239116711342768128</td>\n",
       "      <td>twitter</td>\n",
       "      <td>1524450079444279297</td>\n",
       "      <td>...</td>\n",
       "      <td>0.0</td>\n",
       "      <td>0.0</td>\n",
       "      <td>0.0</td>\n",
       "      <td>0.0</td>\n",
       "      <td>0.0</td>\n",
       "      <td>0.0</td>\n",
       "      <td>0.0</td>\n",
       "      <td>0.0</td>\n",
       "      <td>0.0</td>\n",
       "      <td>0.0</td>\n",
       "    </tr>\n",
       "  </tbody>\n",
       "</table>\n",
       "<p>2 rows × 55 columns</p>\n",
       "</div>"
      ],
      "text/plain": [
       "   timedelta  root_distance_0  y              current            beam_node  \\\n",
       "0   0.000027                0  0  1524481865415110657  1524461544284712960   \n",
       "1   0.000020                0  0  1524481865415110657  1524466876037935106   \n",
       "\n",
       "   has_followed_path  has_follow_path     beam_node_author platform  \\\n",
       "0                  0                0  1496816657750179843  twitter   \n",
       "1                  0                0  1239116711342768128  twitter   \n",
       "\n",
       "       conversation_id  ...  root_distance_14  root_distance_15  \\\n",
       "0  1524450079444279297  ...               0.0               0.0   \n",
       "1  1524450079444279297  ...               0.0               0.0   \n",
       "\n",
       "   root_distance_16  root_distance_17  root_distance_18  root_distance_19  \\\n",
       "0               0.0               0.0               0.0               0.0   \n",
       "1               0.0               0.0               0.0               0.0   \n",
       "\n",
       "   root_distance_20  root_distance_21  root_distance_22  root_distance_23  \n",
       "0               0.0               0.0               0.0               0.0  \n",
       "1               0.0               0.0               0.0               0.0  \n",
       "\n",
       "[2 rows x 55 columns]"
      ]
     },
     "execution_count": 2,
     "metadata": {},
     "output_type": "execute_result"
    }
   ],
   "source": [
    "#import utility functions\n",
    "%run author_vision_util.ipynb\n",
    "df = normalize_timedelta(df)\n",
    "df.head(2)"
   ]
  },
  {
   "cell_type": "markdown",
   "metadata": {
    "pycharm": {
     "name": "#%% md\n"
    }
   },
   "source": [
    "#### Delete rows that are neither twitter or reddit data"
   ]
  },
  {
   "cell_type": "code",
   "execution_count": 3,
   "metadata": {
    "pycharm": {
     "name": "#%%\n"
    }
   },
   "outputs": [
    {
     "data": {
      "text/plain": [
       "twitter    819079\n",
       "reddit      24497\n",
       "Name: platform, dtype: int64"
      ]
     },
     "execution_count": 3,
     "metadata": {},
     "output_type": "execute_result"
    }
   ],
   "source": [
    "# remove non-features\n",
    "current = df.current\n",
    "beam_node = df.beam_node\n",
    "platform = df.platform\n",
    "platform.value_counts()\n",
    "\n",
    "# filtering data that is not twitter or reddit\n",
    "to_delete_rows = platform.apply(lambda x: is_not_reddit_or_twitter(x))\n",
    "df = df.drop(df[to_delete_rows].index)\n",
    "df.platform.value_counts()"
   ]
  },
  {
   "cell_type": "markdown",
   "metadata": {
    "pycharm": {
     "name": "#%% md\n"
    }
   },
   "source": [
    "#### Equalizing the sample sizes\n",
    "- chose random samples from distinct conversation_ids\n",
    "- increase sample size until data size is similar between reddit and twitter"
   ]
  },
  {
   "cell_type": "code",
   "execution_count": 4,
   "metadata": {
    "pycharm": {
     "name": "#%%\n"
    }
   },
   "outputs": [
    {
     "name": "stdout",
     "output_type": "stream",
     "text": [
      "chosen 17 conversations and gotten 25521 from twitter compared to 24497 from reddit\n"
     ]
    },
    {
     "data": {
      "text/plain": [
       "twitter    25521\n",
       "reddit     24497\n",
       "Name: platform, dtype: int64"
      ]
     },
     "execution_count": 4,
     "metadata": {},
     "output_type": "execute_result"
    }
   ],
   "source": [
    "# limit the twitter data and the reddit data to the same amount and prevent gpu problem\n",
    "df = equalize_samples(df)\n",
    "df.platform.value_counts()"
   ]
  },
  {
   "cell_type": "code",
   "execution_count": 5,
   "metadata": {
    "pycharm": {
     "name": "#%%\n"
    }
   },
   "outputs": [
    {
     "name": "stdout",
     "output_type": "stream",
     "text": [
      "reddit:\n",
      "0    21624\n",
      "1     2873\n",
      "Name: y, dtype: int64\n",
      "twitter:\n",
      "0    24170\n",
      "1     1351\n",
      "Name: y, dtype: int64\n"
     ]
    }
   ],
   "source": [
    "# df = df[df[\"root_distance_0\"] == 0]\n",
    "# analyze the distribution of reached targets for the sample\n",
    "print(\"reddit:\")\n",
    "print(df[df[\"platform\"]==\"reddit\"].y.value_counts())\n",
    "print(\"twitter:\")\n",
    "print(df[df[\"platform\"]==\"twitter\"].y.value_counts())\n",
    "# this should be higher for reddit as the unique author / posting ratio is lower for reddit"
   ]
  },
  {
   "cell_type": "markdown",
   "metadata": {
    "pycharm": {
     "name": "#%% md\n"
    }
   },
   "source": [
    "### Computing a nn model\n",
    "1. seperate features\n",
    "2. train models for reddit and twitter\n",
    "3. inspect models for reddit and twitter\n",
    "4. predict the likelihood based on the author has seen a posting\n",
    "5. aggregate likelihoods in order to compute author vision measure\n"
   ]
  },
  {
   "cell_type": "code",
   "execution_count": 6,
   "metadata": {
    "pycharm": {
     "name": "#%%\n"
    }
   },
   "outputs": [],
   "source": [
    "\n",
    "# training functions\n",
    "\n",
    "def train_model(df):\n",
    "    # dropping non-reddit non-twitter data\n",
    "    df = take_features(df)\n",
    "\n",
    "\n",
    "    # selecting train and test datasets\n",
    "    train, test = train_test_split(df, test_size=0.2)\n",
    "    train.describe()\n",
    "\n",
    "    # train the model\n",
    "    y = train.y\n",
    "    x = train.drop(\"y\", axis=1)\n",
    "    print(x.shape)\n",
    "    print(y.shape)\n",
    "\n",
    "    # import tensorflow and train the model\n",
    "\n",
    "    print(tf.__version__)\n",
    "    input_shape = (x.shape[1],)\n",
    "    model = Sequential([\n",
    "        Dense(1, activation='sigmoid', input_shape=input_shape)\n",
    "    ])\n",
    "\n",
    "    # stochastic gradient descend as a classifier seem appropriate\n",
    "    model.compile(\n",
    "        optimizer='sgd',\n",
    "        loss='binary_crossentropy',\n",
    "        metrics=['accuracy', 'mae']\n",
    "    )\n",
    "\n",
    "    # model.fit(x, y, epochs=3)\n",
    "    model.fit(x, y)\n",
    "    # evaluate the model on the test set\n",
    "    test_y = test.y\n",
    "    test_x = test.drop(\"y\", axis=1)\n",
    "\n",
    "    loss, accuracy, mae = model.evaluate(test_x, test_y)\n",
    "    print(\"the accuracy on the training set is {} and the mae is {}\".format(accuracy, mae))\n",
    "\n",
    "    return x, y, test_x, test_y, model\n",
    "\n",
    "\n",
    "def inspect_model(x, y, test_x, test_y, model):\n",
    "    # have a look at some prediction\n",
    "    reply_distance_2 = test_x[test_x[\"reply_distance_2\"] == 1]\n",
    "    first_rows = reply_distance_2.head(2)\n",
    "    print(first_rows)\n",
    "    model.predict(first_rows)\n",
    "\n",
    "    # let's have a look at the weights and biases of the hidden layer\n",
    "    first_layer_weights = model.layers[0].get_weights()[0]\n",
    "    first_layer_biases = model.layers[0].get_weights()[1]\n",
    "    # print(first_layer_weights)\n",
    "    column_names = x.columns.values\n",
    "    for i in range(len(column_names[:5])):\n",
    "        print(\"feature {} has weight {} \\n\".format(column_names[i], first_layer_weights[i]))\n"
   ]
  },
  {
   "cell_type": "code",
   "execution_count": 7,
   "metadata": {
    "pycharm": {
     "name": "#%%\n"
    }
   },
   "outputs": [
    {
     "name": "stdout",
     "output_type": "stream",
     "text": [
      "(20416, 47)\n",
      "(20416,)\n",
      "2.6.0\n"
     ]
    },
    {
     "name": "stderr",
     "output_type": "stream",
     "text": [
      "2022-08-16 15:36:31.025505: I tensorflow/stream_executor/cuda/cuda_gpu_executor.cc:937] successful NUMA node read from SysFS had negative value (-1), but there must be at least one NUMA node, so returning NUMA node zero\n",
      "2022-08-16 15:36:31.025810: I tensorflow/stream_executor/cuda/cuda_gpu_executor.cc:937] successful NUMA node read from SysFS had negative value (-1), but there must be at least one NUMA node, so returning NUMA node zero\n",
      "2022-08-16 15:36:31.026012: I tensorflow/stream_executor/cuda/cuda_gpu_executor.cc:937] successful NUMA node read from SysFS had negative value (-1), but there must be at least one NUMA node, so returning NUMA node zero\n",
      "2022-08-16 15:36:31.026567: I tensorflow/stream_executor/cuda/cuda_gpu_executor.cc:937] successful NUMA node read from SysFS had negative value (-1), but there must be at least one NUMA node, so returning NUMA node zero\n",
      "2022-08-16 15:36:31.026770: I tensorflow/stream_executor/cuda/cuda_gpu_executor.cc:937] successful NUMA node read from SysFS had negative value (-1), but there must be at least one NUMA node, so returning NUMA node zero\n",
      "2022-08-16 15:36:31.026963: I tensorflow/stream_executor/cuda/cuda_gpu_executor.cc:937] successful NUMA node read from SysFS had negative value (-1), but there must be at least one NUMA node, so returning NUMA node zero\n",
      "2022-08-16 15:36:31.027201: I tensorflow/stream_executor/cuda/cuda_gpu_executor.cc:937] successful NUMA node read from SysFS had negative value (-1), but there must be at least one NUMA node, so returning NUMA node zero\n",
      "2022-08-16 15:36:31.027398: I tensorflow/stream_executor/cuda/cuda_gpu_executor.cc:937] successful NUMA node read from SysFS had negative value (-1), but there must be at least one NUMA node, so returning NUMA node zero\n",
      "2022-08-16 15:36:31.027562: I tensorflow/core/common_runtime/gpu/gpu_device.cc:1510] Created device /job:localhost/replica:0/task:0/device:GPU:0 with 199 MB memory:  -> device: 0, name: NVIDIA GeForce GTX 1650 Ti, pci bus id: 0000:01:00.0, compute capability: 7.5\n",
      "2022-08-16 15:36:31.137777: I tensorflow/compiler/mlir/mlir_graph_optimization_pass.cc:185] None of the MLIR Optimization Passes are enabled (registered 2)\n"
     ]
    },
    {
     "name": "stdout",
     "output_type": "stream",
     "text": [
      "638/638 [==============================] - 2s 940us/step - loss: 0.4028 - accuracy: 0.9349 - mae: 0.3097\n",
      "160/160 [==============================] - 0s 892us/step - loss: 0.2736 - accuracy: 0.9493 - mae: 0.2057\n",
      "the accuracy on the training set is 0.9492654204368591 and the mae is 0.20566444098949432\n"
     ]
    }
   ],
   "source": [
    "# have a look for reddit\n",
    "tw_df = df[df[\"platform\"] == \"twitter\"]\n",
    "tw_x, tw_y, tw_test_x, tw_test_y, tw_model = train_model(tw_df)"
   ]
  },
  {
   "cell_type": "code",
   "execution_count": 8,
   "metadata": {
    "pycharm": {
     "name": "#%%\n"
    }
   },
   "outputs": [
    {
     "name": "stdout",
     "output_type": "stream",
     "text": [
      "(19597, 47)\n",
      "(19597,)\n",
      "2.6.0\n",
      "613/613 [==============================] - 1s 1ms/step - loss: 0.4638 - accuracy: 0.8618 - mae: 0.3421\n",
      "154/154 [==============================] - 0s 923us/step - loss: 0.3920 - accuracy: 0.8814 - mae: 0.2725\n",
      "the accuracy on the training set is 0.881428599357605 and the mae is 0.2724708318710327\n"
     ]
    }
   ],
   "source": [
    "rd_df = df[df[\"platform\"] == \"reddit\"]\n",
    "rd_x, rd_y, rd_test_x, rd_test_y, rd_model = train_model(rd_df)"
   ]
  },
  {
   "cell_type": "code",
   "execution_count": 9,
   "metadata": {
    "pycharm": {
     "name": "#%%\n"
    }
   },
   "outputs": [
    {
     "name": "stdout",
     "output_type": "stream",
     "text": [
      "        timedelta  root_distance_0  reply_distance_2  reply_distance_3  \\\n",
      "547230   0.000524                1               1.0               0.0   \n",
      "413848   0.000117                1               1.0               0.0   \n",
      "\n",
      "        reply_distance_4  root_distance_1  root_distance_2  root_distance_3  \\\n",
      "547230               0.0              0.0              0.0              0.0   \n",
      "413848               0.0              0.0              0.0              0.0   \n",
      "\n",
      "        root_distance_4  reply_distance_5  ...  root_distance_14  \\\n",
      "547230              0.0               0.0  ...               0.0   \n",
      "413848              0.0               0.0  ...               0.0   \n",
      "\n",
      "        root_distance_15  root_distance_16  root_distance_17  \\\n",
      "547230               0.0               0.0               0.0   \n",
      "413848               0.0               0.0               0.0   \n",
      "\n",
      "        root_distance_18  root_distance_19  root_distance_20  \\\n",
      "547230               0.0               0.0               0.0   \n",
      "413848               0.0               0.0               0.0   \n",
      "\n",
      "        root_distance_21  root_distance_22  root_distance_23  \n",
      "547230               0.0               0.0               0.0  \n",
      "413848               0.0               0.0               0.0  \n",
      "\n",
      "[2 rows x 47 columns]\n",
      "feature timedelta has weight [0.11596495] \n",
      "\n",
      "feature root_distance_0 has weight [-0.20158193] \n",
      "\n",
      "feature reply_distance_2 has weight [0.02703501] \n",
      "\n",
      "feature reply_distance_3 has weight [-0.28095642] \n",
      "\n",
      "feature reply_distance_4 has weight [-0.14140381] \n",
      "\n"
     ]
    }
   ],
   "source": [
    "inspect_model(tw_x, tw_y, tw_test_x, tw_test_y, tw_model)\n",
    "# inspect_model(rd_x, rd_y, rd_test_x, rd_test_y, rd_model)"
   ]
  },
  {
   "cell_type": "code",
   "execution_count": 10,
   "metadata": {
    "pycharm": {
     "name": "#%%\n"
    }
   },
   "outputs": [
    {
     "data": {
      "text/html": [
       "<div>\n",
       "<style scoped>\n",
       "    .dataframe tbody tr th:only-of-type {\n",
       "        vertical-align: middle;\n",
       "    }\n",
       "\n",
       "    .dataframe tbody tr th {\n",
       "        vertical-align: top;\n",
       "    }\n",
       "\n",
       "    .dataframe thead th {\n",
       "        text-align: right;\n",
       "    }\n",
       "</style>\n",
       "<table border=\"1\" class=\"dataframe\">\n",
       "  <thead>\n",
       "    <tr style=\"text-align: right;\">\n",
       "      <th></th>\n",
       "      <th>current</th>\n",
       "      <th>beam_node</th>\n",
       "      <th>has_followed_path</th>\n",
       "      <th>has_follow_path</th>\n",
       "      <th>beam_node_author</th>\n",
       "      <th>platform</th>\n",
       "      <th>conversation_id</th>\n",
       "    </tr>\n",
       "  </thead>\n",
       "  <tbody>\n",
       "    <tr>\n",
       "      <th>100204</th>\n",
       "      <td>1542906475164598273</td>\n",
       "      <td>1542207942316933121</td>\n",
       "      <td>0</td>\n",
       "      <td>0</td>\n",
       "      <td>1518688515076370435</td>\n",
       "      <td>twitter</td>\n",
       "      <td>1541157911363289090</td>\n",
       "    </tr>\n",
       "  </tbody>\n",
       "</table>\n",
       "</div>"
      ],
      "text/plain": [
       "                    current            beam_node  has_followed_path  \\\n",
       "100204  1542906475164598273  1542207942316933121                  0   \n",
       "\n",
       "        has_follow_path     beam_node_author platform      conversation_id  \n",
       "100204                0  1518688515076370435  twitter  1541157911363289090  "
      ]
     },
     "execution_count": 10,
     "metadata": {},
     "output_type": "execute_result"
    }
   ],
   "source": [
    "tw_non_features = take_non_features(tw_df)\n",
    "rd_non_features = take_non_features(rd_df)\n",
    "tw_non_features.head(1)"
   ]
  },
  {
   "cell_type": "code",
   "execution_count": 11,
   "metadata": {
    "pycharm": {
     "name": "#%%\n"
    }
   },
   "outputs": [],
   "source": [
    "tw_features_y = take_features(tw_df)\n",
    "tw_features = tw_features_y.drop(\"y\", axis=1)\n",
    "rd_features_y = take_features(rd_df)\n",
    "rd_features = rd_features_y.drop(\"y\", axis=1)\n",
    "rd_predictions = rd_model.predict(rd_features)\n",
    "tw_predictions = tw_model.predict(tw_features)\n",
    "\n",
    "tw_vision = tw_non_features.assign(predictions=tw_predictions)\n",
    "rd_vision = rd_non_features.assign(predictions=rd_predictions)\n",
    "#tw_vision\n"
   ]
  },
  {
   "cell_type": "code",
   "execution_count": 33,
   "metadata": {
    "pycharm": {
     "name": "#%%\n"
    }
   },
   "outputs": [
    {
     "data": {
      "text/html": [
       "<div>\n",
       "<style scoped>\n",
       "    .dataframe tbody tr th:only-of-type {\n",
       "        vertical-align: middle;\n",
       "    }\n",
       "\n",
       "    .dataframe tbody tr th {\n",
       "        vertical-align: top;\n",
       "    }\n",
       "\n",
       "    .dataframe thead th {\n",
       "        text-align: right;\n",
       "    }\n",
       "</style>\n",
       "<table border=\"1\" class=\"dataframe\">\n",
       "  <thead>\n",
       "    <tr style=\"text-align: right;\">\n",
       "      <th></th>\n",
       "      <th>current</th>\n",
       "      <th>beam_node_author</th>\n",
       "      <th>platform</th>\n",
       "      <th>conversation_id</th>\n",
       "      <th>predictions</th>\n",
       "    </tr>\n",
       "  </thead>\n",
       "  <tbody>\n",
       "    <tr>\n",
       "      <th>100204</th>\n",
       "      <td>1542906475164598273</td>\n",
       "      <td>1518688515076370435</td>\n",
       "      <td>twitter</td>\n",
       "      <td>1541157911363289090</td>\n",
       "      <td>0.187176</td>\n",
       "    </tr>\n",
       "    <tr>\n",
       "      <th>100205</th>\n",
       "      <td>1542906475164598273</td>\n",
       "      <td>1518702744693055488</td>\n",
       "      <td>twitter</td>\n",
       "      <td>1541157911363289090</td>\n",
       "      <td>0.187176</td>\n",
       "    </tr>\n",
       "    <tr>\n",
       "      <th>100206</th>\n",
       "      <td>1542906475164598273</td>\n",
       "      <td>371943155</td>\n",
       "      <td>twitter</td>\n",
       "      <td>1541157911363289090</td>\n",
       "      <td>0.187173</td>\n",
       "    </tr>\n",
       "    <tr>\n",
       "      <th>100207</th>\n",
       "      <td>1542906475164598273</td>\n",
       "      <td>263778058</td>\n",
       "      <td>twitter</td>\n",
       "      <td>1541157911363289090</td>\n",
       "      <td>0.187172</td>\n",
       "    </tr>\n",
       "    <tr>\n",
       "      <th>100208</th>\n",
       "      <td>1542906475164598273</td>\n",
       "      <td>1497318967823802371</td>\n",
       "      <td>twitter</td>\n",
       "      <td>1541157911363289090</td>\n",
       "      <td>0.187164</td>\n",
       "    </tr>\n",
       "    <tr>\n",
       "      <th>...</th>\n",
       "      <td>...</td>\n",
       "      <td>...</td>\n",
       "      <td>...</td>\n",
       "      <td>...</td>\n",
       "      <td>...</td>\n",
       "    </tr>\n",
       "    <tr>\n",
       "      <th>764716</th>\n",
       "      <td>27029110</td>\n",
       "      <td>24575560</td>\n",
       "      <td>reddit</td>\n",
       "      <td>57248369</td>\n",
       "      <td>0.156690</td>\n",
       "    </tr>\n",
       "    <tr>\n",
       "      <th>764717</th>\n",
       "      <td>27029110</td>\n",
       "      <td>72588799</td>\n",
       "      <td>reddit</td>\n",
       "      <td>57248369</td>\n",
       "      <td>0.183148</td>\n",
       "    </tr>\n",
       "    <tr>\n",
       "      <th>764718</th>\n",
       "      <td>27029110</td>\n",
       "      <td>62092993</td>\n",
       "      <td>reddit</td>\n",
       "      <td>57248369</td>\n",
       "      <td>0.280018</td>\n",
       "    </tr>\n",
       "    <tr>\n",
       "      <th>764719</th>\n",
       "      <td>27029110</td>\n",
       "      <td>72588799</td>\n",
       "      <td>reddit</td>\n",
       "      <td>57248369</td>\n",
       "      <td>0.282723</td>\n",
       "    </tr>\n",
       "    <tr>\n",
       "      <th>764720</th>\n",
       "      <td>27029110</td>\n",
       "      <td>82247877</td>\n",
       "      <td>reddit</td>\n",
       "      <td>57248369</td>\n",
       "      <td>0.156689</td>\n",
       "    </tr>\n",
       "  </tbody>\n",
       "</table>\n",
       "<p>50018 rows × 5 columns</p>\n",
       "</div>"
      ],
      "text/plain": [
       "                    current     beam_node_author platform  \\\n",
       "100204  1542906475164598273  1518688515076370435  twitter   \n",
       "100205  1542906475164598273  1518702744693055488  twitter   \n",
       "100206  1542906475164598273            371943155  twitter   \n",
       "100207  1542906475164598273            263778058  twitter   \n",
       "100208  1542906475164598273  1497318967823802371  twitter   \n",
       "...                     ...                  ...      ...   \n",
       "764716             27029110             24575560   reddit   \n",
       "764717             27029110             72588799   reddit   \n",
       "764718             27029110             62092993   reddit   \n",
       "764719             27029110             72588799   reddit   \n",
       "764720             27029110             82247877   reddit   \n",
       "\n",
       "            conversation_id  predictions  \n",
       "100204  1541157911363289090     0.187176  \n",
       "100205  1541157911363289090     0.187176  \n",
       "100206  1541157911363289090     0.187173  \n",
       "100207  1541157911363289090     0.187172  \n",
       "100208  1541157911363289090     0.187164  \n",
       "...                     ...          ...  \n",
       "764716             57248369     0.156690  \n",
       "764717             57248369     0.183148  \n",
       "764718             57248369     0.280018  \n",
       "764719             57248369     0.282723  \n",
       "764720             57248369     0.156689  \n",
       "\n",
       "[50018 rows x 5 columns]"
      ]
     },
     "execution_count": 33,
     "metadata": {},
     "output_type": "execute_result"
    }
   ],
   "source": [
    "combined_vision = tw_vision.append(rd_vision)\n",
    "combined_vision\n",
    "\n",
    "\n",
    "not_needed_list = [\"beam_node\", \"has_followed_path\", \"has_follow_path\"]\n",
    "combined_vision = combined_vision.drop(not_needed_list, axis=1)\n",
    "combined_vision"
   ]
  },
  {
   "cell_type": "code",
   "execution_count": 34,
   "metadata": {
    "pycharm": {
     "name": "#%%\n"
    }
   },
   "outputs": [
    {
     "data": {
      "text/html": [
       "<div>\n",
       "<style scoped>\n",
       "    .dataframe tbody tr th:only-of-type {\n",
       "        vertical-align: middle;\n",
       "    }\n",
       "\n",
       "    .dataframe tbody tr th {\n",
       "        vertical-align: top;\n",
       "    }\n",
       "\n",
       "    .dataframe thead th {\n",
       "        text-align: right;\n",
       "    }\n",
       "</style>\n",
       "<table border=\"1\" class=\"dataframe\">\n",
       "  <thead>\n",
       "    <tr style=\"text-align: right;\">\n",
       "      <th></th>\n",
       "      <th></th>\n",
       "      <th></th>\n",
       "      <th>predictions</th>\n",
       "    </tr>\n",
       "    <tr>\n",
       "      <th>platform</th>\n",
       "      <th>conversation_id</th>\n",
       "      <th>current</th>\n",
       "      <th></th>\n",
       "    </tr>\n",
       "  </thead>\n",
       "  <tbody>\n",
       "    <tr>\n",
       "      <th rowspan=\"5\" valign=\"top\">reddit</th>\n",
       "      <th rowspan=\"5\" valign=\"top\">661614</th>\n",
       "      <th>26871177</th>\n",
       "      <td>0.228854</td>\n",
       "    </tr>\n",
       "    <tr>\n",
       "      <th>29352234</th>\n",
       "      <td>0.248579</td>\n",
       "    </tr>\n",
       "    <tr>\n",
       "      <th>33390443</th>\n",
       "      <td>0.249401</td>\n",
       "    </tr>\n",
       "    <tr>\n",
       "      <th>36457165</th>\n",
       "      <td>0.245291</td>\n",
       "    </tr>\n",
       "    <tr>\n",
       "      <th>91649333</th>\n",
       "      <td>0.247346</td>\n",
       "    </tr>\n",
       "    <tr>\n",
       "      <th>...</th>\n",
       "      <th>...</th>\n",
       "      <th>...</th>\n",
       "      <td>...</td>\n",
       "    </tr>\n",
       "    <tr>\n",
       "      <th rowspan=\"5\" valign=\"top\">twitter</th>\n",
       "      <th>1544119731850027008</th>\n",
       "      <th>1544219659033092096</th>\n",
       "      <td>0.157125</td>\n",
       "    </tr>\n",
       "    <tr>\n",
       "      <th rowspan=\"4\" valign=\"top\">1552325920060542976</th>\n",
       "      <th>1552326922344054784</th>\n",
       "      <td>0.158403</td>\n",
       "    </tr>\n",
       "    <tr>\n",
       "      <th>1552374355992125442</th>\n",
       "      <td>0.149655</td>\n",
       "    </tr>\n",
       "    <tr>\n",
       "      <th>1552376400442695692</th>\n",
       "      <td>0.158186</td>\n",
       "    </tr>\n",
       "    <tr>\n",
       "      <th>1552417593608257539</th>\n",
       "      <td>0.165609</td>\n",
       "    </tr>\n",
       "  </tbody>\n",
       "</table>\n",
       "<p>1575 rows × 1 columns</p>\n",
       "</div>"
      ],
      "text/plain": [
       "                                                  predictions\n",
       "platform conversation_id     current                         \n",
       "reddit   661614              26871177                0.228854\n",
       "                             29352234                0.248579\n",
       "                             33390443                0.249401\n",
       "                             36457165                0.245291\n",
       "                             91649333                0.247346\n",
       "...                                                       ...\n",
       "twitter  1544119731850027008 1544219659033092096     0.157125\n",
       "         1552325920060542976 1552326922344054784     0.158403\n",
       "                             1552374355992125442     0.149655\n",
       "                             1552376400442695692     0.158186\n",
       "                             1552417593608257539     0.165609\n",
       "\n",
       "[1575 rows x 1 columns]"
      ]
     },
     "execution_count": 34,
     "metadata": {},
     "output_type": "execute_result"
    }
   ],
   "source": [
    "combined_vision= combined_vision.drop(\"beam_node_author\", axis=1)\n",
    "gpm = combined_vision.groupby([\"platform\", \"conversation_id\", \"current\"]).mean()\n",
    "gpm"
   ]
  },
  {
   "cell_type": "code",
   "execution_count": 35,
   "metadata": {
    "pycharm": {
     "name": "#%%\n"
    }
   },
   "outputs": [
    {
     "data": {
      "text/html": [
       "<div>\n",
       "<style scoped>\n",
       "    .dataframe tbody tr th:only-of-type {\n",
       "        vertical-align: middle;\n",
       "    }\n",
       "\n",
       "    .dataframe tbody tr th {\n",
       "        vertical-align: top;\n",
       "    }\n",
       "\n",
       "    .dataframe thead th {\n",
       "        text-align: right;\n",
       "    }\n",
       "</style>\n",
       "<table border=\"1\" class=\"dataframe\">\n",
       "  <thead>\n",
       "    <tr style=\"text-align: right;\">\n",
       "      <th></th>\n",
       "      <th></th>\n",
       "      <th>predictions</th>\n",
       "    </tr>\n",
       "    <tr>\n",
       "      <th>platform</th>\n",
       "      <th>conversation_id</th>\n",
       "      <th></th>\n",
       "    </tr>\n",
       "  </thead>\n",
       "  <tbody>\n",
       "    <tr>\n",
       "      <th rowspan=\"5\" valign=\"top\">reddit</th>\n",
       "      <th>661614</th>\n",
       "      <td>0.243442</td>\n",
       "    </tr>\n",
       "    <tr>\n",
       "      <th>10955776</th>\n",
       "      <td>0.191684</td>\n",
       "    </tr>\n",
       "    <tr>\n",
       "      <th>15848916</th>\n",
       "      <td>0.242252</td>\n",
       "    </tr>\n",
       "    <tr>\n",
       "      <th>17286490</th>\n",
       "      <td>0.217674</td>\n",
       "    </tr>\n",
       "    <tr>\n",
       "      <th>19851732</th>\n",
       "      <td>0.194112</td>\n",
       "    </tr>\n",
       "  </tbody>\n",
       "</table>\n",
       "</div>"
      ],
      "text/plain": [
       "                          predictions\n",
       "platform conversation_id             \n",
       "reddit   661614              0.243442\n",
       "         10955776            0.191684\n",
       "         15848916            0.242252\n",
       "         17286490            0.217674\n",
       "         19851732            0.194112"
      ]
     },
     "execution_count": 35,
     "metadata": {},
     "output_type": "execute_result"
    }
   ],
   "source": [
    "gpm_per_conversation = gpm.groupby(by=[\"platform\", \"conversation_id\"]).mean()\n",
    "gpm_per_conversation.head()"
   ]
  },
  {
   "cell_type": "code",
   "execution_count": 36,
   "metadata": {
    "pycharm": {
     "name": "#%%\n"
    }
   },
   "outputs": [
    {
     "data": {
      "text/html": [
       "<div>\n",
       "<style scoped>\n",
       "    .dataframe tbody tr th:only-of-type {\n",
       "        vertical-align: middle;\n",
       "    }\n",
       "\n",
       "    .dataframe tbody tr th {\n",
       "        vertical-align: top;\n",
       "    }\n",
       "\n",
       "    .dataframe thead th {\n",
       "        text-align: right;\n",
       "    }\n",
       "</style>\n",
       "<table border=\"1\" class=\"dataframe\">\n",
       "  <thead>\n",
       "    <tr style=\"text-align: right;\">\n",
       "      <th></th>\n",
       "      <th>predictions</th>\n",
       "    </tr>\n",
       "    <tr>\n",
       "      <th>platform</th>\n",
       "      <th></th>\n",
       "    </tr>\n",
       "  </thead>\n",
       "  <tbody>\n",
       "    <tr>\n",
       "      <th>reddit</th>\n",
       "      <td>0.198840</td>\n",
       "    </tr>\n",
       "    <tr>\n",
       "      <th>twitter</th>\n",
       "      <td>0.169384</td>\n",
       "    </tr>\n",
       "  </tbody>\n",
       "</table>\n",
       "</div>"
      ],
      "text/plain": [
       "          predictions\n",
       "platform             \n",
       "reddit       0.198840\n",
       "twitter      0.169384"
      ]
     },
     "execution_count": 36,
     "metadata": {},
     "output_type": "execute_result"
    }
   ],
   "source": [
    "gpm_per_platform = gpm.groupby(by=[\"platform\"]).mean()\n",
    "gpm_per_platform\n"
   ]
  },
  {
   "cell_type": "code",
   "execution_count": 40,
   "metadata": {
    "pycharm": {
     "name": "#%%\n"
    }
   },
   "outputs": [
    {
     "data": {
      "text/html": [
       "<div>\n",
       "<style scoped>\n",
       "    .dataframe tbody tr th:only-of-type {\n",
       "        vertical-align: middle;\n",
       "    }\n",
       "\n",
       "    .dataframe tbody tr th {\n",
       "        vertical-align: top;\n",
       "    }\n",
       "\n",
       "    .dataframe thead th {\n",
       "        text-align: right;\n",
       "    }\n",
       "</style>\n",
       "<table border=\"1\" class=\"dataframe\">\n",
       "  <thead>\n",
       "    <tr style=\"text-align: right;\">\n",
       "      <th></th>\n",
       "      <th>repetition_probs</th>\n",
       "      <th>predictions</th>\n",
       "    </tr>\n",
       "    <tr>\n",
       "      <th>platform</th>\n",
       "      <th></th>\n",
       "      <th></th>\n",
       "    </tr>\n",
       "  </thead>\n",
       "  <tbody>\n",
       "    <tr>\n",
       "      <th>delab</th>\n",
       "      <td>0.219789</td>\n",
       "      <td>NaN</td>\n",
       "    </tr>\n",
       "    <tr>\n",
       "      <th>reddit</th>\n",
       "      <td>0.229424</td>\n",
       "      <td>0.198840</td>\n",
       "    </tr>\n",
       "    <tr>\n",
       "      <th>twitter</th>\n",
       "      <td>0.096224</td>\n",
       "      <td>0.169384</td>\n",
       "    </tr>\n",
       "  </tbody>\n",
       "</table>\n",
       "</div>"
      ],
      "text/plain": [
       "          repetition_probs  predictions\n",
       "platform                               \n",
       "delab             0.219789          NaN\n",
       "reddit            0.229424     0.198840\n",
       "twitter           0.096224     0.169384"
      ]
     },
     "execution_count": 40,
     "metadata": {},
     "output_type": "execute_result"
    }
   ],
   "source": [
    "%run author_vision_data_analysis.ipynb\n",
    "probabilities = repetition_probability.join(gpm_per_platform)\n",
    "#probabilities = gpm_per_platform.drop(\"delab\")\n",
    "probabilities"
   ]
  },
  {
   "cell_type": "code",
   "execution_count": 38,
   "metadata": {
    "pycharm": {
     "name": "#%%\n"
    }
   },
   "outputs": [
    {
     "data": {
      "text/html": [
       "<div>\n",
       "<style scoped>\n",
       "    .dataframe tbody tr th:only-of-type {\n",
       "        vertical-align: middle;\n",
       "    }\n",
       "\n",
       "    .dataframe tbody tr th {\n",
       "        vertical-align: top;\n",
       "    }\n",
       "\n",
       "    .dataframe thead th {\n",
       "        text-align: right;\n",
       "    }\n",
       "</style>\n",
       "<table border=\"1\" class=\"dataframe\">\n",
       "  <thead>\n",
       "    <tr style=\"text-align: right;\">\n",
       "      <th></th>\n",
       "      <th>repetition_probs</th>\n",
       "      <th>predictions</th>\n",
       "    </tr>\n",
       "  </thead>\n",
       "  <tbody>\n",
       "    <tr>\n",
       "      <th>repetition_probs</th>\n",
       "      <td>1.0</td>\n",
       "      <td>1.0</td>\n",
       "    </tr>\n",
       "    <tr>\n",
       "      <th>predictions</th>\n",
       "      <td>1.0</td>\n",
       "      <td>1.0</td>\n",
       "    </tr>\n",
       "  </tbody>\n",
       "</table>\n",
       "</div>"
      ],
      "text/plain": [
       "                  repetition_probs  predictions\n",
       "repetition_probs               1.0          1.0\n",
       "predictions                    1.0          1.0"
      ]
     },
     "execution_count": 38,
     "metadata": {},
     "output_type": "execute_result"
    }
   ],
   "source": [
    "probabilities.corr()\n"
   ]
  },
  {
   "cell_type": "markdown",
   "metadata": {
    "pycharm": {
     "name": "#%% md\n"
    }
   },
   "source": [
    "### Interpretation of the combined results\n",
    "- This means that the neural network computes a linear function of the repetition probabilities based on the computation of the y functions\n",
    "- The probabilities are very low for both reddit and twitter but in a comparable area\n"
   ]
  }
 ],
 "metadata": {
  "kernelspec": {
   "display_name": "Python 3 (ipykernel)",
   "language": "python",
   "name": "python3"
  },
  "language_info": {
   "codemirror_mode": {
    "name": "ipython",
    "version": 3
   },
   "file_extension": ".py",
   "mimetype": "text/x-python",
   "name": "python",
   "nbconvert_exporter": "python",
   "pygments_lexer": "ipython3",
   "version": "3.8.10"
  }
 },
 "nbformat": 4,
 "nbformat_minor": 1
}
