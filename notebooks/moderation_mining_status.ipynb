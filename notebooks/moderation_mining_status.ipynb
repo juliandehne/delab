{
 "cells": [
  {
   "cell_type": "markdown",
   "metadata": {
    "collapsed": true,
    "pycharm": {
     "name": "#%% md\n"
    }
   },
   "source": [
    "# Summary of best terms\n",
    "\n",
    "- load the moderation rated tweets from database\n",
    "- combine similar search terms (containing two more common words)\n",
    "- show statistic sorted by highest count and delta to last week\n"
   ]
  },
  {
   "cell_type": "code",
   "execution_count": 41,
   "outputs": [
    {
     "name": "stdout",
     "output_type": "stream",
     "text": [
      "using postgres\n",
      "   count                     title                       created_at\n",
      "0     50          \"hear your view\" 2022-11-17 10:50:52.533139+00:00\n",
      "1     42       \"can you elaborate\" 2022-11-17 09:29:14.609638+00:00\n",
      "2     39         \"näher erläutern\" 2022-11-17 07:39:36.889795+00:00\n",
      "3     26        \"bleib beim Thema\" 2022-11-15 09:13:42.645863+00:00\n",
      "4     23           \"explain to me\" 2022-11-15 14:31:03.881262+00:00\n",
      "5     22  bitte beim Thema bleiben 2022-11-11 08:46:09.772261+00:00\n",
      "6     21             \"guter Punkt\" 2022-11-14 13:29:39.444238+00:00\n",
      "7     19              whataboutism 2022-07-12 09:58:54.675092+00:00\n"
     ]
    },
    {
     "name": "stderr",
     "output_type": "stream",
     "text": [
      "/home/dehne/PycharmProjects/delab/venv/lib/python3.10/site-packages/pandas/io/sql.py:761: UserWarning: pandas only support SQLAlchemy connectable(engine/connection) ordatabase string URI or sqlite3 DBAPI2 connectionother DBAPI2 objects are not tested, please consider using SQLAlchemy\n",
      "  warnings.warn(\n"
     ]
    },
    {
     "data": {
      "text/plain": "                        count\ngrouped_titles               \nThema_bleiben              81\n\"hear your view\"           50\nexplain                    45\n\"can you elaborate\"        42\nvalid_point                41\n\"näher erläutern\"          39\nconstructive_criticism     34\nstay_topic                 33\nagree                      30\nwhataboutism               29",
      "text/html": "<div>\n<style scoped>\n    .dataframe tbody tr th:only-of-type {\n        vertical-align: middle;\n    }\n\n    .dataframe tbody tr th {\n        vertical-align: top;\n    }\n\n    .dataframe thead th {\n        text-align: right;\n    }\n</style>\n<table border=\"1\" class=\"dataframe\">\n  <thead>\n    <tr style=\"text-align: right;\">\n      <th></th>\n      <th>count</th>\n    </tr>\n    <tr>\n      <th>grouped_titles</th>\n      <th></th>\n    </tr>\n  </thead>\n  <tbody>\n    <tr>\n      <th>Thema_bleiben</th>\n      <td>81</td>\n    </tr>\n    <tr>\n      <th>\"hear your view\"</th>\n      <td>50</td>\n    </tr>\n    <tr>\n      <th>explain</th>\n      <td>45</td>\n    </tr>\n    <tr>\n      <th>\"can you elaborate\"</th>\n      <td>42</td>\n    </tr>\n    <tr>\n      <th>valid_point</th>\n      <td>41</td>\n    </tr>\n    <tr>\n      <th>\"näher erläutern\"</th>\n      <td>39</td>\n    </tr>\n    <tr>\n      <th>constructive_criticism</th>\n      <td>34</td>\n    </tr>\n    <tr>\n      <th>stay_topic</th>\n      <td>33</td>\n    </tr>\n    <tr>\n      <th>agree</th>\n      <td>30</td>\n    </tr>\n    <tr>\n      <th>whataboutism</th>\n      <td>29</td>\n    </tr>\n  </tbody>\n</table>\n</div>"
     },
     "execution_count": 41,
     "metadata": {},
     "output_type": "execute_result"
    }
   ],
   "source": [
    "from util.sql_switch import get_query_native\n",
    "\n",
    "count_query = \"select count(ds.title), ds.title, ds.created_at \\\n",
    "from delab_moderationrating mr \\\n",
    "    join delab_moderationcandidate2 d on mr.mod_candidate_id = d.id \\\n",
    "    join delab_tweet dt on dt.id = d.tweet_id \\\n",
    "    join delab_simplerequest ds on dt.simple_request_id = ds.id \\\n",
    "where mr.u_moderating_part is not null \\\n",
    "  and mr.u_moderating_part <> '' \\\n",
    "group by \\\n",
    "    ds.title, ds.created_at \\\n",
    "order by count(ds.title) desc\"\n",
    "\n",
    "df_term_counts = get_query_native(count_query)\n",
    "# print(df_term_counts.head(8))\n",
    "\n",
    "# squashing similar titles\n",
    "import functools as ft\n",
    "list_of_similar_terms = [[\"Thema\", \"bleiben\"],[\"calm\", \"down\"], [\"constructive\", \"criticism\"], [\"explain\"], [\"stay\", \"topic\"], [\"whataboutism\"], [\"valid\", \"point\"], [\"Perspektive\"], [\"agree\"]]\n",
    "\n",
    "def title_group_mapper(text):\n",
    "    group_title = text\n",
    "    for term_group in list_of_similar_terms:\n",
    "        for term in term_group:\n",
    "            if term in text and group_title == text:\n",
    "                group_title = ft.reduce(lambda x,y: x + \"_\" + y, term_group)\n",
    "    return group_title\n",
    "\n",
    "grouped_titles = df_term_counts[\"title\"].map(title_group_mapper)\n",
    "df_term_counts[\"grouped_titles\"] = grouped_titles\n",
    "df_term_counts.drop([\"title\", \"created_at\"], axis=1, inplace=True)\n",
    "df_term_counts = df_term_counts.groupby(\"grouped_titles\").sum()\n",
    "df_term_counts.sort_values(by=[\"count\"], axis=0, inplace=True, ascending=False)\n",
    "df_term_counts.head(10)"
   ],
   "metadata": {
    "collapsed": false,
    "pycharm": {
     "name": "#%%\n"
    }
   }
  },
  {
   "cell_type": "markdown",
   "source": [
    "# Summary of inter-coder conflicts\n",
    "\n",
    "- load moderation rating from database or use previous\n",
    "- compute inter-coder quality\n",
    "- show a list of top 10 conflicting ratings"
   ],
   "metadata": {
    "collapsed": false,
    "pycharm": {
     "name": "#%% md\n"
    }
   }
  }
 ],
 "metadata": {
  "kernelspec": {
   "display_name": "Python 3",
   "language": "python",
   "name": "python3"
  },
  "language_info": {
   "codemirror_mode": {
    "name": "ipython",
    "version": 2
   },
   "file_extension": ".py",
   "mimetype": "text/x-python",
   "name": "python",
   "nbconvert_exporter": "python",
   "pygments_lexer": "ipython2",
   "version": "2.7.6"
  }
 },
 "nbformat": 4,
 "nbformat_minor": 0
}