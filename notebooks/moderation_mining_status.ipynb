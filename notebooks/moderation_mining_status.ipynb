{
 "cells": [
  {
   "cell_type": "code",
   "execution_count": 1,
   "metadata": {
    "pycharm": {
     "name": "#%%\n"
    }
   },
   "outputs": [
    {
     "name": "stdout",
     "output_type": "stream",
     "text": [
      "using postgres\n"
     ]
    },
    {
     "name": "stderr",
     "output_type": "stream",
     "text": [
      "/home/dehne/PycharmProjects/delab/venv/lib/python3.10/site-packages/pandas/io/sql.py:761: UserWarning: pandas only support SQLAlchemy connectable(engine/connection) ordatabase string URI or sqlite3 DBAPI2 connectionother DBAPI2 objects are not tested, please consider using SQLAlchemy\n",
      "  warnings.warn(\n"
     ]
    },
    {
     "data": {
      "text/plain": "                                count\ngrouped_titles                       \nThema                             140\ntopic_issue                       131\nsachlich                          128\nexplain_view_curious_elaborate    114\nMeinung_erläutern_Ansicht          58\nvalid_point                        40\nconstructive_criticism             32\nwhataboutism                       29\n\"entspann dich\"                    26\n\"du wiederholst dich\"              21",
      "text/html": "<div>\n<style scoped>\n    .dataframe tbody tr th:only-of-type {\n        vertical-align: middle;\n    }\n\n    .dataframe tbody tr th {\n        vertical-align: top;\n    }\n\n    .dataframe thead th {\n        text-align: right;\n    }\n</style>\n<table border=\"1\" class=\"dataframe\">\n  <thead>\n    <tr style=\"text-align: right;\">\n      <th></th>\n      <th>count</th>\n    </tr>\n    <tr>\n      <th>grouped_titles</th>\n      <th></th>\n    </tr>\n  </thead>\n  <tbody>\n    <tr>\n      <th>Thema</th>\n      <td>140</td>\n    </tr>\n    <tr>\n      <th>topic_issue</th>\n      <td>131</td>\n    </tr>\n    <tr>\n      <th>sachlich</th>\n      <td>128</td>\n    </tr>\n    <tr>\n      <th>explain_view_curious_elaborate</th>\n      <td>114</td>\n    </tr>\n    <tr>\n      <th>Meinung_erläutern_Ansicht</th>\n      <td>58</td>\n    </tr>\n    <tr>\n      <th>valid_point</th>\n      <td>40</td>\n    </tr>\n    <tr>\n      <th>constructive_criticism</th>\n      <td>32</td>\n    </tr>\n    <tr>\n      <th>whataboutism</th>\n      <td>29</td>\n    </tr>\n    <tr>\n      <th>\"entspann dich\"</th>\n      <td>26</td>\n    </tr>\n    <tr>\n      <th>\"du wiederholst dich\"</th>\n      <td>21</td>\n    </tr>\n  </tbody>\n</table>\n</div>"
     },
     "execution_count": 1,
     "metadata": {},
     "output_type": "execute_result"
    }
   ],
   "source": [
    "import pandas as pd\n",
    "\n",
    "from util.sql_switch import get_query_native\n",
    "\n",
    "count_query = \"select count(ds.title), ds.title, ds.created_at \\\n",
    "from delab_moderationrating mr \\\n",
    "    join delab_moderationcandidate2 d on mr.mod_candidate_id = d.id \\\n",
    "    join delab_tweet dt on dt.id = d.tweet_id \\\n",
    "    join delab_simplerequest ds on dt.simple_request_id = ds.id \\\n",
    "where mr.u_moderating_part is not null \\\n",
    "  and mr.u_moderating_part <> '' \\\n",
    "group by \\\n",
    "    ds.title, ds.created_at \\\n",
    "order by count(ds.title) desc\"\n",
    "\n",
    "df_term_counts = get_query_native(count_query)\n",
    "# print(df_term_counts.head(8))\n",
    "\n",
    "\n",
    "# squashing similar titles\n",
    "import functools as ft\n",
    "\n",
    "list_of_similar_terms = [[\"Thema\"], [\"calm\", \"down\"], [\"constructive\", \"criticism\"], [\"explain\", \"view\", \"curious\", \"elaborate\"], [\"Meinung\", \"erläutern\", \"Ansicht\"],\n",
    "                         [\"topic\", \"issue\"], [\"whataboutism\"], [\"valid\", \"point\"], [\"Perspektive\"], [\"agree\", \"common\", \"goal\"], [\"zustimmen\", \"gemeinsam\", \"Ziel\"],\n",
    "                         [\"summary\"], [\"sachlich\"], [\"argument\"], [\"Argument\"] ]\n",
    "\n",
    "# list_of_similar_terms = []\n",
    "\n",
    "def title_group_mapper(text):\n",
    "    group_title = text\n",
    "    for term_group in list_of_similar_terms:\n",
    "        for term in term_group:\n",
    "            if term in text and group_title == text:\n",
    "                group_title = ft.reduce(lambda x, y: x + \"_\" + y, term_group)\n",
    "    return group_title\n",
    "\n",
    "\n",
    "grouped_titles = df_term_counts[\"title\"].map(title_group_mapper)\n",
    "df_term_counts[\"grouped_titles\"] = grouped_titles\n",
    "df_term_counts.drop([\"title\", \"created_at\"], axis=1, inplace=True)\n",
    "df_term_counts = df_term_counts.groupby(\"grouped_titles\").sum()\n",
    "df_term_counts.sort_values(by=[\"count\"], axis=0, inplace=True, ascending=False)\n",
    "df_term_counts.head(10)"
   ]
  },
  {
   "cell_type": "markdown",
   "metadata": {
    "pycharm": {
     "name": "#%% md\n"
    }
   },
   "source": [
    "# Summary of biggest inter-coder conflicts\n",
    "\n",
    "- load moderation rating from database or use previous\n",
    "- show a list of top 10 conflicting ratings"
   ]
  },
  {
   "cell_type": "code",
   "execution_count": 2,
   "metadata": {
    "pycharm": {
     "name": "#%%\n"
    }
   },
   "outputs": [
    {
     "name": "stdout",
     "output_type": "stream",
     "text": [
      "using postgres\n"
     ]
    },
    {
     "name": "stderr",
     "output_type": "stream",
     "text": [
      "/home/dehne/PycharmProjects/delab/venv/lib/python3.10/site-packages/pandas/io/sql.py:761: UserWarning: pandas only support SQLAlchemy connectable(engine/connection) ordatabase string URI or sqlite3 DBAPI2 connectionother DBAPI2 objects are not tested, please consider using SQLAlchemy\n",
      "  warnings.warn(\n"
     ]
    },
    {
     "data": {
      "text/plain": "                                                                                                                                                                                                                                                                                                                           text  \\\n353                                                                                        @UltraXBT Would love to hear your view on #CB, the project looks solid and have been catching many eyes lately, low mc, low tax of 7% and their Dapp is releasing soon\\n\\n#CB $CB #BTC    #ETH @thecloutbase https://t.co/xw6qEnA5RI   \n29                                                                                                                                                                                                         @alcesmoose @ZDFheute wie mich solche Kommentare nerven! Bleib beim Thema. Opferschutz vor Täterschutz! Klare Sache.   \n32                                @kkklawitter Frau, du musst nicht jeden Artikel hochholen und eine Forderung daraus machen. Ich habe drei Kinder, alle im Kindergarten, alle an der Hauptstraße, doof aber OK. Der Tod des Mädchen ist tragisch. Aber bitte benutze sowas nicht für deinen Sendungsdrang. Bleib beim Thema...   \n225                                                                                                                                                                @alex13wetter @wfritz56 @AndiFrankfurt @happy_smile4you Könnt ihr jetzt bitte mal beim Thema bleiben ? Was ist Euer Hobby außer : saufen, schlagen und SGE ?   \n36                            @luebberding Das ist auch ein guter Punkt. 🙃 Die Verflechtungen der chinesischen Wirtschaft sind hier bei uns recht unbekannt (auch Singapur, selbst Kalifornien sollten eigentlich sicher sein). Die Zerstörung Taiwans dürfte im Chip-Bereich für China verheerender sein als jede US-Sanktion.   \n37                                                                                                                                                                                                                     @OfficialTravlad @OfficialTravlad can u pls explain further cos I really don’t understand what this mean   \n356                                                                                                                                                                Können wir uns vielleicht einfach darauf einigen, dass jeder versucht seinen Teil beizutragen und man sich diese traurigen, moralinsauren Belehrungen spart?   \n410                                                                                                                                                @SaFnE72 @LadwigHelga @haru_thebear @SaBu78424919 @Elmal96 Entspann dich, lass es fließen, du willst schon wieder alles zu schnell, es soll Spaß machen und keinen Frust 😘😘😘   \n131  @PaulRTownsend @dayoconnor1930 Your comments made me reflect a bit, so I'm going to do the unthinkable and post a screenshot of my thoughts instead of creating a 20 tweet thread (poor Twitter etiquette, I know!) Always appreciate the feedback Paul, which I hope comes through in my response https://t.co/OUNrxIa35N   \n130                              @NickG972 My family was directly affected by the Race Massacre on Black Wall Street, my uncle was murder and hung by the KKK in the 90's. Can you understand why racism is deal breaker with me? Like you said we all have the freedom to think what we want. And some of us have experiences.   \n\n                          created_at  \\\n353 2022-11-17 10:50:52.533139+00:00   \n29  2022-11-15 09:13:42.645863+00:00   \n32  2022-11-15 09:13:42.645863+00:00   \n225 2022-11-22 08:32:31.608921+00:00   \n36  2022-11-14 13:29:39.444238+00:00   \n37  2022-11-14 14:46:06.202107+00:00   \n356 2022-11-28 15:49:56.739324+00:00   \n410 2022-12-07 10:31:44.608164+00:00   \n131 2022-11-17 10:33:50.514645+00:00   \n130 2022-11-17 10:10:10.968562+00:00   \n\n                                                                                                                                                                                   u_moderating_part  \\\n353  Would love to hear your view on #CB, the project looks solid and have been catching many eyes lately, low mc, low tax of 7% and their Dapp is releasing soon #CB $CB #BTC    #ETH @thecloutbase   \n29                                                                                                                                                                                 Bleib beim Thema.   \n32                                                                                                                                                                               Bleib beim Thema...   \n225                                                                                                                                                   Könnt ihr jetzt bitte mal beim Thema bleiben ?   \n36                                                                                                                                                                     Das ist auch ein guter Punkt.   \n37                                                                                                                            can u pls explain further cos I really don’t understand what this mean   \n356                                     Können wir uns vielleicht einfach darauf einigen, dass jeder versucht seinen Teil beizutragen und man sich diese traurigen, moralinsauren Belehrungen spart?   \n410                     @SaFnE72 @LadwigHelga @haru_thebear @SaBu78424919 @Elmal96 Entspann dich, lass es fließen, du willst schon wieder alles zu schnell, es soll Spaß machen und keinen Frust 😘😘😘   \n131                                                                                                                   Always appreciate the feedback Paul, which I hope comes through in my response   \n130                                                                                                                                           Can you understand why racism is deal breaker with me?   \n\n     rating1  rating2  coder_id_1  coder_id_2                  grouped_titles  \\\n353        2       -2          11           1  explain_view_curious_elaborate   \n29         2       -2          11           1                           Thema   \n32         2       -2          11           1                           Thema   \n225        2       -2          11           1                           Thema   \n36         2       -2          11           1                   \"guter Punkt\"   \n37         2       -2          11           1  explain_view_curious_elaborate   \n356        2       -2          11           1            uns \"darauf einigen\"   \n410        2       -2           1          11                 \"entspann dich\"   \n131        2       -2          11           1             appreciate feedback   \n130        2       -2          11           1            \"can you understand\"   \n\n     intercoder_distance  \n353                    4  \n29                     4  \n32                     4  \n225                    4  \n36                     4  \n37                     4  \n356                    4  \n410                    4  \n131                    4  \n130                    4  ",
      "text/html": "<div>\n<style scoped>\n    .dataframe tbody tr th:only-of-type {\n        vertical-align: middle;\n    }\n\n    .dataframe tbody tr th {\n        vertical-align: top;\n    }\n\n    .dataframe thead th {\n        text-align: right;\n    }\n</style>\n<table border=\"1\" class=\"dataframe\">\n  <thead>\n    <tr style=\"text-align: right;\">\n      <th></th>\n      <th>text</th>\n      <th>created_at</th>\n      <th>u_moderating_part</th>\n      <th>rating1</th>\n      <th>rating2</th>\n      <th>coder_id_1</th>\n      <th>coder_id_2</th>\n      <th>grouped_titles</th>\n      <th>intercoder_distance</th>\n    </tr>\n  </thead>\n  <tbody>\n    <tr>\n      <th>353</th>\n      <td>@UltraXBT Would love to hear your view on #CB, the project looks solid and have been catching many eyes lately, low mc, low tax of 7% and their Dapp is releasing soon\\n\\n#CB $CB #BTC    #ETH @thecloutbase https://t.co/xw6qEnA5RI</td>\n      <td>2022-11-17 10:50:52.533139+00:00</td>\n      <td>Would love to hear your view on #CB, the project looks solid and have been catching many eyes lately, low mc, low tax of 7% and their Dapp is releasing soon #CB $CB #BTC    #ETH @thecloutbase</td>\n      <td>2</td>\n      <td>-2</td>\n      <td>11</td>\n      <td>1</td>\n      <td>explain_view_curious_elaborate</td>\n      <td>4</td>\n    </tr>\n    <tr>\n      <th>29</th>\n      <td>@alcesmoose @ZDFheute wie mich solche Kommentare nerven! Bleib beim Thema. Opferschutz vor Täterschutz! Klare Sache.</td>\n      <td>2022-11-15 09:13:42.645863+00:00</td>\n      <td>Bleib beim Thema.</td>\n      <td>2</td>\n      <td>-2</td>\n      <td>11</td>\n      <td>1</td>\n      <td>Thema</td>\n      <td>4</td>\n    </tr>\n    <tr>\n      <th>32</th>\n      <td>@kkklawitter Frau, du musst nicht jeden Artikel hochholen und eine Forderung daraus machen. Ich habe drei Kinder, alle im Kindergarten, alle an der Hauptstraße, doof aber OK. Der Tod des Mädchen ist tragisch. Aber bitte benutze sowas nicht für deinen Sendungsdrang. Bleib beim Thema...</td>\n      <td>2022-11-15 09:13:42.645863+00:00</td>\n      <td>Bleib beim Thema...</td>\n      <td>2</td>\n      <td>-2</td>\n      <td>11</td>\n      <td>1</td>\n      <td>Thema</td>\n      <td>4</td>\n    </tr>\n    <tr>\n      <th>225</th>\n      <td>@alex13wetter @wfritz56 @AndiFrankfurt @happy_smile4you Könnt ihr jetzt bitte mal beim Thema bleiben ? Was ist Euer Hobby außer : saufen, schlagen und SGE ?</td>\n      <td>2022-11-22 08:32:31.608921+00:00</td>\n      <td>Könnt ihr jetzt bitte mal beim Thema bleiben ?</td>\n      <td>2</td>\n      <td>-2</td>\n      <td>11</td>\n      <td>1</td>\n      <td>Thema</td>\n      <td>4</td>\n    </tr>\n    <tr>\n      <th>36</th>\n      <td>@luebberding Das ist auch ein guter Punkt. 🙃 Die Verflechtungen der chinesischen Wirtschaft sind hier bei uns recht unbekannt (auch Singapur, selbst Kalifornien sollten eigentlich sicher sein). Die Zerstörung Taiwans dürfte im Chip-Bereich für China verheerender sein als jede US-Sanktion.</td>\n      <td>2022-11-14 13:29:39.444238+00:00</td>\n      <td>Das ist auch ein guter Punkt.</td>\n      <td>2</td>\n      <td>-2</td>\n      <td>11</td>\n      <td>1</td>\n      <td>\"guter Punkt\"</td>\n      <td>4</td>\n    </tr>\n    <tr>\n      <th>37</th>\n      <td>@OfficialTravlad @OfficialTravlad can u pls explain further cos I really don’t understand what this mean</td>\n      <td>2022-11-14 14:46:06.202107+00:00</td>\n      <td>can u pls explain further cos I really don’t understand what this mean</td>\n      <td>2</td>\n      <td>-2</td>\n      <td>11</td>\n      <td>1</td>\n      <td>explain_view_curious_elaborate</td>\n      <td>4</td>\n    </tr>\n    <tr>\n      <th>356</th>\n      <td>Können wir uns vielleicht einfach darauf einigen, dass jeder versucht seinen Teil beizutragen und man sich diese traurigen, moralinsauren Belehrungen spart?</td>\n      <td>2022-11-28 15:49:56.739324+00:00</td>\n      <td>Können wir uns vielleicht einfach darauf einigen, dass jeder versucht seinen Teil beizutragen und man sich diese traurigen, moralinsauren Belehrungen spart?</td>\n      <td>2</td>\n      <td>-2</td>\n      <td>11</td>\n      <td>1</td>\n      <td>uns \"darauf einigen\"</td>\n      <td>4</td>\n    </tr>\n    <tr>\n      <th>410</th>\n      <td>@SaFnE72 @LadwigHelga @haru_thebear @SaBu78424919 @Elmal96 Entspann dich, lass es fließen, du willst schon wieder alles zu schnell, es soll Spaß machen und keinen Frust 😘😘😘</td>\n      <td>2022-12-07 10:31:44.608164+00:00</td>\n      <td>@SaFnE72 @LadwigHelga @haru_thebear @SaBu78424919 @Elmal96 Entspann dich, lass es fließen, du willst schon wieder alles zu schnell, es soll Spaß machen und keinen Frust 😘😘😘</td>\n      <td>2</td>\n      <td>-2</td>\n      <td>1</td>\n      <td>11</td>\n      <td>\"entspann dich\"</td>\n      <td>4</td>\n    </tr>\n    <tr>\n      <th>131</th>\n      <td>@PaulRTownsend @dayoconnor1930 Your comments made me reflect a bit, so I'm going to do the unthinkable and post a screenshot of my thoughts instead of creating a 20 tweet thread (poor Twitter etiquette, I know!) Always appreciate the feedback Paul, which I hope comes through in my response https://t.co/OUNrxIa35N</td>\n      <td>2022-11-17 10:33:50.514645+00:00</td>\n      <td>Always appreciate the feedback Paul, which I hope comes through in my response</td>\n      <td>2</td>\n      <td>-2</td>\n      <td>11</td>\n      <td>1</td>\n      <td>appreciate feedback</td>\n      <td>4</td>\n    </tr>\n    <tr>\n      <th>130</th>\n      <td>@NickG972 My family was directly affected by the Race Massacre on Black Wall Street, my uncle was murder and hung by the KKK in the 90's. Can you understand why racism is deal breaker with me? Like you said we all have the freedom to think what we want. And some of us have experiences.</td>\n      <td>2022-11-17 10:10:10.968562+00:00</td>\n      <td>Can you understand why racism is deal breaker with me?</td>\n      <td>2</td>\n      <td>-2</td>\n      <td>11</td>\n      <td>1</td>\n      <td>\"can you understand\"</td>\n      <td>4</td>\n    </tr>\n  </tbody>\n</table>\n</div>"
     },
     "execution_count": 2,
     "metadata": {},
     "output_type": "execute_result"
    }
   ],
   "source": [
    "import numpy as np\n",
    "\n",
    "intercoder_query = \"select dt.text, ds.created_at, ds.title, mr.u_moderating_part, mr.u_mod_rating as rating1, mr2.u_mod_rating as rating2, mr.mod_coder_id as coder_id_1, mr2.mod_coder_id as coder_id_2 \\\n",
    "from delab_moderationrating mr \\\n",
    "    join delab_moderationcandidate2 d on mr.mod_candidate_id = d.id \\\n",
    "    join delab_moderationrating mr2 on mr2.mod_candidate_id = d.id \\\n",
    "    join delab_tweet dt on dt.id = d.tweet_id \\\n",
    "    join delab_simplerequest ds on dt.simple_request_id = ds.id \\\n",
    "where mr.u_moderating_part is not null \\\n",
    "  and mr.u_moderating_part <> '' \\\n",
    "  and ds.created_at > '2022-09-01 00:00:00' \\\n",
    "  and mr.mod_coder_id <> mr2.mod_coder_id \\\n",
    "  and mr.u_mod_rating <> mr2.u_mod_rating;\"\n",
    "\n",
    "df_ic = get_query_native(intercoder_query)\n",
    "df_ic.drop_duplicates(\"text\", inplace=True)\n",
    "grouped_titles = df_ic[\"title\"].map(title_group_mapper)\n",
    "df_ic[\"grouped_titles\"] = grouped_titles\n",
    "df_ic.drop(\"title\", axis=1, inplace=True)\n",
    "\n",
    "\n",
    "# print(df_ic.head(3))\n",
    "\n",
    "def calculate_coding_distance(df):\n",
    "    bigger = df.max(axis=1)\n",
    "    smaller = df.min(axis=1)\n",
    "    result = (bigger - smaller).abs()\n",
    "    return result\n",
    "\n",
    "\n",
    "df_ic[\"intercoder_distance\"] = calculate_coding_distance(df_ic[[\"rating1\", \"rating2\"]])\n",
    "df_ic.sort_values(by=\"intercoder_distance\", inplace=True, ascending=False)\n",
    "\n",
    "df_ic.head(10)"
   ]
  },
  {
   "cell_type": "markdown",
   "metadata": {
    "pycharm": {
     "name": "#%% md\n"
    }
   },
   "source": [
    "# Summary of inter-coder-reliability over time and per phrases\n",
    "- load the dataset from the db\n",
    "- set 2 to 1, and -2 to -1 for simplicity\n",
    "- compute Krippendorf-Alpha for the ratings\n",
    "- plot Krippendorf-Alpha over time globally\n",
    "- plot Krippendorf-Alpha over time per title"
   ]
  },
  {
   "cell_type": "code",
   "execution_count": 3,
   "metadata": {
    "pycharm": {
     "name": "#%%\n"
    }
   },
   "outputs": [
    {
     "name": "stdout",
     "output_type": "stream",
     "text": [
      "using postgres\n"
     ]
    },
    {
     "name": "stderr",
     "output_type": "stream",
     "text": [
      "/home/dehne/PycharmProjects/delab/venv/lib/python3.10/site-packages/pandas/io/sql.py:761: UserWarning: pandas only support SQLAlchemy connectable(engine/connection) ordatabase string URI or sqlite3 DBAPI2 connectionother DBAPI2 objects are not tested, please consider using SQLAlchemy\n",
      "  warnings.warn(\n"
     ]
    },
    {
     "name": "stdout",
     "output_type": "stream",
     "text": [
      "testing incremental krippendorf\n",
      "testing krippendorf sachlich\n",
      "testing krippendorf 0\n",
      "                                  u_mod_rating  mod_coder_id  \\\n",
      "created_at                                                     \n",
      "2022-07-27 11:57:16.328895+00:00             1             1   \n",
      "2022-07-27 11:57:16.328895+00:00            -2            11   \n",
      "2022-07-27 11:57:16.328895+00:00            -2             9   \n",
      "2022-07-27 11:57:16.328895+00:00            -2             1   \n",
      "2022-07-27 11:57:16.328895+00:00            -2             9   \n",
      "...                                        ...           ...   \n",
      "2022-07-12 10:26:52.284849+00:00            -1             9   \n",
      "2022-07-12 10:26:52.284849+00:00            -2             9   \n",
      "2022-07-12 10:26:52.284849+00:00            -2             1   \n",
      "2022-07-12 10:26:52.284849+00:00            -2             1   \n",
      "2022-07-12 10:26:52.284849+00:00            -2             9   \n",
      "\n",
      "                                          grouped_titles  krippendorf  \n",
      "created_at                                                             \n",
      "2022-07-27 11:57:16.328895+00:00  constructive_criticism         0.16  \n",
      "2022-07-27 11:57:16.328895+00:00  constructive_criticism         0.16  \n",
      "2022-07-27 11:57:16.328895+00:00  constructive_criticism         0.16  \n",
      "2022-07-27 11:57:16.328895+00:00  constructive_criticism         0.16  \n",
      "2022-07-27 11:57:16.328895+00:00  constructive_criticism         0.16  \n",
      "...                                                  ...          ...  \n",
      "2022-07-12 10:26:52.284849+00:00    \"freundlich bleiben\"         0.00  \n",
      "2022-07-12 10:26:52.284849+00:00    \"freundlich bleiben\"         0.00  \n",
      "2022-07-12 10:26:52.284849+00:00    \"freundlich bleiben\"         0.00  \n",
      "2022-07-12 10:26:52.284849+00:00    \"freundlich bleiben\"         0.00  \n",
      "2022-07-12 10:26:52.284849+00:00    \"freundlich bleiben\"         0.00  \n",
      "\n",
      "[3147 rows x 4 columns]\n"
     ]
    }
   ],
   "source": [
    "import simpledorff\n",
    "\n",
    "inter_coder_reliability_query = \"select ds.created_at, ds.title, mr.u_mod_rating, mr.mod_coder_id \\\n",
    "from delab_moderationrating mr \\\n",
    "    join delab_moderationcandidate2 d on mr.mod_candidate_id = d.id \\\n",
    "    join delab_tweet dt on dt.id = d.tweet_id \\\n",
    "    join delab_simplerequest ds on dt.simple_request_id = ds.id \\\n",
    "where mr.u_mod_rating <> 0\"\n",
    "\n",
    "df_rel_org = get_query_native(inter_coder_reliability_query)\n",
    "df_rel = df_rel_org\n",
    "grouped_titles = df_rel[\"title\"].map(title_group_mapper)\n",
    "df_rel[\"grouped_titles\"] = grouped_titles\n",
    "df_rel.drop(\"title\", axis=1, inplace=True)\n",
    "\n",
    "value_mapping = {2: 1, -2: -1}\n",
    "coder_mapping = {1: 1}\n",
    "for i in range(2, 100):\n",
    "    coder_mapping[i] = 2\n",
    "df_rel.replace({\"mod_coder_id\": value_mapping}, inplace=True)\n",
    "df_rel.replace({\"mr.mod_coder_id\": coder_mapping}, inplace=True)\n",
    "# create new time_stamp_column that takes a time_stamp every 10 units per topic\n",
    "df_rel[\"created_at\"] = df_rel[\"created_at\"].map(lambda x: pd.to_datetime(x))\n",
    "df_rel.sort_values(by=\"created_at\", inplace=True)\n",
    "df_rel.set_index(\"created_at\", inplace=True)\n",
    "\n",
    "\n",
    "def compute_incremental_krippendorf_column(df):\n",
    "    df = df.copy(deep=True)\n",
    "    date2krippendorf = {}\n",
    "\n",
    "    # debugging code\n",
    "    if \"valid_point\" in list(df.grouped_titles):\n",
    "        print(\"testing incremental krippendorf\")\n",
    "    if \"Sichtweise\" in list(df.grouped_titles):\n",
    "        print(\"testing krippendorf 0\")\n",
    "    if \"sachlich\" in list(df.grouped_titles):\n",
    "        print(\"testing krippendorf sachlich\")\n",
    "\n",
    "    week_labels_list = []\n",
    "    for week_index, weekly_labels in df.groupby(pd.Grouper(freq=\"3D\")):\n",
    "        try:\n",
    "            week_labels_list.append(weekly_labels)\n",
    "            week_labels_aggro = pd.concat(week_labels_list)\n",
    "            s_dorf = simpledorff.calculate_krippendorffs_alpha_for_df(week_labels_aggro, experiment_col='created_at',\n",
    "                                                                      annotator_col='mod_coder_id',\n",
    "                                                                      class_col='u_mod_rating')\n",
    "        except ZeroDivisionError:\n",
    "            s_dorf = np.NaN\n",
    "\n",
    "        for date in weekly_labels.index:\n",
    "            date2krippendorf[date] = s_dorf\n",
    "\n",
    "    pd.options.mode.chained_assignment = None\n",
    "    df[\"krippendorf\"] = df.index.map(date2krippendorf)\n",
    "    return df\n",
    "\n",
    "\n",
    "# compute the krippendorf for each title_group\n",
    "krippendorfed_frames = []\n",
    "\n",
    "for title in set(df_rel.grouped_titles):\n",
    "    single_title_dataset = df_rel[df_rel[\"grouped_titles\"] == title]\n",
    "    df_rel_single_with_krippendorf = compute_incremental_krippendorf_column(single_title_dataset)\n",
    "    krippendorfed_frames.append(df_rel_single_with_krippendorf)\n",
    "\n",
    "df_rel_with_krippendorf = pd.concat(krippendorfed_frames)\n",
    "# printing out the codings from the last day and their incremental krippendorf (aggregated over all weeks)\n",
    "print(df_rel_with_krippendorf.last(\"1D\"))"
   ]
  },
  {
   "cell_type": "markdown",
   "metadata": {},
   "source": [
    "### Summary of best working Terms:\n",
    "- sorted by the highest krippendorf at the current time aggregating all data\n",
    "- grouped by the phrases"
   ]
  },
  {
   "cell_type": "code",
   "execution_count": 4,
   "metadata": {
    "pycharm": {
     "name": "#%%\n"
    }
   },
   "outputs": [
    {
     "data": {
      "text/plain": "                                krippendorf\ngrouped_titles                             \ncalm_down                          0.509434\nvalid_point                        0.466463\nconstructive_criticism             0.266667\nagree_common_goal                  0.259259\ntopic_issue                        0.246377\nMeinung_erläutern_Ansicht          0.200000\nexplain_view_curious_elaborate     0.193333\nThema                              0.085185\n\"can you respond\"                       NaN\n\"can you understand\"                    NaN",
      "text/html": "<div>\n<style scoped>\n    .dataframe tbody tr th:only-of-type {\n        vertical-align: middle;\n    }\n\n    .dataframe tbody tr th {\n        vertical-align: top;\n    }\n\n    .dataframe thead th {\n        text-align: right;\n    }\n</style>\n<table border=\"1\" class=\"dataframe\">\n  <thead>\n    <tr style=\"text-align: right;\">\n      <th></th>\n      <th>krippendorf</th>\n    </tr>\n    <tr>\n      <th>grouped_titles</th>\n      <th></th>\n    </tr>\n  </thead>\n  <tbody>\n    <tr>\n      <th>calm_down</th>\n      <td>0.509434</td>\n    </tr>\n    <tr>\n      <th>valid_point</th>\n      <td>0.466463</td>\n    </tr>\n    <tr>\n      <th>constructive_criticism</th>\n      <td>0.266667</td>\n    </tr>\n    <tr>\n      <th>agree_common_goal</th>\n      <td>0.259259</td>\n    </tr>\n    <tr>\n      <th>topic_issue</th>\n      <td>0.246377</td>\n    </tr>\n    <tr>\n      <th>Meinung_erläutern_Ansicht</th>\n      <td>0.200000</td>\n    </tr>\n    <tr>\n      <th>explain_view_curious_elaborate</th>\n      <td>0.193333</td>\n    </tr>\n    <tr>\n      <th>Thema</th>\n      <td>0.085185</td>\n    </tr>\n    <tr>\n      <th>\"can you respond\"</th>\n      <td>NaN</td>\n    </tr>\n    <tr>\n      <th>\"can you understand\"</th>\n      <td>NaN</td>\n    </tr>\n  </tbody>\n</table>\n</div>"
     },
     "execution_count": 4,
     "metadata": {},
     "output_type": "execute_result"
    }
   ],
   "source": [
    "df_rel_highest_icr = df_rel_with_krippendorf.groupby(\"grouped_titles\").last()\n",
    "df_rel_highest_icr = df_rel_highest_icr.drop([\"u_mod_rating\", \"mod_coder_id\"], axis=1)\n",
    "df_rel_highest_icr = df_rel_highest_icr[df_rel_highest_icr[\"krippendorf\"] != 0]\n",
    "df_rel_highest_icr.sort_values(by=\"krippendorf\", inplace=True, ascending=False)\n",
    "\n",
    "\n",
    "# computed the krippendorf column\n",
    "# listing the highest icr by grouped_title\n",
    "df_rel_highest_icr.head(10)"
   ]
  },
  {
   "cell_type": "code",
   "execution_count": 5,
   "metadata": {
    "pycharm": {
     "name": "#%%\n"
    }
   },
   "outputs": [
    {
     "data": {
      "text/plain": "0.2513227513227514"
     },
     "execution_count": 5,
     "metadata": {},
     "output_type": "execute_result"
    }
   ],
   "source": [
    "#calculate overall average of krippendorf\n",
    "df_rel_2 = df_rel_org\n",
    "s_dorf = simpledorff.calculate_krippendorffs_alpha_for_df(df_rel_2, experiment_col='created_at',\n",
    "                                                          annotator_col='mod_coder_id',\n",
    "                                                          class_col='u_mod_rating')\n",
    "s_dorf"
   ]
  },
  {
   "cell_type": "markdown",
   "metadata": {
    "pycharm": {
     "name": "#%% md\n"
    }
   },
   "source": [
    "# Computing Time Sliced Development of Krippendorf\n",
    "\n",
    "- write procedure to slice the dataframe in time spans of a week\n",
    "- calculate the krippendorf per title group and week (if possible)\n",
    "- plot the changes in krippendorf over time\n"
   ]
  },
  {
   "cell_type": "code",
   "execution_count": 6,
   "metadata": {
    "pycharm": {
     "name": "#%%\n"
    }
   },
   "outputs": [
    {
     "data": {
      "text/plain": "<Figure size 640x480 with 1 Axes>",
      "image/png": "[encoded data removed]"
     },
     "metadata": {},
     "output_type": "display_data"
    }
   ],
   "source": [
    "from datetime import datetime\n",
    "import numpy as np\n",
    "import matplotlib.pyplot as plt\n",
    "\n",
    "top_5_titles = df_rel_highest_icr.head(5)\n",
    "df_rel_top_5 = df_rel_with_krippendorf[df_rel_with_krippendorf[\"grouped_titles\"].isin(top_5_titles.index.to_list())]\n",
    "#df_rel_top_5.reset_index(inplace=True)\n",
    "\n",
    "fig, ax = plt.subplots()\n",
    "\n",
    "for key, grp in df_rel_top_5.groupby(['grouped_titles']):\n",
    "    if grp.empty:\n",
    "        print('DataFrame is empty for title {}!'.format(key))\n",
    "    if grp[grp[\"krippendorf\"] > 0].empty:\n",
    "        print('Alle 0 für {}!>'.format(key))\n",
    "    ax = grp.plot(ax=ax, kind='line', y='krippendorf', label=key)\n",
    "#ax.set_xlim([datetime.date(2022, 9, 15), datetime.date(2023, 1, 1)])\n",
    "plt.legend(loc='best')\n",
    "plt.show()\n"
   ]
  }
 ],
 "metadata": {
  "kernelspec": {
   "display_name": "Python 3 (ipykernel)",
   "language": "python",
   "name": "python3"
  },
  "language_info": {
   "codemirror_mode": {
    "name": "ipython",
    "version": 3
   },
   "file_extension": ".py",
   "mimetype": "text/x-python",
   "name": "python",
   "nbconvert_exporter": "python",
   "pygments_lexer": "ipython3",
   "version": "3.10.6"
  },
  "pycharm": {
   "stem_cell": {
    "cell_type": "raw",
    "source": [
     "\"#%% md\n",
     "\n",
     "# Summary of best terms\n",
     "\n",
     "- load the moderation rated tweets from database\n",
     "- combine similar search terms (containing two more common words)\n",
     "- show statistic sorted by highest count and delta to last week\n",
     "\n"
    ],
    "metadata": {
     "collapsed": false
    }
   }
  }
 },
 "nbformat": 4,
 "nbformat_minor": 1
}