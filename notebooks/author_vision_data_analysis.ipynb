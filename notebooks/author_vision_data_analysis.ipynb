{
 "cells": [
  {
   "cell_type": "markdown",
   "source": [
    "#### Analyzing the probability of an author writing repeatedly in the same conversation\n",
    "1. sum up the amounts y == 1 (because an author has answered himself)\n",
    "2. sum chances of an author seeing himself write\n",
    "3. calculate a measure of how likely it is that an author sees himself repeated as a test for the nn"
   ],
   "metadata": {
    "collapsed": false,
    "pycharm": {
     "name": "#%% md\n"
    }
   }
  },
  {
   "cell_type": "code",
   "execution_count": 3,
   "outputs": [],
   "source": [
    "\n",
    "\n",
    "import pickle5 as pickle\n",
    "\n",
    "with open(\"data/vision_graph_data.pkl\", 'rb') as f:\n",
    "    df = pickle.load(f)\n"
   ],
   "metadata": {
    "collapsed": false,
    "pycharm": {
     "name": "#%%\n"
    }
   }
  },
  {
   "cell_type": "code",
   "execution_count": 4,
   "outputs": [
    {
     "data": {
      "text/plain": "                     current      conversation_id platform  y\n0        1540384238922616835  1540323979793137664  twitter  1\n1        1540384238922616835  1540323979793137664  twitter  0\n2        1540384238922616835  1540323979793137664  twitter  0\n3        1540384238922616835  1540323979793137664  twitter  0\n4        1540384238922616835  1540323979793137664  twitter  0\n...                      ...                  ...      ... ..\n3419843  1533627567378518016  1533622269360087046  twitter  0\n3419844  1533627567378518016  1533622269360087046  twitter  0\n3419845  1533623769449005058  1533622269360087046  twitter  1\n3419846  1533623769449005058  1533622269360087046  twitter  0\n3419847  1533623229482340352  1533622269360087046  twitter  1\n\n[3419848 rows x 4 columns]",
      "text/html": "<div>\n<style scoped>\n    .dataframe tbody tr th:only-of-type {\n        vertical-align: middle;\n    }\n\n    .dataframe tbody tr th {\n        vertical-align: top;\n    }\n\n    .dataframe thead th {\n        text-align: right;\n    }\n</style>\n<table border=\"1\" class=\"dataframe\">\n  <thead>\n    <tr style=\"text-align: right;\">\n      <th></th>\n      <th>current</th>\n      <th>conversation_id</th>\n      <th>platform</th>\n      <th>y</th>\n    </tr>\n  </thead>\n  <tbody>\n    <tr>\n      <th>0</th>\n      <td>1540384238922616835</td>\n      <td>1540323979793137664</td>\n      <td>twitter</td>\n      <td>1</td>\n    </tr>\n    <tr>\n      <th>1</th>\n      <td>1540384238922616835</td>\n      <td>1540323979793137664</td>\n      <td>twitter</td>\n      <td>0</td>\n    </tr>\n    <tr>\n      <th>2</th>\n      <td>1540384238922616835</td>\n      <td>1540323979793137664</td>\n      <td>twitter</td>\n      <td>0</td>\n    </tr>\n    <tr>\n      <th>3</th>\n      <td>1540384238922616835</td>\n      <td>1540323979793137664</td>\n      <td>twitter</td>\n      <td>0</td>\n    </tr>\n    <tr>\n      <th>4</th>\n      <td>1540384238922616835</td>\n      <td>1540323979793137664</td>\n      <td>twitter</td>\n      <td>0</td>\n    </tr>\n    <tr>\n      <th>...</th>\n      <td>...</td>\n      <td>...</td>\n      <td>...</td>\n      <td>...</td>\n    </tr>\n    <tr>\n      <th>3419843</th>\n      <td>1533627567378518016</td>\n      <td>1533622269360087046</td>\n      <td>twitter</td>\n      <td>0</td>\n    </tr>\n    <tr>\n      <th>3419844</th>\n      <td>1533627567378518016</td>\n      <td>1533622269360087046</td>\n      <td>twitter</td>\n      <td>0</td>\n    </tr>\n    <tr>\n      <th>3419845</th>\n      <td>1533623769449005058</td>\n      <td>1533622269360087046</td>\n      <td>twitter</td>\n      <td>1</td>\n    </tr>\n    <tr>\n      <th>3419846</th>\n      <td>1533623769449005058</td>\n      <td>1533622269360087046</td>\n      <td>twitter</td>\n      <td>0</td>\n    </tr>\n    <tr>\n      <th>3419847</th>\n      <td>1533623229482340352</td>\n      <td>1533622269360087046</td>\n      <td>twitter</td>\n      <td>1</td>\n    </tr>\n  </tbody>\n</table>\n<p>3419848 rows × 4 columns</p>\n</div>"
     },
     "execution_count": 4,
     "metadata": {},
     "output_type": "execute_result"
    }
   ],
   "source": [
    "author_count_columns = [\"current\", \"conversation_id\", \"platform\", \"y\"]\n",
    "author_df = df[author_count_columns]\n",
    "author_df"
   ],
   "metadata": {
    "collapsed": false,
    "pycharm": {
     "name": "#%%\n"
    }
   }
  },
  {
   "cell_type": "code",
   "execution_count": 5,
   "outputs": [
    {
     "data": {
      "text/plain": "                                                  y\nplatform conversation_id     current               \ndelab    1455538619804831744 72709458             1\n         1457613499748831233 572575               1\n         1463938900544692229 83448782             1\n         1463970148050681857 60138487             1\n         1464222274265960454 87771230             1\n...                                              ..\ntwitter  1552558905275858946 1552563036443099137  1\n                             1552563089635250176  1\n                             1552563118403993600  1\n                             1552563228034715649  2\n                             1552563434188902400  2\n\n[135767 rows x 1 columns]",
      "text/html": "<div>\n<style scoped>\n    .dataframe tbody tr th:only-of-type {\n        vertical-align: middle;\n    }\n\n    .dataframe tbody tr th {\n        vertical-align: top;\n    }\n\n    .dataframe thead th {\n        text-align: right;\n    }\n</style>\n<table border=\"1\" class=\"dataframe\">\n  <thead>\n    <tr style=\"text-align: right;\">\n      <th></th>\n      <th></th>\n      <th></th>\n      <th>y</th>\n    </tr>\n    <tr>\n      <th>platform</th>\n      <th>conversation_id</th>\n      <th>current</th>\n      <th></th>\n    </tr>\n  </thead>\n  <tbody>\n    <tr>\n      <th rowspan=\"5\" valign=\"top\">delab</th>\n      <th>1455538619804831744</th>\n      <th>72709458</th>\n      <td>1</td>\n    </tr>\n    <tr>\n      <th>1457613499748831233</th>\n      <th>572575</th>\n      <td>1</td>\n    </tr>\n    <tr>\n      <th>1463938900544692229</th>\n      <th>83448782</th>\n      <td>1</td>\n    </tr>\n    <tr>\n      <th>1463970148050681857</th>\n      <th>60138487</th>\n      <td>1</td>\n    </tr>\n    <tr>\n      <th>1464222274265960454</th>\n      <th>87771230</th>\n      <td>1</td>\n    </tr>\n    <tr>\n      <th>...</th>\n      <th>...</th>\n      <th>...</th>\n      <td>...</td>\n    </tr>\n    <tr>\n      <th rowspan=\"5\" valign=\"top\">twitter</th>\n      <th rowspan=\"5\" valign=\"top\">1552558905275858946</th>\n      <th>1552563036443099137</th>\n      <td>1</td>\n    </tr>\n    <tr>\n      <th>1552563089635250176</th>\n      <td>1</td>\n    </tr>\n    <tr>\n      <th>1552563118403993600</th>\n      <td>1</td>\n    </tr>\n    <tr>\n      <th>1552563228034715649</th>\n      <td>2</td>\n    </tr>\n    <tr>\n      <th>1552563434188902400</th>\n      <td>2</td>\n    </tr>\n  </tbody>\n</table>\n<p>135767 rows × 1 columns</p>\n</div>"
     },
     "execution_count": 5,
     "metadata": {},
     "output_type": "execute_result"
    }
   ],
   "source": [
    "author_df = author_df.groupby([\"platform\", \"conversation_id\", \"current\"]).sum()\n",
    "author_df"
   ],
   "metadata": {
    "collapsed": false,
    "pycharm": {
     "name": "#%%\n"
    }
   }
  },
  {
   "cell_type": "code",
   "execution_count": 6,
   "outputs": [
    {
     "data": {
      "text/plain": "                                     y\nplatform conversation_id              \ndelab    1455538619804831744  1.000000\n         1457613499748831233  1.000000\n         1463938900544692229  1.000000\n         1463970148050681857  1.000000\n         1464222274265960454  1.000000\n...                                ...\ntwitter  1552396506501713925  1.000000\n         1552551318866120704  1.869565\n         1552558203963154434  1.000000\n         1552558701432774659  2.555556\n         1552558905275858946  1.235294\n\n[4299 rows x 1 columns]",
      "text/html": "<div>\n<style scoped>\n    .dataframe tbody tr th:only-of-type {\n        vertical-align: middle;\n    }\n\n    .dataframe tbody tr th {\n        vertical-align: top;\n    }\n\n    .dataframe thead th {\n        text-align: right;\n    }\n</style>\n<table border=\"1\" class=\"dataframe\">\n  <thead>\n    <tr style=\"text-align: right;\">\n      <th></th>\n      <th></th>\n      <th>y</th>\n    </tr>\n    <tr>\n      <th>platform</th>\n      <th>conversation_id</th>\n      <th></th>\n    </tr>\n  </thead>\n  <tbody>\n    <tr>\n      <th rowspan=\"5\" valign=\"top\">delab</th>\n      <th>1455538619804831744</th>\n      <td>1.000000</td>\n    </tr>\n    <tr>\n      <th>1457613499748831233</th>\n      <td>1.000000</td>\n    </tr>\n    <tr>\n      <th>1463938900544692229</th>\n      <td>1.000000</td>\n    </tr>\n    <tr>\n      <th>1463970148050681857</th>\n      <td>1.000000</td>\n    </tr>\n    <tr>\n      <th>1464222274265960454</th>\n      <td>1.000000</td>\n    </tr>\n    <tr>\n      <th>...</th>\n      <th>...</th>\n      <td>...</td>\n    </tr>\n    <tr>\n      <th rowspan=\"5\" valign=\"top\">twitter</th>\n      <th>1552396506501713925</th>\n      <td>1.000000</td>\n    </tr>\n    <tr>\n      <th>1552551318866120704</th>\n      <td>1.869565</td>\n    </tr>\n    <tr>\n      <th>1552558203963154434</th>\n      <td>1.000000</td>\n    </tr>\n    <tr>\n      <th>1552558701432774659</th>\n      <td>2.555556</td>\n    </tr>\n    <tr>\n      <th>1552558905275858946</th>\n      <td>1.235294</td>\n    </tr>\n  </tbody>\n</table>\n<p>4299 rows × 1 columns</p>\n</div>"
     },
     "execution_count": 6,
     "metadata": {},
     "output_type": "execute_result"
    }
   ],
   "source": [
    "author_df = author_df.groupby([\"platform\", \"conversation_id\"]).mean()\n",
    "author_df\n"
   ],
   "metadata": {
    "collapsed": false,
    "pycharm": {
     "name": "#%%\n"
    }
   }
  },
  {
   "cell_type": "code",
   "execution_count": 7,
   "outputs": [
    {
     "data": {
      "text/plain": "                     current      conversation_id platform\n0        1540384238922616835  1540323979793137664  twitter\n1        1540384238922616835  1540323979793137664  twitter\n2        1540384238922616835  1540323979793137664  twitter\n3        1540384238922616835  1540323979793137664  twitter\n4        1540384238922616835  1540323979793137664  twitter\n...                      ...                  ...      ...\n3419843  1533627567378518016  1533622269360087046  twitter\n3419844  1533627567378518016  1533622269360087046  twitter\n3419845  1533623769449005058  1533622269360087046  twitter\n3419846  1533623769449005058  1533622269360087046  twitter\n3419847  1533623229482340352  1533622269360087046  twitter\n\n[3419848 rows x 3 columns]",
      "text/html": "<div>\n<style scoped>\n    .dataframe tbody tr th:only-of-type {\n        vertical-align: middle;\n    }\n\n    .dataframe tbody tr th {\n        vertical-align: top;\n    }\n\n    .dataframe thead th {\n        text-align: right;\n    }\n</style>\n<table border=\"1\" class=\"dataframe\">\n  <thead>\n    <tr style=\"text-align: right;\">\n      <th></th>\n      <th>current</th>\n      <th>conversation_id</th>\n      <th>platform</th>\n    </tr>\n  </thead>\n  <tbody>\n    <tr>\n      <th>0</th>\n      <td>1540384238922616835</td>\n      <td>1540323979793137664</td>\n      <td>twitter</td>\n    </tr>\n    <tr>\n      <th>1</th>\n      <td>1540384238922616835</td>\n      <td>1540323979793137664</td>\n      <td>twitter</td>\n    </tr>\n    <tr>\n      <th>2</th>\n      <td>1540384238922616835</td>\n      <td>1540323979793137664</td>\n      <td>twitter</td>\n    </tr>\n    <tr>\n      <th>3</th>\n      <td>1540384238922616835</td>\n      <td>1540323979793137664</td>\n      <td>twitter</td>\n    </tr>\n    <tr>\n      <th>4</th>\n      <td>1540384238922616835</td>\n      <td>1540323979793137664</td>\n      <td>twitter</td>\n    </tr>\n    <tr>\n      <th>...</th>\n      <td>...</td>\n      <td>...</td>\n      <td>...</td>\n    </tr>\n    <tr>\n      <th>3419843</th>\n      <td>1533627567378518016</td>\n      <td>1533622269360087046</td>\n      <td>twitter</td>\n    </tr>\n    <tr>\n      <th>3419844</th>\n      <td>1533627567378518016</td>\n      <td>1533622269360087046</td>\n      <td>twitter</td>\n    </tr>\n    <tr>\n      <th>3419845</th>\n      <td>1533623769449005058</td>\n      <td>1533622269360087046</td>\n      <td>twitter</td>\n    </tr>\n    <tr>\n      <th>3419846</th>\n      <td>1533623769449005058</td>\n      <td>1533622269360087046</td>\n      <td>twitter</td>\n    </tr>\n    <tr>\n      <th>3419847</th>\n      <td>1533623229482340352</td>\n      <td>1533622269360087046</td>\n      <td>twitter</td>\n    </tr>\n  </tbody>\n</table>\n<p>3419848 rows × 3 columns</p>\n</div>"
     },
     "execution_count": 7,
     "metadata": {},
     "output_type": "execute_result"
    }
   ],
   "source": [
    "distinct_view_columns = [\"current\", \"conversation_id\", \"platform\"]\n",
    "distinct_view_df = df[distinct_view_columns]\n",
    "distinct_view_df"
   ],
   "metadata": {
    "collapsed": false,
    "pycharm": {
     "name": "#%%\n"
    }
   }
  },
  {
   "cell_type": "code",
   "execution_count": 8,
   "outputs": [
    {
     "data": {
      "text/plain": "                                   size\nplatform conversation_id               \ndelab    1455538619804831744   1.000000\n         1457613499748831233  11.000000\n         1463938900544692229  13.000000\n         1463970148050681857  29.000000\n         1464222274265960454   1.000000\n...                                 ...\ntwitter  1552396506501713925   3.000000\n         1552551318866120704  11.956522\n         1552558203963154434   3.000000\n         1552558701432774659   5.000000\n         1552558905275858946   9.000000\n\n[4299 rows x 1 columns]",
      "text/html": "<div>\n<style scoped>\n    .dataframe tbody tr th:only-of-type {\n        vertical-align: middle;\n    }\n\n    .dataframe tbody tr th {\n        vertical-align: top;\n    }\n\n    .dataframe thead th {\n        text-align: right;\n    }\n</style>\n<table border=\"1\" class=\"dataframe\">\n  <thead>\n    <tr style=\"text-align: right;\">\n      <th></th>\n      <th></th>\n      <th>size</th>\n    </tr>\n    <tr>\n      <th>platform</th>\n      <th>conversation_id</th>\n      <th></th>\n    </tr>\n  </thead>\n  <tbody>\n    <tr>\n      <th rowspan=\"5\" valign=\"top\">delab</th>\n      <th>1455538619804831744</th>\n      <td>1.000000</td>\n    </tr>\n    <tr>\n      <th>1457613499748831233</th>\n      <td>11.000000</td>\n    </tr>\n    <tr>\n      <th>1463938900544692229</th>\n      <td>13.000000</td>\n    </tr>\n    <tr>\n      <th>1463970148050681857</th>\n      <td>29.000000</td>\n    </tr>\n    <tr>\n      <th>1464222274265960454</th>\n      <td>1.000000</td>\n    </tr>\n    <tr>\n      <th>...</th>\n      <th>...</th>\n      <td>...</td>\n    </tr>\n    <tr>\n      <th rowspan=\"5\" valign=\"top\">twitter</th>\n      <th>1552396506501713925</th>\n      <td>3.000000</td>\n    </tr>\n    <tr>\n      <th>1552551318866120704</th>\n      <td>11.956522</td>\n    </tr>\n    <tr>\n      <th>1552558203963154434</th>\n      <td>3.000000</td>\n    </tr>\n    <tr>\n      <th>1552558701432774659</th>\n      <td>5.000000</td>\n    </tr>\n    <tr>\n      <th>1552558905275858946</th>\n      <td>9.000000</td>\n    </tr>\n  </tbody>\n</table>\n<p>4299 rows × 1 columns</p>\n</div>"
     },
     "execution_count": 8,
     "metadata": {},
     "output_type": "execute_result"
    }
   ],
   "source": [
    "distinct_views = distinct_view_df.groupby([\"current\", \"conversation_id\", \"platform\"]).size().to_frame('size')\n",
    "distinct_views = distinct_views.groupby([\"platform\", \"conversation_id\"]).mean()\n",
    "distinct_views\n"
   ],
   "metadata": {
    "collapsed": false,
    "pycharm": {
     "name": "#%%\n"
    }
   }
  },
  {
   "cell_type": "code",
   "execution_count": 9,
   "outputs": [
    {
     "data": {
      "text/plain": "platform  conversation_id    \ndelab     1455538619804831744    1.000000\n          1457613499748831233    0.090909\n          1463938900544692229    0.076923\n          1463970148050681857    0.034483\n          1464222274265960454    1.000000\n                                   ...   \ntwitter   1552396506501713925    0.333333\n          1552551318866120704    0.156364\n          1552558203963154434    0.333333\n          1552558701432774659    0.511111\n          1552558905275858946    0.137255\nLength: 4299, dtype: float64"
     },
     "execution_count": 9,
     "metadata": {},
     "output_type": "execute_result"
    }
   ],
   "source": [
    "joined_author_stats = author_df.join(distinct_views)\n",
    "joined_author_stats = joined_author_stats[\"y\"] / joined_author_stats[\"size\"]\n",
    "joined_author_stats"
   ],
   "metadata": {
    "collapsed": false,
    "pycharm": {
     "name": "#%%\n"
    }
   }
  },
  {
   "cell_type": "code",
   "execution_count": 10,
   "outputs": [
    {
     "data": {
      "text/plain": "          repetition_probs\nplatform                  \ndelab             0.219789\nreddit            0.229424\ntwitter           0.096224",
      "text/html": "<div>\n<style scoped>\n    .dataframe tbody tr th:only-of-type {\n        vertical-align: middle;\n    }\n\n    .dataframe tbody tr th {\n        vertical-align: top;\n    }\n\n    .dataframe thead th {\n        text-align: right;\n    }\n</style>\n<table border=\"1\" class=\"dataframe\">\n  <thead>\n    <tr style=\"text-align: right;\">\n      <th></th>\n      <th>repetition_probs</th>\n    </tr>\n    <tr>\n      <th>platform</th>\n      <th></th>\n    </tr>\n  </thead>\n  <tbody>\n    <tr>\n      <th>delab</th>\n      <td>0.219789</td>\n    </tr>\n    <tr>\n      <th>reddit</th>\n      <td>0.229424</td>\n    </tr>\n    <tr>\n      <th>twitter</th>\n      <td>0.096224</td>\n    </tr>\n  </tbody>\n</table>\n</div>"
     },
     "execution_count": 10,
     "metadata": {},
     "output_type": "execute_result"
    }
   ],
   "source": [
    "repetition_probability = joined_author_stats.groupby(\"platform\").mean().to_frame(\"repetition_probs\")\n",
    "repetition_probability"
   ],
   "metadata": {
    "collapsed": false,
    "pycharm": {
     "name": "#%%\n"
    }
   }
  }
 ],
 "metadata": {
  "kernelspec": {
   "display_name": "Python 3",
   "language": "python",
   "name": "python3"
  },
  "language_info": {
   "codemirror_mode": {
    "name": "ipython",
    "version": 2
   },
   "file_extension": ".py",
   "mimetype": "text/x-python",
   "name": "python",
   "nbconvert_exporter": "python",
   "pygments_lexer": "ipython2",
   "version": "2.7.6"
  }
 },
 "nbformat": 4,
 "nbformat_minor": 0
}