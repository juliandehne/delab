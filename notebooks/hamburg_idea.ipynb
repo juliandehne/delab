{
 "cells": [
  {
   "cell_type": "markdown",
   "source": [
    "Importing the topic models for the delab topics and checking validity"
   ],
   "metadata": {
    "collapsed": false,
    "pycharm": {
     "name": "#%% md\n"
    }
   }
  },
  {
   "cell_type": "code",
   "execution_count": 1,
   "metadata": {
    "collapsed": true
   },
   "outputs": [
    {
     "name": "stderr",
     "output_type": "stream",
     "text": [
      "2022-06-29 11:33:03.089901: I tensorflow/stream_executor/platform/default/dso_loader.cc:53] Successfully opened dynamic library libcudart.so.11.0\n"
     ]
    },
    {
     "name": "stdout",
     "output_type": "stream",
     "text": [
      "   Topic  Count                    Name\n",
      "0     -1     19  -1_nicht_in_für_regnet\n"
     ]
    }
   ],
   "source": [
    "from bertopic import BERTopic\n",
    "\n",
    "from delab.delab_enums import VERSION, PLATFORM, LANGUAGE\n",
    "from delab.topic.topic_settings import get_bertopic_location, get_embedding_model\n",
    "\n",
    "analysis_version = VERSION.v001\n",
    "platform = PLATFORM.TWITTER\n",
    "train_update_topics = True\n",
    "topic = \"Klimawandel\"\n",
    "language = LANGUAGE.GERMAN\n",
    "\n",
    "\n",
    "location = \"../\"+ get_bertopic_location(language, version=analysis_version, topic=topic)\n",
    "\n",
    "bertopic_model = BERTopic().load(location,\n",
    "                                 embedding_model=get_embedding_model(language))\n",
    "topic_info = bertopic_model.get_topic_info()\n",
    "print(topic_info)\n"
   ]
  },
  {
   "cell_type": "code",
   "execution_count": 2,
   "outputs": [
    {
     "ename": "FileNotFoundError",
     "evalue": "[Errno 2] No such file or directory: '../bertopic_models/BERTopic_Klimawandel_en_v0.0.1'",
     "output_type": "error",
     "traceback": [
      "\u001B[0;31m---------------------------------------------------------------------------\u001B[0m",
      "\u001B[0;31mFileNotFoundError\u001B[0m                         Traceback (most recent call last)",
      "\u001B[0;32m/tmp/ipykernel_5275/1162856072.py\u001B[0m in \u001B[0;36m<module>\u001B[0;34m\u001B[0m\n\u001B[1;32m      6\u001B[0m \u001B[0mlocation\u001B[0m \u001B[0;34m=\u001B[0m \u001B[0;34m\"../\"\u001B[0m\u001B[0;34m+\u001B[0m \u001B[0mget_bertopic_location\u001B[0m\u001B[0;34m(\u001B[0m\u001B[0mlanguage\u001B[0m\u001B[0;34m,\u001B[0m \u001B[0mversion\u001B[0m\u001B[0;34m=\u001B[0m\u001B[0manalysis_version\u001B[0m\u001B[0;34m,\u001B[0m \u001B[0mtopic\u001B[0m\u001B[0;34m=\u001B[0m\u001B[0mtopic\u001B[0m\u001B[0;34m)\u001B[0m\u001B[0;34m\u001B[0m\u001B[0;34m\u001B[0m\u001B[0m\n\u001B[1;32m      7\u001B[0m \u001B[0;34m\u001B[0m\u001B[0m\n\u001B[0;32m----> 8\u001B[0;31m bertopic_model = BERTopic().load(location,\n\u001B[0m\u001B[1;32m      9\u001B[0m                                  embedding_model=get_embedding_model(language))\n\u001B[1;32m     10\u001B[0m \u001B[0mtopic_info\u001B[0m \u001B[0;34m=\u001B[0m \u001B[0mbertopic_model\u001B[0m\u001B[0;34m.\u001B[0m\u001B[0mget_topic_info\u001B[0m\u001B[0;34m(\u001B[0m\u001B[0;34m)\u001B[0m\u001B[0;34m\u001B[0m\u001B[0;34m\u001B[0m\u001B[0m\n",
      "\u001B[0;32m~/PycharmProjects/whowhatwhy/venv/lib/python3.8/site-packages/bertopic/_bertopic.py\u001B[0m in \u001B[0;36mload\u001B[0;34m(cls, path, embedding_model)\u001B[0m\n\u001B[1;32m   1281\u001B[0m         \u001B[0;31m`\u001B[0m\u001B[0;31m`\u001B[0m\u001B[0;31m`\u001B[0m\u001B[0;34m\u001B[0m\u001B[0;34m\u001B[0m\u001B[0m\n\u001B[1;32m   1282\u001B[0m         \"\"\"\n\u001B[0;32m-> 1283\u001B[0;31m         \u001B[0;32mwith\u001B[0m \u001B[0mopen\u001B[0m\u001B[0;34m(\u001B[0m\u001B[0mpath\u001B[0m\u001B[0;34m,\u001B[0m \u001B[0;34m'rb'\u001B[0m\u001B[0;34m)\u001B[0m \u001B[0;32mas\u001B[0m \u001B[0mfile\u001B[0m\u001B[0;34m:\u001B[0m\u001B[0;34m\u001B[0m\u001B[0;34m\u001B[0m\u001B[0m\n\u001B[0m\u001B[1;32m   1284\u001B[0m             \u001B[0;32mif\u001B[0m \u001B[0membedding_model\u001B[0m\u001B[0;34m:\u001B[0m\u001B[0;34m\u001B[0m\u001B[0;34m\u001B[0m\u001B[0m\n\u001B[1;32m   1285\u001B[0m                 \u001B[0mtopic_model\u001B[0m \u001B[0;34m=\u001B[0m \u001B[0mjoblib\u001B[0m\u001B[0;34m.\u001B[0m\u001B[0mload\u001B[0m\u001B[0;34m(\u001B[0m\u001B[0mfile\u001B[0m\u001B[0;34m)\u001B[0m\u001B[0;34m\u001B[0m\u001B[0;34m\u001B[0m\u001B[0m\n",
      "\u001B[0;31mFileNotFoundError\u001B[0m: [Errno 2] No such file or directory: '../bertopic_models/BERTopic_Klimawandel_en_v0.0.1'"
     ]
    }
   ],
   "source": [
    "analysis_version = VERSION.v001\n",
    "topic = \"Klimawandel\"\n",
    "language = LANGUAGE.ENGLISH\n",
    "\n",
    "\n",
    "location = \"../\"+ get_bertopic_location(language, version=analysis_version, topic=topic)\n",
    "\n",
    "bertopic_model = BERTopic().load(location,\n",
    "                                 embedding_model=get_embedding_model(language))\n",
    "topic_info = bertopic_model.get_topic_info()\n",
    "print(topic_info)\n"
   ],
   "metadata": {
    "collapsed": false,
    "pycharm": {
     "name": "#%%\n"
    }
   }
  }
 ],
 "metadata": {
  "kernelspec": {
   "display_name": "Python 3",
   "language": "python",
   "name": "python3"
  },
  "language_info": {
   "codemirror_mode": {
    "name": "ipython",
    "version": 2
   },
   "file_extension": ".py",
   "mimetype": "text/x-python",
   "name": "python",
   "nbconvert_exporter": "python",
   "pygments_lexer": "ipython2",
   "version": "2.7.6"
  }
 },
 "nbformat": 4,
 "nbformat_minor": 0
}