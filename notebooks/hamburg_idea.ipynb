{
 "cells": [
  {
   "cell_type": "markdown",
   "source": [
    "Importing the topic models for the delab topics and checking validity"
   ],
   "metadata": {
    "collapsed": false,
    "pycharm": {
     "name": "#%% md\n"
    }
   }
  },
  {
   "cell_type": "code",
   "execution_count": 8,
   "metadata": {
    "collapsed": true
   },
   "outputs": [
    {
     "name": "stdout",
     "output_type": "stream",
     "text": [
      "   Topic  Count                        Name\n",
      "0     -1     38  -1_nicht_interesse_in_wird\n"
     ]
    }
   ],
   "source": [
    "from bertopic import BERTopic\n",
    "\n",
    "from delab.delab_enums import VERSION, PLATFORM, LANGUAGE\n",
    "from delab.topic.topic_settings import get_bertopic_location, get_embedding_model\n",
    "\n",
    "analysis_version = VERSION.v001\n",
    "platform = PLATFORM.TWITTER\n",
    "train_update_topics = True\n",
    "topic = \"right_wing\"\n",
    "language = LANGUAGE.GERMAN\n",
    "\n",
    "\n",
    "location = \"../\"+ get_bertopic_location(language, version=analysis_version, topic=topic)\n",
    "\n",
    "bertopic_model = BERTopic().load(location,\n",
    "                                 embedding_model=get_embedding_model(language))\n",
    "topic_info = bertopic_model.get_topic_info()\n",
    "print(topic_info)\n"
   ]
  }
 ],
 "metadata": {
  "kernelspec": {
   "display_name": "Python 3",
   "language": "python",
   "name": "python3"
  },
  "language_info": {
   "codemirror_mode": {
    "name": "ipython",
    "version": 2
   },
   "file_extension": ".py",
   "mimetype": "text/x-python",
   "name": "python",
   "nbconvert_exporter": "python",
   "pygments_lexer": "ipython2",
   "version": "2.7.6"
  }
 },
 "nbformat": 4,
 "nbformat_minor": 0
}