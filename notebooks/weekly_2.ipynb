{
 "cells": [
  {
   "cell_type": "markdown",
   "metadata": {
    "collapsed": true,
    "pycharm": {
     "name": "#%% md\n"
    }
   },
   "source": [
    "# Evaluating Topic Distances of Authors in Twitter-Conversations\n",
    "\n",
    "From the project plan this adresses the following tasks:\n",
    "\n",
    "4. Map named entities to word vectors using fasttext and store them in db\n",
    "   - [ ] map entities to word vectors and calculate the hit rate (how many are contained in the fasttext list)\n",
    "   - [ ] (optionally) enhance the fasttext list with the missing vocabulary\n",
    "   - [ ] if the hit rate is too low, use transfer learning to train a model that includes 90% the NERs\n",
    "   - [ ] store the NER for the authors in a separate table in the database with foreign key reference to the authors"
   ]
  },
  {
   "cell_type": "code",
   "execution_count": 1,
   "metadata": {
    "pycharm": {
     "name": "#%%\n"
    }
   },
   "outputs": [
    {
     "name": "stdout",
     "output_type": "stream",
     "text": [
      "using postgres\n"
     ]
    },
    {
     "data": {
      "text/html": [
       "<div>\n",
       "<style scoped>\n",
       "    .dataframe tbody tr th:only-of-type {\n",
       "        vertical-align: middle;\n",
       "    }\n",
       "\n",
       "    .dataframe tbody tr th {\n",
       "        vertical-align: top;\n",
       "    }\n",
       "\n",
       "    .dataframe thead th {\n",
       "        text-align: right;\n",
       "    }\n",
       "</style>\n",
       "<table border=\"1\" class=\"dataframe\">\n",
       "  <thead>\n",
       "    <tr style=\"text-align: right;\">\n",
       "      <th></th>\n",
       "      <th>id</th>\n",
       "      <th>conversation_id</th>\n",
       "      <th>created_at</th>\n",
       "      <th>text</th>\n",
       "      <th>author_id</th>\n",
       "      <th>in_reply_to_user_id</th>\n",
       "    </tr>\n",
       "  </thead>\n",
       "  <tbody>\n",
       "  </tbody>\n",
       "</table>\n",
       "</div>"
      ],
      "text/plain": [
       "Empty DataFrame\n",
       "Columns: [id, conversation_id, created_at, text, author_id, in_reply_to_user_id]\n",
       "Index: []"
      ]
     },
     "execution_count": 1,
     "metadata": {},
     "output_type": "execute_result"
    },
    {
     "name": "stdout",
     "output_type": "stream",
     "text": [
      "using postgres\n"
     ]
    },
    {
     "data": {
      "text/plain": "Empty DataFrame\nColumns: [id, conversation_id, created_at, text, author_id, in_reply_to_user_id]\nIndex: []",
      "text/html": "<div>\n<style scoped>\n    .dataframe tbody tr th:only-of-type {\n        vertical-align: middle;\n    }\n\n    .dataframe tbody tr th {\n        vertical-align: top;\n    }\n\n    .dataframe thead th {\n        text-align: right;\n    }\n</style>\n<table border=\"1\" class=\"dataframe\">\n  <thead>\n    <tr style=\"text-align: right;\">\n      <th></th>\n      <th>id</th>\n      <th>conversation_id</th>\n      <th>created_at</th>\n      <th>text</th>\n      <th>author_id</th>\n      <th>in_reply_to_user_id</th>\n    </tr>\n  </thead>\n  <tbody>\n  </tbody>\n</table>\n</div>"
     },
     "execution_count": 1,
     "metadata": {},
     "output_type": "execute_result"
    }
   ],
   "source": [
    "import sqlite3\n",
    "import pandas as pd\n",
    "\n",
    "# Create your connection.\n",
    "from util.sql_switch import get_query_native\n",
    "\n",
    "df = get_query_native(\n",
    "    \"SELECT id, conversation_id, created_at, text, author_id,in_reply_to_user_id FROM delab_timeline WHERE lang='en'\")\n",
    "df.head(3)"
   ]
  },
  {
   "cell_type": "code",
   "execution_count": 2,
   "metadata": {
    "pycharm": {
     "name": "#%%\n"
    }
   },
   "outputs": [
    {
     "data": {
      "text/plain": "Series([], dtype: float64)"
     },
     "execution_count": 2,
     "metadata": {},
     "output_type": "execute_result"
    }
   ],
   "source": [
    "df_reduced = df[[\"author_id\", \"text\", \"id\"]]\n",
    "#df_reduced = df_reduced.groupby('author_id')\n",
    "# df_reduced.count()\n",
    "\n",
    "df_reshaped = df_reduced.pivot(index=\"id\", columns=\"author_id\", values=\"text\")\n",
    "mask = 400 > df_reshaped.nunique()\n",
    "mask = mask[mask == True]\n",
    "df_reshaped.drop(columns=mask.index, inplace=True)\n",
    "df_reshaped.nunique()  # the number of tweets of the authors that have more then 400 tweets"
   ]
  },
  {
   "cell_type": "markdown",
   "metadata": {},
   "source": [
    "The following takes the pandas dataframe and converts it to a dictionary with the author ids as keys and the twitter\n",
    "corpora as values."
   ]
  },
  {
   "cell_type": "code",
   "execution_count": 3,
   "metadata": {
    "pycharm": {
     "name": "#%%\n"
    }
   },
   "outputs": [
    {
     "ename": "StopIteration",
     "evalue": "",
     "output_type": "error",
     "traceback": [
      "\u001B[0;31m---------------------------------------------------------------------------\u001B[0m",
      "\u001B[0;31mStopIteration\u001B[0m                             Traceback (most recent call last)",
      "\u001B[0;32m/tmp/ipykernel_39498/474898722.py\u001B[0m in \u001B[0;36m<module>\u001B[0;34m\u001B[0m\n\u001B[1;32m      5\u001B[0m     \u001B[0mauthor_corpora_cleaned\u001B[0m\u001B[0;34m[\u001B[0m\u001B[0mauthor_id\u001B[0m\u001B[0;34m]\u001B[0m \u001B[0;34m=\u001B[0m \u001B[0mtweets\u001B[0m\u001B[0;34m.\u001B[0m\u001B[0mdropna\u001B[0m\u001B[0;34m(\u001B[0m\u001B[0;34m)\u001B[0m\u001B[0;34m\u001B[0m\u001B[0;34m\u001B[0m\u001B[0m\n\u001B[1;32m      6\u001B[0m \u001B[0;34m\u001B[0m\u001B[0m\n\u001B[0;32m----> 7\u001B[0;31m \u001B[0mexample_corpus\u001B[0m \u001B[0;34m=\u001B[0m \u001B[0mauthor_corpora_cleaned\u001B[0m\u001B[0;34m[\u001B[0m\u001B[0mnext\u001B[0m\u001B[0;34m(\u001B[0m\u001B[0miter\u001B[0m\u001B[0;34m(\u001B[0m\u001B[0mauthor_corpora\u001B[0m\u001B[0;34m)\u001B[0m\u001B[0;34m)\u001B[0m\u001B[0;34m]\u001B[0m\u001B[0;34m\u001B[0m\u001B[0;34m\u001B[0m\u001B[0m\n\u001B[0m\u001B[1;32m      8\u001B[0m \u001B[0mexample_corpus\u001B[0m\u001B[0;34m\u001B[0m\u001B[0;34m\u001B[0m\u001B[0m\n\u001B[1;32m      9\u001B[0m \u001B[0;34m\u001B[0m\u001B[0m\n",
      "\u001B[0;31mStopIteration\u001B[0m: "
     ]
    }
   ],
   "source": [
    "#df_reshaped.shape\n",
    "author_corpora_cleaned = {}\n",
    "author_corpora = df_reshaped.to_dict(orient=\"series\")\n",
    "for author_id, tweets in author_corpora.items():\n",
    "    author_corpora_cleaned[author_id] = tweets.dropna()\n",
    "\n",
    "example_corpus = author_corpora_cleaned[next(iter(author_corpora))]\n",
    "example_corpus"
   ]
  },
  {
   "cell_type": "markdown",
   "metadata": {
    "pycharm": {
     "name": "#%% md\n"
    }
   },
   "source": [
    "The first step is to evaluate how many out-of-vocabulary words we have in the authors' tweets."
   ]
  },
  {
   "cell_type": "markdown",
   "metadata": {
    "pycharm": {
     "is_executing": true,
     "name": "#%% md\n"
    }
   },
   "source": [
    "```python\n",
    "import fasttext.util\n",
    "# fasttext.load_model('cc.en.300.bin') # comment this in instead of the next line, if you are not Julian\n",
    "ft = fasttext.load_model('/home/julian/nltk_data/fasttext/cc.de.300.bin')\n",
    "\n",
    "author_words_uncleaned = []\n",
    "n_words_in_voc = 0\n",
    "for author, a_tweets in author_corpora_cleaned.items():\n",
    "    for a_tweet in a_tweets:\n",
    "        for word in a_tweet.split(\" \"):\n",
    "            author_words_uncleaned.append(word)\n",
    "\n",
    "for word in author_words_uncleaned:\n",
    "    if word in ft.words:\n",
    "        n_words_in_voc += 1\n",
    "\n",
    "n_words = len(author_words_uncleaned)\n",
    "print(\"{}% of uncleaned words are in the embedding vocabulary\".format((n_words_in_voc/n_words))*100)\n",
    "```\n",
    "\n",
    "Actually, for memory reasons I had to run this outside of Jupyter notebook\n",
    "\n",
    "100%|██████████| 99225/99225 [11:27<00:00, 144.33it/s]\n",
    "The accuracy, that uncleaned words are in the embedding vocabulary is 0.7420710506424792. This allows us\n",
    "to use the tweets as input directly.\n"
   ]
  }
 ],
 "metadata": {
  "kernelspec": {
   "display_name": "Python 3 (ipykernel)",
   "language": "python",
   "name": "python3"
  },
  "language_info": {
   "codemirror_mode": {
    "name": "ipython",
    "version": 3
   },
   "file_extension": ".py",
   "mimetype": "text/x-python",
   "name": "python",
   "nbconvert_exporter": "python",
   "pygments_lexer": "ipython3",
   "version": "3.8.10"
  }
 },
 "nbformat": 4,
 "nbformat_minor": 1
}