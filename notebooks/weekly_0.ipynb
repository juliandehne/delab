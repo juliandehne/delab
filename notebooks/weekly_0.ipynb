{
 "cells": [
  {
   "cell_type": "markdown",
   "metadata": {},
   "source": [
    "### Evaluate the conversation flows of twitter respond-trees\n",
    "\n",
    "This notebook is a documentation on how particulary damaging tweets might be filtered\n",
    "out by looking at them from a sentiment delta perspective.\n",
    "\n",
    "First we download the data from our database."
   ]
  },
  {
   "cell_type": "code",
   "execution_count": 9,
   "metadata": {},
   "outputs": [
    {
     "name": "stdout",
     "output_type": "stream",
     "text": [
      "using postgres\n"
     ]
    },
    {
     "data": {
      "text/html": [
       "<div>\n",
       "<style scoped>\n",
       "    .dataframe tbody tr th:only-of-type {\n",
       "        vertical-align: middle;\n",
       "    }\n",
       "\n",
       "    .dataframe tbody tr th {\n",
       "        vertical-align: top;\n",
       "    }\n",
       "\n",
       "    .dataframe thead th {\n",
       "        text-align: right;\n",
       "    }\n",
       "</style>\n",
       "<table border=\"1\" class=\"dataframe\">\n",
       "  <thead>\n",
       "    <tr style=\"text-align: right;\">\n",
       "      <th></th>\n",
       "      <th>id</th>\n",
       "      <th>conversation_id</th>\n",
       "      <th>sentiment</th>\n",
       "      <th>sentiment_value</th>\n",
       "      <th>created_at</th>\n",
       "      <th>tn_level</th>\n",
       "      <th>tn_order</th>\n",
       "    </tr>\n",
       "  </thead>\n",
       "  <tbody>\n",
       "    <tr>\n",
       "      <th>0</th>\n",
       "      <td>7872</td>\n",
       "      <td>1451543608398651395</td>\n",
       "      <td>negative</td>\n",
       "      <td>-2.161735</td>\n",
       "      <td>2021-10-22 13:49:55+00:00</td>\n",
       "      <td>2</td>\n",
       "      <td>3091</td>\n",
       "    </tr>\n",
       "    <tr>\n",
       "      <th>1</th>\n",
       "      <td>9727</td>\n",
       "      <td>1451256052205379596</td>\n",
       "      <td>negative</td>\n",
       "      <td>-3.141176</td>\n",
       "      <td>2021-10-22 10:43:06+00:00</td>\n",
       "      <td>4</td>\n",
       "      <td>4945</td>\n",
       "    </tr>\n",
       "    <tr>\n",
       "      <th>2</th>\n",
       "      <td>9721</td>\n",
       "      <td>1451256052205379596</td>\n",
       "      <td>positive</td>\n",
       "      <td>15.692247</td>\n",
       "      <td>2021-10-22 21:02:52+00:00</td>\n",
       "      <td>3</td>\n",
       "      <td>4939</td>\n",
       "    </tr>\n",
       "  </tbody>\n",
       "</table>\n",
       "</div>"
      ],
      "text/plain": [
       "     id      conversation_id sentiment  sentiment_value  \\\n",
       "0  7872  1451543608398651395  negative        -2.161735   \n",
       "1  9727  1451256052205379596  negative        -3.141176   \n",
       "2  9721  1451256052205379596  positive        15.692247   \n",
       "\n",
       "                 created_at  tn_level  tn_order  \n",
       "0 2021-10-22 13:49:55+00:00         2      3091  \n",
       "1 2021-10-22 10:43:06+00:00         4      4945  \n",
       "2 2021-10-22 21:02:52+00:00         3      4939  "
      ]
     },
     "execution_count": 9,
     "metadata": {},
     "output_type": "execute_result"
    }
   ],
   "source": [
    "import pandas as pd\n",
    "\n",
    "from util.sql_switch import get_query_native\n",
    "\n",
    "# Create your connection.\n",
    "\n",
    "\n",
    "df = get_query_native(\n",
    "    \"SELECT id, conversation_id, sentiment,sentiment_value,created_at, tn_level, tn_order FROM delab_tweet where sentiment = 'positive' or sentiment = 'negative'\")\n",
    "\n",
    "df.head(3)"
   ]
  },
  {
   "cell_type": "markdown",
   "metadata": {
    "pycharm": {
     "name": "#%% md\n"
    }
   },
   "source": [
    "The conversation_id corresponds to the twitter field with the same name.  The sentiment values\n",
    "are computed using a neural net and trax, using twitter samples as training data.\n",
    "\n",
    "Depending on the state of the database different length of conversations are downloaded present:"
   ]
  },
  {
   "cell_type": "code",
   "execution_count": 10,
   "metadata": {
    "pycharm": {
     "name": "#%%\n"
    }
   },
   "outputs": [
    {
     "data": {
      "text/plain": [
       "1450956635690704899    797\n",
       "1451230354497495044    773\n",
       "1452436776916762629    490\n",
       "1451362578060431365    245\n",
       "1449411492021825541    239\n",
       "1450672167134408705    236\n",
       "1451256052205379596    182\n",
       "1451251605026787340    176\n",
       "1451543608398651395    140\n",
       "1452459721248620546    133\n",
       "1452360506011013120    111\n",
       "1451380440942751755    101\n",
       "1452612221834600448     71\n",
       "1450428916032749577     70\n",
       "1451526982697689113     50\n",
       "1452509182670909447     40\n",
       "1451378416205242372     31\n",
       "1422614889827225603     25\n",
       "1452425962897948675     21\n",
       "1451470058849554435     19\n",
       "1451404584925085703     12\n",
       "1452642163947409419     10\n",
       "1450525128404705283      1\n",
       "1231                     1\n",
       "Name: conversation_id, dtype: int64"
      ]
     },
     "execution_count": 10,
     "metadata": {},
     "output_type": "execute_result"
    }
   ],
   "source": [
    "df['conversation_id'].value_counts()\n",
    "\n"
   ]
  },
  {
   "cell_type": "markdown",
   "metadata": {
    "pycharm": {
     "name": "#%% md\n"
    }
   },
   "source": [
    "Next we group the data by the conversation_id.\n",
    "\n"
   ]
  },
  {
   "cell_type": "code",
   "execution_count": 11,
   "metadata": {
    "pycharm": {
     "name": "#%%\n"
    }
   },
   "outputs": [
    {
     "data": {
      "text/html": [
       "<div>\n",
       "<style scoped>\n",
       "    .dataframe tbody tr th:only-of-type {\n",
       "        vertical-align: middle;\n",
       "    }\n",
       "\n",
       "    .dataframe tbody tr th {\n",
       "        vertical-align: top;\n",
       "    }\n",
       "\n",
       "    .dataframe thead th {\n",
       "        text-align: right;\n",
       "    }\n",
       "</style>\n",
       "<table border=\"1\" class=\"dataframe\">\n",
       "  <thead>\n",
       "    <tr style=\"text-align: right;\">\n",
       "      <th></th>\n",
       "      <th>id</th>\n",
       "      <th>conversation_id</th>\n",
       "      <th>sentiment</th>\n",
       "      <th>sentiment_value</th>\n",
       "      <th>created_at</th>\n",
       "      <th>tn_level</th>\n",
       "      <th>tn_order</th>\n",
       "    </tr>\n",
       "  </thead>\n",
       "  <tbody>\n",
       "    <tr>\n",
       "      <th>0</th>\n",
       "      <td>7780</td>\n",
       "      <td>1451543608398651395</td>\n",
       "      <td>negative</td>\n",
       "      <td>-3.239686</td>\n",
       "      <td>2021-10-22 13:38:59+00:00</td>\n",
       "      <td>1</td>\n",
       "      <td>2999</td>\n",
       "    </tr>\n",
       "    <tr>\n",
       "      <th>1</th>\n",
       "      <td>7960</td>\n",
       "      <td>1451543608398651395</td>\n",
       "      <td>positive</td>\n",
       "      <td>15.765659</td>\n",
       "      <td>2021-10-22 13:39:35+00:00</td>\n",
       "      <td>2</td>\n",
       "      <td>3179</td>\n",
       "    </tr>\n",
       "    <tr>\n",
       "      <th>2</th>\n",
       "      <td>7959</td>\n",
       "      <td>1451543608398651395</td>\n",
       "      <td>positive</td>\n",
       "      <td>1.217691</td>\n",
       "      <td>2021-10-22 13:40:30+00:00</td>\n",
       "      <td>2</td>\n",
       "      <td>3178</td>\n",
       "    </tr>\n",
       "    <tr>\n",
       "      <th>3</th>\n",
       "      <td>7958</td>\n",
       "      <td>1451543608398651395</td>\n",
       "      <td>negative</td>\n",
       "      <td>-3.650880</td>\n",
       "      <td>2021-10-22 13:40:31+00:00</td>\n",
       "      <td>2</td>\n",
       "      <td>3177</td>\n",
       "    </tr>\n",
       "    <tr>\n",
       "      <th>4</th>\n",
       "      <td>7957</td>\n",
       "      <td>1451543608398651395</td>\n",
       "      <td>positive</td>\n",
       "      <td>22.665104</td>\n",
       "      <td>2021-10-22 13:40:58+00:00</td>\n",
       "      <td>2</td>\n",
       "      <td>3176</td>\n",
       "    </tr>\n",
       "  </tbody>\n",
       "</table>\n",
       "</div>"
      ],
      "text/plain": [
       "     id      conversation_id sentiment  sentiment_value  \\\n",
       "0  7780  1451543608398651395  negative        -3.239686   \n",
       "1  7960  1451543608398651395  positive        15.765659   \n",
       "2  7959  1451543608398651395  positive         1.217691   \n",
       "3  7958  1451543608398651395  negative        -3.650880   \n",
       "4  7957  1451543608398651395  positive        22.665104   \n",
       "\n",
       "                 created_at  tn_level  tn_order  \n",
       "0 2021-10-22 13:38:59+00:00         1      2999  \n",
       "1 2021-10-22 13:39:35+00:00         2      3179  \n",
       "2 2021-10-22 13:40:30+00:00         2      3178  \n",
       "3 2021-10-22 13:40:31+00:00         2      3177  \n",
       "4 2021-10-22 13:40:58+00:00         2      3176  "
      ]
     },
     "execution_count": 11,
     "metadata": {},
     "output_type": "execute_result"
    }
   ],
   "source": [
    "example_id = df.at[0, 'conversation_id']  # select the first conversation as an example\n",
    "# df_subset = df[~df.sentiment_value.isnull()]\n",
    "df_subset = df[df.conversation_id == example_id]\n",
    "df_subset = df_subset.sort_values(by=['created_at'])\n",
    "df_subset.reset_index(drop=True, inplace=True)\n",
    "df_subset.head(5)"
   ]
  },
  {
   "cell_type": "markdown",
   "metadata": {
    "pycharm": {
     "name": "#%% md\n"
    }
   },
   "source": [
    "Now we are using rolling mean to get a better idea of significant changes.\n",
    "The rolling mean looks at a windows n (here 3) tweets and smoothens the curve accordingly:\n",
    "https://en.wikipedia.org/wiki/Moving_average"
   ]
  },
  {
   "cell_type": "code",
   "execution_count": 12,
   "metadata": {
    "pycharm": {
     "name": "#%%\n"
    }
   },
   "outputs": [
    {
     "data": {
      "text/html": [
       "<div>\n",
       "<style scoped>\n",
       "    .dataframe tbody tr th:only-of-type {\n",
       "        vertical-align: middle;\n",
       "    }\n",
       "\n",
       "    .dataframe tbody tr th {\n",
       "        vertical-align: top;\n",
       "    }\n",
       "\n",
       "    .dataframe thead th {\n",
       "        text-align: right;\n",
       "    }\n",
       "</style>\n",
       "<table border=\"1\" class=\"dataframe\">\n",
       "  <thead>\n",
       "    <tr style=\"text-align: right;\">\n",
       "      <th></th>\n",
       "      <th>id</th>\n",
       "      <th>conversation_id</th>\n",
       "      <th>sentiment</th>\n",
       "      <th>sentiment_value</th>\n",
       "      <th>created_at</th>\n",
       "      <th>tn_level</th>\n",
       "      <th>tn_order</th>\n",
       "      <th>rolling_sentiment</th>\n",
       "    </tr>\n",
       "  </thead>\n",
       "  <tbody>\n",
       "    <tr>\n",
       "      <th>0</th>\n",
       "      <td>7780</td>\n",
       "      <td>1451543608398651395</td>\n",
       "      <td>negative</td>\n",
       "      <td>-3.239686</td>\n",
       "      <td>2021-10-22 13:38:59+00:00</td>\n",
       "      <td>1</td>\n",
       "      <td>2999</td>\n",
       "      <td>NaN</td>\n",
       "    </tr>\n",
       "    <tr>\n",
       "      <th>1</th>\n",
       "      <td>7960</td>\n",
       "      <td>1451543608398651395</td>\n",
       "      <td>positive</td>\n",
       "      <td>15.765659</td>\n",
       "      <td>2021-10-22 13:39:35+00:00</td>\n",
       "      <td>2</td>\n",
       "      <td>3179</td>\n",
       "      <td>NaN</td>\n",
       "    </tr>\n",
       "    <tr>\n",
       "      <th>2</th>\n",
       "      <td>7959</td>\n",
       "      <td>1451543608398651395</td>\n",
       "      <td>positive</td>\n",
       "      <td>1.217691</td>\n",
       "      <td>2021-10-22 13:40:30+00:00</td>\n",
       "      <td>2</td>\n",
       "      <td>3178</td>\n",
       "      <td>4.581221</td>\n",
       "    </tr>\n",
       "    <tr>\n",
       "      <th>3</th>\n",
       "      <td>7958</td>\n",
       "      <td>1451543608398651395</td>\n",
       "      <td>negative</td>\n",
       "      <td>-3.650880</td>\n",
       "      <td>2021-10-22 13:40:31+00:00</td>\n",
       "      <td>2</td>\n",
       "      <td>3177</td>\n",
       "      <td>4.444157</td>\n",
       "    </tr>\n",
       "    <tr>\n",
       "      <th>4</th>\n",
       "      <td>7957</td>\n",
       "      <td>1451543608398651395</td>\n",
       "      <td>positive</td>\n",
       "      <td>22.665104</td>\n",
       "      <td>2021-10-22 13:40:58+00:00</td>\n",
       "      <td>2</td>\n",
       "      <td>3176</td>\n",
       "      <td>6.743972</td>\n",
       "    </tr>\n",
       "  </tbody>\n",
       "</table>\n",
       "</div>"
      ],
      "text/plain": [
       "     id      conversation_id sentiment  sentiment_value  \\\n",
       "0  7780  1451543608398651395  negative        -3.239686   \n",
       "1  7960  1451543608398651395  positive        15.765659   \n",
       "2  7959  1451543608398651395  positive         1.217691   \n",
       "3  7958  1451543608398651395  negative        -3.650880   \n",
       "4  7957  1451543608398651395  positive        22.665104   \n",
       "\n",
       "                 created_at  tn_level  tn_order  rolling_sentiment  \n",
       "0 2021-10-22 13:38:59+00:00         1      2999                NaN  \n",
       "1 2021-10-22 13:39:35+00:00         2      3179                NaN  \n",
       "2 2021-10-22 13:40:30+00:00         2      3178           4.581221  \n",
       "3 2021-10-22 13:40:31+00:00         2      3177           4.444157  \n",
       "4 2021-10-22 13:40:58+00:00         2      3176           6.743972  "
      ]
     },
     "execution_count": 12,
     "metadata": {},
     "output_type": "execute_result"
    }
   ],
   "source": [
    "rolling_column = df_subset['sentiment_value'].rolling(3).mean()\n",
    "df_subset = df_subset.assign(rolling_sentiment=rolling_column)\n",
    "df_subset.head(5)"
   ]
  },
  {
   "cell_type": "markdown",
   "metadata": {
    "pycharm": {
     "name": "#%% md\n"
    }
   },
   "source": [
    "### Plotting the rolling average to highlight extreme posts\n",
    "\n",
    "We use the index as x_axis and the rolling average of the sentiment value as y.\n",
    "This is the graph that is displayed in the proof-of-concept website."
   ]
  },
  {
   "cell_type": "code",
   "execution_count": 13,
   "metadata": {
    "pycharm": {
     "name": "#%%\n"
    }
   },
   "outputs": [
    {
     "data": {
      "image/png": "[encoded data removed]",
      "text/plain": [
       "<Figure size 432x288 with 1 Axes>"
      ]
     },
     "metadata": {
      "needs_background": "light"
     },
     "output_type": "display_data"
    }
   ],
   "source": [
    "plot = df_subset.plot(y=['rolling_sentiment', 'sentiment_value'], use_index=True)\n",
    "plot.get_figure().savefig('rolling_sentiment.png')"
   ]
  },
  {
   "cell_type": "markdown",
   "metadata": {
    "pycharm": {
     "name": "#%% md\n"
    }
   },
   "source": [
    "In order to find out candidates with the highest impact we can look at the differentials.\n",
    "\n",
    "$$ candidate_{conv} = \\arg\\max_{x\\in n}(x_{n+1}-x_n) \\land |conv| = n  $$\n",
    "\n",
    "We can already see the issue that very early tweets or the last ones are not defined by this."
   ]
  },
  {
   "cell_type": "code",
   "execution_count": 14,
   "metadata": {
    "pycharm": {
     "name": "#%%\n"
    }
   },
   "outputs": [
    {
     "data": {
      "text/html": [
       "<div>\n",
       "<style scoped>\n",
       "    .dataframe tbody tr th:only-of-type {\n",
       "        vertical-align: middle;\n",
       "    }\n",
       "\n",
       "    .dataframe tbody tr th {\n",
       "        vertical-align: top;\n",
       "    }\n",
       "\n",
       "    .dataframe thead th {\n",
       "        text-align: right;\n",
       "    }\n",
       "</style>\n",
       "<table border=\"1\" class=\"dataframe\">\n",
       "  <thead>\n",
       "    <tr style=\"text-align: right;\">\n",
       "      <th></th>\n",
       "      <th>id</th>\n",
       "      <th>conversation_id</th>\n",
       "      <th>sentiment</th>\n",
       "      <th>sentiment_value</th>\n",
       "      <th>created_at</th>\n",
       "      <th>tn_level</th>\n",
       "      <th>tn_order</th>\n",
       "      <th>rolling_sentiment</th>\n",
       "      <th>rolling_deltas</th>\n",
       "    </tr>\n",
       "  </thead>\n",
       "  <tbody>\n",
       "    <tr>\n",
       "      <th>0</th>\n",
       "      <td>7780</td>\n",
       "      <td>1451543608398651395</td>\n",
       "      <td>negative</td>\n",
       "      <td>-3.239686</td>\n",
       "      <td>2021-10-22 13:38:59+00:00</td>\n",
       "      <td>1</td>\n",
       "      <td>2999</td>\n",
       "      <td>NaN</td>\n",
       "      <td>NaN</td>\n",
       "    </tr>\n",
       "    <tr>\n",
       "      <th>1</th>\n",
       "      <td>7960</td>\n",
       "      <td>1451543608398651395</td>\n",
       "      <td>positive</td>\n",
       "      <td>15.765659</td>\n",
       "      <td>2021-10-22 13:39:35+00:00</td>\n",
       "      <td>2</td>\n",
       "      <td>3179</td>\n",
       "      <td>NaN</td>\n",
       "      <td>NaN</td>\n",
       "    </tr>\n",
       "    <tr>\n",
       "      <th>2</th>\n",
       "      <td>7959</td>\n",
       "      <td>1451543608398651395</td>\n",
       "      <td>positive</td>\n",
       "      <td>1.217691</td>\n",
       "      <td>2021-10-22 13:40:30+00:00</td>\n",
       "      <td>2</td>\n",
       "      <td>3178</td>\n",
       "      <td>4.581221</td>\n",
       "      <td>NaN</td>\n",
       "    </tr>\n",
       "    <tr>\n",
       "      <th>3</th>\n",
       "      <td>7958</td>\n",
       "      <td>1451543608398651395</td>\n",
       "      <td>negative</td>\n",
       "      <td>-3.650880</td>\n",
       "      <td>2021-10-22 13:40:31+00:00</td>\n",
       "      <td>2</td>\n",
       "      <td>3177</td>\n",
       "      <td>4.444157</td>\n",
       "      <td>0.137065</td>\n",
       "    </tr>\n",
       "    <tr>\n",
       "      <th>4</th>\n",
       "      <td>7957</td>\n",
       "      <td>1451543608398651395</td>\n",
       "      <td>positive</td>\n",
       "      <td>22.665104</td>\n",
       "      <td>2021-10-22 13:40:58+00:00</td>\n",
       "      <td>2</td>\n",
       "      <td>3176</td>\n",
       "      <td>6.743972</td>\n",
       "      <td>2.299815</td>\n",
       "    </tr>\n",
       "    <tr>\n",
       "      <th>5</th>\n",
       "      <td>7956</td>\n",
       "      <td>1451543608398651395</td>\n",
       "      <td>negative</td>\n",
       "      <td>-0.285687</td>\n",
       "      <td>2021-10-22 13:41:09+00:00</td>\n",
       "      <td>2</td>\n",
       "      <td>3175</td>\n",
       "      <td>6.242846</td>\n",
       "      <td>0.501126</td>\n",
       "    </tr>\n",
       "    <tr>\n",
       "      <th>6</th>\n",
       "      <td>7944</td>\n",
       "      <td>1451543608398651395</td>\n",
       "      <td>negative</td>\n",
       "      <td>-0.780391</td>\n",
       "      <td>2021-10-22 13:45:02+00:00</td>\n",
       "      <td>2</td>\n",
       "      <td>3163</td>\n",
       "      <td>7.199675</td>\n",
       "      <td>0.956830</td>\n",
       "    </tr>\n",
       "    <tr>\n",
       "      <th>7</th>\n",
       "      <td>7943</td>\n",
       "      <td>1451543608398651395</td>\n",
       "      <td>positive</td>\n",
       "      <td>1.813662</td>\n",
       "      <td>2021-10-22 13:45:10+00:00</td>\n",
       "      <td>2</td>\n",
       "      <td>3162</td>\n",
       "      <td>0.249195</td>\n",
       "      <td>6.950481</td>\n",
       "    </tr>\n",
       "    <tr>\n",
       "      <th>8</th>\n",
       "      <td>7942</td>\n",
       "      <td>1451543608398651395</td>\n",
       "      <td>negative</td>\n",
       "      <td>-17.170437</td>\n",
       "      <td>2021-10-22 13:45:23+00:00</td>\n",
       "      <td>2</td>\n",
       "      <td>3161</td>\n",
       "      <td>-5.379055</td>\n",
       "      <td>5.628250</td>\n",
       "    </tr>\n",
       "    <tr>\n",
       "      <th>9</th>\n",
       "      <td>7941</td>\n",
       "      <td>1451543608398651395</td>\n",
       "      <td>negative</td>\n",
       "      <td>-4.399145</td>\n",
       "      <td>2021-10-22 13:45:42+00:00</td>\n",
       "      <td>2</td>\n",
       "      <td>3160</td>\n",
       "      <td>-6.585307</td>\n",
       "      <td>1.206251</td>\n",
       "    </tr>\n",
       "  </tbody>\n",
       "</table>\n",
       "</div>"
      ],
      "text/plain": [
       "     id      conversation_id sentiment  sentiment_value  \\\n",
       "0  7780  1451543608398651395  negative        -3.239686   \n",
       "1  7960  1451543608398651395  positive        15.765659   \n",
       "2  7959  1451543608398651395  positive         1.217691   \n",
       "3  7958  1451543608398651395  negative        -3.650880   \n",
       "4  7957  1451543608398651395  positive        22.665104   \n",
       "5  7956  1451543608398651395  negative        -0.285687   \n",
       "6  7944  1451543608398651395  negative        -0.780391   \n",
       "7  7943  1451543608398651395  positive         1.813662   \n",
       "8  7942  1451543608398651395  negative       -17.170437   \n",
       "9  7941  1451543608398651395  negative        -4.399145   \n",
       "\n",
       "                 created_at  tn_level  tn_order  rolling_sentiment  \\\n",
       "0 2021-10-22 13:38:59+00:00         1      2999                NaN   \n",
       "1 2021-10-22 13:39:35+00:00         2      3179                NaN   \n",
       "2 2021-10-22 13:40:30+00:00         2      3178           4.581221   \n",
       "3 2021-10-22 13:40:31+00:00         2      3177           4.444157   \n",
       "4 2021-10-22 13:40:58+00:00         2      3176           6.743972   \n",
       "5 2021-10-22 13:41:09+00:00         2      3175           6.242846   \n",
       "6 2021-10-22 13:45:02+00:00         2      3163           7.199675   \n",
       "7 2021-10-22 13:45:10+00:00         2      3162           0.249195   \n",
       "8 2021-10-22 13:45:23+00:00         2      3161          -5.379055   \n",
       "9 2021-10-22 13:45:42+00:00         2      3160          -6.585307   \n",
       "\n",
       "   rolling_deltas  \n",
       "0             NaN  \n",
       "1             NaN  \n",
       "2             NaN  \n",
       "3        0.137065  \n",
       "4        2.299815  \n",
       "5        0.501126  \n",
       "6        0.956830  \n",
       "7        6.950481  \n",
       "8        5.628250  \n",
       "9        1.206251  "
      ]
     },
     "execution_count": 14,
     "metadata": {},
     "output_type": "execute_result"
    }
   ],
   "source": [
    "diffs = df_subset.rolling_sentiment.diff().abs()\n",
    "#df_subset[\"diffs\"]=diffs\n",
    "df_subset = df_subset.assign(rolling_deltas=diffs)\n",
    "df_subset.head(10)"
   ]
  },
  {
   "cell_type": "markdown",
   "metadata": {
    "pycharm": {
     "name": "#%% md\n"
    }
   },
   "source": [
    "Next we are printing the candidate tweet that changed the dicussion the most based on the sentiment predictions:"
   ]
  },
  {
   "cell_type": "code",
   "execution_count": 15,
   "metadata": {
    "pycharm": {
     "name": "#%%\n"
    }
   },
   "outputs": [
    {
     "name": "stdout",
     "output_type": "stream",
     "text": [
      "using postgres\n"
     ]
    },
    {
     "data": {
      "text/html": [
       "<div>\n",
       "<style scoped>\n",
       "    .dataframe tbody tr th:only-of-type {\n",
       "        vertical-align: middle;\n",
       "    }\n",
       "\n",
       "    .dataframe tbody tr th {\n",
       "        vertical-align: top;\n",
       "    }\n",
       "\n",
       "    .dataframe thead th {\n",
       "        text-align: right;\n",
       "    }\n",
       "</style>\n",
       "<table border=\"1\" class=\"dataframe\">\n",
       "  <thead>\n",
       "    <tr style=\"text-align: right;\">\n",
       "      <th></th>\n",
       "      <th>id</th>\n",
       "      <th>text</th>\n",
       "      <th>sentiment_delta</th>\n",
       "    </tr>\n",
       "  </thead>\n",
       "  <tbody>\n",
       "    <tr>\n",
       "      <th>0</th>\n",
       "      <td>7821</td>\n",
       "      <td>@ChuckCallesto @AltheaOrvis Lord told me in October and November of 2019 that in 2020 a spiritual and natural war would begin with a battle field like we have never seen before and never will again it will continue to encrees every year until LORD coming 🙏.</td>\n",
       "      <td>20.791247</td>\n",
       "    </tr>\n",
       "  </tbody>\n",
       "</table>\n",
       "</div>"
      ],
      "text/plain": [
       "     id  \\\n",
       "0  7821   \n",
       "\n",
       "                                                                                                                                                                                                                                                                text  \\\n",
       "0  @ChuckCallesto @AltheaOrvis Lord told me in October and November of 2019 that in 2020 a spiritual and natural war would begin with a battle field like we have never seen before and never will again it will continue to encrees every year until LORD coming 🙏.   \n",
       "\n",
       "   sentiment_delta  \n",
       "0        20.791247  "
      ]
     },
     "execution_count": 15,
     "metadata": {},
     "output_type": "execute_result"
    }
   ],
   "source": [
    "pd.options.display.max_colwidth = 500  # so we can see the full tweet\n",
    "ix_of_candidate = df_subset.rolling_deltas.argmax() - 1\n",
    "id_of_candidate = df_subset.loc[ix_of_candidate, \"id\"]\n",
    "\n",
    "df_candidate = get_query_native(\"SELECT id, text FROM delab_tweet where id='{}'\".format(id_of_candidate))\n",
    "\n",
    "df_candidate = df_candidate.assign(sentiment_delta=df_subset.iloc[ix_of_candidate + 1].rolling_deltas)\n",
    "#print(df_candidate.text)\n",
    "df_candidate.head()\n"
   ]
  },
  {
   "cell_type": "markdown",
   "metadata": {},
   "source": [
    "### Questions that arise from the data:\n",
    "- Does the tree level (is a tweet answer of an answer of an answer lvl3 ...) matter?\n",
    "- The rolling average leaves NaN for the first n tweets, is that a problem?\n",
    "- How long does the conversation have to be in order for the delta to be significant?\n",
    "- Is the underlying sentiment analysis predictive enough (and accurate enough)?\n",
    "- The rolling average might be biased by the last tweet (as it makes up 100% of the average in the end)\n",
    "- The rolling average might be substituted for a method more suited for lower number of data points"
   ]
  }
 ],
 "metadata": {
  "kernelspec": {
   "display_name": "Python 3 (ipykernel)",
   "language": "python",
   "name": "python3"
  },
  "language_info": {
   "codemirror_mode": {
    "name": "ipython",
    "version": 3
   },
   "file_extension": ".py",
   "mimetype": "text/x-python",
   "name": "python",
   "nbconvert_exporter": "python",
   "pygments_lexer": "ipython3",
   "version": "3.8.10"
  }
 },
 "nbformat": 4,
 "nbformat_minor": 1
}