{
 "cells": [
  {
   "cell_type": "markdown",
   "source": [
    "# Show case for spacy integration\n",
    "\n",
    "First we load the data from the db."
   ],
   "metadata": {
    "collapsed": false,
    "pycharm": {
     "name": "#%% md\n"
    }
   }
  },
  {
   "cell_type": "code",
   "execution_count": 4,
   "outputs": [
    {
     "data": {
      "text/plain": "   id                                               text      conversation_id  \\\n0   1  ☀️ ☀️ We've said it a lot this summer, but if ...  1426273610289848324   \n1   2  @RedCrossCasc @OregonGovBrown @211info Biggest...  1426273610289848324   \n2   3  @RedCrossCasc @OregonGovBrown @211info You are...  1426273610289848324   \n\n  sentiment  sentiment_value           created_at  tn_level  tn_order  \n0  positive         8.078357  2021-08-13 20:05:02         1         0  \n1  negative        -0.479819  2021-08-16 14:43:39         2         1  \n2  positive         0.496286  2021-08-16 14:37:31         2         2  ",
      "text/html": "<div>\n<style scoped>\n    .dataframe tbody tr th:only-of-type {\n        vertical-align: middle;\n    }\n\n    .dataframe tbody tr th {\n        vertical-align: top;\n    }\n\n    .dataframe thead th {\n        text-align: right;\n    }\n</style>\n<table border=\"1\" class=\"dataframe\">\n  <thead>\n    <tr style=\"text-align: right;\">\n      <th></th>\n      <th>id</th>\n      <th>text</th>\n      <th>conversation_id</th>\n      <th>sentiment</th>\n      <th>sentiment_value</th>\n      <th>created_at</th>\n      <th>tn_level</th>\n      <th>tn_order</th>\n    </tr>\n  </thead>\n  <tbody>\n    <tr>\n      <th>0</th>\n      <td>1</td>\n      <td>☀️ ☀️ We've said it a lot this summer, but if ...</td>\n      <td>1426273610289848324</td>\n      <td>positive</td>\n      <td>8.078357</td>\n      <td>2021-08-13 20:05:02</td>\n      <td>1</td>\n      <td>0</td>\n    </tr>\n    <tr>\n      <th>1</th>\n      <td>2</td>\n      <td>@RedCrossCasc @OregonGovBrown @211info Biggest...</td>\n      <td>1426273610289848324</td>\n      <td>negative</td>\n      <td>-0.479819</td>\n      <td>2021-08-16 14:43:39</td>\n      <td>2</td>\n      <td>1</td>\n    </tr>\n    <tr>\n      <th>2</th>\n      <td>3</td>\n      <td>@RedCrossCasc @OregonGovBrown @211info You are...</td>\n      <td>1426273610289848324</td>\n      <td>positive</td>\n      <td>0.496286</td>\n      <td>2021-08-16 14:37:31</td>\n      <td>2</td>\n      <td>2</td>\n    </tr>\n  </tbody>\n</table>\n</div>"
     },
     "execution_count": 4,
     "metadata": {},
     "output_type": "execute_result"
    }
   ],
   "source": [
    "import sqlite3\n",
    "import pandas as pd\n",
    "\n",
    "# Create your connection.\n",
    "cnx = sqlite3.connect('db.sqlite3')\n",
    "\n",
    "df = pd.read_sql_query(\n",
    "    \"SELECT id, text, conversation_id, sentiment,sentiment_value,created_at, tn_level, tn_order FROM delab_tweet where sentiment = 'positive' or sentiment = 'negative'\", cnx)\n",
    "\n",
    "df.head(3)"
   ],
   "metadata": {
    "collapsed": false,
    "pycharm": {
     "name": "#%%\n"
    }
   }
  },
  {
   "cell_type": "code",
   "execution_count": 20,
   "metadata": {
    "collapsed": true
   },
   "outputs": [
    {
     "name": "stdout",
     "output_type": "stream",
     "text": [
      "We went for the Berlin route of not caring about which cloth to put on.\n",
      "[We went for the Berlin route of not caring about which cloth to put on.]\n",
      "[Berlin]\n"
     ]
    }
   ],
   "source": [
    "import spacy\n",
    "\n",
    "# load without NER\n",
    "nlp = spacy.load(\"en_core_web_sm\")\n",
    "\n",
    "# source NER from the same pipeline package as the last component\n",
    "# nlp.add_pipe(\"ner\", source=spacy.load(\"en_core_web_sm\"))\n",
    "\n",
    "# insert the entity ruler\n",
    "# nlp.add_pipe(\"entity_ruler\", before=\"ner\")\n",
    "\n",
    "# example_text = df.loc[3,\"text\"]\n",
    "example_text = \"We went for the Berlin route of not caring about which cloth to put on.\"\n",
    "print(example_text)\n",
    "\n",
    "doc = nlp(example_text)\n",
    "sentences = list(doc.sents)\n",
    "print(sentences)\n",
    "print(sentences[0].ents)"
   ]
  }
 ],
 "metadata": {
  "kernelspec": {
   "display_name": "Python 3",
   "language": "python",
   "name": "python3"
  },
  "language_info": {
   "codemirror_mode": {
    "name": "ipython",
    "version": 2
   },
   "file_extension": ".py",
   "mimetype": "text/x-python",
   "name": "python",
   "nbconvert_exporter": "python",
   "pygments_lexer": "ipython2",
   "version": "2.7.6"
  }
 },
 "nbformat": 4,
 "nbformat_minor": 0
}