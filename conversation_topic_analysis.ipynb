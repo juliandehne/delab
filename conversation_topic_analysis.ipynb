{
 "cells": [
  {
   "cell_type": "code",
   "execution_count": 16,
   "metadata": {
    "collapsed": true
   },
   "outputs": [
    {
     "data": {
      "text/plain": "   id      conversation_id           created_at  \\\n0   1  1426273610289848324  2021-08-13 20:05:02   \n1   2  1426273610289848324  2021-08-16 14:43:39   \n2   3  1426273610289848324  2021-08-16 14:37:31   \n\n                                                text  tn_level  tn_order  \n0  ☀️ ☀️ We've said it a lot this summer, but if ...         1         0  \n1  @RedCrossCasc @OregonGovBrown @211info Biggest...         2         1  \n2  @RedCrossCasc @OregonGovBrown @211info You are...         2         2  ",
      "text/html": "<div>\n<style scoped>\n    .dataframe tbody tr th:only-of-type {\n        vertical-align: middle;\n    }\n\n    .dataframe tbody tr th {\n        vertical-align: top;\n    }\n\n    .dataframe thead th {\n        text-align: right;\n    }\n</style>\n<table border=\"1\" class=\"dataframe\">\n  <thead>\n    <tr style=\"text-align: right;\">\n      <th></th>\n      <th>id</th>\n      <th>conversation_id</th>\n      <th>created_at</th>\n      <th>text</th>\n      <th>tn_level</th>\n      <th>tn_order</th>\n    </tr>\n  </thead>\n  <tbody>\n    <tr>\n      <th>0</th>\n      <td>1</td>\n      <td>1426273610289848324</td>\n      <td>2021-08-13 20:05:02</td>\n      <td>☀️ ☀️ We've said it a lot this summer, but if ...</td>\n      <td>1</td>\n      <td>0</td>\n    </tr>\n    <tr>\n      <th>1</th>\n      <td>2</td>\n      <td>1426273610289848324</td>\n      <td>2021-08-16 14:43:39</td>\n      <td>@RedCrossCasc @OregonGovBrown @211info Biggest...</td>\n      <td>2</td>\n      <td>1</td>\n    </tr>\n    <tr>\n      <th>2</th>\n      <td>3</td>\n      <td>1426273610289848324</td>\n      <td>2021-08-16 14:37:31</td>\n      <td>@RedCrossCasc @OregonGovBrown @211info You are...</td>\n      <td>2</td>\n      <td>2</td>\n    </tr>\n  </tbody>\n</table>\n</div>"
     },
     "execution_count": 16,
     "metadata": {},
     "output_type": "execute_result"
    }
   ],
   "source": [
    "import sqlite3\n",
    "import pandas as pd\n",
    "from twitter.nlp_util import process_tweet\n",
    "\n",
    "# Create your connection.\n",
    "cnx = sqlite3.connect('db.sqlite3')\n",
    "\n",
    "df = pd.read_sql_query(\n",
    "    \"SELECT id, conversation_id, created_at, text, tn_level, tn_order FROM delab_tweet\", cnx)\n",
    "\n",
    "df.head(3)"
   ]
  },
  {
   "cell_type": "markdown",
   "source": [
    "We are now tokenizing the texts the same as in the sentiment analysis."
   ],
   "metadata": {
    "collapsed": false,
    "pycharm": {
     "name": "#%% md\n"
    }
   }
  },
  {
   "cell_type": "code",
   "execution_count": 18,
   "outputs": [
    {
     "data": {
      "text/plain": "0    [☀, ️, ☀, ️, we'v, said, lot, summer, home, ge...\n1    [biggest, scandal, world, oregonian, histori, ...\n2    [lie, delta, proof, ..., ask, governor, take, ...\nName: text, dtype: object"
     },
     "execution_count": 18,
     "metadata": {},
     "output_type": "execute_result"
    }
   ],
   "source": [
    "processed_texts = df[\"text\"].apply(lambda x: process_tweet(x))\n",
    "processed_texts.head(3)"
   ],
   "metadata": {
    "collapsed": false,
    "pycharm": {
     "name": "#%%\n"
    }
   }
  }
 ],
 "metadata": {
  "kernelspec": {
   "display_name": "Python 3",
   "language": "python",
   "name": "python3"
  },
  "language_info": {
   "codemirror_mode": {
    "name": "ipython",
    "version": 2
   },
   "file_extension": ".py",
   "mimetype": "text/x-python",
   "name": "python",
   "nbconvert_exporter": "python",
   "pygments_lexer": "ipython2",
   "version": "2.7.6"
  }
 },
 "nbformat": 4,
 "nbformat_minor": 0
}