{
 "cells": [
  {
   "cell_type": "markdown",
   "metadata": {
    "pycharm": {
     "name": "#%% md\n"
    }
   },
   "source": [
    "# Comparing Automatic Measures and User Labels for Moderation Tweets\n"
   ]
  },
  {
   "cell_type": "code",
   "execution_count": 1,
   "metadata": {
    "collapsed": true
   },
   "outputs": [
    {
     "name": "stdout",
     "output_type": "stream",
     "text": [
      "using postgres\n"
     ]
    },
    {
     "data": {
      "text/plain": "     id  exp_id  moderator_index  coder_id  tweet_id  \\\n0  2404  v0.0.2         1.126648         2     30224   \n1  2371  v0.0.2         1.175457         2     22902   \n\n   c_author_number_changed_norm  c_author_topic_variance_norm  \\\n0                      0.714286                           0.0   \n1                      0.671429                           0.0   \n\n   c_sentiment_value_norm coded_by_id  sentiment_value_norm  \\\n0                0.472415        None              0.060052   \n1                0.571128        None              0.067099   \n\n   u_author_topic_variance_rating  u_moderator_rating  u_sentiment_rating  \\\n0                               0                  -2                  -2   \n1                              -2                  -2                  -2   \n\n  platform  \\\n0  twitter   \n1  twitter   \n\n                                                                                                                                                                                                                                                    text  \n0  @donut1987 @LetsShootShow @McDonaldsDENews This is not true at all. Most people that die of COVID die because they were eating McDonald's their entire lives, but I know discussing with somebody with 3 jabs and a mask in their profile is useless.  \n1                                       @PoliticsJOE_UK @AnnaMcMorrin Why isn’t the media reporting and driving these horrific facts?….Instead the majority are being fed these poor people are economic migrants…! Who are controlling media narrative?  ",
      "text/html": "<div>\n<style scoped>\n    .dataframe tbody tr th:only-of-type {\n        vertical-align: middle;\n    }\n\n    .dataframe tbody tr th {\n        vertical-align: top;\n    }\n\n    .dataframe thead th {\n        text-align: right;\n    }\n</style>\n<table border=\"1\" class=\"dataframe\">\n  <thead>\n    <tr style=\"text-align: right;\">\n      <th></th>\n      <th>id</th>\n      <th>exp_id</th>\n      <th>moderator_index</th>\n      <th>coder_id</th>\n      <th>tweet_id</th>\n      <th>c_author_number_changed_norm</th>\n      <th>c_author_topic_variance_norm</th>\n      <th>c_sentiment_value_norm</th>\n      <th>coded_by_id</th>\n      <th>sentiment_value_norm</th>\n      <th>u_author_topic_variance_rating</th>\n      <th>u_moderator_rating</th>\n      <th>u_sentiment_rating</th>\n      <th>platform</th>\n      <th>text</th>\n    </tr>\n  </thead>\n  <tbody>\n    <tr>\n      <th>0</th>\n      <td>2404</td>\n      <td>v0.0.2</td>\n      <td>1.126648</td>\n      <td>2</td>\n      <td>30224</td>\n      <td>0.714286</td>\n      <td>0.0</td>\n      <td>0.472415</td>\n      <td>None</td>\n      <td>0.060052</td>\n      <td>0</td>\n      <td>-2</td>\n      <td>-2</td>\n      <td>twitter</td>\n      <td>@donut1987 @LetsShootShow @McDonaldsDENews This is not true at all. Most people that die of COVID die because they were eating McDonald's their entire lives, but I know discussing with somebody with 3 jabs and a mask in their profile is useless.</td>\n    </tr>\n    <tr>\n      <th>1</th>\n      <td>2371</td>\n      <td>v0.0.2</td>\n      <td>1.175457</td>\n      <td>2</td>\n      <td>22902</td>\n      <td>0.671429</td>\n      <td>0.0</td>\n      <td>0.571128</td>\n      <td>None</td>\n      <td>0.067099</td>\n      <td>-2</td>\n      <td>-2</td>\n      <td>-2</td>\n      <td>twitter</td>\n      <td>@PoliticsJOE_UK @AnnaMcMorrin Why isn’t the media reporting and driving these horrific facts?….Instead the majority are being fed these poor people are economic migrants…! Who are controlling media narrative?</td>\n    </tr>\n  </tbody>\n</table>\n</div>"
     },
     "execution_count": 1,
     "metadata": {},
     "output_type": "execute_result"
    }
   ],
   "source": [
    "from util.sql_switch import get_query_native#\n",
    "# from delab.models import PLATFORM\n",
    "\n",
    "# and bertopic_id >= 0\"\n",
    "df = get_query_native(\"SELECT candidate.*,tweet.text from delab_twcandidate candidate join delab_tweet tweet on candidate.tweet_id = tweet.id\")\n",
    "df.head(2)"
   ]
  },
  {
   "cell_type": "code",
   "execution_count": 4,
   "metadata": {
    "pycharm": {
     "name": "#%%\n"
    }
   },
   "outputs": [
    {
     "data": {
      "text/plain": "<pandas.io.formats.style.Styler at 0x7f772e914e20>",
      "text/html": "<style type=\"text/css\">\n#T_d4d15_row0_col0, #T_d4d15_row1_col1, #T_d4d15_row2_col2, #T_d4d15_row3_col3, #T_d4d15_row4_col4, #T_d4d15_row5_col5, #T_d4d15_row6_col6, #T_d4d15_row7_col7 {\n  background-color: #b40426;\n  color: #f1f1f1;\n}\n#T_d4d15_row0_col1, #T_d4d15_row6_col5 {\n  background-color: #c5d6f2;\n  color: #000000;\n}\n#T_d4d15_row0_col2 {\n  background-color: #b7cff9;\n  color: #000000;\n}\n#T_d4d15_row0_col3 {\n  background-color: #f59c7d;\n  color: #000000;\n}\n#T_d4d15_row0_col4, #T_d4d15_row0_col7, #T_d4d15_row2_col6, #T_d4d15_row3_col1, #T_d4d15_row4_col0, #T_d4d15_row4_col2, #T_d4d15_row4_col3, #T_d4d15_row4_col5 {\n  background-color: #3b4cc0;\n  color: #f1f1f1;\n}\n#T_d4d15_row0_col5, #T_d4d15_row1_col3 {\n  background-color: #516ddb;\n  color: #f1f1f1;\n}\n#T_d4d15_row0_col6 {\n  background-color: #4c66d6;\n  color: #f1f1f1;\n}\n#T_d4d15_row1_col0 {\n  background-color: #edd1c2;\n  color: #000000;\n}\n#T_d4d15_row1_col2 {\n  background-color: #4b64d5;\n  color: #f1f1f1;\n}\n#T_d4d15_row1_col4, #T_d4d15_row5_col0 {\n  background-color: #d8dce2;\n  color: #000000;\n}\n#T_d4d15_row1_col5 {\n  background-color: #4a63d3;\n  color: #f1f1f1;\n}\n#T_d4d15_row1_col6 {\n  background-color: #6b8df0;\n  color: #f1f1f1;\n}\n#T_d4d15_row1_col7 {\n  background-color: #7699f6;\n  color: #f1f1f1;\n}\n#T_d4d15_row2_col0, #T_d4d15_row7_col6 {\n  background-color: #f3c8b2;\n  color: #000000;\n}\n#T_d4d15_row2_col1 {\n  background-color: #7b9ff9;\n  color: #f1f1f1;\n}\n#T_d4d15_row2_col3 {\n  background-color: #8db0fe;\n  color: #000000;\n}\n#T_d4d15_row2_col4 {\n  background-color: #bad0f8;\n  color: #000000;\n}\n#T_d4d15_row2_col5 {\n  background-color: #4055c8;\n  color: #f1f1f1;\n}\n#T_d4d15_row2_col7, #T_d4d15_row3_col7 {\n  background-color: #5572df;\n  color: #f1f1f1;\n}\n#T_d4d15_row3_col0 {\n  background-color: #ee8669;\n  color: #f1f1f1;\n}\n#T_d4d15_row3_col2 {\n  background-color: #485fd1;\n  color: #f1f1f1;\n}\n#T_d4d15_row3_col4 {\n  background-color: #7ea1fa;\n  color: #f1f1f1;\n}\n#T_d4d15_row3_col5 {\n  background-color: #4f69d9;\n  color: #f1f1f1;\n}\n#T_d4d15_row3_col6 {\n  background-color: #536edd;\n  color: #f1f1f1;\n}\n#T_d4d15_row4_col1 {\n  background-color: #9dbdff;\n  color: #000000;\n}\n#T_d4d15_row4_col6 {\n  background-color: #5d7ce6;\n  color: #f1f1f1;\n}\n#T_d4d15_row4_col7 {\n  background-color: #aac7fd;\n  color: #000000;\n}\n#T_d4d15_row5_col1 {\n  background-color: #96b7ff;\n  color: #000000;\n}\n#T_d4d15_row5_col2 {\n  background-color: #5f7fe8;\n  color: #f1f1f1;\n}\n#T_d4d15_row5_col3 {\n  background-color: #adc9fd;\n  color: #000000;\n}\n#T_d4d15_row5_col4 {\n  background-color: #ccd9ed;\n  color: #000000;\n}\n#T_d4d15_row5_col6 {\n  background-color: #c7d7f0;\n  color: #000000;\n}\n#T_d4d15_row5_col7, #T_d4d15_row6_col1, #T_d4d15_row6_col3 {\n  background-color: #aec9fc;\n  color: #000000;\n}\n#T_d4d15_row6_col0 {\n  background-color: #d5dbe5;\n  color: #000000;\n}\n#T_d4d15_row6_col2 {\n  background-color: #5673e0;\n  color: #f1f1f1;\n}\n#T_d4d15_row6_col4 {\n  background-color: #dcdddd;\n  color: #000000;\n}\n#T_d4d15_row6_col7 {\n  background-color: #f5c0a7;\n  color: #000000;\n}\n#T_d4d15_row7_col0 {\n  background-color: #bed2f6;\n  color: #000000;\n}\n#T_d4d15_row7_col1 {\n  background-color: #a6c4fe;\n  color: #000000;\n}\n#T_d4d15_row7_col2 {\n  background-color: #5b7ae5;\n  color: #f1f1f1;\n}\n#T_d4d15_row7_col3 {\n  background-color: #9fbfff;\n  color: #000000;\n}\n#T_d4d15_row7_col4 {\n  background-color: #f1ccb8;\n  color: #000000;\n}\n#T_d4d15_row7_col5 {\n  background-color: #9abbff;\n  color: #000000;\n}\n</style>\n<table id=\"T_d4d15_\">\n  <thead>\n    <tr>\n      <th class=\"blank level0\" >&nbsp;</th>\n      <th class=\"col_heading level0 col0\" >moderator_index</th>\n      <th class=\"col_heading level0 col1\" >c_author_number_changed_norm</th>\n      <th class=\"col_heading level0 col2\" >c_author_topic_variance_norm</th>\n      <th class=\"col_heading level0 col3\" >c_sentiment_value_norm</th>\n      <th class=\"col_heading level0 col4\" >sentiment_value_norm</th>\n      <th class=\"col_heading level0 col5\" >u_author_topic_variance_rating</th>\n      <th class=\"col_heading level0 col6\" >u_moderator_rating</th>\n      <th class=\"col_heading level0 col7\" >u_sentiment_rating</th>\n    </tr>\n  </thead>\n  <tbody>\n    <tr>\n      <th id=\"T_d4d15_level0_row0\" class=\"row_heading level0 row0\" >moderator_index</th>\n      <td id=\"T_d4d15_row0_col0\" class=\"data row0 col0\" >1.000000</td>\n      <td id=\"T_d4d15_row0_col1\" class=\"data row0 col1\" >0.207091</td>\n      <td id=\"T_d4d15_row0_col2\" class=\"data row0 col2\" >0.280880</td>\n      <td id=\"T_d4d15_row0_col3\" class=\"data row0 col3\" >0.621952</td>\n      <td id=\"T_d4d15_row0_col4\" class=\"data row0 col4\" >-0.853921</td>\n      <td id=\"T_d4d15_row0_col5\" class=\"data row0 col5\" >0.043014</td>\n      <td id=\"T_d4d15_row0_col6\" class=\"data row0 col6\" >0.016601</td>\n      <td id=\"T_d4d15_row0_col7\" class=\"data row0 col7\" >-0.127326</td>\n    </tr>\n    <tr>\n      <th id=\"T_d4d15_level0_row1\" class=\"row_heading level0 row1\" >c_author_number_changed_norm</th>\n      <td id=\"T_d4d15_row1_col0\" class=\"data row1 col0\" >0.207091</td>\n      <td id=\"T_d4d15_row1_col1\" class=\"data row1 col1\" >1.000000</td>\n      <td id=\"T_d4d15_row1_col2\" class=\"data row1 col2\" >-0.085072</td>\n      <td id=\"T_d4d15_row1_col3\" class=\"data row1 col3\" >-0.355062</td>\n      <td id=\"T_d4d15_row1_col4\" class=\"data row1 col4\" >0.042915</td>\n      <td id=\"T_d4d15_row1_col5\" class=\"data row1 col5\" >0.016645</td>\n      <td id=\"T_d4d15_row1_col6\" class=\"data row1 col6\" >0.114376</td>\n      <td id=\"T_d4d15_row1_col7\" class=\"data row1 col7\" >0.083485</td>\n    </tr>\n    <tr>\n      <th id=\"T_d4d15_level0_row2\" class=\"row_heading level0 row2\" >c_author_topic_variance_norm</th>\n      <td id=\"T_d4d15_row2_col0\" class=\"data row2 col0\" >0.280880</td>\n      <td id=\"T_d4d15_row2_col1\" class=\"data row2 col1\" >-0.085072</td>\n      <td id=\"T_d4d15_row2_col2\" class=\"data row2 col2\" >1.000000</td>\n      <td id=\"T_d4d15_row2_col3\" class=\"data row2 col3\" >-0.098052</td>\n      <td id=\"T_d4d15_row2_col4\" class=\"data row2 col4\" >-0.150498</td>\n      <td id=\"T_d4d15_row2_col5\" class=\"data row2 col5\" >-0.014008</td>\n      <td id=\"T_d4d15_row2_col6\" class=\"data row2 col6\" >-0.046636</td>\n      <td id=\"T_d4d15_row2_col7\" class=\"data row2 col7\" >-0.026384</td>\n    </tr>\n    <tr>\n      <th id=\"T_d4d15_level0_row3\" class=\"row_heading level0 row3\" >c_sentiment_value_norm</th>\n      <td id=\"T_d4d15_row3_col0\" class=\"data row3 col0\" >0.621952</td>\n      <td id=\"T_d4d15_row3_col1\" class=\"data row3 col1\" >-0.355062</td>\n      <td id=\"T_d4d15_row3_col2\" class=\"data row3 col2\" >-0.098052</td>\n      <td id=\"T_d4d15_row3_col3\" class=\"data row3 col3\" >1.000000</td>\n      <td id=\"T_d4d15_row3_col4\" class=\"data row3 col4\" >-0.469740</td>\n      <td id=\"T_d4d15_row3_col5\" class=\"data row3 col5\" >0.033807</td>\n      <td id=\"T_d4d15_row3_col6\" class=\"data row3 col6\" >0.035704</td>\n      <td id=\"T_d4d15_row3_col7\" class=\"data row3 col7\" >-0.026171</td>\n    </tr>\n    <tr>\n      <th id=\"T_d4d15_level0_row4\" class=\"row_heading level0 row4\" >sentiment_value_norm</th>\n      <td id=\"T_d4d15_row4_col0\" class=\"data row4 col0\" >-0.853921</td>\n      <td id=\"T_d4d15_row4_col1\" class=\"data row4 col1\" >0.042915</td>\n      <td id=\"T_d4d15_row4_col2\" class=\"data row4 col2\" >-0.150498</td>\n      <td id=\"T_d4d15_row4_col3\" class=\"data row4 col3\" >-0.469740</td>\n      <td id=\"T_d4d15_row4_col4\" class=\"data row4 col4\" >1.000000</td>\n      <td id=\"T_d4d15_row4_col5\" class=\"data row4 col5\" >-0.037040</td>\n      <td id=\"T_d4d15_row4_col6\" class=\"data row4 col6\" >0.069886</td>\n      <td id=\"T_d4d15_row4_col7\" class=\"data row4 col7\" >0.247495</td>\n    </tr>\n    <tr>\n      <th id=\"T_d4d15_level0_row5\" class=\"row_heading level0 row5\" >u_author_topic_variance_rating</th>\n      <td id=\"T_d4d15_row5_col0\" class=\"data row5 col0\" >0.043014</td>\n      <td id=\"T_d4d15_row5_col1\" class=\"data row5 col1\" >0.016645</td>\n      <td id=\"T_d4d15_row5_col2\" class=\"data row5 col2\" >-0.014008</td>\n      <td id=\"T_d4d15_row5_col3\" class=\"data row5 col3\" >0.033807</td>\n      <td id=\"T_d4d15_row5_col4\" class=\"data row5 col4\" >-0.037040</td>\n      <td id=\"T_d4d15_row5_col5\" class=\"data row5 col5\" >1.000000</td>\n      <td id=\"T_d4d15_row5_col6\" class=\"data row5 col6\" >0.395891</td>\n      <td id=\"T_d4d15_row5_col7\" class=\"data row5 col7\" >0.261945</td>\n    </tr>\n    <tr>\n      <th id=\"T_d4d15_level0_row6\" class=\"row_heading level0 row6\" >u_moderator_rating</th>\n      <td id=\"T_d4d15_row6_col0\" class=\"data row6 col0\" >0.016601</td>\n      <td id=\"T_d4d15_row6_col1\" class=\"data row6 col1\" >0.114376</td>\n      <td id=\"T_d4d15_row6_col2\" class=\"data row6 col2\" >-0.046636</td>\n      <td id=\"T_d4d15_row6_col3\" class=\"data row6 col3\" >0.035704</td>\n      <td id=\"T_d4d15_row6_col4\" class=\"data row6 col4\" >0.069886</td>\n      <td id=\"T_d4d15_row6_col5\" class=\"data row6 col5\" >0.395891</td>\n      <td id=\"T_d4d15_row6_col6\" class=\"data row6 col6\" >1.000000</td>\n      <td id=\"T_d4d15_row6_col7\" class=\"data row6 col7\" >0.594093</td>\n    </tr>\n    <tr>\n      <th id=\"T_d4d15_level0_row7\" class=\"row_heading level0 row7\" >u_sentiment_rating</th>\n      <td id=\"T_d4d15_row7_col0\" class=\"data row7 col0\" >-0.127326</td>\n      <td id=\"T_d4d15_row7_col1\" class=\"data row7 col1\" >0.083485</td>\n      <td id=\"T_d4d15_row7_col2\" class=\"data row7 col2\" >-0.026384</td>\n      <td id=\"T_d4d15_row7_col3\" class=\"data row7 col3\" >-0.026171</td>\n      <td id=\"T_d4d15_row7_col4\" class=\"data row7 col4\" >0.247495</td>\n      <td id=\"T_d4d15_row7_col5\" class=\"data row7 col5\" >0.261945</td>\n      <td id=\"T_d4d15_row7_col6\" class=\"data row7 col6\" >0.594093</td>\n      <td id=\"T_d4d15_row7_col7\" class=\"data row7 col7\" >1.000000</td>\n    </tr>\n  </tbody>\n</table>\n"
     },
     "execution_count": 4,
     "metadata": {},
     "output_type": "execute_result"
    }
   ],
   "source": [
    "import matplotlib.pyplot as plt\n",
    "\n",
    "\n",
    "df_rel = df[['moderator_index','c_author_number_changed_norm','c_author_topic_variance_norm', 'c_sentiment_value_norm', 'sentiment_value_norm', 'u_author_topic_variance_rating', 'u_moderator_rating', 'u_sentiment_rating']]\n",
    "\n",
    "#plt.matshow()\n",
    "#plt.show()\n",
    "corr = df_rel.corr()\n",
    "corr.style.background_gradient(cmap='coolwarm')"
   ]
  },
  {
   "cell_type": "code",
   "execution_count": 7,
   "outputs": [
    {
     "name": "stdout",
     "output_type": "stream",
     "text": [
      "using postgres\n"
     ]
    },
    {
     "data": {
      "text/plain": "<pandas.io.formats.style.Styler at 0x7f772e81e8b0>",
      "text/html": "<style type=\"text/css\">\n#T_aa61d_row0_col0, #T_aa61d_row1_col1, #T_aa61d_row2_col2, #T_aa61d_row3_col3, #T_aa61d_row4_col4, #T_aa61d_row5_col5, #T_aa61d_row6_col6, #T_aa61d_row7_col7 {\n  background-color: #b40426;\n  color: #f1f1f1;\n}\n#T_aa61d_row0_col1 {\n  background-color: #f7ba9f;\n  color: #000000;\n}\n#T_aa61d_row0_col2, #T_aa61d_row5_col7 {\n  background-color: #b7cff9;\n  color: #000000;\n}\n#T_aa61d_row0_col3 {\n  background-color: #cad8ef;\n  color: #000000;\n}\n#T_aa61d_row0_col4, #T_aa61d_row2_col3, #T_aa61d_row2_col5, #T_aa61d_row2_col6, #T_aa61d_row2_col7, #T_aa61d_row3_col1, #T_aa61d_row3_col2, #T_aa61d_row4_col0 {\n  background-color: #3b4cc0;\n  color: #f1f1f1;\n}\n#T_aa61d_row0_col5 {\n  background-color: #6384eb;\n  color: #f1f1f1;\n}\n#T_aa61d_row0_col6, #T_aa61d_row6_col1 {\n  background-color: #bad0f8;\n  color: #000000;\n}\n#T_aa61d_row0_col7, #T_aa61d_row2_col4, #T_aa61d_row6_col2 {\n  background-color: #8fb1fe;\n  color: #000000;\n}\n#T_aa61d_row1_col0 {\n  background-color: #f4c6af;\n  color: #000000;\n}\n#T_aa61d_row1_col2, #T_aa61d_row3_col7 {\n  background-color: #8caffe;\n  color: #000000;\n}\n#T_aa61d_row1_col3, #T_aa61d_row1_col7 {\n  background-color: #779af7;\n  color: #f1f1f1;\n}\n#T_aa61d_row1_col4 {\n  background-color: #bcd2f7;\n  color: #000000;\n}\n#T_aa61d_row1_col5 {\n  background-color: #7699f6;\n  color: #f1f1f1;\n}\n#T_aa61d_row1_col6 {\n  background-color: #a6c4fe;\n  color: #000000;\n}\n#T_aa61d_row2_col0 {\n  background-color: #6485ec;\n  color: #f1f1f1;\n}\n#T_aa61d_row2_col1 {\n  background-color: #506bda;\n  color: #f1f1f1;\n}\n#T_aa61d_row3_col0 {\n  background-color: #80a3fa;\n  color: #f1f1f1;\n}\n#T_aa61d_row3_col4 {\n  background-color: #6f92f3;\n  color: #f1f1f1;\n}\n#T_aa61d_row3_col5, #T_aa61d_row6_col4 {\n  background-color: #4b64d5;\n  color: #f1f1f1;\n}\n#T_aa61d_row3_col6 {\n  background-color: #92b4fe;\n  color: #000000;\n}\n#T_aa61d_row4_col1 {\n  background-color: #d1dae9;\n  color: #000000;\n}\n#T_aa61d_row4_col2 {\n  background-color: #d3dbe7;\n  color: #000000;\n}\n#T_aa61d_row4_col3 {\n  background-color: #bfd3f6;\n  color: #000000;\n}\n#T_aa61d_row4_col5 {\n  background-color: #3d50c3;\n  color: #f1f1f1;\n}\n#T_aa61d_row4_col6 {\n  background-color: #536edd;\n  color: #f1f1f1;\n}\n#T_aa61d_row4_col7 {\n  background-color: #6b8df0;\n  color: #f1f1f1;\n}\n#T_aa61d_row5_col0 {\n  background-color: #7396f5;\n  color: #f1f1f1;\n}\n#T_aa61d_row5_col1, #T_aa61d_row7_col1 {\n  background-color: #a3c2fe;\n  color: #000000;\n}\n#T_aa61d_row5_col2 {\n  background-color: #a5c3fe;\n  color: #000000;\n}\n#T_aa61d_row5_col3 {\n  background-color: #b1cbfc;\n  color: #000000;\n}\n#T_aa61d_row5_col4 {\n  background-color: #4e68d8;\n  color: #f1f1f1;\n}\n#T_aa61d_row5_col6 {\n  background-color: #dddcdc;\n  color: #000000;\n}\n#T_aa61d_row6_col0 {\n  background-color: #b5cdfa;\n  color: #000000;\n}\n#T_aa61d_row6_col3 {\n  background-color: #cfdaea;\n  color: #000000;\n}\n#T_aa61d_row6_col5 {\n  background-color: #d2dbe8;\n  color: #000000;\n}\n#T_aa61d_row6_col7 {\n  background-color: #e6d7cf;\n  color: #000000;\n}\n#T_aa61d_row7_col0 {\n  background-color: #9abbff;\n  color: #000000;\n}\n#T_aa61d_row7_col2 {\n  background-color: #a2c1ff;\n  color: #000000;\n}\n#T_aa61d_row7_col3 {\n  background-color: #d8dce2;\n  color: #000000;\n}\n#T_aa61d_row7_col4 {\n  background-color: #799cf8;\n  color: #f1f1f1;\n}\n#T_aa61d_row7_col5 {\n  background-color: #b6cefa;\n  color: #000000;\n}\n#T_aa61d_row7_col6 {\n  background-color: #edd1c2;\n  color: #000000;\n}\n</style>\n<table id=\"T_aa61d_\">\n  <thead>\n    <tr>\n      <th class=\"blank level0\" >&nbsp;</th>\n      <th class=\"col_heading level0 col0\" >moderator_index</th>\n      <th class=\"col_heading level0 col1\" >c_author_number_changed_norm</th>\n      <th class=\"col_heading level0 col2\" >c_author_topic_variance_norm</th>\n      <th class=\"col_heading level0 col3\" >c_sentiment_value_norm</th>\n      <th class=\"col_heading level0 col4\" >sentiment_value_norm</th>\n      <th class=\"col_heading level0 col5\" >u_author_topic_variance_rating</th>\n      <th class=\"col_heading level0 col6\" >u_moderator_rating</th>\n      <th class=\"col_heading level0 col7\" >u_sentiment_rating</th>\n    </tr>\n  </thead>\n  <tbody>\n    <tr>\n      <th id=\"T_aa61d_level0_row0\" class=\"row_heading level0 row0\" >moderator_index</th>\n      <td id=\"T_aa61d_row0_col0\" class=\"data row0 col0\" >1.000000</td>\n      <td id=\"T_aa61d_row0_col1\" class=\"data row0 col1\" >0.553306</td>\n      <td id=\"T_aa61d_row0_col2\" class=\"data row0 col2\" >-0.010232</td>\n      <td id=\"T_aa61d_row0_col3\" class=\"data row0 col3\" >0.078599</td>\n      <td id=\"T_aa61d_row0_col4\" class=\"data row0 col4\" >-0.168390</td>\n      <td id=\"T_aa61d_row0_col5\" class=\"data row0 col5\" >0.040529</td>\n      <td id=\"T_aa61d_row0_col6\" class=\"data row0 col6\" >0.256399</td>\n      <td id=\"T_aa61d_row0_col7\" class=\"data row0 col7\" >0.169312</td>\n    </tr>\n    <tr>\n      <th id=\"T_aa61d_level0_row1\" class=\"row_heading level0 row1\" >c_author_number_changed_norm</th>\n      <td id=\"T_aa61d_row1_col0\" class=\"data row1 col0\" >0.553306</td>\n      <td id=\"T_aa61d_row1_col1\" class=\"data row1 col1\" >1.000000</td>\n      <td id=\"T_aa61d_row1_col2\" class=\"data row1 col2\" >-0.215531</td>\n      <td id=\"T_aa61d_row1_col3\" class=\"data row1 col3\" >-0.311774</td>\n      <td id=\"T_aa61d_row1_col4\" class=\"data row1 col4\" >0.287414</td>\n      <td id=\"T_aa61d_row1_col5\" class=\"data row1 col5\" >0.101289</td>\n      <td id=\"T_aa61d_row1_col6\" class=\"data row1 col6\" >0.187532</td>\n      <td id=\"T_aa61d_row1_col7\" class=\"data row1 col7\" >0.099142</td>\n    </tr>\n    <tr>\n      <th id=\"T_aa61d_level0_row2\" class=\"row_heading level0 row2\" >c_author_topic_variance_norm</th>\n      <td id=\"T_aa61d_row2_col0\" class=\"data row2 col0\" >-0.010232</td>\n      <td id=\"T_aa61d_row2_col1\" class=\"data row2 col1\" >-0.215531</td>\n      <td id=\"T_aa61d_row2_col2\" class=\"data row2 col2\" >1.000000</td>\n      <td id=\"T_aa61d_row2_col3\" class=\"data row2 col3\" >-0.615667</td>\n      <td id=\"T_aa61d_row2_col4\" class=\"data row2 col4\" >0.130248</td>\n      <td id=\"T_aa61d_row2_col5\" class=\"data row2 col5\" >-0.103214</td>\n      <td id=\"T_aa61d_row2_col6\" class=\"data row2 col6\" >-0.199412</td>\n      <td id=\"T_aa61d_row2_col7\" class=\"data row2 col7\" >-0.114043</td>\n    </tr>\n    <tr>\n      <th id=\"T_aa61d_level0_row3\" class=\"row_heading level0 row3\" >c_sentiment_value_norm</th>\n      <td id=\"T_aa61d_row3_col0\" class=\"data row3 col0\" >0.078599</td>\n      <td id=\"T_aa61d_row3_col1\" class=\"data row3 col1\" >-0.311774</td>\n      <td id=\"T_aa61d_row3_col2\" class=\"data row3 col2\" >-0.615667</td>\n      <td id=\"T_aa61d_row3_col3\" class=\"data row3 col3\" >1.000000</td>\n      <td id=\"T_aa61d_row3_col4\" class=\"data row3 col4\" >0.026097</td>\n      <td id=\"T_aa61d_row3_col5\" class=\"data row3 col5\" >-0.041598</td>\n      <td id=\"T_aa61d_row3_col6\" class=\"data row3 col6\" >0.115092</td>\n      <td id=\"T_aa61d_row3_col7\" class=\"data row3 col7\" >0.162813</td>\n    </tr>\n    <tr>\n      <th id=\"T_aa61d_level0_row4\" class=\"row_heading level0 row4\" >sentiment_value_norm</th>\n      <td id=\"T_aa61d_row4_col0\" class=\"data row4 col0\" >-0.168390</td>\n      <td id=\"T_aa61d_row4_col1\" class=\"data row4 col1\" >0.287414</td>\n      <td id=\"T_aa61d_row4_col2\" class=\"data row4 col2\" >0.130248</td>\n      <td id=\"T_aa61d_row4_col3\" class=\"data row4 col3\" >0.026097</td>\n      <td id=\"T_aa61d_row4_col4\" class=\"data row4 col4\" >1.000000</td>\n      <td id=\"T_aa61d_row4_col5\" class=\"data row4 col5\" >-0.092312</td>\n      <td id=\"T_aa61d_row4_col6\" class=\"data row4 col6\" >-0.103552</td>\n      <td id=\"T_aa61d_row4_col7\" class=\"data row4 col7\" >0.056622</td>\n    </tr>\n    <tr>\n      <th id=\"T_aa61d_level0_row5\" class=\"row_heading level0 row5\" >u_author_topic_variance_rating</th>\n      <td id=\"T_aa61d_row5_col0\" class=\"data row5 col0\" >0.040529</td>\n      <td id=\"T_aa61d_row5_col1\" class=\"data row5 col1\" >0.101289</td>\n      <td id=\"T_aa61d_row5_col2\" class=\"data row5 col2\" >-0.103214</td>\n      <td id=\"T_aa61d_row5_col3\" class=\"data row5 col3\" >-0.041598</td>\n      <td id=\"T_aa61d_row5_col4\" class=\"data row5 col4\" >-0.092312</td>\n      <td id=\"T_aa61d_row5_col5\" class=\"data row5 col5\" >1.000000</td>\n      <td id=\"T_aa61d_row5_col6\" class=\"data row5 col6\" >0.403803</td>\n      <td id=\"T_aa61d_row5_col7\" class=\"data row5 col7\" >0.303131</td>\n    </tr>\n    <tr>\n      <th id=\"T_aa61d_level0_row6\" class=\"row_heading level0 row6\" >u_moderator_rating</th>\n      <td id=\"T_aa61d_row6_col0\" class=\"data row6 col0\" >0.256399</td>\n      <td id=\"T_aa61d_row6_col1\" class=\"data row6 col1\" >0.187532</td>\n      <td id=\"T_aa61d_row6_col2\" class=\"data row6 col2\" >-0.199412</td>\n      <td id=\"T_aa61d_row6_col3\" class=\"data row6 col3\" >0.115092</td>\n      <td id=\"T_aa61d_row6_col4\" class=\"data row6 col4\" >-0.103552</td>\n      <td id=\"T_aa61d_row6_col5\" class=\"data row6 col5\" >0.403803</td>\n      <td id=\"T_aa61d_row6_col6\" class=\"data row6 col6\" >1.000000</td>\n      <td id=\"T_aa61d_row6_col7\" class=\"data row6 col7\" >0.485586</td>\n    </tr>\n    <tr>\n      <th id=\"T_aa61d_level0_row7\" class=\"row_heading level0 row7\" >u_sentiment_rating</th>\n      <td id=\"T_aa61d_row7_col0\" class=\"data row7 col0\" >0.169312</td>\n      <td id=\"T_aa61d_row7_col1\" class=\"data row7 col1\" >0.099142</td>\n      <td id=\"T_aa61d_row7_col2\" class=\"data row7 col2\" >-0.114043</td>\n      <td id=\"T_aa61d_row7_col3\" class=\"data row7 col3\" >0.162813</td>\n      <td id=\"T_aa61d_row7_col4\" class=\"data row7 col4\" >0.056622</td>\n      <td id=\"T_aa61d_row7_col5\" class=\"data row7 col5\" >0.303131</td>\n      <td id=\"T_aa61d_row7_col6\" class=\"data row7 col6\" >0.485586</td>\n      <td id=\"T_aa61d_row7_col7\" class=\"data row7 col7\" >1.000000</td>\n    </tr>\n  </tbody>\n</table>\n"
     },
     "execution_count": 7,
     "metadata": {},
     "output_type": "execute_result"
    }
   ],
   "source": [
    "df = get_query_native(\"SELECT candidate.*,tweet.text from delab_twcandidate candidate join delab_tweet tweet on candidate.tweet_id = tweet.id where tweet.language = 'de'\")\n",
    "df.head(2)\n",
    "\n",
    "df_rel = df[['moderator_index','c_author_number_changed_norm','c_author_topic_variance_norm', 'c_sentiment_value_norm', 'sentiment_value_norm', 'u_author_topic_variance_rating', 'u_moderator_rating', 'u_sentiment_rating']]\n",
    "\n",
    "#plt.matshow()\n",
    "#plt.show()\n",
    "corr2 = df_rel.corr()\n",
    "corr2.style.background_gradient(cmap='coolwarm')"
   ],
   "metadata": {
    "collapsed": false,
    "pycharm": {
     "name": "#%%\n"
    }
   }
  }
 ],
 "metadata": {
  "kernelspec": {
   "display_name": "Python 3 (ipykernel)",
   "language": "python",
   "name": "python3"
  },
  "language_info": {
   "codemirror_mode": {
    "name": "ipython",
    "version": 3
   },
   "file_extension": ".py",
   "mimetype": "text/x-python",
   "name": "python",
   "nbconvert_exporter": "python",
   "pygments_lexer": "ipython3",
   "version": "3.8.10"
  }
 },
 "nbformat": 4,
 "nbformat_minor": 1
}