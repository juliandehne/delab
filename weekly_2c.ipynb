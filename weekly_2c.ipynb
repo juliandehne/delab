{
 "cells": [
  {
   "cell_type": "markdown",
   "metadata": {
    "pycharm": {
     "name": "#%% md\n"
    }
   },
   "source": [
    "# Analyzing the topic changes and their implications\n",
    "\n",
    "First, we load the pretrained topic model and the vectors"
   ]
  },
  {
   "cell_type": "code",
   "execution_count": 2,
   "metadata": {
    "collapsed": true
   },
   "outputs": [
    {
     "name": "stderr",
     "output_type": "stream",
     "text": [
      "2021-09-24 10:12:02.363926: I tensorflow/stream_executor/platform/default/dso_loader.cc:53] Successfully opened dynamic library libcudart.so.11.0\n",
      "100%|██████████| 207/207 [00:00<00:00, 341281.81it/s]"
     ]
    },
    {
     "name": "stdout",
     "output_type": "stream",
     "text": [
      "['world', 'back', 'our', 'up', 'him', 'see', 'know', 'tweet', 'right', 'look']\n",
      "['br9ys2tway', 'bryrdzpsq5', 'fonts', 'fatally', 'fatal', 'fat', 'fathom', 'fathoms', 'fati', 'fatime']\n",
      "['zxxmo0yfrh', 'xsmexnxocw', 'xtiyvwtpyl', 'gc0xaznhpq', '3ds', 'rom', 'emulator', 'pokemon', 'ezxyuq40yp', 'gbcnnjptue']\n"
     ]
    },
    {
     "name": "stderr",
     "output_type": "stream",
     "text": [
      "\n"
     ]
    }
   ],
   "source": [
    "import numpy as np\n",
    "from tqdm import tqdm\n",
    "import sqlite3\n",
    "import pandas as pd\n",
    "from collections import defaultdict\n",
    "from bertopic import BERTopic\n",
    "\n",
    "#import delab.topic.train_topic_model as tm\n",
    "\n",
    "bertopic_model = BERTopic().load(\"BERTopic\", embedding_model=\"sentence-transformers/all-mpnet-base-v2\")\n",
    "topic_info = bertopic_model.get_topic_info()\n",
    "\n",
    "\n",
    "def topic2wordvec(topic_model):\n",
    "    result = []\n",
    "    for t_word in topic_model:\n",
    "        str_w = t_word[0]\n",
    "        result.append(str_w)\n",
    "    return result\n",
    "\n",
    "\n",
    "# create topic-word map\n",
    "topic2word = defaultdict(list)\n",
    "for topic_id in tqdm(topic_info.Topic):\n",
    "    topic_model = bertopic_model.get_topic(topic_id)\n",
    "    words = topic2wordvec(topic_model)\n",
    "    topic2word[topic_id] = topic2word[topic_id] + words\n",
    "t2w_keys = list(topic2word.keys())[0:3]\n",
    "for key in t2w_keys:\n",
    "    print(topic2word[key])"
   ]
  },
  {
   "cell_type": "markdown",
   "metadata": {
    "pycharm": {
     "name": "#%% md\n"
    }
   },
   "source": [
    "Now we are loading the pre_saved ft vectors from the database!\n"
   ]
  },
  {
   "cell_type": "code",
   "execution_count": 3,
   "metadata": {
    "pycharm": {
     "name": "#%%\n"
    }
   },
   "outputs": [
    {
     "data": {
      "text/plain": "   id                                               text           author_id  \\\n0   2  @RedCrossCasc @OregonGovBrown @211info Biggest...          3308909882   \n1   5  @RedCrossCasc @OregonGovBrown @211info You see...          3308909882   \n2  22  @CNNnews18 @JhaSanjay @maryashakil There was n...  783396160434155520   \n\n   bertopic_id      conversation_id  sentiment_value           created_at  \n0            3  1426273610289848324        -0.479819  2021-08-16 14:43:39  \n1            3  1426273610289848324         2.172888  2021-08-15 04:45:31  \n2            2  1427264644813627394         1.972036  2021-08-16 13:57:26  ",
      "text/html": "<div>\n<style scoped>\n    .dataframe tbody tr th:only-of-type {\n        vertical-align: middle;\n    }\n\n    .dataframe tbody tr th {\n        vertical-align: top;\n    }\n\n    .dataframe thead th {\n        text-align: right;\n    }\n</style>\n<table border=\"1\" class=\"dataframe\">\n  <thead>\n    <tr style=\"text-align: right;\">\n      <th></th>\n      <th>id</th>\n      <th>text</th>\n      <th>author_id</th>\n      <th>bertopic_id</th>\n      <th>conversation_id</th>\n      <th>sentiment_value</th>\n      <th>created_at</th>\n    </tr>\n  </thead>\n  <tbody>\n    <tr>\n      <th>0</th>\n      <td>2</td>\n      <td>@RedCrossCasc @OregonGovBrown @211info Biggest...</td>\n      <td>3308909882</td>\n      <td>3</td>\n      <td>1426273610289848324</td>\n      <td>-0.479819</td>\n      <td>2021-08-16 14:43:39</td>\n    </tr>\n    <tr>\n      <th>1</th>\n      <td>5</td>\n      <td>@RedCrossCasc @OregonGovBrown @211info You see...</td>\n      <td>3308909882</td>\n      <td>3</td>\n      <td>1426273610289848324</td>\n      <td>2.172888</td>\n      <td>2021-08-15 04:45:31</td>\n    </tr>\n    <tr>\n      <th>2</th>\n      <td>22</td>\n      <td>@CNNnews18 @JhaSanjay @maryashakil There was n...</td>\n      <td>783396160434155520</td>\n      <td>2</td>\n      <td>1427264644813627394</td>\n      <td>1.972036</td>\n      <td>2021-08-16 13:57:26</td>\n    </tr>\n  </tbody>\n</table>\n</div>"
     },
     "execution_count": 3,
     "metadata": {},
     "output_type": "execute_result"
    }
   ],
   "source": [
    "cnx = sqlite3.connect('db.sqlite3')\n",
    "\n",
    "df_conversations = pd.read_sql_query(\n",
    "    \"SELECT id, text, author_id, bertopic_id, conversation_id,sentiment_value,created_at FROM delab_tweet tw where language = 'en' and bertopic_id >= 0\",\n",
    "    cnx)\n",
    "\n",
    "df_conversations.head(3)"
   ]
  },
  {
   "cell_type": "code",
   "execution_count": 4,
   "metadata": {
    "pycharm": {
     "name": "#%%\n"
    }
   },
   "outputs": [
    {
     "name": "stdout",
     "output_type": "stream",
     "text": [
      "0    @RedCrossCasc @OregonGovBrown @211info Biggest scandal in world and Oregonian history. They have injected billions with a NON approved never before used experimental mRNA shot, telling all it was safe and would protect them, and they LIED. Now they are blaming 'delta'with NO proof, lying again. It is the shots people!\n",
      "Name: text, dtype: object\n",
      "[('covid', 0.021991876389993514), ('vaccine', 0.016347670423809506), ('mrna', 0.010696932362509456), ('vaccinated', 0.009509851138756725), ('vaccines', 0.009509851138756725), ('pandemic', 0.00830497318448295), ('vax', 0.008013227961530736), ('coronavirus', 0.006824362556803819), ('inoculation', 0.0061918438493830975), ('cdc', 0.006009920971148053)]\n"
     ]
    }
   ],
   "source": [
    "pd.set_option('display.max_colwidth', None)\n",
    "text = df_conversations.head(1).text\n",
    "print(text)\n",
    "id = df_conversations.head(1).bertopic_id[0]\n",
    "bertopic = bertopic_model.get_topic(id)\n",
    "print(bertopic)"
   ]
  },
  {
   "cell_type": "markdown",
   "metadata": {
    "pycharm": {
     "name": "#%% md\n"
    }
   },
   "source": [
    "It looks like our topic is matching the tweet."
   ]
  },
  {
   "cell_type": "code",
   "execution_count": 5,
   "metadata": {
    "pycharm": {
     "name": "#%%\n"
    }
   },
   "outputs": [
    {
     "name": "stdout",
     "output_type": "stream",
     "text": [
      "67\n",
      "314\n",
      "381\n",
      "From 381 tweets 82.41469816272966 percent could not be topic labeled\n"
     ]
    }
   ],
   "source": [
    "df_conversations_bad_topic = pd.read_sql_query(\n",
    "    \"SELECT COUNT(*) as n  FROM delab_tweet tw where language = 'en' and bertopic_id < 0\",\n",
    "    cnx)\n",
    "\n",
    "df_conversations_total = pd.read_sql_query(\n",
    "    \"SELECT COUNT(*) as n  FROM delab_tweet tw where language = 'en' and bertopic_id not null\",\n",
    "    cnx)\n",
    "\n",
    "print(df_conversations.id.size)\n",
    "print(df_conversations_bad_topic.n[0])\n",
    "print(df_conversations_total.n[0])\n",
    "\n",
    "print(\"From {} tweets {} percent could not be topic labeled\".format(df_conversations_total.n[0],\n",
    "                                                                    df_conversations_bad_topic.n[0] * 100 /\n",
    "                                                                    df_conversations_total.n[0]))"
   ]
  },
  {
   "cell_type": "markdown",
   "metadata": {
    "pycharm": {
     "name": "#%% md\n"
    }
   },
   "source": [
    "It seems, that our recall is not so great. We favoured the precision over the recall, drastically removing\n",
    "topics that did not include words in the vocabulary. However, the bert models have good results on the oov-words, too.\n",
    "\n",
    "More importantly, the high precision and low recall clashes with low precision and high sensitivity from the sentiment analysis.\n",
    "However, we are continuing for the moment in order to have a look at the results as they stand."
   ]
  },
  {
   "cell_type": "code",
   "execution_count": 6,
   "metadata": {
    "pycharm": {
     "name": "#%%\n"
    }
   },
   "outputs": [
    {
     "data": {
      "text/plain": "conversation_id\n1426985024021278729    11\n1429032574752464897    17\n1429364500159991808    13\n1429461965613633537    10\ndtype: int64"
     },
     "execution_count": 6,
     "metadata": {},
     "output_type": "execute_result"
    }
   ],
   "source": [
    "#df_conversations.conversation_id.nunique()\n",
    "df_reshaped = df_conversations.pivot(index=\"id\", columns=\"conversation_id\", values=\"text\")\n",
    "mask = 10 > df_reshaped.nunique()\n",
    "mask = mask[mask == True]\n",
    "df_reshaped.drop(columns=mask.index, inplace=True)\n",
    "df_reshaped.nunique()"
   ]
  },
  {
   "cell_type": "markdown",
   "metadata": {
    "pycharm": {
     "name": "#%% md\n"
    }
   },
   "source": [
    "There are only 4 conversations with 10 or more tweets that have a valid topic classification :-(.\n",
    "\n",
    "Lets' have a look at the relation between sentiment_values and topic_changes!"
   ]
  },
  {
   "cell_type": "code",
   "execution_count": 7,
   "metadata": {
    "pycharm": {
     "name": "#%%\n"
    }
   },
   "outputs": [
    {
     "data": {
      "text/plain": "    id  bertopic_id      conversation_id  sentiment_value           created_at\n15  93          107  1429364500159991808         2.176778  2021-08-22 08:47:07\n16  95          107  1429364500159991808        -3.937332  2021-08-23 05:57:28\n17  96          107  1429364500159991808        -8.685563  2021-08-23 05:31:57",
      "text/html": "<div>\n<style scoped>\n    .dataframe tbody tr th:only-of-type {\n        vertical-align: middle;\n    }\n\n    .dataframe tbody tr th {\n        vertical-align: top;\n    }\n\n    .dataframe thead th {\n        text-align: right;\n    }\n</style>\n<table border=\"1\" class=\"dataframe\">\n  <thead>\n    <tr style=\"text-align: right;\">\n      <th></th>\n      <th>id</th>\n      <th>bertopic_id</th>\n      <th>conversation_id</th>\n      <th>sentiment_value</th>\n      <th>created_at</th>\n    </tr>\n  </thead>\n  <tbody>\n    <tr>\n      <th>15</th>\n      <td>93</td>\n      <td>107</td>\n      <td>1429364500159991808</td>\n      <td>2.176778</td>\n      <td>2021-08-22 08:47:07</td>\n    </tr>\n    <tr>\n      <th>16</th>\n      <td>95</td>\n      <td>107</td>\n      <td>1429364500159991808</td>\n      <td>-3.937332</td>\n      <td>2021-08-23 05:57:28</td>\n    </tr>\n    <tr>\n      <th>17</th>\n      <td>96</td>\n      <td>107</td>\n      <td>1429364500159991808</td>\n      <td>-8.685563</td>\n      <td>2021-08-23 05:31:57</td>\n    </tr>\n  </tbody>\n</table>\n</div>"
     },
     "execution_count": 7,
     "metadata": {},
     "output_type": "execute_result"
    }
   ],
   "source": [
    "conversation_corpora_cleaned = {}\n",
    "conversation_corpora = df_reshaped.to_dict(orient=\"series\")\n",
    "for conversation_id, tweets in conversation_corpora.items():\n",
    "    conversation_corpora_cleaned[conversation_id] = tweets.dropna()\n",
    "\n",
    "useful_conversations_keys = conversation_corpora_cleaned.keys()\n",
    "\n",
    "useful_conversations = df_conversations[df_conversations[\"conversation_id\"].isin(useful_conversations_keys)]\n",
    "useful_conversations = useful_conversations.loc[:,\n",
    "                       [\"id\", \"bertopic_id\", \"conversation_id\", \"sentiment_value\", \"created_at\"]]\n",
    "\n",
    "exampleconversation = useful_conversations[useful_conversations.conversation_id == 1429364500159991808]\n",
    "exampleconversation.head(3)"
   ]
  },
  {
   "cell_type": "markdown",
   "source": [
    "This conversation seems a good candidate for inspection as it includes drastic topic and sentiment changes.\n"
   ],
   "metadata": {
    "collapsed": false,
    "pycharm": {
     "name": "#%% md\n"
    }
   }
  },
  {
   "cell_type": "code",
   "execution_count": 8,
   "outputs": [
    {
     "data": {
      "text/plain": "    id  bertopic_id      conversation_id  sentiment_value  \\\n0   93          107  1429364500159991808         2.176778   \n1  121          149  1429364500159991808         7.883925   \n2  117          107  1429364500159991808        -1.856531   \n3  110          107  1429364500159991808        -6.535029   \n4  109          149  1429364500159991808         6.277603   \n\n            created_at  bertopic_shifted  topic_delta  \n0  2021-08-22 08:47:07               NaN          NaN  \n1  2021-08-22 09:21:40             107.0     0.233119  \n2  2021-08-22 11:05:41             149.0     0.233119  \n3  2021-08-22 12:18:31             107.0     0.000000  \n4  2021-08-22 13:13:58             107.0     0.233119  ",
      "text/html": "<div>\n<style scoped>\n    .dataframe tbody tr th:only-of-type {\n        vertical-align: middle;\n    }\n\n    .dataframe tbody tr th {\n        vertical-align: top;\n    }\n\n    .dataframe thead th {\n        text-align: right;\n    }\n</style>\n<table border=\"1\" class=\"dataframe\">\n  <thead>\n    <tr style=\"text-align: right;\">\n      <th></th>\n      <th>id</th>\n      <th>bertopic_id</th>\n      <th>conversation_id</th>\n      <th>sentiment_value</th>\n      <th>created_at</th>\n      <th>bertopic_shifted</th>\n      <th>topic_delta</th>\n    </tr>\n  </thead>\n  <tbody>\n    <tr>\n      <th>0</th>\n      <td>93</td>\n      <td>107</td>\n      <td>1429364500159991808</td>\n      <td>2.176778</td>\n      <td>2021-08-22 08:47:07</td>\n      <td>NaN</td>\n      <td>NaN</td>\n    </tr>\n    <tr>\n      <th>1</th>\n      <td>121</td>\n      <td>149</td>\n      <td>1429364500159991808</td>\n      <td>7.883925</td>\n      <td>2021-08-22 09:21:40</td>\n      <td>107.0</td>\n      <td>0.233119</td>\n    </tr>\n    <tr>\n      <th>2</th>\n      <td>117</td>\n      <td>107</td>\n      <td>1429364500159991808</td>\n      <td>-1.856531</td>\n      <td>2021-08-22 11:05:41</td>\n      <td>149.0</td>\n      <td>0.233119</td>\n    </tr>\n    <tr>\n      <th>3</th>\n      <td>110</td>\n      <td>107</td>\n      <td>1429364500159991808</td>\n      <td>-6.535029</td>\n      <td>2021-08-22 12:18:31</td>\n      <td>107.0</td>\n      <td>0.000000</td>\n    </tr>\n    <tr>\n      <th>4</th>\n      <td>109</td>\n      <td>149</td>\n      <td>1429364500159991808</td>\n      <td>6.277603</td>\n      <td>2021-08-22 13:13:58</td>\n      <td>107.0</td>\n      <td>0.233119</td>\n    </tr>\n  </tbody>\n</table>\n</div>"
     },
     "execution_count": 8,
     "metadata": {},
     "output_type": "execute_result"
    }
   ],
   "source": [
    "import json\n",
    "from scipy import spatial\n",
    "import numpy as np\n",
    "\n",
    "\n",
    "# in the productive setting filter this query with \"in words contained in the current conversation topics\"\n",
    "word2vec = pd.read_sql_query(\n",
    "    \"SELECT word, ft_vector from delab_topicdictionary\",\n",
    "    cnx)\n",
    "\n",
    "def get_topic_delta(topic_id_1, topic_id_2):\n",
    "    words1 = topic2word.get(topic_id_1)\n",
    "    words2 = topic2word.get(topic_id_2)\n",
    "    if words1 is not None and words2 is not None:\n",
    "        filtered_w2v1 = word2vec[word2vec[\"word\"].isin(words1)]\n",
    "        filtered_w2v2 = word2vec[word2vec[\"word\"].isin(words2)]\n",
    "        ft_vectors_1 = filtered_w2v1.ft_vector.apply(lambda x: pd.Series(json.loads(x)))\n",
    "        ft_vectors_2 = filtered_w2v2.ft_vector.apply(lambda x: pd.Series(json.loads(x)))\n",
    "        len1 = len(ft_vectors_1)\n",
    "        len2 = len(ft_vectors_2)\n",
    "        sum_v1 = (ft_vectors_1.sum(axis=0) / len1) # we assume the vectors are embedded in a linear space\n",
    "        sum_v2 = (ft_vectors_2.sum(axis=0) / len2)\n",
    "        similarity = spatial.distance.cosine(sum_v1, sum_v2)\n",
    "        return similarity\n",
    "    else:\n",
    "        return np.NaN\n",
    "\n",
    "exampleconversation.sort_values(by=['created_at'], ascending=True, inplace=True)\n",
    "exampleconversation.reset_index(drop=True, inplace=True)\n",
    "exampleconversation[\"bertopic_shifted\"] = exampleconversation.bertopic_id.shift()\n",
    "exampleconversation[\"topic_delta\"] = exampleconversation.apply(\n",
    "    lambda x: get_topic_delta(x.bertopic_id, x.bertopic_shifted), axis=1)\n",
    "\n",
    "exampleconversation.head(5)"
   ],
   "metadata": {
    "collapsed": false,
    "pycharm": {
     "name": "#%%\n"
    }
   }
  },
  {
   "cell_type": "code",
   "execution_count": 13,
   "outputs": [
    {
     "name": "stdout",
     "output_type": "stream",
     "text": [
      "['training', 'military', 'basic', 'gun', 'taught', 'carry', 'nato', 'shooting', 'army', 'firearms']\n",
      "['ar', 'gun', 'ak', 'range', 'confiscation', 'fun', 'guns', 'colleges', 'shooter', 'semester']\n",
      "delta is 0.23\n",
      "['ar', 'gun', 'ak', 'range', 'confiscation', 'fun', 'guns', 'colleges', 'shooter', 'semester']\n",
      "['racist', 'white', 'black', 'racism', 'race', 'color', 'offensive', 'privilege', 'slurs', 'racists']\n",
      "delta is 0.72\n"
     ]
    },
    {
     "data": {
      "text/plain": "<Figure size 432x288 with 1 Axes>",
      "image/png": "[encoded data removed]"
     },
     "metadata": {
      "needs_background": "light"
     },
     "output_type": "display_data"
    }
   ],
   "source": [
    "#from sklearn import preprocessing\n",
    "print(topic2word.get(107))\n",
    "print(topic2word.get(149))\n",
    "print(\"delta is 0.23\")\n",
    "\n",
    "print(topic2word.get(149))\n",
    "print(topic2word.get(8))\n",
    "print(\"delta is 0.72\")\n",
    "\n",
    "sv = exampleconversation.sentiment_value\n",
    "exampleconversation[\"sentiment_normalized\"] = ((sv-sv.min())/(sv.max()-sv.min()))\n",
    "\n",
    "exampleconversation[\"sentiment_deltas\"] = exampleconversation[\"sentiment_normalized\"].diff().abs()\n",
    "plot = exampleconversation.plot(y=['topic_delta', \"sentiment_deltas\"], xlabel = \"Natural Order in Conversation\", ylabel=\"Normalized changes\", use_index=True)\n",
    "plot.get_figure().savefig('sentiment_topics.png')"
   ],
   "metadata": {
    "collapsed": false,
    "pycharm": {
     "name": "#%%\n"
    }
   }
  },
  {
   "cell_type": "markdown",
   "source": [
    "After normalizing, it looks like we can compare the two metrics. However, topic continuation should be\n",
    "interpreted differently then a continuous sentiment flow.\n",
    "\n",
    "In order to compute the correlation we need to compute:\n",
    "- a more precise sentiment classification\n",
    "- a wider set of conversations with existing topic classifications\n",
    "- a better metric of the topic flow that takes into account the general frequency of topic  changes and\n",
    "  can thus highlight conversations with high or low topic volatility"
   ],
   "metadata": {
    "collapsed": false,
    "pycharm": {
     "name": "#%% md\n"
    }
   }
  }
 ],
 "metadata": {
  "kernelspec": {
   "display_name": "Python 3 (ipykernel)",
   "language": "python",
   "name": "python3"
  },
  "language_info": {
   "codemirror_mode": {
    "name": "ipython",
    "version": 3
   },
   "file_extension": ".py",
   "mimetype": "text/x-python",
   "name": "python",
   "nbconvert_exporter": "python",
   "pygments_lexer": "ipython3",
   "version": "3.8.10"
  }
 },
 "nbformat": 4,
 "nbformat_minor": 1
}