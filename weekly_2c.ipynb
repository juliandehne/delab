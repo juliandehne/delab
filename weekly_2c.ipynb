{
 "cells": [
  {
   "cell_type": "markdown",
   "metadata": {
    "pycharm": {
     "name": "#%% md\n"
    }
   },
   "source": [
    "# Analyzing the topic changes and their implications\n",
    "\n",
    "First, we load the pretrained topic model and the vectors"
   ]
  },
  {
   "cell_type": "code",
   "execution_count": 1,
   "metadata": {},
   "outputs": [
    {
     "name": "stderr",
     "output_type": "stream",
     "text": [
      "100%|██████████| 88/88 [00:00<00:00, 200706.23it/s]"
     ]
    },
    {
     "name": "stdout",
     "output_type": "stream",
     "text": [
      "['people', 'what', 'was', 'how', 'know', 'who', 'he', 'him', 'were', 'like']\n",
      "['btc', 'market', 'buy', 'chart', 'stock', 'buying', 'bullish', 'shares', 'stocks', 'crypto']\n",
      "['team', 'season', 'football', 'ball', 'year', 'darnold', 'playoffs', 'gm', 'coaching', 'lb']\n"
     ]
    },
    {
     "name": "stderr",
     "output_type": "stream",
     "text": [
      "\n"
     ]
    }
   ],
   "source": [
    "import numpy as np\n",
    "from tqdm import tqdm\n",
    "import sqlite3\n",
    "import pandas as pd\n",
    "from collections import defaultdict\n",
    "from bertopic import BERTopic\n",
    "from util.sql_switch import get_query_native\n",
    "\n",
    "#import delab.topic.train_topic_model as tm\n",
    "\n",
    "bertopic_model = BERTopic().load(\"BERTopic\", embedding_model=\"sentence-transformers/all-mpnet-base-v2\")\n",
    "topic_info = bertopic_model.get_topic_info()\n",
    "\n",
    "\n",
    "def topic2wordvec(topic_model):\n",
    "    result = []\n",
    "    for t_word in topic_model:\n",
    "        str_w = t_word[0]\n",
    "        result.append(str_w)\n",
    "    return result\n",
    "\n",
    "\n",
    "# create topic-word map\n",
    "topic2word = defaultdict(list)\n",
    "for topic_id in tqdm(topic_info.Topic):\n",
    "    topic_model = bertopic_model.get_topic(topic_id)\n",
    "    words = topic2wordvec(topic_model)\n",
    "    topic2word[topic_id] = topic2word[topic_id] + words\n",
    "t2w_keys = list(topic2word.keys())[0:3]\n",
    "for key in t2w_keys:\n",
    "    print(topic2word[key])"
   ]
  },
  {
   "cell_type": "markdown",
   "metadata": {
    "pycharm": {
     "name": "#%% md\n"
    }
   },
   "source": [
    "Now we are loading the pre_saved ft vectors from the database!\n"
   ]
  },
  {
   "cell_type": "code",
   "execution_count": 2,
   "metadata": {
    "pycharm": {
     "name": "#%%\n"
    }
   },
   "outputs": [
    {
     "name": "stdout",
     "output_type": "stream",
     "text": [
      "using postgres\n"
     ]
    },
    {
     "data": {
      "text/plain": "     id  \\\n0  9721   \n1  9729   \n2  8266   \n\n                                                                                                                                    text  \\\n0  @Magogo232 @MadiBoity This is a good question, but then again they will say, it's the ANC of the time that employed clueless persons.   \n1              @Nqobaz007 @SabeloComputer @MadiBoity @coolkat_1 The ANC will win as always, others parties are just hoping for the best.   \n2                                            @thejoelancaster @jmdolladolla @CryptoWhale That’s such a load of bull$hit and you know it.   \n\n             author_id  bertopic_id      conversation_id  sentiment_value  \\\n0   891933923500056577            5  1451256052205379596        15.692247   \n1  1220343987879448576            5  1451256052205379596        -3.785848   \n2           3075750407           16  1452436776916762629         0.104761   \n\n                 created_at  \n0 2021-10-22 21:02:52+00:00  \n1 2021-10-25 06:47:20+00:00  \n2 2021-10-25 05:42:56+00:00  ",
      "text/html": "<div>\n<style scoped>\n    .dataframe tbody tr th:only-of-type {\n        vertical-align: middle;\n    }\n\n    .dataframe tbody tr th {\n        vertical-align: top;\n    }\n\n    .dataframe thead th {\n        text-align: right;\n    }\n</style>\n<table border=\"1\" class=\"dataframe\">\n  <thead>\n    <tr style=\"text-align: right;\">\n      <th></th>\n      <th>id</th>\n      <th>text</th>\n      <th>author_id</th>\n      <th>bertopic_id</th>\n      <th>conversation_id</th>\n      <th>sentiment_value</th>\n      <th>created_at</th>\n    </tr>\n  </thead>\n  <tbody>\n    <tr>\n      <th>0</th>\n      <td>9721</td>\n      <td>@Magogo232 @MadiBoity This is a good question, but then again they will say, it's the ANC of the time that employed clueless persons.</td>\n      <td>891933923500056577</td>\n      <td>5</td>\n      <td>1451256052205379596</td>\n      <td>15.692247</td>\n      <td>2021-10-22 21:02:52+00:00</td>\n    </tr>\n    <tr>\n      <th>1</th>\n      <td>9729</td>\n      <td>@Nqobaz007 @SabeloComputer @MadiBoity @coolkat_1 The ANC will win as always, others parties are just hoping for the best.</td>\n      <td>1220343987879448576</td>\n      <td>5</td>\n      <td>1451256052205379596</td>\n      <td>-3.785848</td>\n      <td>2021-10-25 06:47:20+00:00</td>\n    </tr>\n    <tr>\n      <th>2</th>\n      <td>8266</td>\n      <td>@thejoelancaster @jmdolladolla @CryptoWhale That’s such a load of bull$hit and you know it.</td>\n      <td>3075750407</td>\n      <td>16</td>\n      <td>1452436776916762629</td>\n      <td>0.104761</td>\n      <td>2021-10-25 05:42:56+00:00</td>\n    </tr>\n  </tbody>\n</table>\n</div>"
     },
     "execution_count": 2,
     "metadata": {},
     "output_type": "execute_result"
    }
   ],
   "source": [
    "df_conversations = get_query_native(\n",
    "    \"SELECT id, text, author_id, bertopic_id, conversation_id,sentiment_value,created_at FROM delab_tweet tw where language = 'en' and bertopic_id >= 0\")\n",
    "df_conversations.head(3)"
   ]
  },
  {
   "cell_type": "code",
   "execution_count": 3,
   "metadata": {
    "pycharm": {
     "name": "#%%\n"
    }
   },
   "outputs": [
    {
     "name": "stdout",
     "output_type": "stream",
     "text": [
      "0    @Magogo232 @MadiBoity This is a good question, but then again they will say, it's the ANC of the time that employed clueless persons.\n",
      "Name: text, dtype: object\n",
      "[('zuma', 0.05189592021547691), ('anc', 0.05103882867721083), ('africa', 0.03357971308060271), ('africans', 0.015720337611943077), ('african', 0.01520087449542325), ('zulu', 0.012815017593392432), ('afrikanism', 0.009711242586372733), ('lesotho', 0.009711242586372733), ('coalitions', 0.009028066330082652), ('guptas', 0.009028066330082652)]\n"
     ]
    }
   ],
   "source": [
    "pd.set_option('display.max_colwidth', None)\n",
    "text = df_conversations.head(1).text\n",
    "print(text)\n",
    "id = df_conversations.head(1).bertopic_id[0]\n",
    "bertopic = bertopic_model.get_topic(id)\n",
    "print(bertopic)"
   ]
  },
  {
   "cell_type": "markdown",
   "metadata": {
    "pycharm": {
     "name": "#%% md\n"
    }
   },
   "source": [
    "It looks like our topic is matching the tweet."
   ]
  },
  {
   "cell_type": "code",
   "execution_count": 9,
   "metadata": {
    "pycharm": {
     "name": "#%%\n"
    }
   },
   "outputs": [
    {
     "name": "stdout",
     "output_type": "stream",
     "text": [
      "using postgres\n",
      "using postgres\n",
      "1844\n",
      "3926\n",
      "5770\n",
      "From 5770 tweets 68.0415944540728 percent could not be topic labeled\n"
     ]
    }
   ],
   "source": [
    "df_conversations_bad_topic = get_query_native(\n",
    "    \"SELECT COUNT(*) as n  FROM delab_tweet tw where language = 'en' and bertopic_id < 0\")\n",
    "\n",
    "df_conversations_total = get_query_native(\n",
    "    \"SELECT COUNT(*) as n  FROM delab_tweet tw where language = 'en' and bertopic_id is not null\")\n",
    "\n",
    "print(df_conversations.id.size)\n",
    "print(df_conversations_bad_topic.n[0])\n",
    "print(df_conversations_total.n[0])\n",
    "\n",
    "print(\"From {} tweets {} percent could not be topic labeled\".format(df_conversations_total.n[0],\n",
    "                                                                    df_conversations_bad_topic.n[0] * 100 /\n",
    "                                                                    df_conversations_total.n[0]))"
   ]
  },
  {
   "cell_type": "markdown",
   "metadata": {
    "pycharm": {
     "name": "#%% md\n"
    }
   },
   "source": [
    "It seems, that our recall is not so great. We favoured the precision over the recall, drastically removing\n",
    "topics that did not include words in the vocabulary. However, the bert models have good results on the oov-words, too.\n",
    "\n",
    "More importantly, the high precision and low recall clashes with low precision and high sensitivity from the sentiment analysis.\n",
    "However, we are continuing for the moment in order to have a look at the results as they stand."
   ]
  },
  {
   "cell_type": "code",
   "execution_count": 5,
   "metadata": {
    "pycharm": {
     "name": "#%%\n"
    }
   },
   "outputs": [
    {
     "data": {
      "text/plain": "conversation_id\n1448358350450724868     22\n1450428916032749577     21\n1450672167134408705    106\n1450956635690704899    135\n1451230354497495044    133\n1451251605026787340     31\n1451256052205379596    111\n1451362578060431365    111\n1451378416205242372     12\n1451380440942751755     17\n1451470058849554435     12\n1451526982697689113     18\n1451543608398651395     37\n1452225328945012736     10\n1452301740657815554     12\n1452360506011013120     18\n1452436776916762629    498\n1452459721248620546     33\n1452509182670909447     51\n1452612221834600448     28\n1452631090422853642     30\n1454115825221242892     18\n1454589125777104905     90\n1454686690673455106     68\n1455128303849943045     15\n1455286078693384199     87\n1455382357461045249     17\n1455444212690915329     20\n1455493174793752579     24\ndtype: int64"
     },
     "execution_count": 5,
     "metadata": {},
     "output_type": "execute_result"
    }
   ],
   "source": [
    "#df_conversations.conversation_id.nunique()\n",
    "df_reshaped = df_conversations.pivot(index=\"id\", columns=\"conversation_id\", values=\"text\")\n",
    "mask = 10 > df_reshaped.nunique()\n",
    "mask = mask[mask == True]\n",
    "df_reshaped.drop(columns=mask.index, inplace=True)\n",
    "df_reshaped.nunique()"
   ]
  },
  {
   "cell_type": "markdown",
   "metadata": {
    "pycharm": {
     "name": "#%% md\n"
    }
   },
   "source": [
    "There are only 4 conversations with 10 or more tweets that have a valid topic classification :-(.\n",
    "\n",
    "Lets' have a look at the relation between sentiment_values and topic_changes!"
   ]
  },
  {
   "cell_type": "code",
   "execution_count": 6,
   "metadata": {
    "pycharm": {
     "name": "#%%\n"
    }
   },
   "outputs": [
    {
     "data": {
      "text/plain": "        id  bertopic_id      conversation_id  sentiment_value  \\\n195  10877           23  1448358350450724868              NaN   \n213  10850           16  1448358350450724868              NaN   \n325  10897           16  1448358350450724868              NaN   \n\n                   created_at  \n195 2021-10-28 18:58:14+00:00  \n213 2021-11-02 12:40:38+00:00  \n325 2021-10-26 14:40:56+00:00  ",
      "text/html": "<div>\n<style scoped>\n    .dataframe tbody tr th:only-of-type {\n        vertical-align: middle;\n    }\n\n    .dataframe tbody tr th {\n        vertical-align: top;\n    }\n\n    .dataframe thead th {\n        text-align: right;\n    }\n</style>\n<table border=\"1\" class=\"dataframe\">\n  <thead>\n    <tr style=\"text-align: right;\">\n      <th></th>\n      <th>id</th>\n      <th>bertopic_id</th>\n      <th>conversation_id</th>\n      <th>sentiment_value</th>\n      <th>created_at</th>\n    </tr>\n  </thead>\n  <tbody>\n    <tr>\n      <th>195</th>\n      <td>10877</td>\n      <td>23</td>\n      <td>1448358350450724868</td>\n      <td>NaN</td>\n      <td>2021-10-28 18:58:14+00:00</td>\n    </tr>\n    <tr>\n      <th>213</th>\n      <td>10850</td>\n      <td>16</td>\n      <td>1448358350450724868</td>\n      <td>NaN</td>\n      <td>2021-11-02 12:40:38+00:00</td>\n    </tr>\n    <tr>\n      <th>325</th>\n      <td>10897</td>\n      <td>16</td>\n      <td>1448358350450724868</td>\n      <td>NaN</td>\n      <td>2021-10-26 14:40:56+00:00</td>\n    </tr>\n  </tbody>\n</table>\n</div>"
     },
     "execution_count": 6,
     "metadata": {},
     "output_type": "execute_result"
    }
   ],
   "source": [
    "conversation_corpora_cleaned = {}\n",
    "conversation_corpora = df_reshaped.to_dict(orient=\"series\")\n",
    "for conversation_id, tweets in conversation_corpora.items():\n",
    "    conversation_corpora_cleaned[conversation_id] = tweets.dropna()\n",
    "\n",
    "useful_conversations_keys = conversation_corpora_cleaned.keys()\n",
    "\n",
    "useful_conversations = df_conversations[df_conversations[\"conversation_id\"].isin(useful_conversations_keys)]\n",
    "useful_conversations = useful_conversations.loc[:,\n",
    "                       [\"id\", \"bertopic_id\", \"conversation_id\", \"sentiment_value\", \"created_at\"]]\n",
    "\n",
    "example_id = df_reshaped.nunique().index[0]\n",
    "exampleconversation = useful_conversations[useful_conversations.conversation_id == example_id]\n",
    "exampleconversation.head(3)"
   ]
  },
  {
   "cell_type": "markdown",
   "metadata": {
    "pycharm": {
     "name": "#%% md\n"
    }
   },
   "source": [
    "This conversation seems a good candidate for inspection as it includes drastic topic and sentiment changes.\n"
   ]
  },
  {
   "cell_type": "code",
   "execution_count": 7,
   "metadata": {
    "pycharm": {
     "name": "#%%\n"
    }
   },
   "outputs": [
    {
     "name": "stdout",
     "output_type": "stream",
     "text": [
      "using postgres\n"
     ]
    },
    {
     "data": {
      "text/plain": "      id  bertopic_id      conversation_id  sentiment_value  \\\n0  10842           23  1448358350450724868              NaN   \n1  10897           16  1448358350450724868              NaN   \n2  10892           22  1448358350450724868              NaN   \n3  10879           69  1448358350450724868              NaN   \n4  10878           66  1448358350450724868              NaN   \n\n                 created_at  bertopic_shifted  topic_delta  \n0 2021-10-13 18:41:54+00:00               NaN          NaN  \n1 2021-10-26 14:40:56+00:00              23.0     0.859737  \n2 2021-10-26 16:46:03+00:00              16.0     0.935103  \n3 2021-10-28 18:38:14+00:00              22.0     0.975605  \n4 2021-10-28 18:40:32+00:00              69.0     0.917848  ",
      "text/html": "<div>\n<style scoped>\n    .dataframe tbody tr th:only-of-type {\n        vertical-align: middle;\n    }\n\n    .dataframe tbody tr th {\n        vertical-align: top;\n    }\n\n    .dataframe thead th {\n        text-align: right;\n    }\n</style>\n<table border=\"1\" class=\"dataframe\">\n  <thead>\n    <tr style=\"text-align: right;\">\n      <th></th>\n      <th>id</th>\n      <th>bertopic_id</th>\n      <th>conversation_id</th>\n      <th>sentiment_value</th>\n      <th>created_at</th>\n      <th>bertopic_shifted</th>\n      <th>topic_delta</th>\n    </tr>\n  </thead>\n  <tbody>\n    <tr>\n      <th>0</th>\n      <td>10842</td>\n      <td>23</td>\n      <td>1448358350450724868</td>\n      <td>NaN</td>\n      <td>2021-10-13 18:41:54+00:00</td>\n      <td>NaN</td>\n      <td>NaN</td>\n    </tr>\n    <tr>\n      <th>1</th>\n      <td>10897</td>\n      <td>16</td>\n      <td>1448358350450724868</td>\n      <td>NaN</td>\n      <td>2021-10-26 14:40:56+00:00</td>\n      <td>23.0</td>\n      <td>0.859737</td>\n    </tr>\n    <tr>\n      <th>2</th>\n      <td>10892</td>\n      <td>22</td>\n      <td>1448358350450724868</td>\n      <td>NaN</td>\n      <td>2021-10-26 16:46:03+00:00</td>\n      <td>16.0</td>\n      <td>0.935103</td>\n    </tr>\n    <tr>\n      <th>3</th>\n      <td>10879</td>\n      <td>69</td>\n      <td>1448358350450724868</td>\n      <td>NaN</td>\n      <td>2021-10-28 18:38:14+00:00</td>\n      <td>22.0</td>\n      <td>0.975605</td>\n    </tr>\n    <tr>\n      <th>4</th>\n      <td>10878</td>\n      <td>66</td>\n      <td>1448358350450724868</td>\n      <td>NaN</td>\n      <td>2021-10-28 18:40:32+00:00</td>\n      <td>69.0</td>\n      <td>0.917848</td>\n    </tr>\n  </tbody>\n</table>\n</div>"
     },
     "execution_count": 7,
     "metadata": {},
     "output_type": "execute_result"
    }
   ],
   "source": [
    "import json\n",
    "from scipy import spatial\n",
    "import numpy as np\n",
    "\n",
    "\n",
    "# in the productive setting filter this query with \"in words contained in the current conversation topics\"\n",
    "word2vec = get_query_native(\n",
    "    \"SELECT word, ft_vector from delab_topicdictionary\")\n",
    "\n",
    "def get_topic_delta(topic_id_1, topic_id_2):\n",
    "    words1 = topic2word.get(topic_id_1)\n",
    "    words2 = topic2word.get(topic_id_2)\n",
    "    if words1 is not None and words2 is not None:\n",
    "        filtered_w2v1 = word2vec[word2vec[\"word\"].isin(words1)]\n",
    "        filtered_w2v2 = word2vec[word2vec[\"word\"].isin(words2)]\n",
    "        ft_vectors_1 = filtered_w2v1.ft_vector.apply(lambda x: pd.Series(json.loads(x)))\n",
    "        ft_vectors_2 = filtered_w2v2.ft_vector.apply(lambda x: pd.Series(json.loads(x)))\n",
    "        len1 = len(ft_vectors_1)\n",
    "        len2 = len(ft_vectors_2)\n",
    "        sum_v1 = (ft_vectors_1.sum(axis=0) / len1) # we assume the vectors are embedded in a linear space\n",
    "        sum_v2 = (ft_vectors_2.sum(axis=0) / len2)\n",
    "        similarity = spatial.distance.cosine(sum_v1, sum_v2)\n",
    "        return similarity\n",
    "    else:\n",
    "        return np.NaN\n",
    "\n",
    "exampleconversation.sort_values(by=['created_at'], ascending=True, inplace=True)\n",
    "exampleconversation.reset_index(drop=True, inplace=True)\n",
    "exampleconversation[\"bertopic_shifted\"] = exampleconversation.bertopic_id.shift()\n",
    "exampleconversation[\"topic_delta\"] = exampleconversation.apply(\n",
    "    lambda x: get_topic_delta(x.bertopic_id, x.bertopic_shifted), axis=1)\n",
    "\n",
    "exampleconversation.head(5)"
   ]
  },
  {
   "cell_type": "code",
   "execution_count": 8,
   "metadata": {
    "pycharm": {
     "name": "#%%\n"
    }
   },
   "outputs": [
    {
     "data": {
      "text/plain": "<Figure size 432x288 with 1 Axes>",
      "image/png": "[encoded data removed]"
     },
     "metadata": {
      "needs_background": "light"
     },
     "output_type": "display_data"
    }
   ],
   "source": [
    "#from sklearn import preprocessing\n",
    "sv = exampleconversation.sentiment_value\n",
    "exampleconversation[\"sentiment_normalized\"] = ((sv-sv.min())/(sv.max()-sv.min()))\n",
    "\n",
    "exampleconversation[\"sentiment_deltas\"] = exampleconversation[\"sentiment_normalized\"].diff().abs()\n",
    "plot = exampleconversation.plot(y=['topic_delta', \"sentiment_deltas\"], xlabel = \"Natural Order in Conversation\", ylabel=\"Normalized changes\", use_index=True)\n",
    "plot.get_figure().savefig('sentiment_topics.png')"
   ]
  },
  {
   "cell_type": "markdown",
   "metadata": {
    "pycharm": {
     "name": "#%% md\n"
    }
   },
   "source": [
    "After normalizing, it looks like we can compare the two metrics. However, topic continuation should be\n",
    "interpreted differently then a continuous sentiment flow.\n",
    "\n",
    "In order to compute the correlation we need to compute:\n",
    "- a more precise sentiment classification\n",
    "- a wider set of conversations with existing topic classifications\n",
    "- a better metric of the topic flow that takes into account the general frequency of topic  changes and\n",
    "  can thus highlight conversations with high or low topic volatility"
   ]
  }
 ],
 "metadata": {
  "kernelspec": {
   "display_name": "Python 3 (ipykernel)",
   "language": "python",
   "name": "python3"
  },
  "language_info": {
   "codemirror_mode": {
    "name": "ipython",
    "version": 3
   },
   "file_extension": ".py",
   "mimetype": "text/x-python",
   "name": "python",
   "nbconvert_exporter": "python",
   "pygments_lexer": "ipython3",
   "version": "3.8.10"
  }
 },
 "nbformat": 4,
 "nbformat_minor": 1
}