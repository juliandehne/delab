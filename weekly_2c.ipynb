{
 "cells": [
  {
   "cell_type": "markdown",
   "metadata": {
    "pycharm": {
     "name": "#%% md\n"
    }
   },
   "source": [
    "# Analyzing the topic changes and their implications\n",
    "\n",
    "First, we load the pretrained topic model and the vectors"
   ]
  },
  {
   "cell_type": "code",
   "execution_count": 1,
   "metadata": {},
   "outputs": [
    {
     "name": "stderr",
     "output_type": "stream",
     "text": [
      "100%|██████████| 15/15 [00:00<00:00, 114390.11it/s]"
     ]
    },
    {
     "name": "stdout",
     "output_type": "stream",
     "text": [
      "['is', 'it', 'are', 'they', 'have', 'be', 'what', 'all', 'people', 'just']\n",
      "['tsla', 'when', 'day', 'calls', 'today', 'will', 'week', 'lower', 'friday', 'options']\n",
      "['covid', 'vaccine', 'they', 'tested', 'hospitals', 'vaccinated', 'have', 'when', 'than', 'can']\n"
     ]
    },
    {
     "name": "stderr",
     "output_type": "stream",
     "text": [
      "\n"
     ]
    }
   ],
   "source": [
    "import numpy as np\n",
    "from tqdm import tqdm\n",
    "import sqlite3\n",
    "import pandas as pd\n",
    "from collections import defaultdict\n",
    "from bertopic import BERTopic\n",
    "from util.sql_switch import get_query_native\n",
    "\n",
    "#import delab.topic.train_topic_model as tm\n",
    "\n",
    "bertopic_model = BERTopic().load(\"BERTopic\", embedding_model=\"sentence-transformers/all-mpnet-base-v2\")\n",
    "topic_info = bertopic_model.get_topic_info()\n",
    "\n",
    "\n",
    "def topic2wordvec(topic_model):\n",
    "    result = []\n",
    "    for t_word in topic_model:\n",
    "        str_w = t_word[0]\n",
    "        result.append(str_w)\n",
    "    return result\n",
    "\n",
    "\n",
    "# create topic-word map\n",
    "topic2word = defaultdict(list)\n",
    "for topic_id in tqdm(topic_info.Topic):\n",
    "    topic_model = bertopic_model.get_topic(topic_id)\n",
    "    words = topic2wordvec(topic_model)\n",
    "    topic2word[topic_id] = topic2word[topic_id] + words\n",
    "t2w_keys = list(topic2word.keys())[0:3]\n",
    "for key in t2w_keys:\n",
    "    print(topic2word[key])"
   ]
  },
  {
   "cell_type": "markdown",
   "metadata": {
    "pycharm": {
     "name": "#%% md\n"
    }
   },
   "source": [
    "Now we are loading the pre_saved ft vectors from the database!\n"
   ]
  },
  {
   "cell_type": "code",
   "execution_count": 2,
   "metadata": {
    "pycharm": {
     "name": "#%%\n"
    }
   },
   "outputs": [
    {
     "name": "stdout",
     "output_type": "stream",
     "text": [
      "using postgres\n"
     ]
    },
    {
     "data": {
      "text/plain": "     id  \\\n0  9530   \n1  9539   \n2  9538   \n\n                                                                                                                                                                                                                                                                                      text  \\\n0                                                                                                           @sadi18032311 @BFSF1212 @Ferezarams I guess we must forget the political parties and focus on fixing our own community by any means necessary, Politicians doesn't really care   \n1  @DlaminiBM @Setlagole_L @Gundo_V @Ferezarams someone said ANC didnt transform SA they transformed Apartheid, Black SAns are living worser than Apartheid easy practical SAns were working during apartheid it was an offense not to work today 12M SAns are reduced to grant recipients   \n2                                                                                                @Setlagole_L @Gundo_V @BFSF1212 @Ferezarams Sorry about that, those guys were brutal  and the apartheid police turned the blind eye as long as they were terrorising the Black community.   \n\n            author_id  bertopic_id      conversation_id  sentiment_value  \\\n0  809110570918170624            6  1452509182670909447              NaN   \n1           302713191            4  1452509182670909447              NaN   \n2           160930678            4  1452509182670909447              NaN   \n\n                 created_at  \n0 2021-10-25 09:28:27+00:00  \n1 2021-10-25 13:00:59+00:00  \n2 2021-10-25 12:55:49+00:00  ",
      "text/html": "<div>\n<style scoped>\n    .dataframe tbody tr th:only-of-type {\n        vertical-align: middle;\n    }\n\n    .dataframe tbody tr th {\n        vertical-align: top;\n    }\n\n    .dataframe thead th {\n        text-align: right;\n    }\n</style>\n<table border=\"1\" class=\"dataframe\">\n  <thead>\n    <tr style=\"text-align: right;\">\n      <th></th>\n      <th>id</th>\n      <th>text</th>\n      <th>author_id</th>\n      <th>bertopic_id</th>\n      <th>conversation_id</th>\n      <th>sentiment_value</th>\n      <th>created_at</th>\n    </tr>\n  </thead>\n  <tbody>\n    <tr>\n      <th>0</th>\n      <td>9530</td>\n      <td>@sadi18032311 @BFSF1212 @Ferezarams I guess we must forget the political parties and focus on fixing our own community by any means necessary, Politicians doesn't really care</td>\n      <td>809110570918170624</td>\n      <td>6</td>\n      <td>1452509182670909447</td>\n      <td>NaN</td>\n      <td>2021-10-25 09:28:27+00:00</td>\n    </tr>\n    <tr>\n      <th>1</th>\n      <td>9539</td>\n      <td>@DlaminiBM @Setlagole_L @Gundo_V @Ferezarams someone said ANC didnt transform SA they transformed Apartheid, Black SAns are living worser than Apartheid easy practical SAns were working during apartheid it was an offense not to work today 12M SAns are reduced to grant recipients</td>\n      <td>302713191</td>\n      <td>4</td>\n      <td>1452509182670909447</td>\n      <td>NaN</td>\n      <td>2021-10-25 13:00:59+00:00</td>\n    </tr>\n    <tr>\n      <th>2</th>\n      <td>9538</td>\n      <td>@Setlagole_L @Gundo_V @BFSF1212 @Ferezarams Sorry about that, those guys were brutal  and the apartheid police turned the blind eye as long as they were terrorising the Black community.</td>\n      <td>160930678</td>\n      <td>4</td>\n      <td>1452509182670909447</td>\n      <td>NaN</td>\n      <td>2021-10-25 12:55:49+00:00</td>\n    </tr>\n  </tbody>\n</table>\n</div>"
     },
     "execution_count": 2,
     "metadata": {},
     "output_type": "execute_result"
    }
   ],
   "source": [
    "df_conversations = get_query_native(\n",
    "    \"SELECT id, text, author_id, bertopic_id, conversation_id,sentiment_value,created_at FROM delab_tweet tw where language = 'en' and bertopic_id >= 0\")\n",
    "df_conversations.head(3)"
   ]
  },
  {
   "cell_type": "code",
   "execution_count": 3,
   "metadata": {
    "pycharm": {
     "name": "#%%\n"
    }
   },
   "outputs": [
    {
     "name": "stdout",
     "output_type": "stream",
     "text": [
      "0    @sadi18032311 @BFSF1212 @Ferezarams I guess we must forget the political parties and focus on fixing our own community by any means necessary, Politicians doesn't really care\n",
      "Name: text, dtype: object\n",
      "[('democracy', 0.0458736290430674), ('power', 0.04162854075692343), ('party', 0.04162854075692343), ('of', 0.037852231453478935), ('filibuster', 0.03282876345128684), ('are', 0.028310637188557298), ('parliament', 0.02775236050461562), ('sense', 0.02588824839037067), ('first', 0.02391220991979598), ('right', 0.021665865830554066)]\n"
     ]
    }
   ],
   "source": [
    "pd.set_option('display.max_colwidth', None)\n",
    "text = df_conversations.head(1).text\n",
    "print(text)\n",
    "id = df_conversations.head(1).bertopic_id[0]\n",
    "bertopic = bertopic_model.get_topic(id)\n",
    "print(bertopic)"
   ]
  },
  {
   "cell_type": "markdown",
   "metadata": {
    "pycharm": {
     "name": "#%% md\n"
    }
   },
   "source": [
    "It looks like our topic is matching the tweet."
   ]
  },
  {
   "cell_type": "code",
   "execution_count": 4,
   "metadata": {
    "pycharm": {
     "name": "#%%\n"
    }
   },
   "outputs": [
    {
     "name": "stdout",
     "output_type": "stream",
     "text": [
      "using postgres\n",
      "using postgres\n",
      "440\n",
      "5330\n",
      "0\n",
      "From 0 tweets inf percent could not be topic labeled\n"
     ]
    },
    {
     "name": "stderr",
     "output_type": "stream",
     "text": [
      "/tmp/ipykernel_32052/2529596704.py:12: RuntimeWarning: divide by zero encountered in long_scalars\n",
      "  df_conversations_bad_topic.n[0] * 100 /\n"
     ]
    }
   ],
   "source": [
    "df_conversations_bad_topic = get_query_native(\n",
    "    \"SELECT COUNT(*) as n  FROM delab_tweet tw where language = 'en' and bertopic_id < 0\")\n",
    "\n",
    "df_conversations_total = get_query_native(\n",
    "    \"SELECT COUNT(*) as n  FROM delab_tweet tw where language = 'en' and bertopic_id != null\")\n",
    "\n",
    "print(df_conversations.id.size)\n",
    "print(df_conversations_bad_topic.n[0])\n",
    "print(df_conversations_total.n[0])\n",
    "\n",
    "print(\"From {} tweets {} percent could not be topic labeled\".format(df_conversations_total.n[0],\n",
    "                                                                    df_conversations_bad_topic.n[0] * 100 /\n",
    "                                                                    df_conversations_total.n[0]))"
   ]
  },
  {
   "cell_type": "markdown",
   "metadata": {
    "pycharm": {
     "name": "#%% md\n"
    }
   },
   "source": [
    "It seems, that our recall is not so great. We favoured the precision over the recall, drastically removing\n",
    "topics that did not include words in the vocabulary. However, the bert models have good results on the oov-words, too.\n",
    "\n",
    "More importantly, the high precision and low recall clashes with low precision and high sensitivity from the sentiment analysis.\n",
    "However, we are continuing for the moment in order to have a look at the results as they stand."
   ]
  },
  {
   "cell_type": "code",
   "execution_count": 5,
   "metadata": {
    "pycharm": {
     "name": "#%%\n"
    }
   },
   "outputs": [
    {
     "data": {
      "text/plain": "conversation_id\n1449411492021825541    167\n1450956635690704899     36\n1451256052205379596     17\n1451362578060431365     68\n1452436776916762629     46\n1454589125777104905     25\n1455286078693384199     16\ndtype: int64"
     },
     "execution_count": 5,
     "metadata": {},
     "output_type": "execute_result"
    }
   ],
   "source": [
    "#df_conversations.conversation_id.nunique()\n",
    "df_reshaped = df_conversations.pivot(index=\"id\", columns=\"conversation_id\", values=\"text\")\n",
    "mask = 10 > df_reshaped.nunique()\n",
    "mask = mask[mask == True]\n",
    "df_reshaped.drop(columns=mask.index, inplace=True)\n",
    "df_reshaped.nunique()"
   ]
  },
  {
   "cell_type": "markdown",
   "metadata": {
    "pycharm": {
     "name": "#%% md\n"
    }
   },
   "source": [
    "There are only 4 conversations with 10 or more tweets that have a valid topic classification :-(.\n",
    "\n",
    "Lets' have a look at the relation between sentiment_values and topic_changes!"
   ]
  },
  {
   "cell_type": "code",
   "execution_count": 26,
   "metadata": {
    "pycharm": {
     "name": "#%%\n"
    }
   },
   "outputs": [
    {
     "data": {
      "text/plain": "    id  bertopic_id      conversation_id  sentiment_value  \\\n4  452            7  1449411492021825541        -3.677237   \n5  540            7  1449411492021825541        -1.853752   \n6  542            7  1449411492021825541         3.937621   \n\n                 created_at  \n4 2021-10-20 08:48:49+00:00  \n5 2021-10-17 05:50:53+00:00  \n6 2021-10-17 05:47:11+00:00  ",
      "text/html": "<div>\n<style scoped>\n    .dataframe tbody tr th:only-of-type {\n        vertical-align: middle;\n    }\n\n    .dataframe tbody tr th {\n        vertical-align: top;\n    }\n\n    .dataframe thead th {\n        text-align: right;\n    }\n</style>\n<table border=\"1\" class=\"dataframe\">\n  <thead>\n    <tr style=\"text-align: right;\">\n      <th></th>\n      <th>id</th>\n      <th>bertopic_id</th>\n      <th>conversation_id</th>\n      <th>sentiment_value</th>\n      <th>created_at</th>\n    </tr>\n  </thead>\n  <tbody>\n    <tr>\n      <th>4</th>\n      <td>452</td>\n      <td>7</td>\n      <td>1449411492021825541</td>\n      <td>-3.677237</td>\n      <td>2021-10-20 08:48:49+00:00</td>\n    </tr>\n    <tr>\n      <th>5</th>\n      <td>540</td>\n      <td>7</td>\n      <td>1449411492021825541</td>\n      <td>-1.853752</td>\n      <td>2021-10-17 05:50:53+00:00</td>\n    </tr>\n    <tr>\n      <th>6</th>\n      <td>542</td>\n      <td>7</td>\n      <td>1449411492021825541</td>\n      <td>3.937621</td>\n      <td>2021-10-17 05:47:11+00:00</td>\n    </tr>\n  </tbody>\n</table>\n</div>"
     },
     "execution_count": 26,
     "metadata": {},
     "output_type": "execute_result"
    }
   ],
   "source": [
    "conversation_corpora_cleaned = {}\n",
    "conversation_corpora = df_reshaped.to_dict(orient=\"series\")\n",
    "for conversation_id, tweets in conversation_corpora.items():\n",
    "    conversation_corpora_cleaned[conversation_id] = tweets.dropna()\n",
    "\n",
    "useful_conversations_keys = conversation_corpora_cleaned.keys()\n",
    "\n",
    "useful_conversations = df_conversations[df_conversations[\"conversation_id\"].isin(useful_conversations_keys)]\n",
    "useful_conversations = useful_conversations.loc[:,\n",
    "                       [\"id\", \"bertopic_id\", \"conversation_id\", \"sentiment_value\", \"created_at\"]]\n",
    "\n",
    "example_id = df_reshaped.nunique().index[0]\n",
    "exampleconversation = useful_conversations[useful_conversations.conversation_id == example_id]\n",
    "exampleconversation.head(3)"
   ]
  },
  {
   "cell_type": "markdown",
   "metadata": {
    "pycharm": {
     "name": "#%% md\n"
    }
   },
   "source": [
    "This conversation seems a good candidate for inspection as it includes drastic topic and sentiment changes.\n"
   ]
  },
  {
   "cell_type": "code",
   "execution_count": 7,
   "metadata": {
    "pycharm": {
     "name": "#%%\n"
    }
   },
   "outputs": [
    {
     "name": "stdout",
     "output_type": "stream",
     "text": [
      "using postgres\n"
     ]
    },
    {
     "ename": "ValueError",
     "evalue": "Wrong number of items passed 6, placement implies 1",
     "output_type": "error",
     "traceback": [
      "\u001B[0;31m---------------------------------------------------------------------------\u001B[0m",
      "\u001B[0;31mKeyError\u001B[0m                                  Traceback (most recent call last)",
      "\u001B[0;32m~/.local/lib/python3.8/site-packages/pandas/core/indexes/base.py\u001B[0m in \u001B[0;36mget_loc\u001B[0;34m(self, key, method, tolerance)\u001B[0m\n\u001B[1;32m   3360\u001B[0m             \u001B[0;32mtry\u001B[0m\u001B[0;34m:\u001B[0m\u001B[0;34m\u001B[0m\u001B[0;34m\u001B[0m\u001B[0m\n\u001B[0;32m-> 3361\u001B[0;31m                 \u001B[0;32mreturn\u001B[0m \u001B[0mself\u001B[0m\u001B[0;34m.\u001B[0m\u001B[0m_engine\u001B[0m\u001B[0;34m.\u001B[0m\u001B[0mget_loc\u001B[0m\u001B[0;34m(\u001B[0m\u001B[0mcasted_key\u001B[0m\u001B[0;34m)\u001B[0m\u001B[0;34m\u001B[0m\u001B[0;34m\u001B[0m\u001B[0m\n\u001B[0m\u001B[1;32m   3362\u001B[0m             \u001B[0;32mexcept\u001B[0m \u001B[0mKeyError\u001B[0m \u001B[0;32mas\u001B[0m \u001B[0merr\u001B[0m\u001B[0;34m:\u001B[0m\u001B[0;34m\u001B[0m\u001B[0;34m\u001B[0m\u001B[0m\n",
      "\u001B[0;32m~/.local/lib/python3.8/site-packages/pandas/_libs/index.pyx\u001B[0m in \u001B[0;36mpandas._libs.index.IndexEngine.get_loc\u001B[0;34m()\u001B[0m\n",
      "\u001B[0;32m~/.local/lib/python3.8/site-packages/pandas/_libs/index.pyx\u001B[0m in \u001B[0;36mpandas._libs.index.IndexEngine.get_loc\u001B[0;34m()\u001B[0m\n",
      "\u001B[0;32mpandas/_libs/hashtable_class_helper.pxi\u001B[0m in \u001B[0;36mpandas._libs.hashtable.PyObjectHashTable.get_item\u001B[0;34m()\u001B[0m\n",
      "\u001B[0;32mpandas/_libs/hashtable_class_helper.pxi\u001B[0m in \u001B[0;36mpandas._libs.hashtable.PyObjectHashTable.get_item\u001B[0;34m()\u001B[0m\n",
      "\u001B[0;31mKeyError\u001B[0m: 'topic_delta'",
      "\nThe above exception was the direct cause of the following exception:\n",
      "\u001B[0;31mKeyError\u001B[0m                                  Traceback (most recent call last)",
      "\u001B[0;32m~/.local/lib/python3.8/site-packages/pandas/core/frame.py\u001B[0m in \u001B[0;36m_set_item_mgr\u001B[0;34m(self, key, value)\u001B[0m\n\u001B[1;32m   3745\u001B[0m         \u001B[0;32mtry\u001B[0m\u001B[0;34m:\u001B[0m\u001B[0;34m\u001B[0m\u001B[0;34m\u001B[0m\u001B[0m\n\u001B[0;32m-> 3746\u001B[0;31m             \u001B[0mloc\u001B[0m \u001B[0;34m=\u001B[0m \u001B[0mself\u001B[0m\u001B[0;34m.\u001B[0m\u001B[0m_info_axis\u001B[0m\u001B[0;34m.\u001B[0m\u001B[0mget_loc\u001B[0m\u001B[0;34m(\u001B[0m\u001B[0mkey\u001B[0m\u001B[0;34m)\u001B[0m\u001B[0;34m\u001B[0m\u001B[0;34m\u001B[0m\u001B[0m\n\u001B[0m\u001B[1;32m   3747\u001B[0m         \u001B[0;32mexcept\u001B[0m \u001B[0mKeyError\u001B[0m\u001B[0;34m:\u001B[0m\u001B[0;34m\u001B[0m\u001B[0;34m\u001B[0m\u001B[0m\n",
      "\u001B[0;32m~/.local/lib/python3.8/site-packages/pandas/core/indexes/base.py\u001B[0m in \u001B[0;36mget_loc\u001B[0;34m(self, key, method, tolerance)\u001B[0m\n\u001B[1;32m   3362\u001B[0m             \u001B[0;32mexcept\u001B[0m \u001B[0mKeyError\u001B[0m \u001B[0;32mas\u001B[0m \u001B[0merr\u001B[0m\u001B[0;34m:\u001B[0m\u001B[0;34m\u001B[0m\u001B[0;34m\u001B[0m\u001B[0m\n\u001B[0;32m-> 3363\u001B[0;31m                 \u001B[0;32mraise\u001B[0m \u001B[0mKeyError\u001B[0m\u001B[0;34m(\u001B[0m\u001B[0mkey\u001B[0m\u001B[0;34m)\u001B[0m \u001B[0;32mfrom\u001B[0m \u001B[0merr\u001B[0m\u001B[0;34m\u001B[0m\u001B[0;34m\u001B[0m\u001B[0m\n\u001B[0m\u001B[1;32m   3364\u001B[0m \u001B[0;34m\u001B[0m\u001B[0m\n",
      "\u001B[0;31mKeyError\u001B[0m: 'topic_delta'",
      "\nDuring handling of the above exception, another exception occurred:\n",
      "\u001B[0;31mValueError\u001B[0m                                Traceback (most recent call last)",
      "\u001B[0;32m/tmp/ipykernel_32052/2251976656.py\u001B[0m in \u001B[0;36m<module>\u001B[0;34m\u001B[0m\n\u001B[1;32m     28\u001B[0m \u001B[0mexampleconversation\u001B[0m\u001B[0;34m.\u001B[0m\u001B[0mreset_index\u001B[0m\u001B[0;34m(\u001B[0m\u001B[0mdrop\u001B[0m\u001B[0;34m=\u001B[0m\u001B[0;32mTrue\u001B[0m\u001B[0;34m,\u001B[0m \u001B[0minplace\u001B[0m\u001B[0;34m=\u001B[0m\u001B[0;32mTrue\u001B[0m\u001B[0;34m)\u001B[0m\u001B[0;34m\u001B[0m\u001B[0;34m\u001B[0m\u001B[0m\n\u001B[1;32m     29\u001B[0m \u001B[0mexampleconversation\u001B[0m\u001B[0;34m[\u001B[0m\u001B[0;34m\"bertopic_shifted\"\u001B[0m\u001B[0;34m]\u001B[0m \u001B[0;34m=\u001B[0m \u001B[0mexampleconversation\u001B[0m\u001B[0;34m.\u001B[0m\u001B[0mbertopic_id\u001B[0m\u001B[0;34m.\u001B[0m\u001B[0mshift\u001B[0m\u001B[0;34m(\u001B[0m\u001B[0;34m)\u001B[0m\u001B[0;34m\u001B[0m\u001B[0;34m\u001B[0m\u001B[0m\n\u001B[0;32m---> 30\u001B[0;31m exampleconversation[\"topic_delta\"] = exampleconversation.apply(\n\u001B[0m\u001B[1;32m     31\u001B[0m     lambda x: get_topic_delta(x.bertopic_id, x.bertopic_shifted), axis=1)\n\u001B[1;32m     32\u001B[0m \u001B[0;34m\u001B[0m\u001B[0m\n",
      "\u001B[0;32m~/.local/lib/python3.8/site-packages/pandas/core/frame.py\u001B[0m in \u001B[0;36m__setitem__\u001B[0;34m(self, key, value)\u001B[0m\n\u001B[1;32m   3597\u001B[0m             \u001B[0mself\u001B[0m\u001B[0;34m.\u001B[0m\u001B[0m_setitem_array\u001B[0m\u001B[0;34m(\u001B[0m\u001B[0mkey\u001B[0m\u001B[0;34m,\u001B[0m \u001B[0mvalue\u001B[0m\u001B[0;34m)\u001B[0m\u001B[0;34m\u001B[0m\u001B[0;34m\u001B[0m\u001B[0m\n\u001B[1;32m   3598\u001B[0m         \u001B[0;32melif\u001B[0m \u001B[0misinstance\u001B[0m\u001B[0;34m(\u001B[0m\u001B[0mvalue\u001B[0m\u001B[0;34m,\u001B[0m \u001B[0mDataFrame\u001B[0m\u001B[0;34m)\u001B[0m\u001B[0;34m:\u001B[0m\u001B[0;34m\u001B[0m\u001B[0;34m\u001B[0m\u001B[0m\n\u001B[0;32m-> 3599\u001B[0;31m             \u001B[0mself\u001B[0m\u001B[0;34m.\u001B[0m\u001B[0m_set_item_frame_value\u001B[0m\u001B[0;34m(\u001B[0m\u001B[0mkey\u001B[0m\u001B[0;34m,\u001B[0m \u001B[0mvalue\u001B[0m\u001B[0;34m)\u001B[0m\u001B[0;34m\u001B[0m\u001B[0;34m\u001B[0m\u001B[0m\n\u001B[0m\u001B[1;32m   3600\u001B[0m         elif is_list_like(value) and 1 < len(\n\u001B[1;32m   3601\u001B[0m             \u001B[0mself\u001B[0m\u001B[0;34m.\u001B[0m\u001B[0mcolumns\u001B[0m\u001B[0;34m.\u001B[0m\u001B[0mget_indexer_for\u001B[0m\u001B[0;34m(\u001B[0m\u001B[0;34m[\u001B[0m\u001B[0mkey\u001B[0m\u001B[0;34m]\u001B[0m\u001B[0;34m)\u001B[0m\u001B[0;34m\u001B[0m\u001B[0;34m\u001B[0m\u001B[0m\n",
      "\u001B[0;32m~/.local/lib/python3.8/site-packages/pandas/core/frame.py\u001B[0m in \u001B[0;36m_set_item_frame_value\u001B[0;34m(self, key, value)\u001B[0m\n\u001B[1;32m   3735\u001B[0m         \u001B[0;31m# now align rows\u001B[0m\u001B[0;34m\u001B[0m\u001B[0;34m\u001B[0m\u001B[0;34m\u001B[0m\u001B[0m\n\u001B[1;32m   3736\u001B[0m         \u001B[0marraylike\u001B[0m \u001B[0;34m=\u001B[0m \u001B[0m_reindex_for_setitem\u001B[0m\u001B[0;34m(\u001B[0m\u001B[0mvalue\u001B[0m\u001B[0;34m,\u001B[0m \u001B[0mself\u001B[0m\u001B[0;34m.\u001B[0m\u001B[0mindex\u001B[0m\u001B[0;34m)\u001B[0m\u001B[0;34m\u001B[0m\u001B[0;34m\u001B[0m\u001B[0m\n\u001B[0;32m-> 3737\u001B[0;31m         \u001B[0mself\u001B[0m\u001B[0;34m.\u001B[0m\u001B[0m_set_item_mgr\u001B[0m\u001B[0;34m(\u001B[0m\u001B[0mkey\u001B[0m\u001B[0;34m,\u001B[0m \u001B[0marraylike\u001B[0m\u001B[0;34m)\u001B[0m\u001B[0;34m\u001B[0m\u001B[0;34m\u001B[0m\u001B[0m\n\u001B[0m\u001B[1;32m   3738\u001B[0m \u001B[0;34m\u001B[0m\u001B[0m\n\u001B[1;32m   3739\u001B[0m     \u001B[0;32mdef\u001B[0m \u001B[0m_iset_item_mgr\u001B[0m\u001B[0;34m(\u001B[0m\u001B[0mself\u001B[0m\u001B[0;34m,\u001B[0m \u001B[0mloc\u001B[0m\u001B[0;34m:\u001B[0m \u001B[0mint\u001B[0m \u001B[0;34m|\u001B[0m \u001B[0mslice\u001B[0m \u001B[0;34m|\u001B[0m \u001B[0mnp\u001B[0m\u001B[0;34m.\u001B[0m\u001B[0mndarray\u001B[0m\u001B[0;34m,\u001B[0m \u001B[0mvalue\u001B[0m\u001B[0;34m)\u001B[0m \u001B[0;34m->\u001B[0m \u001B[0;32mNone\u001B[0m\u001B[0;34m:\u001B[0m\u001B[0;34m\u001B[0m\u001B[0;34m\u001B[0m\u001B[0m\n",
      "\u001B[0;32m~/.local/lib/python3.8/site-packages/pandas/core/frame.py\u001B[0m in \u001B[0;36m_set_item_mgr\u001B[0;34m(self, key, value)\u001B[0m\n\u001B[1;32m   3747\u001B[0m         \u001B[0;32mexcept\u001B[0m \u001B[0mKeyError\u001B[0m\u001B[0;34m:\u001B[0m\u001B[0;34m\u001B[0m\u001B[0;34m\u001B[0m\u001B[0m\n\u001B[1;32m   3748\u001B[0m             \u001B[0;31m# This item wasn't present, just insert at end\u001B[0m\u001B[0;34m\u001B[0m\u001B[0;34m\u001B[0m\u001B[0;34m\u001B[0m\u001B[0m\n\u001B[0;32m-> 3749\u001B[0;31m             \u001B[0mself\u001B[0m\u001B[0;34m.\u001B[0m\u001B[0m_mgr\u001B[0m\u001B[0;34m.\u001B[0m\u001B[0minsert\u001B[0m\u001B[0;34m(\u001B[0m\u001B[0mlen\u001B[0m\u001B[0;34m(\u001B[0m\u001B[0mself\u001B[0m\u001B[0;34m.\u001B[0m\u001B[0m_info_axis\u001B[0m\u001B[0;34m)\u001B[0m\u001B[0;34m,\u001B[0m \u001B[0mkey\u001B[0m\u001B[0;34m,\u001B[0m \u001B[0mvalue\u001B[0m\u001B[0;34m)\u001B[0m\u001B[0;34m\u001B[0m\u001B[0;34m\u001B[0m\u001B[0m\n\u001B[0m\u001B[1;32m   3750\u001B[0m         \u001B[0;32melse\u001B[0m\u001B[0;34m:\u001B[0m\u001B[0;34m\u001B[0m\u001B[0;34m\u001B[0m\u001B[0m\n\u001B[1;32m   3751\u001B[0m             \u001B[0mself\u001B[0m\u001B[0;34m.\u001B[0m\u001B[0m_iset_item_mgr\u001B[0m\u001B[0;34m(\u001B[0m\u001B[0mloc\u001B[0m\u001B[0;34m,\u001B[0m \u001B[0mvalue\u001B[0m\u001B[0;34m)\u001B[0m\u001B[0;34m\u001B[0m\u001B[0;34m\u001B[0m\u001B[0m\n",
      "\u001B[0;32m~/.local/lib/python3.8/site-packages/pandas/core/internals/managers.py\u001B[0m in \u001B[0;36minsert\u001B[0;34m(self, loc, item, value)\u001B[0m\n\u001B[1;32m   1156\u001B[0m             \u001B[0mvalue\u001B[0m \u001B[0;34m=\u001B[0m \u001B[0mensure_block_shape\u001B[0m\u001B[0;34m(\u001B[0m\u001B[0mvalue\u001B[0m\u001B[0;34m,\u001B[0m \u001B[0mndim\u001B[0m\u001B[0;34m=\u001B[0m\u001B[0mself\u001B[0m\u001B[0;34m.\u001B[0m\u001B[0mndim\u001B[0m\u001B[0;34m)\u001B[0m\u001B[0;34m\u001B[0m\u001B[0;34m\u001B[0m\u001B[0m\n\u001B[1;32m   1157\u001B[0m \u001B[0;34m\u001B[0m\u001B[0m\n\u001B[0;32m-> 1158\u001B[0;31m         \u001B[0mblock\u001B[0m \u001B[0;34m=\u001B[0m \u001B[0mnew_block\u001B[0m\u001B[0;34m(\u001B[0m\u001B[0mvalues\u001B[0m\u001B[0;34m=\u001B[0m\u001B[0mvalue\u001B[0m\u001B[0;34m,\u001B[0m \u001B[0mndim\u001B[0m\u001B[0;34m=\u001B[0m\u001B[0mself\u001B[0m\u001B[0;34m.\u001B[0m\u001B[0mndim\u001B[0m\u001B[0;34m,\u001B[0m \u001B[0mplacement\u001B[0m\u001B[0;34m=\u001B[0m\u001B[0mslice\u001B[0m\u001B[0;34m(\u001B[0m\u001B[0mloc\u001B[0m\u001B[0;34m,\u001B[0m \u001B[0mloc\u001B[0m \u001B[0;34m+\u001B[0m \u001B[0;36m1\u001B[0m\u001B[0;34m)\u001B[0m\u001B[0;34m)\u001B[0m\u001B[0;34m\u001B[0m\u001B[0;34m\u001B[0m\u001B[0m\n\u001B[0m\u001B[1;32m   1159\u001B[0m \u001B[0;34m\u001B[0m\u001B[0m\n\u001B[1;32m   1160\u001B[0m         \u001B[0;32mfor\u001B[0m \u001B[0mblkno\u001B[0m\u001B[0;34m,\u001B[0m \u001B[0mcount\u001B[0m \u001B[0;32min\u001B[0m \u001B[0m_fast_count_smallints\u001B[0m\u001B[0;34m(\u001B[0m\u001B[0mself\u001B[0m\u001B[0;34m.\u001B[0m\u001B[0mblknos\u001B[0m\u001B[0;34m[\u001B[0m\u001B[0mloc\u001B[0m\u001B[0;34m:\u001B[0m\u001B[0;34m]\u001B[0m\u001B[0;34m)\u001B[0m\u001B[0;34m:\u001B[0m\u001B[0;34m\u001B[0m\u001B[0;34m\u001B[0m\u001B[0m\n",
      "\u001B[0;32m~/.local/lib/python3.8/site-packages/pandas/core/internals/blocks.py\u001B[0m in \u001B[0;36mnew_block\u001B[0;34m(values, placement, ndim, klass)\u001B[0m\n\u001B[1;32m   1920\u001B[0m \u001B[0;34m\u001B[0m\u001B[0m\n\u001B[1;32m   1921\u001B[0m     \u001B[0mvalues\u001B[0m\u001B[0;34m,\u001B[0m \u001B[0m_\u001B[0m \u001B[0;34m=\u001B[0m \u001B[0mextract_pandas_array\u001B[0m\u001B[0;34m(\u001B[0m\u001B[0mvalues\u001B[0m\u001B[0;34m,\u001B[0m \u001B[0;32mNone\u001B[0m\u001B[0;34m,\u001B[0m \u001B[0mndim\u001B[0m\u001B[0;34m)\u001B[0m\u001B[0;34m\u001B[0m\u001B[0;34m\u001B[0m\u001B[0m\n\u001B[0;32m-> 1922\u001B[0;31m     \u001B[0mcheck_ndim\u001B[0m\u001B[0;34m(\u001B[0m\u001B[0mvalues\u001B[0m\u001B[0;34m,\u001B[0m \u001B[0mplacement\u001B[0m\u001B[0;34m,\u001B[0m \u001B[0mndim\u001B[0m\u001B[0;34m)\u001B[0m\u001B[0;34m\u001B[0m\u001B[0;34m\u001B[0m\u001B[0m\n\u001B[0m\u001B[1;32m   1923\u001B[0m \u001B[0;34m\u001B[0m\u001B[0m\n\u001B[1;32m   1924\u001B[0m     \u001B[0;32mif\u001B[0m \u001B[0mklass\u001B[0m \u001B[0;32mis\u001B[0m \u001B[0;32mNone\u001B[0m\u001B[0;34m:\u001B[0m\u001B[0;34m\u001B[0m\u001B[0;34m\u001B[0m\u001B[0m\n",
      "\u001B[0;32m~/.local/lib/python3.8/site-packages/pandas/core/internals/blocks.py\u001B[0m in \u001B[0;36mcheck_ndim\u001B[0;34m(values, placement, ndim)\u001B[0m\n\u001B[1;32m   1962\u001B[0m             )\n\u001B[1;32m   1963\u001B[0m         \u001B[0;32mif\u001B[0m \u001B[0mlen\u001B[0m\u001B[0;34m(\u001B[0m\u001B[0mplacement\u001B[0m\u001B[0;34m)\u001B[0m \u001B[0;34m!=\u001B[0m \u001B[0mlen\u001B[0m\u001B[0;34m(\u001B[0m\u001B[0mvalues\u001B[0m\u001B[0;34m)\u001B[0m\u001B[0;34m:\u001B[0m\u001B[0;34m\u001B[0m\u001B[0;34m\u001B[0m\u001B[0m\n\u001B[0;32m-> 1964\u001B[0;31m             raise ValueError(\n\u001B[0m\u001B[1;32m   1965\u001B[0m                 \u001B[0;34mf\"Wrong number of items passed {len(values)}, \"\u001B[0m\u001B[0;34m\u001B[0m\u001B[0;34m\u001B[0m\u001B[0m\n\u001B[1;32m   1966\u001B[0m                 \u001B[0;34mf\"placement implies {len(placement)}\"\u001B[0m\u001B[0;34m\u001B[0m\u001B[0;34m\u001B[0m\u001B[0m\n",
      "\u001B[0;31mValueError\u001B[0m: Wrong number of items passed 6, placement implies 1"
     ]
    }
   ],
   "source": [
    "import json\n",
    "from scipy import spatial\n",
    "import numpy as np\n",
    "\n",
    "\n",
    "# in the productive setting filter this query with \"in words contained in the current conversation topics\"\n",
    "word2vec = get_query_native(\n",
    "    \"SELECT word, ft_vector from delab_topicdictionary\")\n",
    "\n",
    "def get_topic_delta(topic_id_1, topic_id_2):\n",
    "    words1 = topic2word.get(topic_id_1)\n",
    "    words2 = topic2word.get(topic_id_2)\n",
    "    if words1 is not None and words2 is not None:\n",
    "        filtered_w2v1 = word2vec[word2vec[\"word\"].isin(words1)]\n",
    "        filtered_w2v2 = word2vec[word2vec[\"word\"].isin(words2)]\n",
    "        ft_vectors_1 = filtered_w2v1.ft_vector.apply(lambda x: pd.Series(json.loads(x)))\n",
    "        ft_vectors_2 = filtered_w2v2.ft_vector.apply(lambda x: pd.Series(json.loads(x)))\n",
    "        len1 = len(ft_vectors_1)\n",
    "        len2 = len(ft_vectors_2)\n",
    "        sum_v1 = (ft_vectors_1.sum(axis=0) / len1) # we assume the vectors are embedded in a linear space\n",
    "        sum_v2 = (ft_vectors_2.sum(axis=0) / len2)\n",
    "        similarity = spatial.distance.cosine(sum_v1, sum_v2)\n",
    "        return similarity\n",
    "    else:\n",
    "        return np.NaN\n",
    "\n",
    "exampleconversation.sort_values(by=['created_at'], ascending=True, inplace=True)\n",
    "exampleconversation.reset_index(drop=True, inplace=True)\n",
    "exampleconversation[\"bertopic_shifted\"] = exampleconversation.bertopic_id.shift()\n",
    "exampleconversation[\"topic_delta\"] = exampleconversation.apply(\n",
    "    lambda x: get_topic_delta(x.bertopic_id, x.bertopic_shifted), axis=1)\n",
    "\n",
    "exampleconversation.head(5)"
   ]
  },
  {
   "cell_type": "code",
   "execution_count": 35,
   "metadata": {
    "pycharm": {
     "name": "#%%\n"
    }
   },
   "outputs": [
    {
     "data": {
      "text/plain": "<Figure size 432x288 with 1 Axes>",
      "image/png": "[encoded data removed]"
     },
     "metadata": {
      "needs_background": "light"
     },
     "output_type": "display_data"
    }
   ],
   "source": [
    "#from sklearn import preprocessing\n",
    "sv = exampleconversation.sentiment_value\n",
    "exampleconversation[\"sentiment_normalized\"] = ((sv-sv.min())/(sv.max()-sv.min()))\n",
    "\n",
    "exampleconversation[\"sentiment_deltas\"] = exampleconversation[\"sentiment_normalized\"].diff().abs()\n",
    "plot = exampleconversation.plot(y=['topic_delta', \"sentiment_deltas\"], xlabel = \"Natural Order in Conversation\", ylabel=\"Normalized changes\", use_index=True)\n",
    "plot.get_figure().savefig('sentiment_topics.png')"
   ]
  },
  {
   "cell_type": "markdown",
   "metadata": {
    "pycharm": {
     "name": "#%% md\n"
    }
   },
   "source": [
    "After normalizing, it looks like we can compare the two metrics. However, topic continuation should be\n",
    "interpreted differently then a continuous sentiment flow.\n",
    "\n",
    "In order to compute the correlation we need to compute:\n",
    "- a more precise sentiment classification\n",
    "- a wider set of conversations with existing topic classifications\n",
    "- a better metric of the topic flow that takes into account the general frequency of topic  changes and\n",
    "  can thus highlight conversations with high or low topic volatility"
   ]
  }
 ],
 "metadata": {
  "kernelspec": {
   "display_name": "Python 3 (ipykernel)",
   "language": "python",
   "name": "python3"
  },
  "language_info": {
   "codemirror_mode": {
    "name": "ipython",
    "version": 3
   },
   "file_extension": ".py",
   "mimetype": "text/x-python",
   "name": "python",
   "nbconvert_exporter": "python",
   "pygments_lexer": "ipython3",
   "version": "3.8.10"
  }
 },
 "nbformat": 4,
 "nbformat_minor": 1
}